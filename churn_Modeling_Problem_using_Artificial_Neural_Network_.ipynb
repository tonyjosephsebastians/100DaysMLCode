{
  "nbformat": 4,
  "nbformat_minor": 0,
  "metadata": {
    "colab": {
      "name": "churn Modeling Problem using Artificial Neural Network .ipynb",
      "provenance": [],
      "collapsed_sections": [],
      "authorship_tag": "ABX9TyPB6Uz9hv0S82iDYXhFOJyL",
      "include_colab_link": true
    },
    "kernelspec": {
      "name": "python3",
      "display_name": "Python 3"
    },
    "language_info": {
      "name": "python"
    },
    "accelerator": "GPU"
  },
  "cells": [
    {
      "cell_type": "markdown",
      "metadata": {
        "id": "view-in-github",
        "colab_type": "text"
      },
      "source": [
        "<a href=\"https://colab.research.google.com/github/tonyjosephsebastians/100DaysMLCode/blob/main/churn_Modeling_Problem_using_Artificial_Neural_Network_.ipynb\" target=\"_parent\"><img src=\"https://colab.research.google.com/assets/colab-badge.svg\" alt=\"Open In Colab\"/></a>"
      ]
    },
    {
      "cell_type": "code",
      "metadata": {
        "id": "wED8HwOdoA7t"
      },
      "source": [
        "import numpy as np\n",
        "import pandas as pd\n",
        "import matplotlib.pyplot as plt\n"
      ],
      "execution_count": 5,
      "outputs": []
    },
    {
      "cell_type": "code",
      "metadata": {
        "colab": {
          "base_uri": "https://localhost:8080/",
          "height": 434
        },
        "id": "9iKsG3Enr_SN",
        "outputId": "dc60f4f3-8768-4b60-baf8-5f8f4d8c7fb1"
      },
      "source": [
        "data = pd.read_csv('Churn_Modelling.csv')\n",
        "data"
      ],
      "execution_count": 6,
      "outputs": [
        {
          "output_type": "execute_result",
          "data": {
            "text/html": [
              "<div>\n",
              "<style scoped>\n",
              "    .dataframe tbody tr th:only-of-type {\n",
              "        vertical-align: middle;\n",
              "    }\n",
              "\n",
              "    .dataframe tbody tr th {\n",
              "        vertical-align: top;\n",
              "    }\n",
              "\n",
              "    .dataframe thead th {\n",
              "        text-align: right;\n",
              "    }\n",
              "</style>\n",
              "<table border=\"1\" class=\"dataframe\">\n",
              "  <thead>\n",
              "    <tr style=\"text-align: right;\">\n",
              "      <th></th>\n",
              "      <th>RowNumber</th>\n",
              "      <th>CustomerId</th>\n",
              "      <th>Surname</th>\n",
              "      <th>CreditScore</th>\n",
              "      <th>Geography</th>\n",
              "      <th>Gender</th>\n",
              "      <th>Age</th>\n",
              "      <th>Tenure</th>\n",
              "      <th>Balance</th>\n",
              "      <th>NumOfProducts</th>\n",
              "      <th>HasCrCard</th>\n",
              "      <th>IsActiveMember</th>\n",
              "      <th>EstimatedSalary</th>\n",
              "      <th>Exited</th>\n",
              "    </tr>\n",
              "  </thead>\n",
              "  <tbody>\n",
              "    <tr>\n",
              "      <th>0</th>\n",
              "      <td>1</td>\n",
              "      <td>15634602</td>\n",
              "      <td>Hargrave</td>\n",
              "      <td>619</td>\n",
              "      <td>France</td>\n",
              "      <td>Female</td>\n",
              "      <td>42</td>\n",
              "      <td>2</td>\n",
              "      <td>0.00</td>\n",
              "      <td>1</td>\n",
              "      <td>1</td>\n",
              "      <td>1</td>\n",
              "      <td>101348.88</td>\n",
              "      <td>1</td>\n",
              "    </tr>\n",
              "    <tr>\n",
              "      <th>1</th>\n",
              "      <td>2</td>\n",
              "      <td>15647311</td>\n",
              "      <td>Hill</td>\n",
              "      <td>608</td>\n",
              "      <td>Spain</td>\n",
              "      <td>Female</td>\n",
              "      <td>41</td>\n",
              "      <td>1</td>\n",
              "      <td>83807.86</td>\n",
              "      <td>1</td>\n",
              "      <td>0</td>\n",
              "      <td>1</td>\n",
              "      <td>112542.58</td>\n",
              "      <td>0</td>\n",
              "    </tr>\n",
              "    <tr>\n",
              "      <th>2</th>\n",
              "      <td>3</td>\n",
              "      <td>15619304</td>\n",
              "      <td>Onio</td>\n",
              "      <td>502</td>\n",
              "      <td>France</td>\n",
              "      <td>Female</td>\n",
              "      <td>42</td>\n",
              "      <td>8</td>\n",
              "      <td>159660.80</td>\n",
              "      <td>3</td>\n",
              "      <td>1</td>\n",
              "      <td>0</td>\n",
              "      <td>113931.57</td>\n",
              "      <td>1</td>\n",
              "    </tr>\n",
              "    <tr>\n",
              "      <th>3</th>\n",
              "      <td>4</td>\n",
              "      <td>15701354</td>\n",
              "      <td>Boni</td>\n",
              "      <td>699</td>\n",
              "      <td>France</td>\n",
              "      <td>Female</td>\n",
              "      <td>39</td>\n",
              "      <td>1</td>\n",
              "      <td>0.00</td>\n",
              "      <td>2</td>\n",
              "      <td>0</td>\n",
              "      <td>0</td>\n",
              "      <td>93826.63</td>\n",
              "      <td>0</td>\n",
              "    </tr>\n",
              "    <tr>\n",
              "      <th>4</th>\n",
              "      <td>5</td>\n",
              "      <td>15737888</td>\n",
              "      <td>Mitchell</td>\n",
              "      <td>850</td>\n",
              "      <td>Spain</td>\n",
              "      <td>Female</td>\n",
              "      <td>43</td>\n",
              "      <td>2</td>\n",
              "      <td>125510.82</td>\n",
              "      <td>1</td>\n",
              "      <td>1</td>\n",
              "      <td>1</td>\n",
              "      <td>79084.10</td>\n",
              "      <td>0</td>\n",
              "    </tr>\n",
              "    <tr>\n",
              "      <th>...</th>\n",
              "      <td>...</td>\n",
              "      <td>...</td>\n",
              "      <td>...</td>\n",
              "      <td>...</td>\n",
              "      <td>...</td>\n",
              "      <td>...</td>\n",
              "      <td>...</td>\n",
              "      <td>...</td>\n",
              "      <td>...</td>\n",
              "      <td>...</td>\n",
              "      <td>...</td>\n",
              "      <td>...</td>\n",
              "      <td>...</td>\n",
              "      <td>...</td>\n",
              "    </tr>\n",
              "    <tr>\n",
              "      <th>9995</th>\n",
              "      <td>9996</td>\n",
              "      <td>15606229</td>\n",
              "      <td>Obijiaku</td>\n",
              "      <td>771</td>\n",
              "      <td>France</td>\n",
              "      <td>Male</td>\n",
              "      <td>39</td>\n",
              "      <td>5</td>\n",
              "      <td>0.00</td>\n",
              "      <td>2</td>\n",
              "      <td>1</td>\n",
              "      <td>0</td>\n",
              "      <td>96270.64</td>\n",
              "      <td>0</td>\n",
              "    </tr>\n",
              "    <tr>\n",
              "      <th>9996</th>\n",
              "      <td>9997</td>\n",
              "      <td>15569892</td>\n",
              "      <td>Johnstone</td>\n",
              "      <td>516</td>\n",
              "      <td>France</td>\n",
              "      <td>Male</td>\n",
              "      <td>35</td>\n",
              "      <td>10</td>\n",
              "      <td>57369.61</td>\n",
              "      <td>1</td>\n",
              "      <td>1</td>\n",
              "      <td>1</td>\n",
              "      <td>101699.77</td>\n",
              "      <td>0</td>\n",
              "    </tr>\n",
              "    <tr>\n",
              "      <th>9997</th>\n",
              "      <td>9998</td>\n",
              "      <td>15584532</td>\n",
              "      <td>Liu</td>\n",
              "      <td>709</td>\n",
              "      <td>France</td>\n",
              "      <td>Female</td>\n",
              "      <td>36</td>\n",
              "      <td>7</td>\n",
              "      <td>0.00</td>\n",
              "      <td>1</td>\n",
              "      <td>0</td>\n",
              "      <td>1</td>\n",
              "      <td>42085.58</td>\n",
              "      <td>1</td>\n",
              "    </tr>\n",
              "    <tr>\n",
              "      <th>9998</th>\n",
              "      <td>9999</td>\n",
              "      <td>15682355</td>\n",
              "      <td>Sabbatini</td>\n",
              "      <td>772</td>\n",
              "      <td>Germany</td>\n",
              "      <td>Male</td>\n",
              "      <td>42</td>\n",
              "      <td>3</td>\n",
              "      <td>75075.31</td>\n",
              "      <td>2</td>\n",
              "      <td>1</td>\n",
              "      <td>0</td>\n",
              "      <td>92888.52</td>\n",
              "      <td>1</td>\n",
              "    </tr>\n",
              "    <tr>\n",
              "      <th>9999</th>\n",
              "      <td>10000</td>\n",
              "      <td>15628319</td>\n",
              "      <td>Walker</td>\n",
              "      <td>792</td>\n",
              "      <td>France</td>\n",
              "      <td>Female</td>\n",
              "      <td>28</td>\n",
              "      <td>4</td>\n",
              "      <td>130142.79</td>\n",
              "      <td>1</td>\n",
              "      <td>1</td>\n",
              "      <td>0</td>\n",
              "      <td>38190.78</td>\n",
              "      <td>0</td>\n",
              "    </tr>\n",
              "  </tbody>\n",
              "</table>\n",
              "<p>10000 rows × 14 columns</p>\n",
              "</div>"
            ],
            "text/plain": [
              "      RowNumber  CustomerId    Surname  ...  IsActiveMember EstimatedSalary Exited\n",
              "0             1    15634602   Hargrave  ...               1       101348.88      1\n",
              "1             2    15647311       Hill  ...               1       112542.58      0\n",
              "2             3    15619304       Onio  ...               0       113931.57      1\n",
              "3             4    15701354       Boni  ...               0        93826.63      0\n",
              "4             5    15737888   Mitchell  ...               1        79084.10      0\n",
              "...         ...         ...        ...  ...             ...             ...    ...\n",
              "9995       9996    15606229   Obijiaku  ...               0        96270.64      0\n",
              "9996       9997    15569892  Johnstone  ...               1       101699.77      0\n",
              "9997       9998    15584532        Liu  ...               1        42085.58      1\n",
              "9998       9999    15682355  Sabbatini  ...               0        92888.52      1\n",
              "9999      10000    15628319     Walker  ...               0        38190.78      0\n",
              "\n",
              "[10000 rows x 14 columns]"
            ]
          },
          "metadata": {
            "tags": []
          },
          "execution_count": 6
        }
      ]
    },
    {
      "cell_type": "code",
      "metadata": {
        "id": "ms_fHnrOs2U-"
      },
      "source": [
        "x = data.iloc[:,3:13]\n",
        "y = data.iloc[:,13]\n"
      ],
      "execution_count": 7,
      "outputs": []
    },
    {
      "cell_type": "code",
      "metadata": {
        "id": "-y---NpBtW07"
      },
      "source": [
        "#using label encoder and onehot encoder for encoding categorical data\n",
        "\n",
        "from sklearn.preprocessing import LabelEncoder \n",
        "le = LabelEncoder()\n",
        "le1 = LabelEncoder()\n",
        "x.Geography = le.fit_transform(x.Geography)\n",
        "x.Gender = le1.fit_transform(x.Gender)"
      ],
      "execution_count": 8,
      "outputs": []
    },
    {
      "cell_type": "code",
      "metadata": {
        "id": "fJmaEC5FvXRL"
      },
      "source": [
        "#Split the dataset into train,test\n",
        "from sklearn.model_selection import train_test_split\n",
        "x_train,x_test,y_train,y_test = train_test_split(x,y,test_size= 0.25, random_state=0)\n"
      ],
      "execution_count": 9,
      "outputs": []
    },
    {
      "cell_type": "code",
      "metadata": {
        "id": "4YC7zfn8v4-E"
      },
      "source": [
        "#feature scailing\n",
        "from sklearn.preprocessing import StandardScaler\n",
        "sc = StandardScaler()\n",
        "x_train = sc.fit_transform(x_train)\n",
        "x_test = sc.fit_transform(x_test)"
      ],
      "execution_count": 10,
      "outputs": []
    },
    {
      "cell_type": "code",
      "metadata": {
        "colab": {
          "base_uri": "https://localhost:8080/"
        },
        "id": "_R-X5Dho-K4F",
        "outputId": "09532b8a-9094-43a2-bdde-cd48153e4b95"
      },
      "source": [
        "\n",
        "y_train.shape"
      ],
      "execution_count": 23,
      "outputs": [
        {
          "output_type": "execute_result",
          "data": {
            "text/plain": [
              "(7500,)"
            ]
          },
          "metadata": {
            "tags": []
          },
          "execution_count": 23
        }
      ]
    },
    {
      "cell_type": "code",
      "metadata": {
        "id": "Z41AaYaswrvY"
      },
      "source": [
        "#ANN building"
      ],
      "execution_count": 11,
      "outputs": []
    },
    {
      "cell_type": "code",
      "metadata": {
        "id": "fwdTonaxxfGA"
      },
      "source": [
        "import keras\n",
        "from keras.models import Sequential\n",
        "from keras.layers import Dense\n"
      ],
      "execution_count": 12,
      "outputs": []
    },
    {
      "cell_type": "code",
      "metadata": {
        "id": "7iVBirzTwuoq"
      },
      "source": [
        "def buld_classifier():\n",
        "\n",
        "  model = Sequential()\n",
        "  model.add(Dense(units = 6, kernel_initializer = 'uniform', activation = 'relu', input_dim = 10))\n",
        "  model.add(Dense(units = 6, kernel_initializer = 'uniform', activation = 'relu'))\n",
        "  model.add(Dense(units = 1, kernel_initializer = 'uniform', activation = 'sigmoid'))\n",
        "  model.compile(optimizer = 'adam', loss = 'binary_crossentropy', metrics = ['accuracy'])\n",
        "  return model\n",
        "\n"
      ],
      "execution_count": 25,
      "outputs": []
    },
    {
      "cell_type": "code",
      "metadata": {
        "colab": {
          "base_uri": "https://localhost:8080/"
        },
        "id": "DeoViFAP8lXL",
        "outputId": "716484f2-6288-4be8-d0d9-509e5ba7991c"
      },
      "source": [
        "model = buld_classifier()\n",
        "model.fit(x_train,y_train,batch_size=10,epochs=100)"
      ],
      "execution_count": 26,
      "outputs": [
        {
          "output_type": "stream",
          "text": [
            "Epoch 1/100\n",
            "750/750 [==============================] - 13s 2ms/step - loss: 0.5613 - accuracy: 0.7958\n",
            "Epoch 2/100\n",
            "750/750 [==============================] - 1s 2ms/step - loss: 0.4310 - accuracy: 0.7991\n",
            "Epoch 3/100\n",
            "750/750 [==============================] - 1s 2ms/step - loss: 0.4266 - accuracy: 0.7991\n",
            "Epoch 4/100\n",
            "750/750 [==============================] - 1s 2ms/step - loss: 0.4314 - accuracy: 0.8161\n",
            "Epoch 5/100\n",
            "750/750 [==============================] - 1s 2ms/step - loss: 0.4264 - accuracy: 0.8262\n",
            "Epoch 6/100\n",
            "750/750 [==============================] - 1s 2ms/step - loss: 0.4223 - accuracy: 0.8243\n",
            "Epoch 7/100\n",
            "750/750 [==============================] - 1s 2ms/step - loss: 0.4147 - accuracy: 0.8318\n",
            "Epoch 8/100\n",
            "750/750 [==============================] - 1s 2ms/step - loss: 0.4220 - accuracy: 0.8301\n",
            "Epoch 9/100\n",
            "750/750 [==============================] - 1s 2ms/step - loss: 0.4226 - accuracy: 0.8298\n",
            "Epoch 10/100\n",
            "750/750 [==============================] - 1s 2ms/step - loss: 0.4255 - accuracy: 0.8294\n",
            "Epoch 11/100\n",
            "750/750 [==============================] - 1s 2ms/step - loss: 0.4148 - accuracy: 0.8314\n",
            "Epoch 12/100\n",
            "750/750 [==============================] - 1s 2ms/step - loss: 0.4022 - accuracy: 0.8359\n",
            "Epoch 13/100\n",
            "750/750 [==============================] - 1s 2ms/step - loss: 0.4157 - accuracy: 0.8285\n",
            "Epoch 14/100\n",
            "750/750 [==============================] - 1s 2ms/step - loss: 0.4077 - accuracy: 0.8357\n",
            "Epoch 15/100\n",
            "750/750 [==============================] - 1s 2ms/step - loss: 0.4059 - accuracy: 0.8346\n",
            "Epoch 16/100\n",
            "750/750 [==============================] - 1s 2ms/step - loss: 0.4059 - accuracy: 0.8357\n",
            "Epoch 17/100\n",
            "750/750 [==============================] - 1s 2ms/step - loss: 0.4095 - accuracy: 0.8344\n",
            "Epoch 18/100\n",
            "750/750 [==============================] - 1s 2ms/step - loss: 0.4030 - accuracy: 0.8337\n",
            "Epoch 19/100\n",
            "750/750 [==============================] - 1s 2ms/step - loss: 0.4221 - accuracy: 0.8259\n",
            "Epoch 20/100\n",
            "750/750 [==============================] - 1s 2ms/step - loss: 0.4094 - accuracy: 0.8351\n",
            "Epoch 21/100\n",
            "750/750 [==============================] - 1s 2ms/step - loss: 0.4099 - accuracy: 0.8338\n",
            "Epoch 22/100\n",
            "750/750 [==============================] - 1s 2ms/step - loss: 0.4013 - accuracy: 0.8381\n",
            "Epoch 23/100\n",
            "750/750 [==============================] - 1s 2ms/step - loss: 0.3906 - accuracy: 0.8442\n",
            "Epoch 24/100\n",
            "750/750 [==============================] - 1s 2ms/step - loss: 0.4081 - accuracy: 0.8344\n",
            "Epoch 25/100\n",
            "750/750 [==============================] - 1s 2ms/step - loss: 0.4062 - accuracy: 0.8355\n",
            "Epoch 26/100\n",
            "750/750 [==============================] - 1s 2ms/step - loss: 0.4001 - accuracy: 0.8404\n",
            "Epoch 27/100\n",
            "750/750 [==============================] - 1s 2ms/step - loss: 0.4122 - accuracy: 0.8309\n",
            "Epoch 28/100\n",
            "750/750 [==============================] - 1s 2ms/step - loss: 0.4026 - accuracy: 0.8359\n",
            "Epoch 29/100\n",
            "750/750 [==============================] - 1s 2ms/step - loss: 0.3916 - accuracy: 0.8378\n",
            "Epoch 30/100\n",
            "750/750 [==============================] - 1s 2ms/step - loss: 0.3996 - accuracy: 0.8358\n",
            "Epoch 31/100\n",
            "750/750 [==============================] - 1s 2ms/step - loss: 0.4056 - accuracy: 0.8331\n",
            "Epoch 32/100\n",
            "750/750 [==============================] - 1s 2ms/step - loss: 0.4084 - accuracy: 0.8311\n",
            "Epoch 33/100\n",
            "750/750 [==============================] - 1s 2ms/step - loss: 0.4143 - accuracy: 0.8278\n",
            "Epoch 34/100\n",
            "750/750 [==============================] - 1s 2ms/step - loss: 0.4034 - accuracy: 0.8328\n",
            "Epoch 35/100\n",
            "750/750 [==============================] - 1s 2ms/step - loss: 0.4025 - accuracy: 0.8329\n",
            "Epoch 36/100\n",
            "750/750 [==============================] - 1s 2ms/step - loss: 0.4084 - accuracy: 0.8318\n",
            "Epoch 37/100\n",
            "750/750 [==============================] - 1s 2ms/step - loss: 0.3937 - accuracy: 0.8379\n",
            "Epoch 38/100\n",
            "750/750 [==============================] - 1s 2ms/step - loss: 0.4067 - accuracy: 0.8324\n",
            "Epoch 39/100\n",
            "750/750 [==============================] - 1s 2ms/step - loss: 0.4107 - accuracy: 0.8294\n",
            "Epoch 40/100\n",
            "750/750 [==============================] - 1s 2ms/step - loss: 0.4039 - accuracy: 0.8363\n",
            "Epoch 41/100\n",
            "750/750 [==============================] - 1s 2ms/step - loss: 0.4065 - accuracy: 0.8351\n",
            "Epoch 42/100\n",
            "750/750 [==============================] - 1s 2ms/step - loss: 0.4056 - accuracy: 0.8343\n",
            "Epoch 43/100\n",
            "750/750 [==============================] - 1s 2ms/step - loss: 0.4078 - accuracy: 0.8324\n",
            "Epoch 44/100\n",
            "750/750 [==============================] - 1s 2ms/step - loss: 0.4029 - accuracy: 0.8358\n",
            "Epoch 45/100\n",
            "750/750 [==============================] - 1s 2ms/step - loss: 0.4048 - accuracy: 0.8304\n",
            "Epoch 46/100\n",
            "750/750 [==============================] - 1s 2ms/step - loss: 0.3920 - accuracy: 0.8410\n",
            "Epoch 47/100\n",
            "750/750 [==============================] - 1s 2ms/step - loss: 0.3907 - accuracy: 0.8412\n",
            "Epoch 48/100\n",
            "750/750 [==============================] - 1s 2ms/step - loss: 0.3976 - accuracy: 0.8382\n",
            "Epoch 49/100\n",
            "750/750 [==============================] - 1s 2ms/step - loss: 0.4022 - accuracy: 0.8319\n",
            "Epoch 50/100\n",
            "750/750 [==============================] - 1s 2ms/step - loss: 0.4000 - accuracy: 0.8404\n",
            "Epoch 51/100\n",
            "750/750 [==============================] - 1s 2ms/step - loss: 0.4037 - accuracy: 0.8339\n",
            "Epoch 52/100\n",
            "750/750 [==============================] - 1s 2ms/step - loss: 0.4007 - accuracy: 0.8346\n",
            "Epoch 53/100\n",
            "750/750 [==============================] - 1s 2ms/step - loss: 0.4076 - accuracy: 0.8279\n",
            "Epoch 54/100\n",
            "750/750 [==============================] - 1s 2ms/step - loss: 0.3901 - accuracy: 0.8404\n",
            "Epoch 55/100\n",
            "750/750 [==============================] - 1s 2ms/step - loss: 0.4017 - accuracy: 0.8333\n",
            "Epoch 56/100\n",
            "750/750 [==============================] - 1s 2ms/step - loss: 0.4011 - accuracy: 0.8330\n",
            "Epoch 57/100\n",
            "750/750 [==============================] - 1s 2ms/step - loss: 0.4048 - accuracy: 0.8321\n",
            "Epoch 58/100\n",
            "750/750 [==============================] - 1s 2ms/step - loss: 0.4034 - accuracy: 0.8330\n",
            "Epoch 59/100\n",
            "750/750 [==============================] - 1s 2ms/step - loss: 0.3921 - accuracy: 0.8422\n",
            "Epoch 60/100\n",
            "750/750 [==============================] - 1s 2ms/step - loss: 0.3961 - accuracy: 0.8344\n",
            "Epoch 61/100\n",
            "750/750 [==============================] - 1s 2ms/step - loss: 0.3960 - accuracy: 0.8355\n",
            "Epoch 62/100\n",
            "750/750 [==============================] - 1s 2ms/step - loss: 0.4061 - accuracy: 0.8324\n",
            "Epoch 63/100\n",
            "750/750 [==============================] - 1s 2ms/step - loss: 0.3955 - accuracy: 0.8349\n",
            "Epoch 64/100\n",
            "750/750 [==============================] - 1s 2ms/step - loss: 0.3940 - accuracy: 0.8407\n",
            "Epoch 65/100\n",
            "750/750 [==============================] - 1s 2ms/step - loss: 0.3999 - accuracy: 0.8357\n",
            "Epoch 66/100\n",
            "750/750 [==============================] - 1s 2ms/step - loss: 0.3941 - accuracy: 0.8377\n",
            "Epoch 67/100\n",
            "750/750 [==============================] - 1s 2ms/step - loss: 0.3981 - accuracy: 0.8361\n",
            "Epoch 68/100\n",
            "750/750 [==============================] - 1s 2ms/step - loss: 0.3926 - accuracy: 0.8383\n",
            "Epoch 69/100\n",
            "750/750 [==============================] - 1s 2ms/step - loss: 0.4096 - accuracy: 0.8278\n",
            "Epoch 70/100\n",
            "750/750 [==============================] - 1s 2ms/step - loss: 0.4131 - accuracy: 0.8283\n",
            "Epoch 71/100\n",
            "750/750 [==============================] - 1s 2ms/step - loss: 0.3931 - accuracy: 0.8397\n",
            "Epoch 72/100\n",
            "750/750 [==============================] - 1s 2ms/step - loss: 0.4055 - accuracy: 0.8299\n",
            "Epoch 73/100\n",
            "750/750 [==============================] - 1s 2ms/step - loss: 0.3856 - accuracy: 0.8412\n",
            "Epoch 74/100\n",
            "750/750 [==============================] - 1s 2ms/step - loss: 0.4017 - accuracy: 0.8345\n",
            "Epoch 75/100\n",
            "750/750 [==============================] - 1s 2ms/step - loss: 0.3972 - accuracy: 0.8323\n",
            "Epoch 76/100\n",
            "750/750 [==============================] - 1s 2ms/step - loss: 0.4086 - accuracy: 0.8295\n",
            "Epoch 77/100\n",
            "750/750 [==============================] - 1s 2ms/step - loss: 0.3967 - accuracy: 0.8414\n",
            "Epoch 78/100\n",
            "750/750 [==============================] - 1s 2ms/step - loss: 0.3983 - accuracy: 0.8332\n",
            "Epoch 79/100\n",
            "750/750 [==============================] - 1s 2ms/step - loss: 0.3900 - accuracy: 0.8392\n",
            "Epoch 80/100\n",
            "750/750 [==============================] - 1s 2ms/step - loss: 0.4000 - accuracy: 0.8374\n",
            "Epoch 81/100\n",
            "750/750 [==============================] - 1s 2ms/step - loss: 0.3914 - accuracy: 0.8409\n",
            "Epoch 82/100\n",
            "750/750 [==============================] - 1s 2ms/step - loss: 0.4030 - accuracy: 0.8368\n",
            "Epoch 83/100\n",
            "750/750 [==============================] - 1s 2ms/step - loss: 0.3952 - accuracy: 0.8376\n",
            "Epoch 84/100\n",
            "750/750 [==============================] - 1s 2ms/step - loss: 0.3991 - accuracy: 0.8375\n",
            "Epoch 85/100\n",
            "750/750 [==============================] - 1s 2ms/step - loss: 0.3957 - accuracy: 0.8368\n",
            "Epoch 86/100\n",
            "750/750 [==============================] - 1s 2ms/step - loss: 0.3993 - accuracy: 0.8332\n",
            "Epoch 87/100\n",
            "750/750 [==============================] - 1s 2ms/step - loss: 0.4026 - accuracy: 0.8316\n",
            "Epoch 88/100\n",
            "750/750 [==============================] - 1s 2ms/step - loss: 0.3904 - accuracy: 0.8388\n",
            "Epoch 89/100\n",
            "750/750 [==============================] - 1s 2ms/step - loss: 0.3905 - accuracy: 0.8395\n",
            "Epoch 90/100\n",
            "750/750 [==============================] - 1s 2ms/step - loss: 0.4009 - accuracy: 0.8374\n",
            "Epoch 91/100\n",
            "750/750 [==============================] - 1s 2ms/step - loss: 0.3994 - accuracy: 0.8336\n",
            "Epoch 92/100\n",
            "750/750 [==============================] - 1s 2ms/step - loss: 0.4004 - accuracy: 0.8346\n",
            "Epoch 93/100\n",
            "750/750 [==============================] - 1s 2ms/step - loss: 0.3913 - accuracy: 0.8428\n",
            "Epoch 94/100\n",
            "750/750 [==============================] - 1s 2ms/step - loss: 0.4045 - accuracy: 0.8306\n",
            "Epoch 95/100\n",
            "750/750 [==============================] - 1s 2ms/step - loss: 0.4072 - accuracy: 0.8318\n",
            "Epoch 96/100\n",
            "750/750 [==============================] - 1s 2ms/step - loss: 0.3996 - accuracy: 0.8304\n",
            "Epoch 97/100\n",
            "750/750 [==============================] - 1s 2ms/step - loss: 0.3904 - accuracy: 0.8392\n",
            "Epoch 98/100\n",
            "750/750 [==============================] - 1s 2ms/step - loss: 0.4021 - accuracy: 0.8362\n",
            "Epoch 99/100\n",
            "750/750 [==============================] - 1s 2ms/step - loss: 0.3994 - accuracy: 0.8355\n",
            "Epoch 100/100\n",
            "750/750 [==============================] - 1s 2ms/step - loss: 0.3948 - accuracy: 0.8427\n"
          ],
          "name": "stdout"
        },
        {
          "output_type": "execute_result",
          "data": {
            "text/plain": [
              "<keras.callbacks.History at 0x7f0700038590>"
            ]
          },
          "metadata": {
            "tags": []
          },
          "execution_count": 26
        }
      ]
    },
    {
      "cell_type": "code",
      "metadata": {
        "colab": {
          "base_uri": "https://localhost:8080/"
        },
        "id": "6KkBnjEF_i5M",
        "outputId": "4d704310-1653-47b4-89e1-3339228badb1"
      },
      "source": [
        "y_pred = model.predict(x_test)\n",
        "y_pred = (y_pred>0.5)\n",
        "y_pred"
      ],
      "execution_count": 35,
      "outputs": [
        {
          "output_type": "execute_result",
          "data": {
            "text/plain": [
              "array([[False],\n",
              "       [False],\n",
              "       [False],\n",
              "       ...,\n",
              "       [False],\n",
              "       [False],\n",
              "       [False]])"
            ]
          },
          "metadata": {
            "tags": []
          },
          "execution_count": 35
        }
      ]
    },
    {
      "cell_type": "code",
      "metadata": {
        "colab": {
          "base_uri": "https://localhost:8080/"
        },
        "id": "EJToGHoWBaks",
        "outputId": "bc5d44e4-1344-4ef2-b5f9-d69b3024d644"
      },
      "source": [
        "from sklearn.metrics import accuracy_score\n",
        "accuracy_score = accuracy_score(y_test, y_pred)\n",
        "accuracy_score"
      ],
      "execution_count": 36,
      "outputs": [
        {
          "output_type": "execute_result",
          "data": {
            "text/plain": [
              "0.8416"
            ]
          },
          "metadata": {
            "tags": []
          },
          "execution_count": 36
        }
      ]
    },
    {
      "cell_type": "code",
      "metadata": {
        "colab": {
          "base_uri": "https://localhost:8080/"
        },
        "id": "99SV6kthBiW2",
        "outputId": "802a28c9-3546-4bb2-8dc2-e391bb030bd3"
      },
      "source": [
        "\n",
        "# Confusion Metric\n",
        "from sklearn.metrics import confusion_matrix\n",
        "confusion_metric = confusion_matrix(y_test, y_pred)\n",
        "confusion_metric"
      ],
      "execution_count": 37,
      "outputs": [
        {
          "output_type": "execute_result",
          "data": {
            "text/plain": [
              "array([[1907,   84],\n",
              "       [ 312,  197]])"
            ]
          },
          "metadata": {
            "tags": []
          },
          "execution_count": 37
        }
      ]
    }
  ]
}