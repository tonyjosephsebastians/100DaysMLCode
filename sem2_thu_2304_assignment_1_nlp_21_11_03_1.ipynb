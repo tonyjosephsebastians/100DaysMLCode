{
  "nbformat": 4,
  "nbformat_minor": 0,
  "metadata": {
    "colab": {
      "name": "sem2_thu_2304_assignment_1_nlp-21-11-03.ipynb",
      "provenance": [],
      "collapsed_sections": [],
      "machine_shape": "hm",
      "include_colab_link": true
    },
    "interpreter": {
      "hash": "f6dcea0544b17e37029fc67094bed7999502be6d3df8815a93535881b6023250"
    },
    "kernelspec": {
      "display_name": "Python 3.9.5 64-bit",
      "name": "python3"
    },
    "language_info": {
      "codemirror_mode": {
        "name": "ipython",
        "version": 3
      },
      "file_extension": ".py",
      "mimetype": "text/x-python",
      "name": "python",
      "nbconvert_exporter": "python",
      "pygments_lexer": "ipython3",
      "version": "3.9.5"
    }
  },
  "cells": [
    {
      "cell_type": "markdown",
      "metadata": {
        "id": "view-in-github",
        "colab_type": "text"
      },
      "source": [
        "<a href=\"https://colab.research.google.com/github/tonyjosephsebastians/100DaysMLCode/blob/main/sem2_thu_2304_assignment_1_nlp_21_11_03_1.ipynb\" target=\"_parent\"><img src=\"https://colab.research.google.com/assets/colab-badge.svg\" alt=\"Open In Colab\"/></a>"
      ]
    },
    {
      "cell_type": "markdown",
      "metadata": {
        "id": "AMeq7vSyKMPW"
      },
      "source": [
        "This is a group assignment. You can complete this assignment in groups of max 4 students\n",
        "\n",
        "Please provide an efficient and sophisticated way to figure out what words are trending. Use the provided input which is a large collection of news texts with timestamps.\n",
        "\n",
        "Your method and interpretation of trending is up to you but please state your rationale\n",
        "and assumptions. \n",
        "\n",
        "The submission will be considered with regards to\n",
        "\n",
        "• method,\n",
        "\n",
        "• analysis,\n",
        "\n",
        "• programming,\n",
        "\n",
        "• communication skills,\n",
        "\n",
        "• quality of results,\n",
        "\n",
        "• and discussion of results\n",
        "\n",
        "Your submission should also include proper visualization.\n",
        "\n",
        "Hint: you should use simple technique to figure out the most repeated words and then use time series to develop a model to predict the most repeated words.\n",
        "Link to data: Given in Moodle"
      ]
    },
    {
      "cell_type": "code",
      "metadata": {
        "colab": {
          "base_uri": "https://localhost:8080/"
        },
        "id": "HeiNI9xkKgm2",
        "outputId": "20716a12-0ade-4e9a-cad5-df97e095674b"
      },
      "source": [
        "!pip install wordcloud"
      ],
      "execution_count": null,
      "outputs": [
        {
          "output_type": "stream",
          "name": "stdout",
          "text": [
            "Requirement already satisfied: wordcloud in /usr/local/lib/python3.7/dist-packages (1.5.0)\n",
            "Requirement already satisfied: pillow in /usr/local/lib/python3.7/dist-packages (from wordcloud) (7.1.2)\n",
            "Requirement already satisfied: numpy>=1.6.1 in /usr/local/lib/python3.7/dist-packages (from wordcloud) (1.19.5)\n"
          ]
        }
      ]
    },
    {
      "cell_type": "code",
      "metadata": {
        "id": "aHJiHgLGIPq0"
      },
      "source": [
        "import pandas as pd\n",
        "import numpy as np\n",
        "\n",
        "import nltk\n",
        "from nltk import word_tokenize\n",
        "\n",
        "from nltk.corpus import stopwords\n",
        "from string import punctuation\n",
        "\n",
        "from nltk.stem import WordNetLemmatizer\n",
        "\n",
        "from nltk.util import ngrams\n",
        "\n",
        "import matplotlib.pyplot as plt\n",
        "from nltk.tokenize import RegexpTokenizer\n",
        "from nltk.util import ngrams\n",
        "from collections import Counter\n",
        "from nltk.probability import FreqDist\n",
        "from wordcloud import WordCloud, ImageColorGenerator\n",
        "import seaborn as sns\n",
        "\n",
        "import spacy\n",
        "from spacy import displacy\n",
        "from collections import Counter\n",
        "import en_core_web_sm\n",
        "nlp = en_core_web_sm.load()"
      ],
      "execution_count": 1,
      "outputs": []
    },
    {
      "cell_type": "code",
      "metadata": {
        "colab": {
          "base_uri": "https://localhost:8080/",
          "height": 318
        },
        "id": "3nvOjvqVNfUy",
        "outputId": "a0a67d08-f59f-4b3f-b072-e6bdd2b373b3"
      },
      "source": [
        "# https://stackoverflow.com/questions/55806624/why-i-am-getting-runtimeerror-generator-raised-stopiteration-and-how-to-solve\n",
        "!pip install nltk==3.6"
      ],
      "execution_count": null,
      "outputs": [
        {
          "output_type": "stream",
          "name": "stdout",
          "text": [
            "Collecting nltk==3.6\n",
            "  Downloading nltk-3.6-py3-none-any.whl (1.5 MB)\n",
            "\u001b[?25l\r\u001b[K     |▎                               | 10 kB 31.6 MB/s eta 0:00:01\r\u001b[K     |▌                               | 20 kB 40.1 MB/s eta 0:00:01\r\u001b[K     |▊                               | 30 kB 46.5 MB/s eta 0:00:01\r\u001b[K     |█                               | 40 kB 42.5 MB/s eta 0:00:01\r\u001b[K     |█▏                              | 51 kB 24.4 MB/s eta 0:00:01\r\u001b[K     |█▍                              | 61 kB 14.4 MB/s eta 0:00:01\r\u001b[K     |█▋                              | 71 kB 14.7 MB/s eta 0:00:01\r\u001b[K     |█▉                              | 81 kB 16.3 MB/s eta 0:00:01\r\u001b[K     |██                              | 92 kB 14.9 MB/s eta 0:00:01\r\u001b[K     |██▎                             | 102 kB 15.9 MB/s eta 0:00:01\r\u001b[K     |██▌                             | 112 kB 15.9 MB/s eta 0:00:01\r\u001b[K     |██▊                             | 122 kB 15.9 MB/s eta 0:00:01\r\u001b[K     |███                             | 133 kB 15.9 MB/s eta 0:00:01\r\u001b[K     |███▏                            | 143 kB 15.9 MB/s eta 0:00:01\r\u001b[K     |███▍                            | 153 kB 15.9 MB/s eta 0:00:01\r\u001b[K     |███▋                            | 163 kB 15.9 MB/s eta 0:00:01\r\u001b[K     |███▉                            | 174 kB 15.9 MB/s eta 0:00:01\r\u001b[K     |████                            | 184 kB 15.9 MB/s eta 0:00:01\r\u001b[K     |████▎                           | 194 kB 15.9 MB/s eta 0:00:01\r\u001b[K     |████▌                           | 204 kB 15.9 MB/s eta 0:00:01\r\u001b[K     |████▊                           | 215 kB 15.9 MB/s eta 0:00:01\r\u001b[K     |█████                           | 225 kB 15.9 MB/s eta 0:00:01\r\u001b[K     |█████▏                          | 235 kB 15.9 MB/s eta 0:00:01\r\u001b[K     |█████▍                          | 245 kB 15.9 MB/s eta 0:00:01\r\u001b[K     |█████▋                          | 256 kB 15.9 MB/s eta 0:00:01\r\u001b[K     |█████▉                          | 266 kB 15.9 MB/s eta 0:00:01\r\u001b[K     |██████                          | 276 kB 15.9 MB/s eta 0:00:01\r\u001b[K     |██████▎                         | 286 kB 15.9 MB/s eta 0:00:01\r\u001b[K     |██████▌                         | 296 kB 15.9 MB/s eta 0:00:01\r\u001b[K     |██████▊                         | 307 kB 15.9 MB/s eta 0:00:01\r\u001b[K     |███████                         | 317 kB 15.9 MB/s eta 0:00:01\r\u001b[K     |███████▏                        | 327 kB 15.9 MB/s eta 0:00:01\r\u001b[K     |███████▍                        | 337 kB 15.9 MB/s eta 0:00:01\r\u001b[K     |███████▋                        | 348 kB 15.9 MB/s eta 0:00:01\r\u001b[K     |████████                        | 358 kB 15.9 MB/s eta 0:00:01\r\u001b[K     |████████▏                       | 368 kB 15.9 MB/s eta 0:00:01\r\u001b[K     |████████▍                       | 378 kB 15.9 MB/s eta 0:00:01\r\u001b[K     |████████▋                       | 389 kB 15.9 MB/s eta 0:00:01\r\u001b[K     |████████▉                       | 399 kB 15.9 MB/s eta 0:00:01\r\u001b[K     |█████████                       | 409 kB 15.9 MB/s eta 0:00:01\r\u001b[K     |█████████▎                      | 419 kB 15.9 MB/s eta 0:00:01\r\u001b[K     |█████████▌                      | 430 kB 15.9 MB/s eta 0:00:01\r\u001b[K     |█████████▊                      | 440 kB 15.9 MB/s eta 0:00:01\r\u001b[K     |██████████                      | 450 kB 15.9 MB/s eta 0:00:01\r\u001b[K     |██████████▏                     | 460 kB 15.9 MB/s eta 0:00:01\r\u001b[K     |██████████▍                     | 471 kB 15.9 MB/s eta 0:00:01\r\u001b[K     |██████████▋                     | 481 kB 15.9 MB/s eta 0:00:01\r\u001b[K     |██████████▉                     | 491 kB 15.9 MB/s eta 0:00:01\r\u001b[K     |███████████                     | 501 kB 15.9 MB/s eta 0:00:01\r\u001b[K     |███████████▎                    | 512 kB 15.9 MB/s eta 0:00:01\r\u001b[K     |███████████▌                    | 522 kB 15.9 MB/s eta 0:00:01\r\u001b[K     |███████████▊                    | 532 kB 15.9 MB/s eta 0:00:01\r\u001b[K     |████████████                    | 542 kB 15.9 MB/s eta 0:00:01\r\u001b[K     |████████████▏                   | 552 kB 15.9 MB/s eta 0:00:01\r\u001b[K     |████████████▍                   | 563 kB 15.9 MB/s eta 0:00:01\r\u001b[K     |████████████▋                   | 573 kB 15.9 MB/s eta 0:00:01\r\u001b[K     |████████████▉                   | 583 kB 15.9 MB/s eta 0:00:01\r\u001b[K     |█████████████                   | 593 kB 15.9 MB/s eta 0:00:01\r\u001b[K     |█████████████▎                  | 604 kB 15.9 MB/s eta 0:00:01\r\u001b[K     |█████████████▌                  | 614 kB 15.9 MB/s eta 0:00:01\r\u001b[K     |█████████████▊                  | 624 kB 15.9 MB/s eta 0:00:01\r\u001b[K     |██████████████                  | 634 kB 15.9 MB/s eta 0:00:01\r\u001b[K     |██████████████▏                 | 645 kB 15.9 MB/s eta 0:00:01\r\u001b[K     |██████████████▍                 | 655 kB 15.9 MB/s eta 0:00:01\r\u001b[K     |██████████████▋                 | 665 kB 15.9 MB/s eta 0:00:01\r\u001b[K     |██████████████▉                 | 675 kB 15.9 MB/s eta 0:00:01\r\u001b[K     |███████████████                 | 686 kB 15.9 MB/s eta 0:00:01\r\u001b[K     |███████████████▎                | 696 kB 15.9 MB/s eta 0:00:01\r\u001b[K     |███████████████▋                | 706 kB 15.9 MB/s eta 0:00:01\r\u001b[K     |███████████████▉                | 716 kB 15.9 MB/s eta 0:00:01\r\u001b[K     |████████████████                | 727 kB 15.9 MB/s eta 0:00:01\r\u001b[K     |████████████████▎               | 737 kB 15.9 MB/s eta 0:00:01\r\u001b[K     |████████████████▌               | 747 kB 15.9 MB/s eta 0:00:01\r\u001b[K     |████████████████▊               | 757 kB 15.9 MB/s eta 0:00:01\r\u001b[K     |█████████████████               | 768 kB 15.9 MB/s eta 0:00:01\r\u001b[K     |█████████████████▏              | 778 kB 15.9 MB/s eta 0:00:01\r\u001b[K     |█████████████████▍              | 788 kB 15.9 MB/s eta 0:00:01\r\u001b[K     |█████████████████▋              | 798 kB 15.9 MB/s eta 0:00:01\r\u001b[K     |█████████████████▉              | 808 kB 15.9 MB/s eta 0:00:01\r\u001b[K     |██████████████████              | 819 kB 15.9 MB/s eta 0:00:01\r\u001b[K     |██████████████████▎             | 829 kB 15.9 MB/s eta 0:00:01\r\u001b[K     |██████████████████▌             | 839 kB 15.9 MB/s eta 0:00:01\r\u001b[K     |██████████████████▊             | 849 kB 15.9 MB/s eta 0:00:01\r\u001b[K     |███████████████████             | 860 kB 15.9 MB/s eta 0:00:01\r\u001b[K     |███████████████████▏            | 870 kB 15.9 MB/s eta 0:00:01\r\u001b[K     |███████████████████▍            | 880 kB 15.9 MB/s eta 0:00:01\r\u001b[K     |███████████████████▋            | 890 kB 15.9 MB/s eta 0:00:01\r\u001b[K     |███████████████████▉            | 901 kB 15.9 MB/s eta 0:00:01\r\u001b[K     |████████████████████            | 911 kB 15.9 MB/s eta 0:00:01\r\u001b[K     |████████████████████▎           | 921 kB 15.9 MB/s eta 0:00:01\r\u001b[K     |████████████████████▌           | 931 kB 15.9 MB/s eta 0:00:01\r\u001b[K     |████████████████████▊           | 942 kB 15.9 MB/s eta 0:00:01\r\u001b[K     |█████████████████████           | 952 kB 15.9 MB/s eta 0:00:01\r\u001b[K     |█████████████████████▏          | 962 kB 15.9 MB/s eta 0:00:01\r\u001b[K     |█████████████████████▍          | 972 kB 15.9 MB/s eta 0:00:01\r\u001b[K     |█████████████████████▋          | 983 kB 15.9 MB/s eta 0:00:01\r\u001b[K     |█████████████████████▉          | 993 kB 15.9 MB/s eta 0:00:01\r\u001b[K     |██████████████████████          | 1.0 MB 15.9 MB/s eta 0:00:01\r\u001b[K     |██████████████████████▎         | 1.0 MB 15.9 MB/s eta 0:00:01\r\u001b[K     |██████████████████████▌         | 1.0 MB 15.9 MB/s eta 0:00:01\r\u001b[K     |██████████████████████▊         | 1.0 MB 15.9 MB/s eta 0:00:01\r\u001b[K     |███████████████████████         | 1.0 MB 15.9 MB/s eta 0:00:01\r\u001b[K     |███████████████████████▎        | 1.1 MB 15.9 MB/s eta 0:00:01\r\u001b[K     |███████████████████████▌        | 1.1 MB 15.9 MB/s eta 0:00:01\r\u001b[K     |███████████████████████▊        | 1.1 MB 15.9 MB/s eta 0:00:01\r\u001b[K     |████████████████████████        | 1.1 MB 15.9 MB/s eta 0:00:01\r\u001b[K     |████████████████████████▏       | 1.1 MB 15.9 MB/s eta 0:00:01\r\u001b[K     |████████████████████████▍       | 1.1 MB 15.9 MB/s eta 0:00:01\r\u001b[K     |████████████████████████▋       | 1.1 MB 15.9 MB/s eta 0:00:01\r\u001b[K     |████████████████████████▉       | 1.1 MB 15.9 MB/s eta 0:00:01\r\u001b[K     |█████████████████████████       | 1.1 MB 15.9 MB/s eta 0:00:01\r\u001b[K     |█████████████████████████▎      | 1.1 MB 15.9 MB/s eta 0:00:01\r\u001b[K     |█████████████████████████▌      | 1.2 MB 15.9 MB/s eta 0:00:01\r\u001b[K     |█████████████████████████▊      | 1.2 MB 15.9 MB/s eta 0:00:01\r\u001b[K     |██████████████████████████      | 1.2 MB 15.9 MB/s eta 0:00:01\r\u001b[K     |██████████████████████████▏     | 1.2 MB 15.9 MB/s eta 0:00:01\r\u001b[K     |██████████████████████████▍     | 1.2 MB 15.9 MB/s eta 0:00:01\r\u001b[K     |██████████████████████████▋     | 1.2 MB 15.9 MB/s eta 0:00:01\r\u001b[K     |██████████████████████████▉     | 1.2 MB 15.9 MB/s eta 0:00:01\r\u001b[K     |███████████████████████████     | 1.2 MB 15.9 MB/s eta 0:00:01\r\u001b[K     |███████████████████████████▎    | 1.2 MB 15.9 MB/s eta 0:00:01\r\u001b[K     |███████████████████████████▌    | 1.2 MB 15.9 MB/s eta 0:00:01\r\u001b[K     |███████████████████████████▊    | 1.3 MB 15.9 MB/s eta 0:00:01\r\u001b[K     |████████████████████████████    | 1.3 MB 15.9 MB/s eta 0:00:01\r\u001b[K     |████████████████████████████▏   | 1.3 MB 15.9 MB/s eta 0:00:01\r\u001b[K     |████████████████████████████▍   | 1.3 MB 15.9 MB/s eta 0:00:01\r\u001b[K     |████████████████████████████▋   | 1.3 MB 15.9 MB/s eta 0:00:01\r\u001b[K     |████████████████████████████▉   | 1.3 MB 15.9 MB/s eta 0:00:01\r\u001b[K     |█████████████████████████████   | 1.3 MB 15.9 MB/s eta 0:00:01\r\u001b[K     |█████████████████████████████▎  | 1.3 MB 15.9 MB/s eta 0:00:01\r\u001b[K     |█████████████████████████████▌  | 1.3 MB 15.9 MB/s eta 0:00:01\r\u001b[K     |█████████████████████████████▊  | 1.4 MB 15.9 MB/s eta 0:00:01\r\u001b[K     |██████████████████████████████  | 1.4 MB 15.9 MB/s eta 0:00:01\r\u001b[K     |██████████████████████████████▏ | 1.4 MB 15.9 MB/s eta 0:00:01\r\u001b[K     |██████████████████████████████▍ | 1.4 MB 15.9 MB/s eta 0:00:01\r\u001b[K     |██████████████████████████████▋ | 1.4 MB 15.9 MB/s eta 0:00:01\r\u001b[K     |███████████████████████████████ | 1.4 MB 15.9 MB/s eta 0:00:01\r\u001b[K     |███████████████████████████████▏| 1.4 MB 15.9 MB/s eta 0:00:01\r\u001b[K     |███████████████████████████████▍| 1.4 MB 15.9 MB/s eta 0:00:01\r\u001b[K     |███████████████████████████████▋| 1.4 MB 15.9 MB/s eta 0:00:01\r\u001b[K     |███████████████████████████████▉| 1.4 MB 15.9 MB/s eta 0:00:01\r\u001b[K     |████████████████████████████████| 1.5 MB 15.9 MB/s \n",
            "\u001b[?25hRequirement already satisfied: click in /usr/local/lib/python3.7/dist-packages (from nltk==3.6) (7.1.2)\n",
            "Requirement already satisfied: tqdm in /usr/local/lib/python3.7/dist-packages (from nltk==3.6) (4.62.3)\n",
            "Requirement already satisfied: regex in /usr/local/lib/python3.7/dist-packages (from nltk==3.6) (2019.12.20)\n",
            "Requirement already satisfied: joblib in /usr/local/lib/python3.7/dist-packages (from nltk==3.6) (1.0.1)\n",
            "Installing collected packages: nltk\n",
            "  Attempting uninstall: nltk\n",
            "    Found existing installation: nltk 3.2.5\n",
            "    Uninstalling nltk-3.2.5:\n",
            "      Successfully uninstalled nltk-3.2.5\n",
            "Successfully installed nltk-3.6\n"
          ]
        },
        {
          "output_type": "display_data",
          "data": {
            "application/vnd.colab-display-data+json": {
              "pip_warning": {
                "packages": [
                  "nltk"
                ]
              }
            }
          },
          "metadata": {}
        }
      ]
    },
    {
      "cell_type": "code",
      "metadata": {
        "colab": {
          "base_uri": "https://localhost:8080/"
        },
        "id": "ZBi0Fv8GnDlQ",
        "outputId": "4fb6f3ef-9a01-456c-d3f8-7530ef570041"
      },
      "source": [
        "from google.colab import drive\n",
        "drive.mount('/content/drive/')"
      ],
      "execution_count": 2,
      "outputs": [
        {
          "output_type": "stream",
          "name": "stdout",
          "text": [
            "Mounted at /content/drive/\n"
          ]
        }
      ]
    },
    {
      "cell_type": "code",
      "metadata": {
        "id": "qOsOqPyvIXov"
      },
      "source": [
        "# Hieu\n",
        "# df = pd.read_csv('/content/drive/MyDrive/Colab Notebooks/dataset/Assignment 1 data')\n",
        "\n",
        "# Tony\n",
        "df = pd.read_csv('/content/drive/My Drive/dataset/Assignment 1 data')\n",
        "\n",
        "#Susmi \n",
        "#df = pd.read_csv('/content/drive/My Drive/My data files/Assignment 1 data')"
      ],
      "execution_count": 4,
      "outputs": []
    },
    {
      "cell_type": "code",
      "metadata": {
        "colab": {
          "base_uri": "https://localhost:8080/",
          "height": 536
        },
        "id": "iq7BxHj_JXRO",
        "outputId": "6c21d73d-515f-475c-9eca-736069489299"
      },
      "source": [
        "df.sample(3)"
      ],
      "execution_count": 5,
      "outputs": [
        {
          "output_type": "execute_result",
          "data": {
            "text/html": [
              "<div>\n",
              "<style scoped>\n",
              "    .dataframe tbody tr th:only-of-type {\n",
              "        vertical-align: middle;\n",
              "    }\n",
              "\n",
              "    .dataframe tbody tr th {\n",
              "        vertical-align: top;\n",
              "    }\n",
              "\n",
              "    .dataframe thead th {\n",
              "        text-align: right;\n",
              "    }\n",
              "</style>\n",
              "<table border=\"1\" class=\"dataframe\">\n",
              "  <thead>\n",
              "    <tr style=\"text-align: right;\">\n",
              "      <th></th>\n",
              "      <th>DATE</th>\n",
              "      <th>TIME</th>\n",
              "      <th>UNIQUE_STORY_INDEX</th>\n",
              "      <th>EVENT_TYPE</th>\n",
              "      <th>PNAC</th>\n",
              "      <th>STORY_DATE_TIME</th>\n",
              "      <th>TAKE_DATE_TIME</th>\n",
              "      <th>HEADLINE_ALERT_TEXT</th>\n",
              "      <th>ACCUMULATED_STORY_TEXT</th>\n",
              "      <th>TAKE_TEXT</th>\n",
              "      <th>PRODUCTS</th>\n",
              "      <th>TOPICS</th>\n",
              "      <th>RELATED_RICS</th>\n",
              "      <th>NAMED_ITEMS</th>\n",
              "      <th>HEADLINE_SUBTYPE</th>\n",
              "      <th>STORY_TYPE</th>\n",
              "      <th>TABULAR_FLAG</th>\n",
              "      <th>ATTRIBUTION</th>\n",
              "      <th>LANGUAGE</th>\n",
              "    </tr>\n",
              "  </thead>\n",
              "  <tbody>\n",
              "    <tr>\n",
              "      <th>404864</th>\n",
              "      <td>2013-06-28</td>\n",
              "      <td>12:00:03.034</td>\n",
              "      <td>20130628120000nEAP11ZSDC</td>\n",
              "      <td>STORY_TAKE_OVERWRITE</td>\n",
              "      <td>nEAP11ZSDC</td>\n",
              "      <td>2013-06-28 12:00:00</td>\n",
              "      <td>NaN</td>\n",
              "      <td>Test, Please Ignore -- AMERS -- 06/28 08:00</td>\n",
              "      <td>NaN</td>\n",
              "      <td>Test, Please Ignore -- AMERS -- 06/28 08:00</td>\n",
              "      <td>TEST</td>\n",
              "      <td>AGA LEN RTRS</td>\n",
              "      <td>NaN</td>\n",
              "      <td>NaN</td>\n",
              "      <td>NaN</td>\n",
              "      <td>S</td>\n",
              "      <td>False</td>\n",
              "      <td>RTRS</td>\n",
              "      <td>EN</td>\n",
              "    </tr>\n",
              "    <tr>\n",
              "      <th>240046</th>\n",
              "      <td>2013-06-18</td>\n",
              "      <td>13:00:15.276</td>\n",
              "      <td>20130618130001nASA05HK4</td>\n",
              "      <td>ALERT</td>\n",
              "      <td>nASA05HK4</td>\n",
              "      <td>2013-06-18 13:00:01</td>\n",
              "      <td>2013-06-18 13:00:14</td>\n",
              "      <td>AMERICAN VANGUARD -NEW FACILITY HAS A FIVE-YEA...</td>\n",
              "      <td>NaN</td>\n",
              "      <td>NaN</td>\n",
              "      <td>E U</td>\n",
              "      <td>CHE BMAT CHEM US AMERS CMPNY AGRC BLR LEN RTRS</td>\n",
              "      <td>AVD.N</td>\n",
              "      <td>NaN</td>\n",
              "      <td>NaN</td>\n",
              "      <td>S</td>\n",
              "      <td>False</td>\n",
              "      <td>RTRS</td>\n",
              "      <td>EN</td>\n",
              "    </tr>\n",
              "    <tr>\n",
              "      <th>411143</th>\n",
              "      <td>2013-06-28</td>\n",
              "      <td>18:34:31.445</td>\n",
              "      <td>20130628183431nTOPFIN</td>\n",
              "      <td>STORY_TAKE_OVERWRITE</td>\n",
              "      <td>nTOPFIN</td>\n",
              "      <td>2013-06-28 18:34:31</td>\n",
              "      <td>NaN</td>\n",
              "      <td>*TOP NEWS* Financial Services</td>\n",
              "      <td>NaN</td>\n",
              "      <td>For expanded, multimedia Reuters Top News vis...</td>\n",
              "      <td>D T U E NAW RINVM NAT PSC</td>\n",
              "      <td>WEU BNK FIN INS FUND EUROP TOP CTXT CMPNY TOPA...</td>\n",
              "      <td>NaN</td>\n",
              "      <td>TOP/FIN</td>\n",
              "      <td>NaN</td>\n",
              "      <td>S</td>\n",
              "      <td>True</td>\n",
              "      <td>RTRS</td>\n",
              "      <td>EN</td>\n",
              "    </tr>\n",
              "  </tbody>\n",
              "</table>\n",
              "</div>"
            ],
            "text/plain": [
              "              DATE          TIME  ... ATTRIBUTION LANGUAGE\n",
              "404864  2013-06-28  12:00:03.034  ...        RTRS       EN\n",
              "240046  2013-06-18  13:00:15.276  ...        RTRS       EN\n",
              "411143  2013-06-28  18:34:31.445  ...        RTRS       EN\n",
              "\n",
              "[3 rows x 19 columns]"
            ]
          },
          "metadata": {},
          "execution_count": 5
        }
      ]
    },
    {
      "cell_type": "markdown",
      "metadata": {
        "id": "BXURTgKoKRew"
      },
      "source": [
        "# Remove test data"
      ]
    },
    {
      "cell_type": "code",
      "metadata": {
        "colab": {
          "base_uri": "https://localhost:8080/"
        },
        "id": "FHb8LUl7JaOm",
        "outputId": "4ae71716-86a3-429b-b11f-d29b7da0c56b"
      },
      "source": [
        "df = df[df['TAKE_TEXT'].str.contains('Test, Please Ignore', regex= True, na=False)== False]\n",
        "len(df)"
      ],
      "execution_count": 6,
      "outputs": [
        {
          "output_type": "execute_result",
          "data": {
            "text/plain": [
              "417671"
            ]
          },
          "metadata": {},
          "execution_count": 6
        }
      ]
    },
    {
      "cell_type": "markdown",
      "metadata": {
        "id": "ywPPgH44Obh5"
      },
      "source": [
        "# Filter out the english records only, we should do the same for other languages"
      ]
    },
    {
      "cell_type": "code",
      "metadata": {
        "colab": {
          "base_uri": "https://localhost:8080/"
        },
        "id": "B1stOE-mOibB",
        "outputId": "a0e62931-000d-4288-9fcd-bd6878bdb26b"
      },
      "source": [
        "df = df[df['LANGUAGE'] == 'EN']\n",
        "\n",
        "df.iloc[18]"
      ],
      "execution_count": 7,
      "outputs": [
        {
          "output_type": "execute_result",
          "data": {
            "text/plain": [
              "DATE                                                             2013-06-01\n",
              "TIME                                                           00:04:13.691\n",
              "UNIQUE_STORY_INDEX                                 20130601000413nL2N0EC22S\n",
              "EVENT_TYPE                                                         HEADLINE\n",
              "PNAC                                                             nL2N0EC22S\n",
              "STORY_DATE_TIME                                         2013-06-01 00:04:13\n",
              "TAKE_DATE_TIME                                          2013-06-01 00:04:13\n",
              "HEADLINE_ALERT_TEXT       UPDATE 1-Venezuela's economy slows sharply as ...\n",
              "ACCUMULATED_STORY_TEXT                                                  NaN\n",
              "TAKE_TEXT                                                               NaN\n",
              "PRODUCTS                                    D T M NAT O OIL RNP DNP PTD PEN\n",
              "TOPICS                    DBT COM GVD OILI MCE ECI EMRG VE LATAM ENER OI...\n",
              "RELATED_RICS                                                            NaN\n",
              "NAMED_ITEMS                                                             NaN\n",
              "HEADLINE_SUBTYPE                                                          2\n",
              "STORY_TYPE                                                                S\n",
              "TABULAR_FLAG                                                          False\n",
              "ATTRIBUTION                                                            RTRS\n",
              "LANGUAGE                                                                 EN\n",
              "Name: 31, dtype: object"
            ]
          },
          "metadata": {},
          "execution_count": 7
        }
      ]
    },
    {
      "cell_type": "markdown",
      "metadata": {
        "id": "vL8wf82e2PKp"
      },
      "source": [
        ""
      ]
    },
    {
      "cell_type": "code",
      "metadata": {
        "id": "smCEA2CyfwBS"
      },
      "source": [
        "# df.tail(5)"
      ],
      "execution_count": null,
      "outputs": []
    },
    {
      "cell_type": "code",
      "metadata": {
        "colab": {
          "base_uri": "https://localhost:8080/"
        },
        "id": "FlsF831FfzBu",
        "outputId": "b36a00e0-a383-4be1-b138-e30977d72051"
      },
      "source": [
        "df = df[df['HEADLINE_ALERT_TEXT'].notna() | df['TAKE_TEXT'].notna()]\n",
        "print(len(df))"
      ],
      "execution_count": 8,
      "outputs": [
        {
          "output_type": "stream",
          "name": "stdout",
          "text": [
            "231924\n"
          ]
        }
      ]
    },
    {
      "cell_type": "code",
      "metadata": {
        "id": "s0_Zu_SPfy1v"
      },
      "source": [
        "#df['Text'] = df[['HEADLINE_ALERT_TEXT', 'TAKE_TEXT']].agg('-'.join, axis=1)"
      ],
      "execution_count": null,
      "outputs": []
    },
    {
      "cell_type": "code",
      "metadata": {
        "colab": {
          "base_uri": "https://localhost:8080/"
        },
        "id": "zOph2kM-2vnQ",
        "outputId": "b07004f4-5821-4930-dc45-c2b716e67c22"
      },
      "source": [
        "\n",
        "# Get all rows that have value in TAKE_TEXT column\n",
        "df1 = df[df['TAKE_TEXT'].isna() == False]\n",
        "# Set TAKE_TEXT to text\n",
        "df1['text'] = df1['TAKE_TEXT']\n",
        "\n",
        "# Get all rows that do not have value in TAKE_TEXT column\n",
        "df2 = df[df['TAKE_TEXT'].isna()]\n",
        "# Set HEADLINE_ALERT_TEXT to text\n",
        "df2['text'] = df2['HEADLINE_ALERT_TEXT']\n",
        "\n",
        "# Merge d1 and d2 to d3, so that we always have value in text column\n",
        "df = df1.append(df2)"
      ],
      "execution_count": 9,
      "outputs": [
        {
          "output_type": "stream",
          "name": "stderr",
          "text": [
            "/usr/local/lib/python3.7/dist-packages/ipykernel_launcher.py:5: SettingWithCopyWarning: \n",
            "A value is trying to be set on a copy of a slice from a DataFrame.\n",
            "Try using .loc[row_indexer,col_indexer] = value instead\n",
            "\n",
            "See the caveats in the documentation: https://pandas.pydata.org/pandas-docs/stable/user_guide/indexing.html#returning-a-view-versus-a-copy\n",
            "  \"\"\"\n",
            "/usr/local/lib/python3.7/dist-packages/ipykernel_launcher.py:10: SettingWithCopyWarning: \n",
            "A value is trying to be set on a copy of a slice from a DataFrame.\n",
            "Try using .loc[row_indexer,col_indexer] = value instead\n",
            "\n",
            "See the caveats in the documentation: https://pandas.pydata.org/pandas-docs/stable/user_guide/indexing.html#returning-a-view-versus-a-copy\n",
            "  # Remove the CWD from sys.path while we load stuff.\n"
          ]
        }
      ]
    },
    {
      "cell_type": "code",
      "metadata": {
        "colab": {
          "base_uri": "https://localhost:8080/",
          "height": 142
        },
        "id": "qOTD2bogf7KR",
        "outputId": "7a80279b-c040-4561-c584-faa887615d8c"
      },
      "source": [
        "df_selected_features = df[['DATE','text']]\n",
        "\n",
        "df_selected_features.sample(3)"
      ],
      "execution_count": 10,
      "outputs": [
        {
          "output_type": "execute_result",
          "data": {
            "text/html": [
              "<div>\n",
              "<style scoped>\n",
              "    .dataframe tbody tr th:only-of-type {\n",
              "        vertical-align: middle;\n",
              "    }\n",
              "\n",
              "    .dataframe tbody tr th {\n",
              "        vertical-align: top;\n",
              "    }\n",
              "\n",
              "    .dataframe thead th {\n",
              "        text-align: right;\n",
              "    }\n",
              "</style>\n",
              "<table border=\"1\" class=\"dataframe\">\n",
              "  <thead>\n",
              "    <tr style=\"text-align: right;\">\n",
              "      <th></th>\n",
              "      <th>DATE</th>\n",
              "      <th>text</th>\n",
              "    </tr>\n",
              "  </thead>\n",
              "  <tbody>\n",
              "    <tr>\n",
              "      <th>16213</th>\n",
              "      <td>2013-06-03</td>\n",
              "      <td>Reuters Insider - Fed 's Pianalto: more sunlig...</td>\n",
              "    </tr>\n",
              "    <tr>\n",
              "      <th>133386</th>\n",
              "      <td>2013-06-11</td>\n",
              "      <td>Europe Daily Earnings Hits &amp; Misses June 11 07...</td>\n",
              "    </tr>\n",
              "    <tr>\n",
              "      <th>179872</th>\n",
              "      <td>2013-06-13</td>\n",
              "      <td>For expanded, multimedia Reuters Top News vis...</td>\n",
              "    </tr>\n",
              "  </tbody>\n",
              "</table>\n",
              "</div>"
            ],
            "text/plain": [
              "              DATE                                               text\n",
              "16213   2013-06-03  Reuters Insider - Fed 's Pianalto: more sunlig...\n",
              "133386  2013-06-11  Europe Daily Earnings Hits & Misses June 11 07...\n",
              "179872  2013-06-13   For expanded, multimedia Reuters Top News vis..."
            ]
          },
          "metadata": {},
          "execution_count": 10
        }
      ]
    },
    {
      "cell_type": "markdown",
      "metadata": {
        "id": "b4gDutBX-S8v"
      },
      "source": [
        "##Data preprocessing\n",
        "\n",
        "###Tokenization — convert sentences to words\n",
        "###Removing unnecessary punctuation, tags\n",
        "###Removing stop words — frequent words such as ”the”, ”is”, etc. that do not have specific semantic\n",
        "###stemming — words are reduced to a root by removing inflection through dropping unnecessary characters, usually a suffix.\n",
        "###Lemmatization — Another approach to remove inflection by determining the part of speech and utilizing detailed database of the language."
      ]
    },
    {
      "cell_type": "code",
      "metadata": {
        "id": "feVJmiYagAnh"
      },
      "source": [
        "from nltk.stem.snowball import SnowballStemmer\n",
        "from nltk.tokenize import word_tokenize\n",
        "from nltk.corpus import stopwords\n",
        "\n",
        "from nltk.stem.wordnet import WordNetLemmatizer\n",
        "lmtzr = WordNetLemmatizer()\n",
        "\n",
        "from sklearn.feature_extraction.text import TfidfVectorizer, CountVectorizer\n",
        "\n",
        "import re\n",
        "import string\n",
        "import numpy as np\n"
      ],
      "execution_count": 11,
      "outputs": []
    },
    {
      "cell_type": "code",
      "metadata": {
        "colab": {
          "base_uri": "https://localhost:8080/"
        },
        "id": "Ag1cxO8aKkQ1",
        "outputId": "f61a3876-925a-42d0-d049-42ce31e7d630"
      },
      "source": [
        "nltk.download('stopwords')\n",
        "nltk.download('punkt')\n",
        "nltk.download('wordnet')"
      ],
      "execution_count": 21,
      "outputs": [
        {
          "output_type": "stream",
          "name": "stdout",
          "text": [
            "[nltk_data] Downloading package stopwords to /root/nltk_data...\n",
            "[nltk_data]   Unzipping corpora/stopwords.zip.\n",
            "[nltk_data] Downloading package punkt to /root/nltk_data...\n",
            "[nltk_data]   Unzipping tokenizers/punkt.zip.\n",
            "[nltk_data] Downloading package wordnet to /root/nltk_data...\n",
            "[nltk_data]   Unzipping corpora/wordnet.zip.\n"
          ]
        },
        {
          "output_type": "execute_result",
          "data": {
            "text/plain": [
              "True"
            ]
          },
          "metadata": {},
          "execution_count": 21
        }
      ]
    },
    {
      "cell_type": "code",
      "metadata": {
        "colab": {
          "base_uri": "https://localhost:8080/"
        },
        "id": "yBHywLIoFOWd",
        "outputId": "63611706-9d5f-40e3-deff-4f805c435384"
      },
      "source": [
        "data = df_selected_features.loc[:, 'text'].tolist()\n",
        "\n",
        "print(type(data))\n",
        "print(len(data))"
      ],
      "execution_count": 12,
      "outputs": [
        {
          "output_type": "stream",
          "name": "stdout",
          "text": [
            "<class 'list'>\n",
            "231924\n"
          ]
        }
      ]
    },
    {
      "cell_type": "code",
      "metadata": {
        "colab": {
          "base_uri": "https://localhost:8080/"
        },
        "id": "9k_445o7gK3P",
        "outputId": "17498bc5-dfa2-4f2a-d3f9-7a8e1121c7f5"
      },
      "source": [
        "# Take a look on the data variable\n",
        "\n",
        "for _ in range(5):\n",
        "    print(data[_], \"\\n\")"
      ],
      "execution_count": 13,
      "outputs": [
        {
          "output_type": "stream",
          "name": "stdout",
          "text": [
            "    * Haas moves three ahead after firing a 67 \n",
            "    * Woods 10 off the pace after a 74 \n",
            "    * Forty-two players yet to finish second round \n",
            " \n",
            " (Updates at end of day) \n",
            "    By Mark Lamport-Stokes \n",
            "    DUBLIN, Ohio, May 31 (Reuters) - Rejuvenated by the recent \n",
            "birth of his first child, American Bill Haas rebounded from \n",
            "successive missed cuts on the PGA Tour to grab a three-shot lead \n",
            "in Friday's weather-hit second round at the Memorial Tournament. \n",
            "    While five-times champion and last year's winner Tiger Woods \n",
            "battled to a two-over-par 74 in gusting winds at Muirfield \n",
            "Village Golf Club to sit 10 strokes off the pace, Haas putted \n",
            "superbly on lightning-fast greens to fire a five-under-par 67. \n",
            "    Though Haas bogeyed his final hole, the par-four 18th, after \n",
            "hitting his approach over the back of the green, he was \n",
            "delighted to take control of the popular PGA Tour event hosted \n",
            "by Jack Nicklaus with a nine-under total of 135. \n",
            "    \"I've been very fortunate,\" Haas told reporters after a \n",
            "round which included five birdies, an eagle at the par-five \n",
            "fifth and two bogeys to finish three ahead of compatriot Matt \n",
            "Kuchar (70). \n",
            "    \"I hit a couple of loose shots. On number 11, the wind was \n",
            "right-to-left and I hit a provisional, I thought it was out of \n",
            "bounds there. \n",
            "    \"We got out there and it (his first tee shot) must have hit \n",
            "a tree and it was fine. I ended up making birdie. That was \n",
            "probably a three-shot swing there. A huge hole for me there.\" \n",
            "    Swede Robert Karlsson was at four under after shooting a 71, \n",
            "with Americans Pat Perez (69), Hunter Mahan (68) and Australian \n",
            "Matt Jones (72) a further stroke back. \n",
            "    Play was suspended for the day at 7:07 p.m. EDT (2307 GMT) \n",
            "due to the threat of lightning, after two previous weather \n",
            "delays which totalled just under two hours. \n",
            "    Forty-two players were still out on the course and will have \n",
            "to complete the second round on Saturday morning, resuming at \n",
            "7:30 a.m. \n",
            "    Among those were overnight leader Charl Schwartzel of South \n",
            "Africa, after 15 holes, and 2012 Masters champion Bubba Watson, \n",
            "after 14, who were both at six under for the tournament. \n",
            "    Haas, who had missed the cut on his previous two starts \n",
            "before spending time with his wife at home following the May 13 \n",
            "birth of their son William, had bitter-sweet feelings over his \n",
            "bogey at the last. \n",
            "    \"Obviously disappointing but it was probably my best iron \n",
            "shot of the day,\" the four-times PGA Tour winner said of his \n",
            "approach on 18. \"It carried a little farther than I wanted and \n",
            "stayed up over the green, which is really no good. I hit two \n",
            "nice quality shots on 18.\" \n",
            "     \n",
            "    WEATHER CONDITIONS \n",
            "    Asked how the weather conditions on Friday morning had \n",
            "matched up to the strengthening winds he had to negotiate during \n",
            "his opening 68, Haas replied: \"It was pretty similar, actually. \n",
            "    \"Maybe even a hair more difficult today, but those greens \n",
            "are lightning fast, I think that's the biggest deal. \n",
            "    \"With that kind of wind and that fast of greens, it's very \n",
            "difficult to make putts, and I've just been fortunate to see a \n",
            "few go in,\" added Haas. \n",
            "    Woods, widely regarded as one of the best putters of all \n",
            "time, did not watch as many putts drop on Friday as he laboured \n",
            "to a one-over total of 145, two shots inside the projected \n",
            "cutline. \n",
            "    \"Tough conditions out there and I didn't exactly play my \n",
            "best either,\" said the American world number one who \n",
            "three-putted from just five feet to double-bogey the par-five \n",
            "15th. \n",
            "    \"It's not that hard to make bogeys and doubles on this golf \n",
            "course. You miss it in the wrong spot, get the wrong gust, it's \n",
            "tough.\" \n",
            "    Woods, who has triumphed four times in just seven starts on \n",
            "the 2013 PGA Tour, ended up with two birdies, two bogeys and a \n",
            "double on his card, but it was the putting he found most \n",
            "frustrating. \n",
            "    \"They (putts) were moving all over the place,\" the \n",
            "37-year-old said after have to cope on the slick greens as winds \n",
            "gusted up to 25mph (40.23 kph). \n",
            "    \"It's tough. You try and stay below the hole as best you \n",
            "can, but sometimes you have to get the ball on the green.\" \n",
            "    The cut was projected to fall at three-over 147 with U.S. \n",
            "Open champion Webb Simpson, three-times major winner Vijay Singh \n",
            "and 14-year-old Chinese Guan Tianlang among those likely to miss \n",
            "out. \n",
            " \n",
            " (Reporting by Mark Lamport-Stokes; Editing by Frank Pingue) \n",
            " ((mark.stokes@thomsonreuters.com)(+1 310 527 1345)(Reuters \n",
            "Messaging: mark.stokes.reuters.com@reuters.net)) \n",
            " \n",
            "Keywords: GOLF PGA/  \n",
            "     \n",
            " \n",
            "\n",
            "    Reuters sports schedule at 0001 GMT on Saturday: \n",
            "    - - - - \n",
            "    RUGBY \n",
            "    British and Irish Lions v Barbarians, Hong Kong Stadium \n",
            "(1130) \n",
            "    Lions get underway with first match. \n",
            "    HONG KONG - The 2013 British and Irish Lions get their first \n",
            "taste of action against a strong Barbarians side captained by \n",
            "Italy's Sergio Parisse in a warm-up match for the tour of \n",
            "Australia. (RUGBY-LIONS/ (PIX), expect from 1300 GMT/9 AM ET, by \n",
            "Michael Flaherty, 500 words)     \n",
            "    - -  \n",
            "    Super Rugby round 16 \n",
            "    Otago Highlanders v Auckland Blues, Dunedin (0735) \n",
            "    Queensland Reds v Melbourne Rebels, Brisbane (0940) \n",
            "    Stormers v Kings, Cape Town (1505) \n",
            "    Cheetahs v Bulls, Bloemfontein (1710) \n",
            "    Highlanders aim for second win against Blues \n",
            "    The Highlanders have one more go at claiming a second win of \n",
            "the season against John Kirwan's playoff-chasing Blues before \n",
            "Queensland's Quade Cooper faces off against James O'Connor, his \n",
            "rival for the Wallabies number 10 shirt for the British and \n",
            "Irish Lions series, in Brisbane. (RUGBY-SUPER/, expect match \n",
            "reports from 0915 GMT/5:15 AM ET, 350 words) \n",
            "    - - \n",
            "    Stormers bid to answer critics against struggling Kings  \n",
            "    CAPE TOWN - Hosts Stormers seek to deflect criticism of a \n",
            "disappointing season in a derby match against the struggling \n",
            "Southern Kings at Newlands. (RUGBY-SUPER/STORMERS, expect by \n",
            "17h00 GMT/ 3PM ET, by Nick Said, 300 words) \n",
            "    - - \n",
            "    Top South African sides Cheetahs and Bulls clash \n",
            "    BLOEMFONTEIN - The top performing South African franchises, \n",
            "the Cheetahs and Bulls, meet in a much-anticipated clash at the \n",
            "Free State Rugby Stadium. (RUGBY-SUPER/CHEETAHS, expect by 1900 \n",
            "GMT/5 PM ET, by Mark Gleeson, 400 words) \n",
            "    - - \n",
            "    South Africa name squad for June tests \n",
            "    CAPE TOWN - South Africa coach Heyneke Meyer names his squad \n",
            "at a news conference for their three tests in June against \n",
            "Italy, Scotland and one of those two teams or Samoa. (Starts at \n",
            "1900 GMT/5 PM ET). (RUGBY-SAFRICA/, expect by 2000 GMT/6 PM ET, \n",
            "by Nick Said, 400 words) \n",
            "    - -     \n",
            "    TENNIS \n",
            "    French Open, Paris (to June 9) \n",
            "    Struggling Nadal searches for form against Fognini \n",
            "    PARIS - Seven-times champion Rafa Nadal aims to find form in \n",
            "a third round clash against Italian showman Fabio Fognini, while \n",
            "Novak Djokovic, Maria Sharapova and Victoria Azarenka are also \n",
            "in action at Roland Garros. (TENNIS-OPEN/ (PIX), expect \n",
            "throughout, by Martyn Herman, Julien Pretot and Toby Davis) \n",
            "    - - - - \n",
            "    SOCCER \n",
            "    German Cup final \n",
            "    Bayern Munich v VfB Stuttgart, Berlin (1800) \n",
            "    BERLIN - European and Bundesliga champions Bayern Munich \n",
            "face VfB Stuttgart in the domestic Cup final at the Olympic \n",
            "Stadium aiming to crown a record-breaking season by becoming the \n",
            "first German side to win the treble as they say farewell to \n",
            "coach Jupp Heynckes. (SOCCER-GERMANY/CUP (PIX), expect by 2000 \n",
            "GMT/4 PM ET, by Karolos Grohmann, 600 words)     \n",
            "    - - \n",
            "    La Liga season ends (1900) \n",
            "    Real Madrid      v Osasuna (1500) \n",
            "    Barcelona        v Malaga (1700) \n",
            "    Celta Vigo       v Espanyol \n",
            "    Deportivo Coruna v Real Sociedad \n",
            "    Granada CF       v Getafe \n",
            "    Levante          v Real Betis \n",
            "    Rayo Vallecano   v Athletic Bilbao \n",
            "    Real Mallorca    v Real Valladolid \n",
            "    Real Zaragoza    v Atletico Madrid \n",
            "    Sevilla          v Valencia \n",
            "    Barca host Malaga bidding to match La Liga points record \n",
            "    MADRID - Champions Barcelona can match the La Liga record of \n",
            "100 points for a season with a win at home to Malaga, but the \n",
            "drama will be at the foot of the standings with three relegation \n",
            "places to decided on the final day. (SOCCER-SPAIN/ (PIX), expect \n",
            "by 1700 GMT/1 PM ET, by Mark Elkington, 500 words)   \n",
            "    - - - - \n",
            "    GOLF \n",
            "    Memorial Tournament (to June 2) \n",
            "    New dad Haas leads at weather-hit Memorial event \n",
            "    Rejuvenated by the recent birth of his first child, American \n",
            "Bill Haas rebounded from successive missed cuts on the PGA Tour \n",
            "to grab a three-shot lead in the weather-hit second round at the \n",
            "Memorial Tournament. (GOLF-PGA/ (PIX), moved, by Mark Lamport \n",
            "Stokes, 500 words) \n",
            "    - - - - \n",
            "    RALLYING \n",
            "    Rally of Greece (to June 2) \n",
            "    Russia's Evgeny Novikov is the surprise leader of the Rally \n",
            "of Greece after a dramatic first day as favourites Sebastien \n",
            "Ogier, Mikko Hirvonen and Mads Ostberg all hit trouble on \n",
            "Friday. (RALLYING-GREECE/ (PIX), by Graham Wood, 500 words) \n",
            "    - - - - \n",
            "    HORSE RACING \n",
            "    Epsom Derby (1500) \n",
            "    EPSOM, England - Favourite Dawn Approach heads a field of 12 \n",
            "for the 234th Derby with five other Irish-trained runners under \n",
            "Aidan O'Brien including Battle of Marengo, ridden by his son \n",
            "Joseph, Ruler of the World and Mars racing in front of a 100,000 \n",
            "crowd. (HORSE RACING-DERBY/ (PIX), by Justin Palmer, 500 words) \n",
            " \n",
            " (Duty editor: Patrick Johnston) \n",
            " ((London Sports Desk: +44 20 7542 7933)(Asia Sports Desk: +65 \n",
            "6870 3817)) \n",
            " \n",
            "Keywords: SPORTS NEWS SCHEDULE AT 0001 GMT \n",
            "     \n",
            " \n",
            "\n",
            " For expanded, multimedia Reuters Top News visit:  \n",
            " * Eikon: Top News tab \n",
            " * 3000 Xtra: visit http://link.reuters.com/hur36t \n",
            " * Thomson ONE: Top News tab \n",
            " * ReutersStation: view story .134 \n",
            " \n",
            " ............................................................................... \n",
            " \n",
            " TOP STORIES \n",
            " \n",
            "> China Inc's Smithfield bid expected to pass Washington test       [nL2N0EC1HA] \n",
            "> Dell urges shareholders to approve CEO's buyout offer             [nL3N0EC2KB] \n",
            "> EXCLUSIVE-Bain, Advent cancel sale of WorldPay's U.S. unit        [nL2N0EC0XN] \n",
            "> EXCLUSIVE-Founders seek more time for ENRC bid -sources           [nL5N0EC3QK] \n",
            "> Sun Pharma in talks to buy Sweden's Meda for $5-$6 bln-sources    [nL3N0EC2R8] \n",
            "> Sale of AIG plane lease unit to Chinese group at risk             [nL2N0EC0H6] \n",
            "> Financier Hands' EMI lawsuit vs Citigroup revived                 [nL2N0EC0S1] \n",
            "> GE Capital to sell U.S. real estate, Canadian fleet portfolios    [nL3N0EC2JB] \n",
            "> Morgan Stanley head of rates fined, suspended by CME Group        [nL2N0EC1QO] \n",
            "> Lloyds nears capital target with US mortgage book sale            [nL5N0EC0WY] \n",
            "> Battle resumes in Norway's $1.7 bln fish war                      [nL5N0EC0NX] \n",
            "> RBS gives up fight, will hand over Libor documents to Canada      [nL2N0EC1WX] \n",
            "> Deutsche Bank to launch muni ETF for infrastructure               [nL2N0EC1JO] \n",
            "> Banks in the dark over $15 bln of Rosneft M&A business            [nL5N0EB327] \n",
            "> Brazil Votorantim Cimentos seeks up to $4.9 bln in IPO            [nL2N0EC0FG] \n",
            "     \n",
            " ............................................................................... \n",
            " For latest top breaking news across all markets                        [NEWS] \n",
            " ............................................................................... \n",
            " \n",
            "TOP NEWS SUMMARIES ON OTHER SUBJECTS \n",
            "Front Page               [TOP/NEWS]   Central Banks & Global Economy \n",
            "[TOP/CEN]Political & General News    [TOP/G]   Foreign Exchange           \n",
            "    [TOP/FRX]Fixed Income              [TOP/DBT]   Emerging Markets              \n",
            "[TOP/EMRG] \n",
            "Financial Services        [TOP/FIN]   Investment Strategy           [TOP/FUND] \n",
            "Investment Banking      [TOP/DEALS]   Wealth Mgmt-North America   [TOP/WEALTH] \n",
            "IFR Markets              [TOP/NOW2]   U.S. Companies                 [TOP/EQU] \n",
            "European Companies        [TOP/EQE]   Asian Companies                \n",
            "[TOP/EQA]Commodities & Energy       [TOP/CE]   Energy                           \n",
            "[TOP/O]Metals                    [TOP/MTL]   Agricultural Commodities       \n",
            "[TOP/GRO]North American Power      [TOP/ELN]   European Power & Gas           \n",
            "[TOP/ELE]Basic Industries        [TOP/BASIC]   Technology, Media, Telecoms    \n",
            "[TOP/TMT]Consumer Goods         [TOP/RETAIL]   Healthcare                  \n",
            "[TOP/HEALTH]Lifestyle & Ent          [TOP/LIFE]   Sport                          \n",
            "[TOP/SPO] \n",
            " REGIONAL TOP NEWS PAGES \n",
            "Greater China              [TOP/CN]   Deutschland                     [TOP/DE] \n",
            "Britain & Ireland          [TOP/GB]   France                         [TOP/FRA] \n",
            "Canada                    [TOP/CAN]   Latin America                [TOP/LATAM] \n",
            "Middle East             [TOP/MEAST]   Africa                          [TOP/ZA] \n",
            "Top News Directory           [TOP/] \n",
            "     \n",
            " BREAKINGVIEWS \n",
            "Breakingviews             [TOP/COM] \n",
            " \n",
            " ............................................................................... \n",
            " Access to some items may depend on subscription level \n",
            " ............................................................................... \n",
            " UP-TO-THE-MINUTE HEADLINES \n",
            " Company results              [RES]  Economic indicators                 [ECI] \n",
            " Mergers & acquisitions       [MRG]  Interest rates                      [INT] \n",
            " \n",
            " LIVE PRICES & DATA \n",
            " World Stocks            <0#.INDEX>  Currency rates               <EFX=><NFX=> \n",
            " Dow Jones/NASDAQ     <.DJI><.IXIC>  Nikkei                            <.N225> \n",
            " FTSE 100                   <.FTSE>  Debt                  <0#USBMK=><EURIBOR> \n",
            " \n",
            " HOW TO FIND INFORMATION YOU NEED \n",
            "|<REUTERS> | <NEWS> | <PHONE/HELP> | \n",
            "|<EQUITY>  | <BONDS>|   <MONEY>    |   <COMMODITY> |  <ENERGY> \n",
            "     \n",
            "................................................................................ \n",
            "Page Editor: Divya Sharma, Bangalore Newsroom,  divya.sharma@thomsonreuters.com \n",
            "................................................................................ \n",
            " \n",
            " \n",
            "Keywords: *TOP NEWS* INVESTMENT BANKING \n",
            "     \n",
            " \n",
            "\n",
            "    May 31 (Reuters) - A mile-wide tornado has touched down west \n",
            "of Oklahoma City where it has done damage and it is headed \n",
            "toward Oklahoma City, Oklahoma television station KFOR reported. \n",
            "    The tornado overturned vehicles and did damage along \n",
            "Interstate 40, the station reported. The National Weather \n",
            "Service has declared a tornado emergency, which is more severe \n",
            "than a warning, for the area. \n",
            " \n",
            " (Reporting by Alex Dobuzinskis; Editing by Cynthia Johnston) \n",
            " ((alex.dobuzinskis@thomsonreuters.com)(1-213-955-6781)(Reuters \n",
            "Messaging: alex.dobuzinskis.thomsonreuters.com@reuters.net)) \n",
            " \n",
            "Keywords: USA TORNADOES/OKLAHOMACITY \n",
            "     \n",
            " \n",
            "\n",
            "    * Economy grew 0.7 pct in Q1 vs 5.9 pct a year earlier \n",
            "    * Slowdown follows heavy government spending in 2012 \n",
            " \n",
            " (Recasts with comparison, adds details on slowdown, political \n",
            "context) \n",
            "    By Brian Ellsworth \n",
            "    CARACAS, May 31 (Reuters) - Venezuela's economy slowed \n",
            "sharply in the first quarter, the central bank said on Friday, \n",
            "auguring a difficult year for the OPEC nation that is already \n",
            "struggling with galloping inflation and shortages of basic \n",
            "consumer goods.  \n",
            "    The economy grew only 0.7 percent compared with 5.9 percent \n",
            "the same period a year earlier, influenced by lower growth in \n",
            "the oil sector and a contraction in construction. \n",
            "    A lack of hard currency that left businesses struggling to \n",
            "import key consumer products also contributed to the \n",
            "disappointing figure, the bank said. Venezuelans have struggled \n",
            "in recent months to find goods ranging from wheat flour to \n",
            "toilet paper.  \n",
            "    The news is a blow to new President Nicolas Maduro, whose \n",
            "popularity depends on continuing the heavy spending of his \n",
            "predecessor, the late socialist leader Hugo Chavez. Maduro won \n",
            "by only 1.5 percentage points in April and opposition leaders \n",
            "are challenging the results. \n",
            "    With inflation at nearly 30 percent, Venezuela faces the \n",
            "prospect of rising prices and slowing growth - economic malaise \n",
            "known as \"stagflation\" - as well as growing questions about the \n",
            "Chavez-era state-driven economic growth model. \n",
            "    \"This confirms stagflation. The economy is stagnant and \n",
            "inflation is rising, all of this with the price of oil at $104 \n",
            "(per barrel),\" wrote Jose Guerra, a former central bank director \n",
            "turned government critic, via Twitter. \n",
            "    A key factor was the 1.2-percent contraction of the \n",
            "construction sector versus an expansion of 31.4 percent a year \n",
            "earlier, the result of slowdown in a massive home-building \n",
            "project last year.  \n",
            "    Critics say that effort, which put hundreds of thousands of \n",
            "families in new apartments and helped Chavez win re-election \n",
            "five months before he died of cancer, constituted an \n",
            "unsustainable stimulus to the economy.    \n",
            "    The manufacturing sector - crucial for job creation - shrank \n",
            "nearly 4 percent. State-run manufacturing, which expanded during \n",
            "Chavez's six-year wave of nationalizations, contracted 12 \n",
            "percent.  \n",
            "     \n",
            "    GLOOMY OUTLOOK \n",
            "    Economists had widely predicted a slowing of government \n",
            "spending in the first quarter from its torrid pace of 2012, when \n",
            "Chavez showered the country with social spending on homes, \n",
            "pensions for the elderly and stipends for poor mothers.  \n",
            "    Central Bank President Edmee Betancourt on Thursday said \n",
            "Chavez's death \"disrupted\" the economy. [ID:L2N0EC0M9] \n",
            "    Months of uncertainty over the state of his health and more \n",
            "than a week of official mourning after he died likely \n",
            "contributed to the slowdown.  \n",
            "    Chavez was widely supported among the poor who benefited \n",
            "from his social spending programs. Soaring oil prices kept \n",
            "government coffers full, and a consistently expanding economy \n",
            "ensured victories at the ballot box. \n",
            "    Maduro, Chavez's anointed successor, now faces slowing \n",
            "growth even though the price of oil - which provides more than \n",
            "95 percent of Venezuela's export revenue - has remained strong.  \n",
            "  \n",
            "    \"Probably in the third or fourth quarter we're going to be \n",
            "in negative territory with an economic contraction of 1 \n",
            "percentage point,\" said Angel Garcia of economic consultancy \n",
            "Econometrica, a harsh critic of the government. \n",
            "    Government supporters scoff at the opposition's gloomy \n",
            "forecasts, noting that many of Wall Street's dire predictions \n",
            "have proven to be considerably off the mark. \n",
            "    The Maduro administration is targeting 6-percent growth and \n",
            "15-percent inflation for 2013.  \n",
            "    A weaker economy may spur concerns among foreign investors \n",
            "who have for years flocked to the country's lucrative bonds \n",
            "despite Chavez's diatribes against capitalism. \n",
            "    Opposition leaders say the only solution is a gradual \n",
            "transition away from the Chavez-era policies such as frequent \n",
            "nationalizations and rigid price controls to convince private \n",
            "businesses to resume investment. \n",
            "    But Maduro's slim victory in April gives him little room to \n",
            "reverse the main planks of his predecessor's \"21st century \n",
            "socialism\" that included dramatic state takeovers and \n",
            "confrontations with businesses. \n",
            "    Many of his supporters, unimpressed by his \n",
            "1.5-percentage-point election win, will want him to show the \n",
            "same social largesse as Chavez.  \n",
            "    He will likely seek to spur the economy through state \n",
            "spending, but stretched public finances and the threat of \n",
            "worsening inflation may make this difficult. \n",
            " \n",
            " (Reporting by Brian Ellsworth and Deisy Buitrago; Editing by \n",
            "Will Dunham and Xavier Briand) \n",
            " ((brian.ellsworth@thomsonreuters.com)(58 212 277 2660)(Reuters \n",
            "Messaging: brian.ellsworth.thomsonreuters.com@reuters.net)) \n",
            " \n",
            "Keywords: VENEZUELA ECONOMY/GDP  \n",
            "     \n",
            " \n",
            "\n"
          ]
        }
      ]
    },
    {
      "cell_type": "code",
      "metadata": {
        "id": "4oiK7brVgaiH"
      },
      "source": [
        "# https://stackoverflow.com/questions/20078816/replace-non-ascii-characters-with-a-single-space\n",
        "def _removeNonAscii(s):\n",
        "   return ''.join([i if ord(i) < 128 else ' ' for i in s])\n",
        "    # return \"\".join(i for i in s if ord(i)<128)\n",
        "    \n",
        "# function to remove the punctuations, apostrophe, special characters using regular expressions\n",
        "def clean_text(text):\n",
        "    text = text.lower()\n",
        "\n",
        "    text = text.replace('(ap)', '')\n",
        "    \n",
        "    # Convert some words to full length ones\n",
        "    text = re.sub(r\"what's\", \"what is \", text)\n",
        "    text = re.sub(r\"\\'s\", \" is \", text)\n",
        "    text = re.sub(r\"\\'ve\", \" have \", text)\n",
        "    text = re.sub(r\"can't\", \"cannot \", text)\n",
        "    text = re.sub(r\"n't\", \" not \", text)\n",
        "    text = re.sub(r\"i'm\", \"i am \", text)\n",
        "    text = re.sub(r\"\\'re\", \" are \", text)\n",
        "    text = re.sub(r\"\\'d\", \" would \", text)\n",
        "    text = re.sub(r\"\\'ll\", \" will \", text)\n",
        "\n",
        "    text = re.sub(r'\\W+', ' ', text)\n",
        "    text = re.sub(r'\\s+', ' ', text)\n",
        "    text = re.sub(r\"\\\\\", \"\", text)\n",
        "    text = re.sub(r\"\\'\", \"\", text)    \n",
        "    text = re.sub(r\"\\\"\", \"\", text)\n",
        "    text = re.sub('[^a-zA-Z ?!]+', '', text)\n",
        "\n",
        "    text = _removeNonAscii(text)\n",
        "    \n",
        "    # remove empty space left, right\n",
        "    text = text.strip()\n",
        "\n",
        "    return text\n",
        "\n",
        "# stop words are the words that convery little to no information about the actual content like the words:the, of, for etc\n",
        "def remove_stopwords(word_tokens):\n",
        "    filtered_sentence = [] \n",
        "    stop_words = stopwords.words('english')\n",
        "    stoplist = [\"https\", \"co\", \"char\",\"chars\",\"wwww\",\"Day\",\"Top\",\"Reuters\",\"net\",\"ahead\",\"Companies\",\"com\",\"link\",\"http\",\"thomsonreuters\",\"BreakingViews\",\"NEWS\"]\n",
        "    stop_words.extend(stoplist )\n",
        "   \n",
        "    for w in word_tokens: \n",
        "        if w not in stop_words: \n",
        "            filtered_sentence.append(w) \n",
        "   \n",
        "    return filtered_sentence\n",
        "\n",
        "# function for lemmatization \n",
        "def lemmatize(x):\n",
        "    \n",
        "    lemmatizer = WordNetLemmatizer()\n",
        "\n",
        "    return' '.join([lemmatizer.lemmatize(word) for word in x])\n",
        "\n",
        "# function to remove some too short words, special words that we know we should ignore them \n",
        "def remove_unusual_words(tokens):\n",
        "  lst = [] \n",
        " \n",
        "  for token in tokens: \n",
        "    if len(token) <= 2: \n",
        "        continue\n",
        "\n",
        "    lst.append(token)  \n",
        "  \n",
        "  return lst"
      ],
      "execution_count": 14,
      "outputs": []
    },
    {
      "cell_type": "code",
      "metadata": {
        "id": "UIz6aQu1gae2"
      },
      "source": [
        "tokenizer = RegexpTokenizer(r'\\w+')\n",
        "\n",
        "def tokenize(x): \n",
        "    return tokenizer.tokenize(x)"
      ],
      "execution_count": 15,
      "outputs": []
    },
    {
      "cell_type": "code",
      "metadata": {
        "id": "MfdoP_Iggab6"
      },
      "source": [
        "import re\n",
        "\n",
        "def untokenize(words):\n",
        "    \"\"\"\n",
        "    Untokenizing a text undoes the tokenizing operation, restoring\n",
        "    punctuation and spaces to the places that people expect them to be.\n",
        "    Ideally, `untokenize(tokenize(text))` should be identical to `text`,\n",
        "    except for line breaks. \n",
        "    \"\"\"\n",
        "    \n",
        "    text = ' '.join(words)\n",
        "\n",
        "    step1 = text.replace(\"`` \", '\"').replace(\" ''\", '\"').replace('. . .',  '...')\n",
        "    step2 = step1.replace(\" ( \", \" (\").replace(\" ) \", \") \")\n",
        "    step3 = re.sub(r' ([.,:;?!%]+)([ \\'\"`])', r\"\\1\\2\", step2)\n",
        "    step4 = re.sub(r' ([.,:;?!%]+)$', r\"\\1\", step3)\n",
        "    step5 = step4.replace(\" '\", \"'\").replace(\" n't\", \"n't\").replace(\n",
        "         \"can not\", \"cannot\")\n",
        "    \n",
        "    step6 = step5.replace(\" ` \", \" '\")\n",
        "\n",
        "    return step6.strip()"
      ],
      "execution_count": 20,
      "outputs": []
    },
    {
      "cell_type": "markdown",
      "metadata": {
        "id": "V7dXS3ZwxnrB"
      },
      "source": [
        "# Perform data processing"
      ]
    },
    {
      "cell_type": "code",
      "metadata": {
        "colab": {
          "base_uri": "https://localhost:8080/"
        },
        "id": "XeVrDHOc4P_K",
        "outputId": "8c1ac66b-6624-4682-b720-62f2a3df1769"
      },
      "source": [
        "df_selected_features['text']"
      ],
      "execution_count": 17,
      "outputs": [
        {
          "output_type": "execute_result",
          "data": {
            "text/plain": [
              "18            * Haas moves three ahead after firing a 67...\n",
              "23            Reuters sports schedule at 0001 GMT on Sat...\n",
              "26         For expanded, multimedia Reuters Top News vis...\n",
              "28            May 31 (Reuters) - A mile-wide tornado has...\n",
              "32            * Economy grew 0.7 pct in Q1 vs 5.9 pct a ...\n",
              "                                ...                        \n",
              "421953    BUZZ-JPY ECON-Tankan big mfg DI +4, non-mfg +1...\n",
              "421984    BUZZ-USD/MYR to open firm; weak commodities, o...\n",
              "421986    Japan big manufacturers' mood turns positive -...\n",
              "421989    BUZZ-JPY ECON-Big firms see USD/JPY averaging ...\n",
              "421991    UPDATE 1-Japan big manufacturers' mood turns p...\n",
              "Name: text, Length: 231924, dtype: object"
            ]
          },
          "metadata": {},
          "execution_count": 17
        }
      ]
    },
    {
      "cell_type": "code",
      "metadata": {
        "colab": {
          "base_uri": "https://localhost:8080/"
        },
        "id": "iR5P2jD0gaZU",
        "outputId": "3a559267-9711-4b07-b8d6-29bad1473058"
      },
      "source": [
        "df_selected_features['clean_text'] = df_selected_features['text'].map(clean_text)\n",
        "\n",
        "df_selected_features['tokens'] = df_selected_features['clean_text'].map(tokenize)\n"
      ],
      "execution_count": 18,
      "outputs": [
        {
          "output_type": "stream",
          "name": "stderr",
          "text": [
            "/usr/local/lib/python3.7/dist-packages/ipykernel_launcher.py:1: SettingWithCopyWarning: \n",
            "A value is trying to be set on a copy of a slice from a DataFrame.\n",
            "Try using .loc[row_indexer,col_indexer] = value instead\n",
            "\n",
            "See the caveats in the documentation: https://pandas.pydata.org/pandas-docs/stable/user_guide/indexing.html#returning-a-view-versus-a-copy\n",
            "  \"\"\"Entry point for launching an IPython kernel.\n",
            "/usr/local/lib/python3.7/dist-packages/ipykernel_launcher.py:3: SettingWithCopyWarning: \n",
            "A value is trying to be set on a copy of a slice from a DataFrame.\n",
            "Try using .loc[row_indexer,col_indexer] = value instead\n",
            "\n",
            "See the caveats in the documentation: https://pandas.pydata.org/pandas-docs/stable/user_guide/indexing.html#returning-a-view-versus-a-copy\n",
            "  This is separate from the ipykernel package so we can avoid doing imports until\n"
          ]
        }
      ]
    },
    {
      "cell_type": "code",
      "metadata": {
        "id": "8baV4dq2XG4j",
        "colab": {
          "base_uri": "https://localhost:8080/"
        },
        "outputId": "1c85f5f2-50bc-4a47-af13-d1b33effcf35"
      },
      "source": [
        "df_selected_features['tokens'] = df_selected_features['tokens'].map(remove_stopwords)\n",
        "df_selected_features['tokens'] = df_selected_features['tokens'].map(remove_unusual_words)\n",
        "\n",
        "df_selected_features['lems'] = df_selected_features['tokens'].map(lemmatize)\n",
        "\n",
        "df_selected_features['clean_text'] = df_selected_features['tokens'].map(untokenize)"
      ],
      "execution_count": 22,
      "outputs": [
        {
          "output_type": "stream",
          "name": "stderr",
          "text": [
            "/usr/local/lib/python3.7/dist-packages/ipykernel_launcher.py:1: SettingWithCopyWarning: \n",
            "A value is trying to be set on a copy of a slice from a DataFrame.\n",
            "Try using .loc[row_indexer,col_indexer] = value instead\n",
            "\n",
            "See the caveats in the documentation: https://pandas.pydata.org/pandas-docs/stable/user_guide/indexing.html#returning-a-view-versus-a-copy\n",
            "  \"\"\"Entry point for launching an IPython kernel.\n",
            "/usr/local/lib/python3.7/dist-packages/ipykernel_launcher.py:2: SettingWithCopyWarning: \n",
            "A value is trying to be set on a copy of a slice from a DataFrame.\n",
            "Try using .loc[row_indexer,col_indexer] = value instead\n",
            "\n",
            "See the caveats in the documentation: https://pandas.pydata.org/pandas-docs/stable/user_guide/indexing.html#returning-a-view-versus-a-copy\n",
            "  \n",
            "/usr/local/lib/python3.7/dist-packages/ipykernel_launcher.py:4: SettingWithCopyWarning: \n",
            "A value is trying to be set on a copy of a slice from a DataFrame.\n",
            "Try using .loc[row_indexer,col_indexer] = value instead\n",
            "\n",
            "See the caveats in the documentation: https://pandas.pydata.org/pandas-docs/stable/user_guide/indexing.html#returning-a-view-versus-a-copy\n",
            "  after removing the cwd from sys.path.\n",
            "/usr/local/lib/python3.7/dist-packages/ipykernel_launcher.py:6: SettingWithCopyWarning: \n",
            "A value is trying to be set on a copy of a slice from a DataFrame.\n",
            "Try using .loc[row_indexer,col_indexer] = value instead\n",
            "\n",
            "See the caveats in the documentation: https://pandas.pydata.org/pandas-docs/stable/user_guide/indexing.html#returning-a-view-versus-a-copy\n",
            "  \n"
          ]
        }
      ]
    },
    {
      "cell_type": "code",
      "metadata": {
        "colab": {
          "base_uri": "https://localhost:8080/",
          "height": 419
        },
        "id": "K87oOfKLgaTB",
        "outputId": "ad061fd0-7900-4d9c-c0ea-20d070281df3"
      },
      "source": [
        "df_selected_features"
      ],
      "execution_count": 23,
      "outputs": [
        {
          "output_type": "execute_result",
          "data": {
            "text/html": [
              "<div>\n",
              "<style scoped>\n",
              "    .dataframe tbody tr th:only-of-type {\n",
              "        vertical-align: middle;\n",
              "    }\n",
              "\n",
              "    .dataframe tbody tr th {\n",
              "        vertical-align: top;\n",
              "    }\n",
              "\n",
              "    .dataframe thead th {\n",
              "        text-align: right;\n",
              "    }\n",
              "</style>\n",
              "<table border=\"1\" class=\"dataframe\">\n",
              "  <thead>\n",
              "    <tr style=\"text-align: right;\">\n",
              "      <th></th>\n",
              "      <th>DATE</th>\n",
              "      <th>text</th>\n",
              "      <th>clean_text</th>\n",
              "      <th>tokens</th>\n",
              "      <th>lems</th>\n",
              "    </tr>\n",
              "  </thead>\n",
              "  <tbody>\n",
              "    <tr>\n",
              "      <th>18</th>\n",
              "      <td>2013-06-01</td>\n",
              "      <td>* Haas moves three ahead after firing a 67...</td>\n",
              "      <td>haas moves three firing woods pace forty two p...</td>\n",
              "      <td>[haas, moves, three, firing, woods, pace, fort...</td>\n",
              "      <td>haas move three firing wood pace forty two pla...</td>\n",
              "    </tr>\n",
              "    <tr>\n",
              "      <th>23</th>\n",
              "      <td>2013-06-01</td>\n",
              "      <td>Reuters sports schedule at 0001 GMT on Sat...</td>\n",
              "      <td>reuters sports schedule gmt saturday rugby bri...</td>\n",
              "      <td>[reuters, sports, schedule, gmt, saturday, rug...</td>\n",
              "      <td>reuters sport schedule gmt saturday rugby brit...</td>\n",
              "    </tr>\n",
              "    <tr>\n",
              "      <th>26</th>\n",
              "      <td>2013-06-01</td>\n",
              "      <td>For expanded, multimedia Reuters Top News vis...</td>\n",
              "      <td>expanded multimedia reuters top news visit eik...</td>\n",
              "      <td>[expanded, multimedia, reuters, top, news, vis...</td>\n",
              "      <td>expanded multimedia reuters top news visit eik...</td>\n",
              "    </tr>\n",
              "    <tr>\n",
              "      <th>28</th>\n",
              "      <td>2013-06-01</td>\n",
              "      <td>May 31 (Reuters) - A mile-wide tornado has...</td>\n",
              "      <td>may reuters mile wide tornado touched west okl...</td>\n",
              "      <td>[may, reuters, mile, wide, tornado, touched, w...</td>\n",
              "      <td>may reuters mile wide tornado touched west okl...</td>\n",
              "    </tr>\n",
              "    <tr>\n",
              "      <th>32</th>\n",
              "      <td>2013-06-01</td>\n",
              "      <td>* Economy grew 0.7 pct in Q1 vs 5.9 pct a ...</td>\n",
              "      <td>economy grew pct pct year earlier slowdown fol...</td>\n",
              "      <td>[economy, grew, pct, pct, year, earlier, slowd...</td>\n",
              "      <td>economy grew pct pct year earlier slowdown fol...</td>\n",
              "    </tr>\n",
              "    <tr>\n",
              "      <th>...</th>\n",
              "      <td>...</td>\n",
              "      <td>...</td>\n",
              "      <td>...</td>\n",
              "      <td>...</td>\n",
              "      <td>...</td>\n",
              "    </tr>\n",
              "    <tr>\n",
              "      <th>421953</th>\n",
              "      <td>2013-06-30</td>\n",
              "      <td>BUZZ-JPY ECON-Tankan big mfg DI +4, non-mfg +1...</td>\n",
              "      <td>buzz jpy econ tankan big mfg non mfg eyed</td>\n",
              "      <td>[buzz, jpy, econ, tankan, big, mfg, non, mfg, ...</td>\n",
              "      <td>buzz jpy econ tankan big mfg non mfg eyed</td>\n",
              "    </tr>\n",
              "    <tr>\n",
              "      <th>421984</th>\n",
              "      <td>2013-06-30</td>\n",
              "      <td>BUZZ-USD/MYR to open firm; weak commodities, o...</td>\n",
              "      <td>buzz usd myr open firm weak commodities oil ex...</td>\n",
              "      <td>[buzz, usd, myr, open, firm, weak, commodities...</td>\n",
              "      <td>buzz usd myr open firm weak commodity oil expo...</td>\n",
              "    </tr>\n",
              "    <tr>\n",
              "      <th>421986</th>\n",
              "      <td>2013-06-30</td>\n",
              "      <td>Japan big manufacturers' mood turns positive -...</td>\n",
              "      <td>japan big manufacturers mood turns positive bo...</td>\n",
              "      <td>[japan, big, manufacturers, mood, turns, posit...</td>\n",
              "      <td>japan big manufacturer mood turn positive boj ...</td>\n",
              "    </tr>\n",
              "    <tr>\n",
              "      <th>421989</th>\n",
              "      <td>2013-06-30</td>\n",
              "      <td>BUZZ-JPY ECON-Big firms see USD/JPY averaging ...</td>\n",
              "      <td>buzz jpy econ big firms see usd jpy averaging</td>\n",
              "      <td>[buzz, jpy, econ, big, firms, see, usd, jpy, a...</td>\n",
              "      <td>buzz jpy econ big firm see usd jpy averaging</td>\n",
              "    </tr>\n",
              "    <tr>\n",
              "      <th>421991</th>\n",
              "      <td>2013-06-30</td>\n",
              "      <td>UPDATE 1-Japan big manufacturers' mood turns p...</td>\n",
              "      <td>update japan big manufacturers mood turns posi...</td>\n",
              "      <td>[update, japan, big, manufacturers, mood, turn...</td>\n",
              "      <td>update japan big manufacturer mood turn positi...</td>\n",
              "    </tr>\n",
              "  </tbody>\n",
              "</table>\n",
              "<p>231924 rows × 5 columns</p>\n",
              "</div>"
            ],
            "text/plain": [
              "              DATE  ...                                               lems\n",
              "18      2013-06-01  ...  haas move three firing wood pace forty two pla...\n",
              "23      2013-06-01  ...  reuters sport schedule gmt saturday rugby brit...\n",
              "26      2013-06-01  ...  expanded multimedia reuters top news visit eik...\n",
              "28      2013-06-01  ...  may reuters mile wide tornado touched west okl...\n",
              "32      2013-06-01  ...  economy grew pct pct year earlier slowdown fol...\n",
              "...            ...  ...                                                ...\n",
              "421953  2013-06-30  ...          buzz jpy econ tankan big mfg non mfg eyed\n",
              "421984  2013-06-30  ...  buzz usd myr open firm weak commodity oil expo...\n",
              "421986  2013-06-30  ...  japan big manufacturer mood turn positive boj ...\n",
              "421989  2013-06-30  ...       buzz jpy econ big firm see usd jpy averaging\n",
              "421991  2013-06-30  ...  update japan big manufacturer mood turn positi...\n",
              "\n",
              "[231924 rows x 5 columns]"
            ]
          },
          "metadata": {},
          "execution_count": 23
        }
      ]
    },
    {
      "cell_type": "markdown",
      "metadata": {
        "id": "Q0zhH8cDwVjC"
      },
      "source": [
        "# Count the number of words for each day"
      ]
    },
    {
      "cell_type": "code",
      "metadata": {
        "id": "FllHD2uOwAhd"
      },
      "source": [
        "df_date_token = df_selected_features.assign(token=df_selected_features['tokens']).explode('token')\n",
        "\n",
        "df_date_token = df_date_token[['DATE', 'token']].groupby(['DATE', 'token']).size().reset_index(name='counts')\n",
        "\n",
        "df_date_token = df_date_token.sort_values(by=['counts'], ascending=False)"
      ],
      "execution_count": 24,
      "outputs": []
    },
    {
      "cell_type": "code",
      "metadata": {
        "colab": {
          "base_uri": "https://localhost:8080/",
          "height": 419
        },
        "id": "KruhrD7Wp0fV",
        "outputId": "9217bd45-4d4b-4cd3-9525-0117760a037f"
      },
      "source": [
        "df_date_token"
      ],
      "execution_count": 26,
      "outputs": [
        {
          "output_type": "execute_result",
          "data": {
            "text/html": [
              "<div>\n",
              "<style scoped>\n",
              "    .dataframe tbody tr th:only-of-type {\n",
              "        vertical-align: middle;\n",
              "    }\n",
              "\n",
              "    .dataframe tbody tr th {\n",
              "        vertical-align: top;\n",
              "    }\n",
              "\n",
              "    .dataframe thead th {\n",
              "        text-align: right;\n",
              "    }\n",
              "</style>\n",
              "<table border=\"1\" class=\"dataframe\">\n",
              "  <thead>\n",
              "    <tr style=\"text-align: right;\">\n",
              "      <th></th>\n",
              "      <th>DATE</th>\n",
              "      <th>token</th>\n",
              "      <th>counts</th>\n",
              "    </tr>\n",
              "  </thead>\n",
              "  <tbody>\n",
              "    <tr>\n",
              "      <th>742371</th>\n",
              "      <td>2013-06-26</td>\n",
              "      <td>top</td>\n",
              "      <td>39732</td>\n",
              "    </tr>\n",
              "    <tr>\n",
              "      <th>815780</th>\n",
              "      <td>2013-06-28</td>\n",
              "      <td>top</td>\n",
              "      <td>39609</td>\n",
              "    </tr>\n",
              "    <tr>\n",
              "      <th>669573</th>\n",
              "      <td>2013-06-24</td>\n",
              "      <td>top</td>\n",
              "      <td>39240</td>\n",
              "    </tr>\n",
              "    <tr>\n",
              "      <th>574045</th>\n",
              "      <td>2013-06-20</td>\n",
              "      <td>top</td>\n",
              "      <td>39191</td>\n",
              "    </tr>\n",
              "    <tr>\n",
              "      <th>779689</th>\n",
              "      <td>2013-06-27</td>\n",
              "      <td>top</td>\n",
              "      <td>38805</td>\n",
              "    </tr>\n",
              "    <tr>\n",
              "      <th>...</th>\n",
              "      <td>...</td>\n",
              "      <td>...</td>\n",
              "      <td>...</td>\n",
              "    </tr>\n",
              "    <tr>\n",
              "      <th>624839</th>\n",
              "      <td>2013-06-23</td>\n",
              "      <td>akino</td>\n",
              "      <td>1</td>\n",
              "    </tr>\n",
              "    <tr>\n",
              "      <th>427980</th>\n",
              "      <td>2013-06-16</td>\n",
              "      <td>maurizio</td>\n",
              "      <td>1</td>\n",
              "    </tr>\n",
              "    <tr>\n",
              "      <th>624837</th>\n",
              "      <td>2013-06-23</td>\n",
              "      <td>akdag</td>\n",
              "      <td>1</td>\n",
              "    </tr>\n",
              "    <tr>\n",
              "      <th>624836</th>\n",
              "      <td>2013-06-23</td>\n",
              "      <td>ajmi</td>\n",
              "      <td>1</td>\n",
              "    </tr>\n",
              "    <tr>\n",
              "      <th>844030</th>\n",
              "      <td>2013-06-30</td>\n",
              "      <td>zzw</td>\n",
              "      <td>1</td>\n",
              "    </tr>\n",
              "  </tbody>\n",
              "</table>\n",
              "<p>844031 rows × 3 columns</p>\n",
              "</div>"
            ],
            "text/plain": [
              "              DATE     token  counts\n",
              "742371  2013-06-26       top   39732\n",
              "815780  2013-06-28       top   39609\n",
              "669573  2013-06-24       top   39240\n",
              "574045  2013-06-20       top   39191\n",
              "779689  2013-06-27       top   38805\n",
              "...            ...       ...     ...\n",
              "624839  2013-06-23     akino       1\n",
              "427980  2013-06-16  maurizio       1\n",
              "624837  2013-06-23     akdag       1\n",
              "624836  2013-06-23      ajmi       1\n",
              "844030  2013-06-30       zzw       1\n",
              "\n",
              "[844031 rows x 3 columns]"
            ]
          },
          "metadata": {},
          "execution_count": 26
        }
      ]
    },
    {
      "cell_type": "markdown",
      "metadata": {
        "id": "ZQ6BW036wX9u"
      },
      "source": [
        "# The top 20 most frequent words over the whole timeline\n"
      ]
    },
    {
      "cell_type": "code",
      "metadata": {
        "id": "87LchzhhwYJr",
        "colab": {
          "base_uri": "https://localhost:8080/",
          "height": 669
        },
        "outputId": "df1ba90e-3549-4723-db4d-ea7ec320ff4b"
      },
      "source": [
        "most_20_frequent_words = df_date_token.groupby(['token']).sum().sort_values(by=['counts'], ascending=False)[:20].reset_index()\n",
        "\n",
        "most_20_frequent_words"
      ],
      "execution_count": 27,
      "outputs": [
        {
          "output_type": "execute_result",
          "data": {
            "text/html": [
              "<div>\n",
              "<style scoped>\n",
              "    .dataframe tbody tr th:only-of-type {\n",
              "        vertical-align: middle;\n",
              "    }\n",
              "\n",
              "    .dataframe tbody tr th {\n",
              "        vertical-align: top;\n",
              "    }\n",
              "\n",
              "    .dataframe thead th {\n",
              "        text-align: right;\n",
              "    }\n",
              "</style>\n",
              "<table border=\"1\" class=\"dataframe\">\n",
              "  <thead>\n",
              "    <tr style=\"text-align: right;\">\n",
              "      <th></th>\n",
              "      <th>token</th>\n",
              "      <th>counts</th>\n",
              "    </tr>\n",
              "  </thead>\n",
              "  <tbody>\n",
              "    <tr>\n",
              "      <th>0</th>\n",
              "      <td>top</td>\n",
              "      <td>733333</td>\n",
              "    </tr>\n",
              "    <tr>\n",
              "      <th>1</th>\n",
              "      <td>reuters</td>\n",
              "      <td>238467</td>\n",
              "    </tr>\n",
              "    <tr>\n",
              "      <th>2</th>\n",
              "      <td>news</td>\n",
              "      <td>231730</td>\n",
              "    </tr>\n",
              "    <tr>\n",
              "      <th>3</th>\n",
              "      <td>day</td>\n",
              "      <td>141250</td>\n",
              "    </tr>\n",
              "    <tr>\n",
              "      <th>4</th>\n",
              "      <td>may</td>\n",
              "      <td>110027</td>\n",
              "    </tr>\n",
              "    <tr>\n",
              "      <th>5</th>\n",
              "      <td>said</td>\n",
              "      <td>103855</td>\n",
              "    </tr>\n",
              "    <tr>\n",
              "      <th>6</th>\n",
              "      <td>june</td>\n",
              "      <td>103145</td>\n",
              "    </tr>\n",
              "    <tr>\n",
              "      <th>7</th>\n",
              "      <td>pct</td>\n",
              "      <td>102411</td>\n",
              "    </tr>\n",
              "    <tr>\n",
              "      <th>8</th>\n",
              "      <td>jun</td>\n",
              "      <td>87051</td>\n",
              "    </tr>\n",
              "    <tr>\n",
              "      <th>9</th>\n",
              "      <td>bank</td>\n",
              "      <td>83233</td>\n",
              "    </tr>\n",
              "    <tr>\n",
              "      <th>10</th>\n",
              "      <td>markets</td>\n",
              "      <td>74765</td>\n",
              "    </tr>\n",
              "    <tr>\n",
              "      <th>11</th>\n",
              "      <td>companies</td>\n",
              "      <td>74595</td>\n",
              "    </tr>\n",
              "    <tr>\n",
              "      <th>12</th>\n",
              "      <td>percent</td>\n",
              "      <td>74066</td>\n",
              "    </tr>\n",
              "    <tr>\n",
              "      <th>13</th>\n",
              "      <td>energy</td>\n",
              "      <td>66503</td>\n",
              "    </tr>\n",
              "    <tr>\n",
              "      <th>14</th>\n",
              "      <td>european</td>\n",
              "      <td>65435</td>\n",
              "    </tr>\n",
              "    <tr>\n",
              "      <th>15</th>\n",
              "      <td>year</td>\n",
              "      <td>65066</td>\n",
              "    </tr>\n",
              "    <tr>\n",
              "      <th>16</th>\n",
              "      <td>oil</td>\n",
              "      <td>64770</td>\n",
              "    </tr>\n",
              "    <tr>\n",
              "      <th>17</th>\n",
              "      <td>data</td>\n",
              "      <td>61255</td>\n",
              "    </tr>\n",
              "    <tr>\n",
              "      <th>18</th>\n",
              "      <td>market</td>\n",
              "      <td>58883</td>\n",
              "    </tr>\n",
              "    <tr>\n",
              "      <th>19</th>\n",
              "      <td>new</td>\n",
              "      <td>57358</td>\n",
              "    </tr>\n",
              "  </tbody>\n",
              "</table>\n",
              "</div>"
            ],
            "text/plain": [
              "        token  counts\n",
              "0         top  733333\n",
              "1     reuters  238467\n",
              "2        news  231730\n",
              "3         day  141250\n",
              "4         may  110027\n",
              "5        said  103855\n",
              "6        june  103145\n",
              "7         pct  102411\n",
              "8         jun   87051\n",
              "9        bank   83233\n",
              "10    markets   74765\n",
              "11  companies   74595\n",
              "12    percent   74066\n",
              "13     energy   66503\n",
              "14   european   65435\n",
              "15       year   65066\n",
              "16        oil   64770\n",
              "17       data   61255\n",
              "18     market   58883\n",
              "19        new   57358"
            ]
          },
          "metadata": {},
          "execution_count": 27
        }
      ]
    },
    {
      "cell_type": "code",
      "metadata": {
        "colab": {
          "base_uri": "https://localhost:8080/",
          "height": 419
        },
        "id": "OPJDEK0QqH9z",
        "outputId": "d0702314-938e-4da4-b497-009712408d1e"
      },
      "source": [
        "most_100_frequent_words = df_date_token.groupby(['token']).sum().sort_values(by=['counts'], ascending=False)[:100].reset_index()\n",
        "\n",
        "most_100_frequent_words"
      ],
      "execution_count": 28,
      "outputs": [
        {
          "output_type": "execute_result",
          "data": {
            "text/html": [
              "<div>\n",
              "<style scoped>\n",
              "    .dataframe tbody tr th:only-of-type {\n",
              "        vertical-align: middle;\n",
              "    }\n",
              "\n",
              "    .dataframe tbody tr th {\n",
              "        vertical-align: top;\n",
              "    }\n",
              "\n",
              "    .dataframe thead th {\n",
              "        text-align: right;\n",
              "    }\n",
              "</style>\n",
              "<table border=\"1\" class=\"dataframe\">\n",
              "  <thead>\n",
              "    <tr style=\"text-align: right;\">\n",
              "      <th></th>\n",
              "      <th>token</th>\n",
              "      <th>counts</th>\n",
              "    </tr>\n",
              "  </thead>\n",
              "  <tbody>\n",
              "    <tr>\n",
              "      <th>0</th>\n",
              "      <td>top</td>\n",
              "      <td>733333</td>\n",
              "    </tr>\n",
              "    <tr>\n",
              "      <th>1</th>\n",
              "      <td>reuters</td>\n",
              "      <td>238467</td>\n",
              "    </tr>\n",
              "    <tr>\n",
              "      <th>2</th>\n",
              "      <td>news</td>\n",
              "      <td>231730</td>\n",
              "    </tr>\n",
              "    <tr>\n",
              "      <th>3</th>\n",
              "      <td>day</td>\n",
              "      <td>141250</td>\n",
              "    </tr>\n",
              "    <tr>\n",
              "      <th>4</th>\n",
              "      <td>may</td>\n",
              "      <td>110027</td>\n",
              "    </tr>\n",
              "    <tr>\n",
              "      <th>...</th>\n",
              "      <td>...</td>\n",
              "      <td>...</td>\n",
              "    </tr>\n",
              "    <tr>\n",
              "      <th>95</th>\n",
              "      <td>asian</td>\n",
              "      <td>25812</td>\n",
              "    </tr>\n",
              "    <tr>\n",
              "      <th>96</th>\n",
              "      <td>exchange</td>\n",
              "      <td>25678</td>\n",
              "    </tr>\n",
              "    <tr>\n",
              "      <th>97</th>\n",
              "      <td>american</td>\n",
              "      <td>25614</td>\n",
              "    </tr>\n",
              "    <tr>\n",
              "      <th>98</th>\n",
              "      <td>sep</td>\n",
              "      <td>25393</td>\n",
              "    </tr>\n",
              "    <tr>\n",
              "      <th>99</th>\n",
              "      <td>information</td>\n",
              "      <td>25272</td>\n",
              "    </tr>\n",
              "  </tbody>\n",
              "</table>\n",
              "<p>100 rows × 2 columns</p>\n",
              "</div>"
            ],
            "text/plain": [
              "          token  counts\n",
              "0           top  733333\n",
              "1       reuters  238467\n",
              "2          news  231730\n",
              "3           day  141250\n",
              "4           may  110027\n",
              "..          ...     ...\n",
              "95        asian   25812\n",
              "96     exchange   25678\n",
              "97     american   25614\n",
              "98          sep   25393\n",
              "99  information   25272\n",
              "\n",
              "[100 rows x 2 columns]"
            ]
          },
          "metadata": {},
          "execution_count": 28
        }
      ]
    },
    {
      "cell_type": "markdown",
      "metadata": {
        "id": "-pU1eMpGxSMD"
      },
      "source": [
        "# WordCloud graph : Top 100 most common words"
      ]
    },
    {
      "cell_type": "code",
      "metadata": {
        "id": "0g_NrQS8KgnA"
      },
      "source": [
        "words_list = df_selected_features['tokens']"
      ],
      "execution_count": null,
      "outputs": []
    },
    {
      "cell_type": "code",
      "metadata": {
        "id": "httHnk4WKgnA"
      },
      "source": [
        "allwords = []\n",
        "\n",
        "for li  in words_list:\n",
        "    for wordlist in li:\n",
        "        allwords += wordlist.split()\n",
        "\n",
        "# print(allwords)"
      ],
      "execution_count": null,
      "outputs": []
    },
    {
      "cell_type": "code",
      "metadata": {
        "id": "nd4icy0gv3nq",
        "colab": {
          "base_uri": "https://localhost:8080/"
        },
        "outputId": "fcce3f38-78bf-4c1a-f4a2-0ca4e042dba0"
      },
      "source": [
        "len(allwords)"
      ],
      "execution_count": null,
      "outputs": [
        {
          "output_type": "execute_result",
          "data": {
            "text/plain": [
              "20963889"
            ]
          },
          "metadata": {},
          "execution_count": 30
        }
      ]
    },
    {
      "cell_type": "code",
      "metadata": {
        "colab": {
          "base_uri": "https://localhost:8080/",
          "height": 391
        },
        "id": "GL5ywXLfKgnA",
        "outputId": "f29aaf61-9f0d-41a3-a044-0a7cd3a9aa29"
      },
      "source": [
        "mostcommon = FreqDist(allwords).most_common(100)\n",
        "wordcloud = WordCloud(width=1600, height=800, background_color='white').generate(str(mostcommon))\n",
        "\n",
        "fig = plt.figure(figsize=(15,5), facecolor='white')\n",
        "plt.imshow(wordcloud, interpolation=\"bilinear\")\n",
        "\n",
        "plt.axis('off')\n",
        "plt.title('Top 100 Most Common Words', fontsize=50)\n",
        "plt.tight_layout(pad=0)\n",
        "\n",
        "plt.show()\n"
      ],
      "execution_count": null,
      "outputs": [
        {
          "output_type": "display_data",
          "data": {
            "image/png": "[encoded data removed]",
            "text/plain": [
              "<Figure size 1080x360 with 1 Axes>"
            ]
          },
          "metadata": {}
        }
      ]
    },
    {
      "cell_type": "code",
      "metadata": {
        "colab": {
          "base_uri": "https://localhost:8080/",
          "height": 470
        },
        "id": "xGFEhPYQKgnB",
        "outputId": "b9ec3765-1393-4fa9-c92c-af95bfaded0c"
      },
      "source": [
        "mostcommon_small = FreqDist(allwords).most_common(25)\n",
        "x, y = zip(*mostcommon_small)\n",
        "\n",
        "plt.figure(figsize=(12,7))\n",
        "# plt.margins(0.02)\n",
        "plt.barh(x, y)\n",
        "\n",
        "plt.xlabel('Words', fontsize=12)\n",
        "plt.ylabel('Frequency of Words', fontsize=12)\n",
        "\n",
        "plt.yticks(fontsize=10)\n",
        "plt.xticks(rotation=11, fontsize=10)\n",
        "\n",
        "plt.title('Frequency of 25 Most Common Words', fontsize=15)\n",
        "plt.show()"
      ],
      "execution_count": null,
      "outputs": [
        {
          "output_type": "display_data",
          "data": {
            "image/png": "[encoded data removed]",
            "text/plain": [
              "<Figure size 864x504 with 1 Axes>"
            ]
          },
          "metadata": {
            "needs_background": "light"
          }
        }
      ]
    },
    {
      "cell_type": "code",
      "metadata": {
        "colab": {
          "base_uri": "https://localhost:8080/",
          "height": 282
        },
        "id": "kdv_S30NKgnB",
        "outputId": "18b81eb4-f690-4975-b4b7-21840632e72e"
      },
      "source": [
        "x, y= [], []\n",
        "for word,count in mostcommon_small[:10]:\n",
        "        x.append(word)\n",
        "        y.append(count)\n",
        "        \n",
        "sns.barplot(x=y,y=x)"
      ],
      "execution_count": null,
      "outputs": [
        {
          "output_type": "execute_result",
          "data": {
            "text/plain": [
              "<matplotlib.axes._subplots.AxesSubplot at 0x7f7f0c782910>"
            ]
          },
          "metadata": {},
          "execution_count": 126
        },
        {
          "output_type": "display_data",
          "data": {
            "image/png": "[encoded data removed]",
            "text/plain": [
              "<Figure size 432x288 with 1 Axes>"
            ]
          },
          "metadata": {
            "needs_background": "light"
          }
        }
      ]
    },
    {
      "cell_type": "code",
      "metadata": {
        "id": "fvry6TJWKgnB"
      },
      "source": [
        "def get_top_ngram(corpus, n=None):\n",
        "    vec = CountVectorizer(ngram_range=(n, n)).fit(corpus)\n",
        "    bag_of_words = vec.transform(corpus)\n",
        "    sum_words = bag_of_words.sum(axis=0) \n",
        "    words_freq = [(word, sum_words[0, idx]) \n",
        "                  for word, idx in vec.vocabulary_.items()]\n",
        "    words_freq =sorted(words_freq, key = lambda x: x[1], reverse=True)\n",
        "    return words_freq[:10]"
      ],
      "execution_count": null,
      "outputs": []
    },
    {
      "cell_type": "code",
      "metadata": {
        "id": "sKW3L4pwKgnB"
      },
      "source": [
        "from sklearn.feature_extraction.text import CountVectorizer"
      ],
      "execution_count": null,
      "outputs": []
    },
    {
      "cell_type": "code",
      "metadata": {
        "id": "z-4PDYJoKgnB"
      },
      "source": [
        "top_n_bigrams=get_top_ngram(df_selected_features['clean_text'],2)[:10]\n",
        "x,y=map(list,zip(*top_n_bigrams))\n"
      ],
      "execution_count": null,
      "outputs": []
    },
    {
      "cell_type": "markdown",
      "metadata": {
        "id": "JUg-5JS8jRvP"
      },
      "source": [
        "#Bigram Analysis"
      ]
    },
    {
      "cell_type": "code",
      "metadata": {
        "colab": {
          "base_uri": "https://localhost:8080/",
          "height": 282
        },
        "id": "FxOjSrMtKgnB",
        "outputId": "ceb9688c-1ad4-4993-ee56-1cd4b271ca2a"
      },
      "source": [
        "sns.barplot(x=y,y=x)"
      ],
      "execution_count": null,
      "outputs": [
        {
          "output_type": "execute_result",
          "data": {
            "text/plain": [
              "<matplotlib.axes._subplots.AxesSubplot at 0x7f7f84646450>"
            ]
          },
          "metadata": {},
          "execution_count": 37
        },
        {
          "output_type": "display_data",
          "data": {
            "image/png": "[encoded data removed]",
            "text/plain": [
              "<Figure size 432x288 with 1 Axes>"
            ]
          },
          "metadata": {
            "needs_background": "light"
          }
        }
      ]
    },
    {
      "cell_type": "markdown",
      "metadata": {
        "id": "MxqPeCdhjaIe"
      },
      "source": [
        "#Trigram Analysis"
      ]
    },
    {
      "cell_type": "markdown",
      "metadata": {
        "id": "NTXOIpiJjZ_u"
      },
      "source": [
        ""
      ]
    },
    {
      "cell_type": "code",
      "metadata": {
        "colab": {
          "base_uri": "https://localhost:8080/",
          "height": 282
        },
        "id": "khgjY_mxKgnC",
        "outputId": "6b445e87-edac-4536-8cf5-3189d494c364"
      },
      "source": [
        "top_tri_grams=get_top_ngram(df_selected_features['clean_text'],n=3)\n",
        "x,y=map(list,zip(*top_tri_grams))\n",
        "sns.barplot(x=y,y=x)"
      ],
      "execution_count": null,
      "outputs": [
        {
          "output_type": "execute_result",
          "data": {
            "text/plain": [
              "<matplotlib.axes._subplots.AxesSubplot at 0x7f7f871beb10>"
            ]
          },
          "metadata": {},
          "execution_count": 38
        },
        {
          "output_type": "display_data",
          "data": {
            "image/png": "[encoded data removed]",
            "text/plain": [
              "<Figure size 432x288 with 1 Axes>"
            ]
          },
          "metadata": {
            "needs_background": "light"
          }
        }
      ]
    },
    {
      "cell_type": "markdown",
      "metadata": {
        "id": "YmrfEY5zSruT"
      },
      "source": [
        "# Timeline Graph"
      ]
    },
    {
      "cell_type": "code",
      "metadata": {
        "id": "Wa-0cFYNSs0W",
        "colab": {
          "base_uri": "https://localhost:8080/",
          "height": 425
        },
        "outputId": "1dcac7da-dc3e-467c-e4d8-d0f01826d0c8"
      },
      "source": [
        "import seaborn as sns \n",
        "\n",
        "df_timeline = df_date_token[df_date_token['token'].isin(most_20_frequent_words['token'].tolist())]\n",
        "\n",
        "sns.lineplot(x='DATE', y='counts', data=df_timeline, hue='token')"
      ],
      "execution_count": null,
      "outputs": [
        {
          "output_type": "stream",
          "name": "stderr",
          "text": [
            "INFO:matplotlib.category:Using categorical units to plot a list of strings that are all parsable as floats or dates. If these strings should be plotted as numbers, cast to the appropriate data type before plotting.\n",
            "INFO:matplotlib.category:Using categorical units to plot a list of strings that are all parsable as floats or dates. If these strings should be plotted as numbers, cast to the appropriate data type before plotting.\n"
          ]
        },
        {
          "output_type": "execute_result",
          "data": {
            "text/plain": [
              "<matplotlib.axes._subplots.AxesSubplot at 0x7f7f0c6aa990>"
            ]
          },
          "metadata": {},
          "execution_count": 130
        },
        {
          "output_type": "display_data",
          "data": {
            "image/png": "[encoded data removed]",
            "text/plain": [
              "<Figure size 432x288 with 1 Axes>"
            ]
          },
          "metadata": {
            "needs_background": "light"
          }
        }
      ]
    },
    {
      "cell_type": "markdown",
      "metadata": {
        "id": "nb5qMrNORFPm"
      },
      "source": [
        "# Use prophet to predict the most repeated words in next 30 days\n"
      ]
    },
    {
      "cell_type": "code",
      "metadata": {
        "id": "TTK5SG0HREjc"
      },
      "source": [
        "from fbprophet import Prophet\n"
      ],
      "execution_count": null,
      "outputs": []
    },
    {
      "cell_type": "code",
      "metadata": {
        "id": "rFmL1Q8ZnttC"
      },
      "source": [
        "for index, row in most_20_frequent_words.iterrows():\n",
        "  token = str(row['token'])\n",
        "\n",
        "  print(token)\n",
        "\n",
        "  # Using prophet to predic the number of times the word appears in next 30 days\n",
        "\n",
        "  df_prophet = df_timeline[df_timeline['token'] == token][['DATE', 'counts']]\n",
        "  df_prophet.columns = ['ds', 'y']\n",
        "\n",
        "  df_prophet['ds']= pd.to_datetime(df_prophet['ds'])\n",
        "\n",
        "  # define the model\n",
        "  model = Prophet()\n",
        "\n",
        "  # fit the model\n",
        "  model.fit(df_prophet)\n",
        "\n",
        "  future = model.make_future_dataframe(periods=30, include_history=False)\n",
        "  forecast = model.predict(future)\n",
        "\n",
        "\n",
        "  max_times = forecast['yhat'].max()\n",
        "  # print(forecast['yhat'])\n",
        "\n",
        "  \n",
        "  most_20_frequent_words.at[index, 'latest records'] = df_prophet['y'][-1:].values[0]\n",
        "  most_20_frequent_words.at[index, 'forecast in next 30 days'] = max_times\n",
        "\n",
        "  print(f'{token} would be appeared at maxium {max_times} times in one day in the next 30 days')"
      ],
      "execution_count": null,
      "outputs": []
    },
    {
      "cell_type": "markdown",
      "metadata": {
        "id": "mdXfWgfOs8sd"
      },
      "source": [
        "# From the below table, we can see that after 30 days, which word would be the most repeated word\n",
        "- The first column is the latest ranking\n",
        "- The [index] column is the previous ranking\n",
        "=> So, we can see that the ranking is changed since some words become more popular than others"
      ]
    },
    {
      "cell_type": "code",
      "metadata": {
        "id": "C0JKeHiPT9K5",
        "colab": {
          "base_uri": "https://localhost:8080/",
          "height": 669
        },
        "outputId": "0f1c1224-911a-487e-94cd-ab582f71fb69"
      },
      "source": [
        "most_20_frequent_words.sort_values(by=['forecast in next 30 days'], ascending=False).reset_index()"
      ],
      "execution_count": null,
      "outputs": [
        {
          "output_type": "execute_result",
          "data": {
            "text/html": [
              "<div>\n",
              "<style scoped>\n",
              "    .dataframe tbody tr th:only-of-type {\n",
              "        vertical-align: middle;\n",
              "    }\n",
              "\n",
              "    .dataframe tbody tr th {\n",
              "        vertical-align: top;\n",
              "    }\n",
              "\n",
              "    .dataframe thead th {\n",
              "        text-align: right;\n",
              "    }\n",
              "</style>\n",
              "<table border=\"1\" class=\"dataframe\">\n",
              "  <thead>\n",
              "    <tr style=\"text-align: right;\">\n",
              "      <th></th>\n",
              "      <th>index</th>\n",
              "      <th>token</th>\n",
              "      <th>counts</th>\n",
              "      <th>forcast in next 30 days</th>\n",
              "      <th>latest records</th>\n",
              "    </tr>\n",
              "  </thead>\n",
              "  <tbody>\n",
              "    <tr>\n",
              "      <th>0</th>\n",
              "      <td>0</td>\n",
              "      <td>top</td>\n",
              "      <td>733333</td>\n",
              "      <td>42113.880637</td>\n",
              "      <td>1499.0</td>\n",
              "    </tr>\n",
              "    <tr>\n",
              "      <th>1</th>\n",
              "      <td>2</td>\n",
              "      <td>news</td>\n",
              "      <td>231730</td>\n",
              "      <td>13052.439379</td>\n",
              "      <td>640.0</td>\n",
              "    </tr>\n",
              "    <tr>\n",
              "      <th>2</th>\n",
              "      <td>1</td>\n",
              "      <td>reuters</td>\n",
              "      <td>238467</td>\n",
              "      <td>12411.850754</td>\n",
              "      <td>1398.0</td>\n",
              "    </tr>\n",
              "    <tr>\n",
              "      <th>3</th>\n",
              "      <td>3</td>\n",
              "      <td>day</td>\n",
              "      <td>141250</td>\n",
              "      <td>7391.520598</td>\n",
              "      <td>174.0</td>\n",
              "    </tr>\n",
              "    <tr>\n",
              "      <th>4</th>\n",
              "      <td>6</td>\n",
              "      <td>june</td>\n",
              "      <td>103145</td>\n",
              "      <td>5504.538845</td>\n",
              "      <td>553.0</td>\n",
              "    </tr>\n",
              "    <tr>\n",
              "      <th>5</th>\n",
              "      <td>4</td>\n",
              "      <td>may</td>\n",
              "      <td>110027</td>\n",
              "      <td>5163.515117</td>\n",
              "      <td>358.0</td>\n",
              "    </tr>\n",
              "    <tr>\n",
              "      <th>6</th>\n",
              "      <td>5</td>\n",
              "      <td>said</td>\n",
              "      <td>103855</td>\n",
              "      <td>5132.539561</td>\n",
              "      <td>1039.0</td>\n",
              "    </tr>\n",
              "    <tr>\n",
              "      <th>7</th>\n",
              "      <td>7</td>\n",
              "      <td>pct</td>\n",
              "      <td>102411</td>\n",
              "      <td>5006.468977</td>\n",
              "      <td>352.0</td>\n",
              "    </tr>\n",
              "    <tr>\n",
              "      <th>8</th>\n",
              "      <td>10</td>\n",
              "      <td>markets</td>\n",
              "      <td>74765</td>\n",
              "      <td>4444.084003</td>\n",
              "      <td>230.0</td>\n",
              "    </tr>\n",
              "    <tr>\n",
              "      <th>9</th>\n",
              "      <td>9</td>\n",
              "      <td>bank</td>\n",
              "      <td>83233</td>\n",
              "      <td>4291.186155</td>\n",
              "      <td>242.0</td>\n",
              "    </tr>\n",
              "    <tr>\n",
              "      <th>10</th>\n",
              "      <td>8</td>\n",
              "      <td>jun</td>\n",
              "      <td>87051</td>\n",
              "      <td>4099.239636</td>\n",
              "      <td>95.0</td>\n",
              "    </tr>\n",
              "    <tr>\n",
              "      <th>11</th>\n",
              "      <td>13</td>\n",
              "      <td>energy</td>\n",
              "      <td>66503</td>\n",
              "      <td>4077.857677</td>\n",
              "      <td>177.0</td>\n",
              "    </tr>\n",
              "    <tr>\n",
              "      <th>12</th>\n",
              "      <td>11</td>\n",
              "      <td>companies</td>\n",
              "      <td>74595</td>\n",
              "      <td>4045.515390</td>\n",
              "      <td>179.0</td>\n",
              "    </tr>\n",
              "    <tr>\n",
              "      <th>13</th>\n",
              "      <td>12</td>\n",
              "      <td>percent</td>\n",
              "      <td>74066</td>\n",
              "      <td>3805.070081</td>\n",
              "      <td>426.0</td>\n",
              "    </tr>\n",
              "    <tr>\n",
              "      <th>14</th>\n",
              "      <td>14</td>\n",
              "      <td>european</td>\n",
              "      <td>65435</td>\n",
              "      <td>3804.561580</td>\n",
              "      <td>176.0</td>\n",
              "    </tr>\n",
              "    <tr>\n",
              "      <th>15</th>\n",
              "      <td>16</td>\n",
              "      <td>oil</td>\n",
              "      <td>64770</td>\n",
              "      <td>3721.340420</td>\n",
              "      <td>317.0</td>\n",
              "    </tr>\n",
              "    <tr>\n",
              "      <th>16</th>\n",
              "      <td>15</td>\n",
              "      <td>year</td>\n",
              "      <td>65066</td>\n",
              "      <td>3630.948121</td>\n",
              "      <td>470.0</td>\n",
              "    </tr>\n",
              "    <tr>\n",
              "      <th>17</th>\n",
              "      <td>19</td>\n",
              "      <td>new</td>\n",
              "      <td>57358</td>\n",
              "      <td>3173.082542</td>\n",
              "      <td>357.0</td>\n",
              "    </tr>\n",
              "    <tr>\n",
              "      <th>18</th>\n",
              "      <td>18</td>\n",
              "      <td>market</td>\n",
              "      <td>58883</td>\n",
              "      <td>3159.364911</td>\n",
              "      <td>237.0</td>\n",
              "    </tr>\n",
              "    <tr>\n",
              "      <th>19</th>\n",
              "      <td>17</td>\n",
              "      <td>data</td>\n",
              "      <td>61255</td>\n",
              "      <td>3023.353393</td>\n",
              "      <td>220.0</td>\n",
              "    </tr>\n",
              "  </tbody>\n",
              "</table>\n",
              "</div>"
            ],
            "text/plain": [
              "    index      token  counts  forcast in next 30 days  latest records\n",
              "0       0        top  733333             42113.880637          1499.0\n",
              "1       2       news  231730             13052.439379           640.0\n",
              "2       1    reuters  238467             12411.850754          1398.0\n",
              "3       3        day  141250              7391.520598           174.0\n",
              "4       6       june  103145              5504.538845           553.0\n",
              "5       4        may  110027              5163.515117           358.0\n",
              "6       5       said  103855              5132.539561          1039.0\n",
              "7       7        pct  102411              5006.468977           352.0\n",
              "8      10    markets   74765              4444.084003           230.0\n",
              "9       9       bank   83233              4291.186155           242.0\n",
              "10      8        jun   87051              4099.239636            95.0\n",
              "11     13     energy   66503              4077.857677           177.0\n",
              "12     11  companies   74595              4045.515390           179.0\n",
              "13     12    percent   74066              3805.070081           426.0\n",
              "14     14   european   65435              3804.561580           176.0\n",
              "15     16        oil   64770              3721.340420           317.0\n",
              "16     15       year   65066              3630.948121           470.0\n",
              "17     19        new   57358              3173.082542           357.0\n",
              "18     18     market   58883              3159.364911           237.0\n",
              "19     17       data   61255              3023.353393           220.0"
            ]
          },
          "metadata": {},
          "execution_count": 174
        }
      ]
    },
    {
      "cell_type": "markdown",
      "metadata": {
        "id": "lkg9-xFdqmqj"
      },
      "source": [
        "#Modelling"
      ]
    },
    {
      "cell_type": "code",
      "metadata": {
        "colab": {
          "base_uri": "https://localhost:8080/",
          "height": 419
        },
        "id": "tyWEStlO6Gh0",
        "outputId": "0399fd83-edbe-499f-f2fd-a2560bdbc684"
      },
      "source": [
        "df_date_token"
      ],
      "execution_count": 160,
      "outputs": [
        {
          "output_type": "execute_result",
          "data": {
            "text/html": [
              "<div>\n",
              "<style scoped>\n",
              "    .dataframe tbody tr th:only-of-type {\n",
              "        vertical-align: middle;\n",
              "    }\n",
              "\n",
              "    .dataframe tbody tr th {\n",
              "        vertical-align: top;\n",
              "    }\n",
              "\n",
              "    .dataframe thead th {\n",
              "        text-align: right;\n",
              "    }\n",
              "</style>\n",
              "<table border=\"1\" class=\"dataframe\">\n",
              "  <thead>\n",
              "    <tr style=\"text-align: right;\">\n",
              "      <th></th>\n",
              "      <th>DATE</th>\n",
              "      <th>token</th>\n",
              "      <th>counts</th>\n",
              "    </tr>\n",
              "  </thead>\n",
              "  <tbody>\n",
              "    <tr>\n",
              "      <th>742371</th>\n",
              "      <td>2013-06-26</td>\n",
              "      <td>top</td>\n",
              "      <td>39732</td>\n",
              "    </tr>\n",
              "    <tr>\n",
              "      <th>815780</th>\n",
              "      <td>2013-06-28</td>\n",
              "      <td>top</td>\n",
              "      <td>39609</td>\n",
              "    </tr>\n",
              "    <tr>\n",
              "      <th>669573</th>\n",
              "      <td>2013-06-24</td>\n",
              "      <td>top</td>\n",
              "      <td>39240</td>\n",
              "    </tr>\n",
              "    <tr>\n",
              "      <th>574045</th>\n",
              "      <td>2013-06-20</td>\n",
              "      <td>top</td>\n",
              "      <td>39191</td>\n",
              "    </tr>\n",
              "    <tr>\n",
              "      <th>779689</th>\n",
              "      <td>2013-06-27</td>\n",
              "      <td>top</td>\n",
              "      <td>38805</td>\n",
              "    </tr>\n",
              "    <tr>\n",
              "      <th>...</th>\n",
              "      <td>...</td>\n",
              "      <td>...</td>\n",
              "      <td>...</td>\n",
              "    </tr>\n",
              "    <tr>\n",
              "      <th>624839</th>\n",
              "      <td>2013-06-23</td>\n",
              "      <td>akino</td>\n",
              "      <td>1</td>\n",
              "    </tr>\n",
              "    <tr>\n",
              "      <th>427980</th>\n",
              "      <td>2013-06-16</td>\n",
              "      <td>maurizio</td>\n",
              "      <td>1</td>\n",
              "    </tr>\n",
              "    <tr>\n",
              "      <th>624837</th>\n",
              "      <td>2013-06-23</td>\n",
              "      <td>akdag</td>\n",
              "      <td>1</td>\n",
              "    </tr>\n",
              "    <tr>\n",
              "      <th>624836</th>\n",
              "      <td>2013-06-23</td>\n",
              "      <td>ajmi</td>\n",
              "      <td>1</td>\n",
              "    </tr>\n",
              "    <tr>\n",
              "      <th>844030</th>\n",
              "      <td>2013-06-30</td>\n",
              "      <td>zzw</td>\n",
              "      <td>1</td>\n",
              "    </tr>\n",
              "  </tbody>\n",
              "</table>\n",
              "<p>844031 rows × 3 columns</p>\n",
              "</div>"
            ],
            "text/plain": [
              "              DATE     token  counts\n",
              "742371  2013-06-26       top   39732\n",
              "815780  2013-06-28       top   39609\n",
              "669573  2013-06-24       top   39240\n",
              "574045  2013-06-20       top   39191\n",
              "779689  2013-06-27       top   38805\n",
              "...            ...       ...     ...\n",
              "624839  2013-06-23     akino       1\n",
              "427980  2013-06-16  maurizio       1\n",
              "624837  2013-06-23     akdag       1\n",
              "624836  2013-06-23      ajmi       1\n",
              "844030  2013-06-30       zzw       1\n",
              "\n",
              "[844031 rows x 3 columns]"
            ]
          },
          "metadata": {},
          "execution_count": 160
        }
      ]
    },
    {
      "cell_type": "code",
      "metadata": {
        "id": "zLNsF8LlKgnD"
      },
      "source": [
        "from sklearn.model_selection import train_test_split\n",
        "from sklearn.linear_model import LinearRegression\n",
        "from sklearn.feature_extraction.text import TfidfVectorizer"
      ],
      "execution_count": 166,
      "outputs": []
    },
    {
      "cell_type": "code",
      "metadata": {
        "id": "utZlscB3an6a"
      },
      "source": [
        "training_data, testing_data = train_test_split(most_100_frequent_words,random_state = 2000)"
      ],
      "execution_count": 164,
      "outputs": []
    },
    {
      "cell_type": "code",
      "metadata": {
        "id": "PwB7ptgnrD_q"
      },
      "source": [
        "tfidf_vectorizer = TfidfVectorizer()"
      ],
      "execution_count": 47,
      "outputs": []
    },
    {
      "cell_type": "code",
      "metadata": {
        "id": "V1X1sZyUcqrx"
      },
      "source": [
        "     Y_train=training_data['counts'].values\n",
        "     Y_test=testing_data['counts'].values"
      ],
      "execution_count": 36,
      "outputs": []
    },
    {
      "cell_type": "code",
      "metadata": {
        "id": "Rlla9fzheePJ",
        "colab": {
          "base_uri": "https://localhost:8080/"
        },
        "outputId": "12245b0c-d47f-4cac-f006-c0fb24f5b577"
      },
      "source": [
        "Y_train"
      ],
      "execution_count": 37,
      "outputs": [
        {
          "output_type": "execute_result",
          "data": {
            "text/plain": [
              "array([ 30631,  35079,  29885,  29812,  44177,  28661,  26109,  83233,\n",
              "        25393,  74595,  27234,  27038,  43383,  74765,  49359,  25678,\n",
              "        26814,  26466,  32314,  66503,  26094,  39506,  38379,  29030,\n",
              "        26359,  51235, 102411,  56031,  51603,  56178, 103855,  41168,\n",
              "        32698,  28785,  31043,  27260,  31460,  42086,  31659,  27485,\n",
              "        33217,  43758,  28676, 231730,  42498,  30951,  87051,  30078,\n",
              "        30903,  35205,  64770, 110027,  38326,  29378,  25812,  38207,\n",
              "        25972,  35531,  39334,  52561,  74066, 238467,  37376,  30527,\n",
              "        65066,  65435,  32402,  33487,  25900,  48112,  25272,  28193,\n",
              "        28015,  29175,  32640])"
            ]
          },
          "metadata": {},
          "execution_count": 37
        }
      ]
    },
    {
      "cell_type": "code",
      "metadata": {
        "id": "kxFgIjsJsNMy"
      },
      "source": [
        "x_train = tfidf_vectorizer.transform (training_data['token'].values)\n",
        "x_test=tfidf_vectorizer.transform (testing_data['token'].values)"
      ],
      "execution_count": 165,
      "outputs": []
    },
    {
      "cell_type": "code",
      "metadata": {
        "colab": {
          "base_uri": "https://localhost:8080/"
        },
        "id": "123xPCt1sZ_4",
        "outputId": "5ec52872-f54a-4aab-ea74-1683fad1132a"
      },
      "source": [
        "x_train,x_test"
      ],
      "execution_count": 61,
      "outputs": [
        {
          "output_type": "execute_result",
          "data": {
            "text/plain": [
              "(<75x25 sparse matrix of type '<class 'numpy.float64'>'\n",
              " \twith 0 stored elements in Compressed Sparse Row format>,\n",
              " <25x25 sparse matrix of type '<class 'numpy.float64'>'\n",
              " \twith 25 stored elements in Compressed Sparse Row format>)"
            ]
          },
          "metadata": {},
          "execution_count": 61
        }
      ]
    },
    {
      "cell_type": "code",
      "metadata": {
        "id": "eEe3JC6Sb6eS",
        "colab": {
          "base_uri": "https://localhost:8080/"
        },
        "outputId": "aa1ebf82-1061-4d11-f4fb-6a6e4e01d515"
      },
      "source": [
        "linear_regression = LinearRegression()\n",
        "model=linear_regression.fit(x_train,Y_train)"
      ],
      "execution_count": 62,
      "outputs": [
        {
          "output_type": "stream",
          "name": "stdout",
          "text": [
            "The exact solution is  x = 0                              \n"
          ]
        }
      ]
    },
    {
      "cell_type": "code",
      "metadata": {
        "id": "beIXWN0dma0T",
        "colab": {
          "base_uri": "https://localhost:8080/"
        },
        "outputId": "e5958aa0-18ba-4012-8149-393a59402971"
      },
      "source": [
        "x_test"
      ],
      "execution_count": 54,
      "outputs": [
        {
          "output_type": "execute_result",
          "data": {
            "text/plain": [
              "<25x25 sparse matrix of type '<class 'numpy.float64'>'\n",
              "\twith 25 stored elements in Compressed Sparse Row format>"
            ]
          },
          "metadata": {},
          "execution_count": 54
        }
      ]
    },
    {
      "cell_type": "code",
      "metadata": {
        "id": "c9uJxHFUs5bp"
      },
      "source": [
        "pred = model.predict(x_test)"
      ],
      "execution_count": 66,
      "outputs": []
    },
    {
      "cell_type": "code",
      "metadata": {
        "colab": {
          "base_uri": "https://localhost:8080/"
        },
        "id": "8tAuprBH1HrX",
        "outputId": "6cddb826-2fe6-42a1-b4af-278026fc5655"
      },
      "source": [
        "pred"
      ],
      "execution_count": 110,
      "outputs": [
        {
          "output_type": "execute_result",
          "data": {
            "text/plain": [
              "array([47060.96, 47060.96, 47060.96, 47060.96, 47060.96, 47060.96,\n",
              "       47060.96, 47060.96, 47060.96, 47060.96, 47060.96, 47060.96,\n",
              "       47060.96, 47060.96, 47060.96, 47060.96, 47060.96, 47060.96,\n",
              "       47060.96, 47060.96, 47060.96, 47060.96, 47060.96, 47060.96,\n",
              "       47060.96])"
            ]
          },
          "metadata": {},
          "execution_count": 110
        }
      ]
    },
    {
      "cell_type": "code",
      "metadata": {
        "id": "YiRUdnVJgfgd"
      },
      "source": [
        " best_n = np.argsort(pred)"
      ],
      "execution_count": 111,
      "outputs": []
    },
    {
      "cell_type": "code",
      "metadata": {
        "colab": {
          "base_uri": "https://localhost:8080/"
        },
        "id": "Dv5TUc1kt1hD",
        "outputId": "2b191f7f-0e09-41b4-9754-2adf61493a06"
      },
      "source": [
        "best_n"
      ],
      "execution_count": 112,
      "outputs": [
        {
          "output_type": "execute_result",
          "data": {
            "text/plain": [
              "array([ 0, 22, 21, 20, 19, 18, 17, 16, 15, 14, 13, 23, 12, 10,  9,  8,  7,\n",
              "        6,  5,  4,  3,  2,  1, 11, 24])"
            ]
          },
          "metadata": {},
          "execution_count": 112
        }
      ]
    },
    {
      "cell_type": "code",
      "metadata": {
        "colab": {
          "base_uri": "https://localhost:8080/"
        },
        "id": "G1ZmPY0vuk5Y",
        "outputId": "16a710f8-62f1-4f7c-fe3f-b5a24d910091"
      },
      "source": [
        "model.coef_"
      ],
      "execution_count": 113,
      "outputs": [
        {
          "output_type": "execute_result",
          "data": {
            "text/plain": [
              "array([0., 0., 0., 0., 0., 0., 0., 0., 0., 0., 0., 0., 0., 0., 0., 0., 0.,\n",
              "       0., 0., 0., 0., 0., 0., 0., 0.])"
            ]
          },
          "metadata": {},
          "execution_count": 113
        }
      ]
    },
    {
      "cell_type": "code",
      "metadata": {
        "id": "6Y-iqqpMvrTF"
      },
      "source": [
        "featue_col = most_100_frequent_words['token']"
      ],
      "execution_count": 114,
      "outputs": []
    },
    {
      "cell_type": "code",
      "metadata": {
        "id": "ZRewtO6tuPnO"
      },
      "source": [
        "pred_bestn =[[featue_col[predicted_val] for predicted_val in best_n]]"
      ],
      "execution_count": 116,
      "outputs": []
    },
    {
      "cell_type": "code",
      "metadata": {
        "id": "p3EfpOW8Cj6G"
      },
      "source": [
        "pred_words=[ item[::-1] for item in pred_bestn]"
      ],
      "execution_count": 117,
      "outputs": []
    },
    {
      "cell_type": "code",
      "metadata": {
        "colab": {
          "base_uri": "https://localhost:8080/"
        },
        "id": "z6gTRjXOwaZU",
        "outputId": "e0318311-68d5-4b64-a613-0c21a53773cd"
      },
      "source": [
        "pred_word"
      ],
      "execution_count": 118,
      "outputs": [
        {
          "output_type": "execute_result",
          "data": {
            "text/plain": [
              "[['price',\n",
              "  'companies',\n",
              "  'reuters',\n",
              "  'news',\n",
              "  'day',\n",
              "  'may',\n",
              "  'said',\n",
              "  'june',\n",
              "  'pct',\n",
              "  'jun',\n",
              "  'bank',\n",
              "  'markets',\n",
              "  'percent',\n",
              "  'page',\n",
              "  'energy',\n",
              "  'european',\n",
              "  'year',\n",
              "  'oil',\n",
              "  'data',\n",
              "  'market',\n",
              "  'new',\n",
              "  'jul',\n",
              "  'power',\n",
              "  'china',\n",
              "  'top']]"
            ]
          },
          "metadata": {},
          "execution_count": 118
        }
      ]
    }
  ]
}