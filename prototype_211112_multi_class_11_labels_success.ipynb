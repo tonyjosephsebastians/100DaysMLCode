{
  "nbformat": 4,
  "nbformat_minor": 0,
  "metadata": {
    "accelerator": "GPU",
    "colab": {
      "name": "prototype-211112-multi-class_11_labels_success.ipynb",
      "provenance": [],
      "collapsed_sections": [],
      "machine_shape": "hm",
      "include_colab_link": true
    },
    "kernelspec": {
      "display_name": "Python 3",
      "name": "python3"
    },
    "language_info": {
      "name": "python"
    }
  },
  "cells": [
    {
      "cell_type": "markdown",
      "metadata": {
        "id": "view-in-github",
        "colab_type": "text"
      },
      "source": [
        "<a href=\"https://colab.research.google.com/github/tonyjosephsebastians/100DaysMLCode/blob/main/prototype_211112_multi_class_11_labels_success.ipynb\" target=\"_parent\"><img src=\"https://colab.research.google.com/assets/colab-badge.svg\" alt=\"Open In Colab\"/></a>"
      ]
    },
    {
      "cell_type": "markdown",
      "metadata": {
        "id": "rBQmZOODVkN1"
      },
      "source": [
        "# 1. Import packages"
      ]
    },
    {
      "cell_type": "code",
      "metadata": {
        "id": "GLqqTTA45fG4"
      },
      "source": [
        "import numpy as np\n",
        "import pandas as pd\n",
        "from tqdm import tqdm\n",
        "import os\n",
        "import shutil\n",
        "\n",
        "# random seeds must be set before importing keras & tensorflow\n",
        "my_seed = 512\n",
        "np.random.seed(my_seed)\n",
        "\n",
        "import random \n",
        "random.seed(my_seed)\n",
        "\n",
        "import tensorflow as tf\n",
        "# tf.set_random_seed(my_seed)\n",
        "\n",
        "import seaborn as sns\n",
        "import matplotlib.pyplot as plt\n",
        "\n",
        "from keras.callbacks import EarlyStopping\n",
        "from tensorflow import keras\n"
      ],
      "execution_count": null,
      "outputs": []
    },
    {
      "cell_type": "markdown",
      "metadata": {
        "id": "bhhtc7lyDID0"
      },
      "source": [
        "# 2. Load images and tags from datasource\n"
      ]
    },
    {
      "cell_type": "code",
      "metadata": {
        "colab": {
          "base_uri": "https://localhost:8080/"
        },
        "id": "ejlqau6a5fD_",
        "outputId": "979332e9-d05e-4b91-c980-c2d72fc688c7"
      },
      "source": [
        "df = pd.DataFrame([], columns=['FileName', 'Label'])\n",
        "\n",
        "# folderPath = 'clusters_level1'\n",
        "folderPath = '/content/drive/MyDrive/Colab Notebooks/dataset/clusters_level1_211111'\n",
        "\n",
        "for dirPath, subdirList, fileList in tqdm(sorted(list(os.walk(folderPath)), reverse=True)):\n",
        "    # We ignore the root folder\n",
        "    if dirPath == folderPath:\n",
        "        continue\n",
        "\n",
        "    # We split the folder path to parts\n",
        "    sep = dirPath.split(os.sep)\n",
        "\n",
        "    for file in fileList:\n",
        "\n",
        "        if '.DS_Store' in file:\n",
        "            continue\n",
        "\n",
        "        # print(sep)\n",
        "        df = df.append([{\"FileName\": file, 'Label': os.path.join(*sep[-1:])}])\n"
      ],
      "execution_count": null,
      "outputs": [
        {
          "output_type": "stream",
          "name": "stderr",
          "text": [
            "100%|██████████| 20/20 [00:10<00:00,  1.83it/s]\n"
          ]
        }
      ]
    },
    {
      "cell_type": "code",
      "metadata": {
        "colab": {
          "base_uri": "https://localhost:8080/",
          "height": 175
        },
        "id": "ak1cSJcy84ZM",
        "outputId": "27b13ac1-66d0-4ed2-f706-3eb9b9199e81"
      },
      "source": [
        "df.describe()"
      ],
      "execution_count": null,
      "outputs": [
        {
          "output_type": "execute_result",
          "data": {
            "text/html": [
              "<div>\n",
              "<style scoped>\n",
              "    .dataframe tbody tr th:only-of-type {\n",
              "        vertical-align: middle;\n",
              "    }\n",
              "\n",
              "    .dataframe tbody tr th {\n",
              "        vertical-align: top;\n",
              "    }\n",
              "\n",
              "    .dataframe thead th {\n",
              "        text-align: right;\n",
              "    }\n",
              "</style>\n",
              "<table border=\"1\" class=\"dataframe\">\n",
              "  <thead>\n",
              "    <tr style=\"text-align: right;\">\n",
              "      <th></th>\n",
              "      <th>FileName</th>\n",
              "      <th>Label</th>\n",
              "    </tr>\n",
              "  </thead>\n",
              "  <tbody>\n",
              "    <tr>\n",
              "      <th>count</th>\n",
              "      <td>7699</td>\n",
              "      <td>7699</td>\n",
              "    </tr>\n",
              "    <tr>\n",
              "      <th>unique</th>\n",
              "      <td>7688</td>\n",
              "      <td>19</td>\n",
              "    </tr>\n",
              "    <tr>\n",
              "      <th>top</th>\n",
              "      <td>111699__hoozing-1eb9bc04-c1d5-40c3-894f-ee1298...</td>\n",
              "      <td>Bathroom</td>\n",
              "    </tr>\n",
              "    <tr>\n",
              "      <th>freq</th>\n",
              "      <td>2</td>\n",
              "      <td>1869</td>\n",
              "    </tr>\n",
              "  </tbody>\n",
              "</table>\n",
              "</div>"
            ],
            "text/plain": [
              "                                                 FileName     Label\n",
              "count                                                7699      7699\n",
              "unique                                               7688        19\n",
              "top     111699__hoozing-1eb9bc04-c1d5-40c3-894f-ee1298...  Bathroom\n",
              "freq                                                    2      1869"
            ]
          },
          "metadata": {},
          "execution_count": 3
        }
      ]
    },
    {
      "cell_type": "markdown",
      "metadata": {
        "id": "eOecz8x2VyCO"
      },
      "source": [
        "# 3. Data Wrangling"
      ]
    },
    {
      "cell_type": "markdown",
      "metadata": {
        "id": "AJqnKfnDDL8z"
      },
      "source": [
        "## 3.1 Check the number of images in each label"
      ]
    },
    {
      "cell_type": "code",
      "metadata": {
        "colab": {
          "base_uri": "https://localhost:8080/"
        },
        "id": "ikSByi5bDEzt",
        "outputId": "11d48651-a9a6-43c0-d757-3a0ab7cc368a"
      },
      "source": [
        "all_labels = dict(df[['Label']].value_counts())\n",
        "\n",
        "all_labels"
      ],
      "execution_count": null,
      "outputs": [
        {
          "output_type": "execute_result",
          "data": {
            "text/plain": [
              "{('Air Coordinator',): 3,\n",
              " ('Bacony',): 162,\n",
              " ('Bathroom',): 1869,\n",
              " ('Bedroom',): 1255,\n",
              " ('Closet',): 4,\n",
              " ('Dish Washer',): 5,\n",
              " ('Document',): 13,\n",
              " ('Empty Room',): 206,\n",
              " ('Kitchen',): 846,\n",
              " ('Living Room',): 1333,\n",
              " ('Microwave',): 2,\n",
              " ('Outlook',): 1108,\n",
              " ('Outlook - Night',): 61,\n",
              " ('Refrigerator',): 72,\n",
              " ('Shelf',): 66,\n",
              " ('TV',): 14,\n",
              " ('Table',): 498,\n",
              " ('Washing Machine',): 161,\n",
              " ('Windows View',): 21}"
            ]
          },
          "metadata": {},
          "execution_count": 4
        }
      ]
    },
    {
      "cell_type": "code",
      "metadata": {
        "colab": {
          "base_uri": "https://localhost:8080/",
          "height": 673
        },
        "id": "rsCpJlGA8iJ7",
        "outputId": "ecd04d24-2bd5-4f86-850e-fa051ff90164"
      },
      "source": [
        "plt.figure(figsize=(15, 10)), sns.countplot(data = df, y = 'Label'), plt.title('Number of samples in each label')"
      ],
      "execution_count": null,
      "outputs": [
        {
          "output_type": "execute_result",
          "data": {
            "text/plain": [
              "(<Figure size 1080x720 with 1 Axes>,\n",
              " <matplotlib.axes._subplots.AxesSubplot at 0x7ff69f3c3390>,\n",
              " Text(0.5, 1.0, 'Number of samples in each label'))"
            ]
          },
          "metadata": {},
          "execution_count": 5
        },
        {
          "output_type": "display_data",
          "data": {
            "image/png": "[encoded data removed]",
            "text/plain": [
              "<Figure size 1080x720 with 1 Axes>"
            ]
          },
          "metadata": {
            "needs_background": "light"
          }
        }
      ]
    },
    {
      "cell_type": "markdown",
      "metadata": {
        "id": "0ggX4q3jDUSv"
      },
      "source": [
        "## 3.2 Remove too small subset labels"
      ]
    },
    {
      "cell_type": "code",
      "metadata": {
        "colab": {
          "base_uri": "https://localhost:8080/"
        },
        "id": "iXUTsvJQ5e-B",
        "outputId": "7d1c3c92-b7ad-4228-87ef-af1206da1e57"
      },
      "source": [
        "\n",
        "# Store small subset labels here so that we can remove all records of them out of the dataset\n",
        "# Too small subsets lead to failture in building a accuracy model\n",
        "small_subset_labels = []\n",
        "for key, value in all_labels.items():\n",
        "  if value <= 60 or key[0] in ['Shelf', 'Refrigerator']:\n",
        "    # print(key, value)\n",
        "    small_subset_labels.append(key[0])\n",
        "\n",
        "# print('small_subset_labels:', small_subset_labels)\n",
        "\n",
        "small_subset_labels\n"
      ],
      "execution_count": null,
      "outputs": [
        {
          "output_type": "execute_result",
          "data": {
            "text/plain": [
              "['Refrigerator',\n",
              " 'Shelf',\n",
              " 'Windows View',\n",
              " 'TV',\n",
              " 'Document',\n",
              " 'Dish Washer',\n",
              " 'Closet',\n",
              " 'Air Coordinator',\n",
              " 'Microwave']"
            ]
          },
          "metadata": {},
          "execution_count": 6
        }
      ]
    },
    {
      "cell_type": "markdown",
      "metadata": {
        "id": "KsRW9GuIDoR2"
      },
      "source": [
        "## 3.3 Remove all records belong to small_subset_labels"
      ]
    },
    {
      "cell_type": "code",
      "metadata": {
        "colab": {
          "base_uri": "https://localhost:8080/"
        },
        "id": "-43k-OXbCOxG",
        "outputId": "837a440f-4564-4f7b-9b6a-0140aedbf336"
      },
      "source": [
        "df = df[df['Label'].isin(small_subset_labels) == False]\n",
        "print(df.shape)"
      ],
      "execution_count": null,
      "outputs": [
        {
          "output_type": "stream",
          "name": "stdout",
          "text": [
            "(7499, 2)\n"
          ]
        }
      ]
    },
    {
      "cell_type": "markdown",
      "metadata": {
        "id": "Mw7KmcXMD2Y-"
      },
      "source": [
        "## 3.4 Check the labels again to make sure everything is correct"
      ]
    },
    {
      "cell_type": "code",
      "metadata": {
        "colab": {
          "base_uri": "https://localhost:8080/"
        },
        "id": "1x5x2ECSD6iA",
        "outputId": "cc34ba55-96c7-4266-9f3a-103ac32edd3a"
      },
      "source": [
        "all_labels = dict(df[['Label']].value_counts())\n",
        "\n",
        "all_labels"
      ],
      "execution_count": null,
      "outputs": [
        {
          "output_type": "execute_result",
          "data": {
            "text/plain": [
              "{('Bacony',): 162,\n",
              " ('Bathroom',): 1869,\n",
              " ('Bedroom',): 1255,\n",
              " ('Empty Room',): 206,\n",
              " ('Kitchen',): 846,\n",
              " ('Living Room',): 1333,\n",
              " ('Outlook',): 1108,\n",
              " ('Outlook - Night',): 61,\n",
              " ('Table',): 498,\n",
              " ('Washing Machine',): 161}"
            ]
          },
          "metadata": {},
          "execution_count": 8
        }
      ]
    },
    {
      "cell_type": "markdown",
      "metadata": {
        "id": "iSVzpF5NR4AJ"
      },
      "source": [
        "## 3.5 Make sure each labels has the same number of samples"
      ]
    },
    {
      "cell_type": "code",
      "metadata": {
        "id": "-HdyEu12KGbj",
        "colab": {
          "base_uri": "https://localhost:8080/"
        },
        "outputId": "b3888133-0844-48db-f665-8c872a1edca6"
      },
      "source": [
        "df2 = pd.DataFrame([], columns = df.columns)\n",
        "\n",
        "for label in all_labels:\n",
        "  print(label[0])\n",
        "  df2 = df2.append(df[df['Label'] == label[0]].head(170), ignore_index=True)\n",
        "\n",
        "df = df2\n",
        "# df.groupby('Label').count()"
      ],
      "execution_count": null,
      "outputs": [
        {
          "output_type": "stream",
          "name": "stdout",
          "text": [
            "Bathroom\n",
            "Living Room\n",
            "Bedroom\n",
            "Outlook\n",
            "Kitchen\n",
            "Table\n",
            "Empty Room\n",
            "Bacony\n",
            "Washing Machine\n",
            "Outlook - Night\n"
          ]
        }
      ]
    },
    {
      "cell_type": "code",
      "metadata": {
        "colab": {
          "base_uri": "https://localhost:8080/",
          "height": 673
        },
        "id": "kBm89V028mGE",
        "outputId": "7f042023-7872-41c2-f988-f0ef9ad78797"
      },
      "source": [
        "plt.figure(figsize=(15, 10)), sns.countplot(data = df, y = 'Label', palette='Set1'), plt.title('Number of samples in each label')"
      ],
      "execution_count": null,
      "outputs": [
        {
          "output_type": "execute_result",
          "data": {
            "text/plain": [
              "(<Figure size 1080x720 with 1 Axes>,\n",
              " <matplotlib.axes._subplots.AxesSubplot at 0x7ff69b85fc10>,\n",
              " Text(0.5, 1.0, 'Number of samples in each label'))"
            ]
          },
          "metadata": {},
          "execution_count": 10
        },
        {
          "output_type": "display_data",
          "data": {
            "image/png": "[encoded data removed]",
            "text/plain": [
              "<Figure size 1080x720 with 1 Axes>"
            ]
          },
          "metadata": {
            "needs_background": "light"
          }
        }
      ]
    },
    {
      "cell_type": "markdown",
      "metadata": {
        "id": "aoKt7CsjbnaL"
      },
      "source": [
        "## 3.6 High model accuracy vs very low validation accuarcy\n",
        "https://datascience.stackexchange.com/questions/29893/high-model-accuracy-vs-very-low-validation-accuarcy"
      ]
    },
    {
      "cell_type": "code",
      "metadata": {
        "colab": {
          "base_uri": "https://localhost:8080/",
          "height": 424
        },
        "id": "odSwt5uvbedh",
        "outputId": "dca175c5-476d-47b7-cbe9-27ac10f85e3e"
      },
      "source": [
        "# shuffle the DataFrame rows\n",
        "df = df.sample(frac = 1)\n",
        "\n",
        "df"
      ],
      "execution_count": null,
      "outputs": [
        {
          "output_type": "execute_result",
          "data": {
            "text/html": [
              "<div>\n",
              "<style scoped>\n",
              "    .dataframe tbody tr th:only-of-type {\n",
              "        vertical-align: middle;\n",
              "    }\n",
              "\n",
              "    .dataframe tbody tr th {\n",
              "        vertical-align: top;\n",
              "    }\n",
              "\n",
              "    .dataframe thead th {\n",
              "        text-align: right;\n",
              "    }\n",
              "</style>\n",
              "<table border=\"1\" class=\"dataframe\">\n",
              "  <thead>\n",
              "    <tr style=\"text-align: right;\">\n",
              "      <th></th>\n",
              "      <th>FileName</th>\n",
              "      <th>Label</th>\n",
              "    </tr>\n",
              "  </thead>\n",
              "  <tbody>\n",
              "    <tr>\n",
              "      <th>605</th>\n",
              "      <td>112391__hoozing-d4668942-62a2-432e-b4f1-99256d...</td>\n",
              "      <td>Outlook</td>\n",
              "    </tr>\n",
              "    <tr>\n",
              "      <th>611</th>\n",
              "      <td>112426__hoozing-57e7dc3d-35b8-47a5-9060-a5e42f...</td>\n",
              "      <td>Outlook</td>\n",
              "    </tr>\n",
              "    <tr>\n",
              "      <th>657</th>\n",
              "      <td>114419__hoozing-cd00eceb-67ef-4a5d-b064-05ab49...</td>\n",
              "      <td>Outlook</td>\n",
              "    </tr>\n",
              "    <tr>\n",
              "      <th>1285</th>\n",
              "      <td>171066__hoozing-15e742cb-b3bc-459a-a422-f7a4a9...</td>\n",
              "      <td>Bacony</td>\n",
              "    </tr>\n",
              "    <tr>\n",
              "      <th>945</th>\n",
              "      <td>124657__hoozing_0_112054_done-09341.jpg</td>\n",
              "      <td>Table</td>\n",
              "    </tr>\n",
              "    <tr>\n",
              "      <th>...</th>\n",
              "      <td>...</td>\n",
              "      <td>...</td>\n",
              "    </tr>\n",
              "    <tr>\n",
              "      <th>1261</th>\n",
              "      <td>150197__2019 4:51:19 PM_DONE-9.jpg</td>\n",
              "      <td>Bacony</td>\n",
              "    </tr>\n",
              "    <tr>\n",
              "      <th>643</th>\n",
              "      <td>112690__hoozing-96df775e-d500-4dd5-8ed2-cb8e5d...</td>\n",
              "      <td>Outlook</td>\n",
              "    </tr>\n",
              "    <tr>\n",
              "      <th>360</th>\n",
              "      <td>140269__636801289785437624_Done-8.jpg</td>\n",
              "      <td>Bedroom</td>\n",
              "    </tr>\n",
              "    <tr>\n",
              "      <th>929</th>\n",
              "      <td>118479__hoozing-0d78514c-ca08-409a-993d-d9a087...</td>\n",
              "      <td>Table</td>\n",
              "    </tr>\n",
              "    <tr>\n",
              "      <th>1475</th>\n",
              "      <td>160009__hoozing-44de7a19-f768-4475-a1ee-d3d680...</td>\n",
              "      <td>Washing Machine</td>\n",
              "    </tr>\n",
              "  </tbody>\n",
              "</table>\n",
              "<p>1574 rows × 2 columns</p>\n",
              "</div>"
            ],
            "text/plain": [
              "                                               FileName            Label\n",
              "605   112391__hoozing-d4668942-62a2-432e-b4f1-99256d...          Outlook\n",
              "611   112426__hoozing-57e7dc3d-35b8-47a5-9060-a5e42f...          Outlook\n",
              "657   114419__hoozing-cd00eceb-67ef-4a5d-b064-05ab49...          Outlook\n",
              "1285  171066__hoozing-15e742cb-b3bc-459a-a422-f7a4a9...           Bacony\n",
              "945             124657__hoozing_0_112054_done-09341.jpg            Table\n",
              "...                                                 ...              ...\n",
              "1261                 150197__2019 4:51:19 PM_DONE-9.jpg           Bacony\n",
              "643   112690__hoozing-96df775e-d500-4dd5-8ed2-cb8e5d...          Outlook\n",
              "360               140269__636801289785437624_Done-8.jpg          Bedroom\n",
              "929   118479__hoozing-0d78514c-ca08-409a-993d-d9a087...            Table\n",
              "1475  160009__hoozing-44de7a19-f768-4475-a1ee-d3d680...  Washing Machine\n",
              "\n",
              "[1574 rows x 2 columns]"
            ]
          },
          "metadata": {},
          "execution_count": 11
        }
      ]
    },
    {
      "cell_type": "markdown",
      "metadata": {
        "id": "eoKYucQ0EGks"
      },
      "source": [
        "# 4. Preprocessing\n"
      ]
    },
    {
      "cell_type": "markdown",
      "metadata": {
        "id": "oRNdKYRtEJiJ"
      },
      "source": [
        "## 4.1 Encode labels"
      ]
    },
    {
      "cell_type": "code",
      "metadata": {
        "colab": {
          "base_uri": "https://localhost:8080/"
        },
        "id": "sQR-U_Oz5e4i",
        "outputId": "14f8c63a-bf0c-4ca2-9a91-b93d5eb9525e"
      },
      "source": [
        "from sklearn.preprocessing import LabelEncoder\n",
        "encoder = LabelEncoder()\n",
        "\n",
        "encoder.fit(df['Label'])\n",
        "\n",
        "df['Encoded'] = encoder.transform(df['Label'])\n",
        "\n",
        "print(len(encoder.classes_))"
      ],
      "execution_count": null,
      "outputs": [
        {
          "output_type": "stream",
          "name": "stdout",
          "text": [
            "10\n"
          ]
        }
      ]
    },
    {
      "cell_type": "code",
      "metadata": {
        "colab": {
          "base_uri": "https://localhost:8080/",
          "height": 424
        },
        "id": "G9PKlFxZ5e1I",
        "outputId": "d4651bcd-7f46-4aed-abd7-4e39ec6d8736"
      },
      "source": [
        "df"
      ],
      "execution_count": null,
      "outputs": [
        {
          "output_type": "execute_result",
          "data": {
            "text/html": [
              "<div>\n",
              "<style scoped>\n",
              "    .dataframe tbody tr th:only-of-type {\n",
              "        vertical-align: middle;\n",
              "    }\n",
              "\n",
              "    .dataframe tbody tr th {\n",
              "        vertical-align: top;\n",
              "    }\n",
              "\n",
              "    .dataframe thead th {\n",
              "        text-align: right;\n",
              "    }\n",
              "</style>\n",
              "<table border=\"1\" class=\"dataframe\">\n",
              "  <thead>\n",
              "    <tr style=\"text-align: right;\">\n",
              "      <th></th>\n",
              "      <th>FileName</th>\n",
              "      <th>Label</th>\n",
              "      <th>Encoded</th>\n",
              "    </tr>\n",
              "  </thead>\n",
              "  <tbody>\n",
              "    <tr>\n",
              "      <th>605</th>\n",
              "      <td>112391__hoozing-d4668942-62a2-432e-b4f1-99256d...</td>\n",
              "      <td>Outlook</td>\n",
              "      <td>6</td>\n",
              "    </tr>\n",
              "    <tr>\n",
              "      <th>611</th>\n",
              "      <td>112426__hoozing-57e7dc3d-35b8-47a5-9060-a5e42f...</td>\n",
              "      <td>Outlook</td>\n",
              "      <td>6</td>\n",
              "    </tr>\n",
              "    <tr>\n",
              "      <th>657</th>\n",
              "      <td>114419__hoozing-cd00eceb-67ef-4a5d-b064-05ab49...</td>\n",
              "      <td>Outlook</td>\n",
              "      <td>6</td>\n",
              "    </tr>\n",
              "    <tr>\n",
              "      <th>1285</th>\n",
              "      <td>171066__hoozing-15e742cb-b3bc-459a-a422-f7a4a9...</td>\n",
              "      <td>Bacony</td>\n",
              "      <td>0</td>\n",
              "    </tr>\n",
              "    <tr>\n",
              "      <th>945</th>\n",
              "      <td>124657__hoozing_0_112054_done-09341.jpg</td>\n",
              "      <td>Table</td>\n",
              "      <td>8</td>\n",
              "    </tr>\n",
              "    <tr>\n",
              "      <th>...</th>\n",
              "      <td>...</td>\n",
              "      <td>...</td>\n",
              "      <td>...</td>\n",
              "    </tr>\n",
              "    <tr>\n",
              "      <th>1261</th>\n",
              "      <td>150197__2019 4:51:19 PM_DONE-9.jpg</td>\n",
              "      <td>Bacony</td>\n",
              "      <td>0</td>\n",
              "    </tr>\n",
              "    <tr>\n",
              "      <th>643</th>\n",
              "      <td>112690__hoozing-96df775e-d500-4dd5-8ed2-cb8e5d...</td>\n",
              "      <td>Outlook</td>\n",
              "      <td>6</td>\n",
              "    </tr>\n",
              "    <tr>\n",
              "      <th>360</th>\n",
              "      <td>140269__636801289785437624_Done-8.jpg</td>\n",
              "      <td>Bedroom</td>\n",
              "      <td>2</td>\n",
              "    </tr>\n",
              "    <tr>\n",
              "      <th>929</th>\n",
              "      <td>118479__hoozing-0d78514c-ca08-409a-993d-d9a087...</td>\n",
              "      <td>Table</td>\n",
              "      <td>8</td>\n",
              "    </tr>\n",
              "    <tr>\n",
              "      <th>1475</th>\n",
              "      <td>160009__hoozing-44de7a19-f768-4475-a1ee-d3d680...</td>\n",
              "      <td>Washing Machine</td>\n",
              "      <td>9</td>\n",
              "    </tr>\n",
              "  </tbody>\n",
              "</table>\n",
              "<p>1574 rows × 3 columns</p>\n",
              "</div>"
            ],
            "text/plain": [
              "                                               FileName  ... Encoded\n",
              "605   112391__hoozing-d4668942-62a2-432e-b4f1-99256d...  ...       6\n",
              "611   112426__hoozing-57e7dc3d-35b8-47a5-9060-a5e42f...  ...       6\n",
              "657   114419__hoozing-cd00eceb-67ef-4a5d-b064-05ab49...  ...       6\n",
              "1285  171066__hoozing-15e742cb-b3bc-459a-a422-f7a4a9...  ...       0\n",
              "945             124657__hoozing_0_112054_done-09341.jpg  ...       8\n",
              "...                                                 ...  ...     ...\n",
              "1261                 150197__2019 4:51:19 PM_DONE-9.jpg  ...       0\n",
              "643   112690__hoozing-96df775e-d500-4dd5-8ed2-cb8e5d...  ...       6\n",
              "360               140269__636801289785437624_Done-8.jpg  ...       2\n",
              "929   118479__hoozing-0d78514c-ca08-409a-993d-d9a087...  ...       8\n",
              "1475  160009__hoozing-44de7a19-f768-4475-a1ee-d3d680...  ...       9\n",
              "\n",
              "[1574 rows x 3 columns]"
            ]
          },
          "metadata": {},
          "execution_count": 13
        }
      ]
    },
    {
      "cell_type": "markdown",
      "metadata": {
        "id": "OZMtFm8ZE5vc"
      },
      "source": [
        "## 4.2 Read images file "
      ]
    },
    {
      "cell_type": "code",
      "metadata": {
        "colab": {
          "base_uri": "https://localhost:8080/"
        },
        "id": "g0h0Rs3kE8bo",
        "outputId": "dd4d834c-6100-42c0-e858-883ae04588fc"
      },
      "source": [
        "import numpy as np\n",
        "\n",
        "from keras.preprocessing import image\n",
        "from keras.layers import Dense, Reshape, Flatten\n",
        "from keras.models import Model\n",
        "from keras.applications.vgg16 import VGG16, preprocess_input\n",
        "\n",
        "IMG_HEIGHT = 400\n",
        "IMG_WIDTH = 400\n",
        "\n",
        "images = []\n",
        "\n",
        "# folderPath = './clusters_level1/' \n",
        "folderPath = '/content/drive/MyDrive/Colab Notebooks/dataset/clusters_level1_211111/'\n",
        "\n",
        "for index, row in df.iterrows():\n",
        "    image_id = row['FileName']\n",
        "    label = row['Label']\n",
        "    \n",
        "    image_path = folderPath + label + '/' + image_id\n",
        "\n",
        "    if image_id.endswith('textClipping'):\n",
        "      continue\n",
        "\n",
        "    # print(image_path)\n",
        "\n",
        "    img = image.load_img(image_path, target_size=(IMG_HEIGHT, IMG_WIDTH))\n",
        "\n",
        "    img_array = image.img_to_array(img)\n",
        "    # img_array = np.expand_dims(img_array, axis=0)\n",
        "\n",
        "    # img_array = img_array/255\n",
        "    img_array = preprocess_input(img_array)\n",
        "\n",
        "    images.append(img_array)\n",
        "\n",
        "images = np.array(images)\n",
        "# images\n",
        "\n",
        "print(images.shape, type(images))\n",
        "\n",
        "y = df[['Encoded']].to_numpy()\n",
        "\n",
        "print(images.shape, type(y))\n",
        "print(y.shape, type(y))"
      ],
      "execution_count": null,
      "outputs": [
        {
          "output_type": "stream",
          "name": "stdout",
          "text": [
            "(1574, 400, 400, 3) <class 'numpy.ndarray'>\n",
            "(1574, 400, 400, 3) <class 'numpy.ndarray'>\n",
            "(1574, 1) <class 'numpy.ndarray'>\n"
          ]
        }
      ]
    },
    {
      "cell_type": "markdown",
      "metadata": {
        "id": "qI_Aqc8pQoa5"
      },
      "source": [
        "# 5. Save dataset"
      ]
    },
    {
      "cell_type": "code",
      "metadata": {
        "id": "4khVH6c7QqjG"
      },
      "source": [
        "# import pickle\n",
        "\n",
        "# with open('/content/drive/MyDrive/Colab Notebooks/dataset/first-prototype-211106/images.pkl', 'wb') as file:\n",
        "#     pickle.dump(images, file)\n",
        "\n",
        "# with open('/content/drive/MyDrive/Colab Notebooks/dataset/first-prototype-211106/y.pkl', 'wb') as file:\n",
        "#     pickle.dump(y, file)"
      ],
      "execution_count": null,
      "outputs": []
    },
    {
      "cell_type": "markdown",
      "metadata": {
        "id": "63xkhivF_Xwi"
      },
      "source": [
        "# 6. Load dataset"
      ]
    },
    {
      "cell_type": "code",
      "metadata": {
        "id": "BMgKOfx10_b_"
      },
      "source": [
        "# import pickle\n",
        " \n",
        "# with open('/content/drive/MyDrive/Colab Notebooks/dataset/first-prototype-211022/images.pkl', 'rb') as file:\n",
        "#     images = pickle.load(file)\n",
        "\n",
        "# with open('/content/drive/MyDrive/Colab Notebooks/dataset/first-prototype-211022/y.pkl', 'rb') as file:\n",
        "#     y = pickle.load(file)\n",
        "\n",
        "# images.shape"
      ],
      "execution_count": null,
      "outputs": []
    },
    {
      "cell_type": "markdown",
      "metadata": {
        "id": "Qcr5efXO_bDN"
      },
      "source": [
        "# 6. Split to train and test datasets"
      ]
    },
    {
      "cell_type": "code",
      "metadata": {
        "id": "6TUmIshn1Xff"
      },
      "source": [
        "from sklearn.model_selection import train_test_split\n",
        "\n",
        "# X_train, X_test, y_train, y_test = train_test_split(images, y[:,:20], test_size=0.0, random_state=1)\n",
        "X_train = images\n",
        "y_train = y[:,:20]\n",
        "\n",
        "# y_train.shape"
      ],
      "execution_count": null,
      "outputs": []
    },
    {
      "cell_type": "markdown",
      "metadata": {
        "id": "PP0s5T-OOTB1"
      },
      "source": [
        "# 7. Build model using a pre-trained model"
      ]
    },
    {
      "cell_type": "code",
      "metadata": {
        "id": "WBYjVWV41bOQ"
      },
      "source": [
        "# load model without classifier layers\n",
        "model = VGG16(include_top=False, input_shape=(IMG_HEIGHT, IMG_WIDTH, 3))\n",
        "\n",
        "# add new classifier layers\n",
        "flat1 = Flatten()(model.layers[-1].output)\n",
        "class1 = Dense(1000, activation='relu')(flat1)\n",
        "output = Dense(len(encoder.classes_), activation='softmax')(class1)\n",
        "\n",
        "# define new model\n",
        "model = Model(inputs=model.inputs, outputs=output)\n",
        "\n",
        "\n",
        "# mark loaded layers as not trainable\n",
        "for layer in model.layers[:-3]:\n",
        "\tlayer.trainable = False\n",
        "\n",
        "# summarize\n",
        "# model.summary()"
      ],
      "execution_count": null,
      "outputs": []
    },
    {
      "cell_type": "code",
      "metadata": {
        "id": "wAS8jW2I1dPr",
        "colab": {
          "base_uri": "https://localhost:8080/"
        },
        "outputId": "1d9cd9a5-5438-471a-e1e3-00c7698351a7"
      },
      "source": [
        "opt = keras.optimizers.Adam(learning_rate=0.01)\n",
        "\n",
        "model.compile(optimizer=opt, loss=\"sparse_categorical_crossentropy\", metrics=[\"accuracy\"])\n",
        "\n",
        "es_callback = EarlyStopping(monitor='val_loss', patience=15, restore_best_weights=True)\n",
        "history = model.fit(X_train, y_train, epochs=100, validation_split=0.2, batch_size=16, callbacks=es_callback)\n",
        "# model.fit(X_train, y_train, epochs=50, validation_data=(X_test, y_test), batch_size=32)\n"
      ],
      "execution_count": null,
      "outputs": [
        {
          "output_type": "stream",
          "name": "stdout",
          "text": [
            "Epoch 1/100\n",
            "79/79 [==============================] - 12s 142ms/step - loss: 249.3115 - accuracy: 0.7387 - val_loss: 21.0927 - val_accuracy: 0.8032\n",
            "Epoch 2/100\n",
            "79/79 [==============================] - 10s 130ms/step - loss: 38.6525 - accuracy: 0.9047 - val_loss: 32.1896 - val_accuracy: 0.8698\n",
            "Epoch 3/100\n",
            "79/79 [==============================] - 10s 130ms/step - loss: 20.6610 - accuracy: 0.9325 - val_loss: 44.7718 - val_accuracy: 0.9111\n",
            "Epoch 4/100\n",
            "79/79 [==============================] - 10s 130ms/step - loss: 40.8864 - accuracy: 0.9563 - val_loss: 64.8589 - val_accuracy: 0.8825\n",
            "Epoch 5/100\n",
            "79/79 [==============================] - 10s 130ms/step - loss: 31.2771 - accuracy: 0.9611 - val_loss: 98.4783 - val_accuracy: 0.9048\n",
            "Epoch 6/100\n",
            "79/79 [==============================] - 10s 130ms/step - loss: 15.3312 - accuracy: 0.9793 - val_loss: 70.0998 - val_accuracy: 0.9365\n",
            "Epoch 7/100\n",
            "79/79 [==============================] - 10s 130ms/step - loss: 22.2372 - accuracy: 0.9841 - val_loss: 107.8688 - val_accuracy: 0.9016\n",
            "Epoch 8/100\n",
            "79/79 [==============================] - 10s 130ms/step - loss: 26.9244 - accuracy: 0.9714 - val_loss: 176.1235 - val_accuracy: 0.8889\n",
            "Epoch 9/100\n",
            "79/79 [==============================] - 10s 130ms/step - loss: 66.7582 - accuracy: 0.9778 - val_loss: 156.8410 - val_accuracy: 0.9048\n",
            "Epoch 10/100\n",
            "79/79 [==============================] - 10s 130ms/step - loss: 20.4042 - accuracy: 0.9849 - val_loss: 142.0600 - val_accuracy: 0.9111\n",
            "Epoch 11/100\n",
            "79/79 [==============================] - 10s 130ms/step - loss: 34.9901 - accuracy: 0.9817 - val_loss: 262.0022 - val_accuracy: 0.8698\n",
            "Epoch 12/100\n",
            "79/79 [==============================] - 10s 130ms/step - loss: 25.6837 - accuracy: 0.9865 - val_loss: 126.9079 - val_accuracy: 0.9302\n",
            "Epoch 13/100\n",
            "79/79 [==============================] - 10s 130ms/step - loss: 10.2735 - accuracy: 0.9921 - val_loss: 180.1745 - val_accuracy: 0.9079\n",
            "Epoch 14/100\n",
            "79/79 [==============================] - 10s 130ms/step - loss: 58.8082 - accuracy: 0.9849 - val_loss: 209.4837 - val_accuracy: 0.9270\n",
            "Epoch 15/100\n",
            "79/79 [==============================] - 10s 130ms/step - loss: 20.2123 - accuracy: 0.9921 - val_loss: 272.9429 - val_accuracy: 0.9111\n",
            "Epoch 16/100\n",
            "79/79 [==============================] - 10s 131ms/step - loss: 40.9443 - accuracy: 0.9905 - val_loss: 214.7879 - val_accuracy: 0.9270\n"
          ]
        }
      ]
    },
    {
      "cell_type": "markdown",
      "metadata": {
        "id": "qfDDhsMwFa9c"
      },
      "source": [
        "## Plot a graph to see the training history"
      ]
    },
    {
      "cell_type": "code",
      "metadata": {
        "id": "BfxppT2wFboz",
        "colab": {
          "base_uri": "https://localhost:8080/",
          "height": 417
        },
        "outputId": "2d383572-6b4b-4bca-89d6-f31d4f7ec946"
      },
      "source": [
        "acc = history.history['accuracy']\n",
        "val_acc = history.history['val_accuracy']\n",
        "loss = history.history['loss']\n",
        "val_loss = history.history['val_loss']\n",
        "\n",
        "fig, axes = plt.subplots(1, 2, figsize=(18, 6))\n",
        "\n",
        "fig.suptitle('Training history')\n",
        "\n",
        "sns.lineplot(ax=axes[0], data=pd.DataFrame({'Accuracy': acc, 'Validation Accuracy': val_acc})).set_title('Accuracy')\n",
        "sns.lineplot(ax=axes[1], data=pd.DataFrame({'Loss': loss, 'Validation Loss': val_loss})).set_title('Loss')\n",
        "sns.set_style(\"whitegrid\")"
      ],
      "execution_count": null,
      "outputs": [
        {
          "output_type": "display_data",
          "data": {
            "image/png": "[encoded data removed]",
            "text/plain": [
              "<Figure size 1296x432 with 2 Axes>"
            ]
          },
          "metadata": {}
        }
      ]
    },
    {
      "cell_type": "markdown",
      "metadata": {
        "id": "y1GOpVFuVNln"
      },
      "source": [
        "## 7.1 Confusion Matrix"
      ]
    },
    {
      "cell_type": "markdown",
      "metadata": {
        "id": "jAXHpAx0VT4e"
      },
      "source": [
        "### 7.1.1 Testing the model using X_test and storing the output in y_pred"
      ]
    },
    {
      "cell_type": "code",
      "metadata": {
        "id": "UrsqIOaNVPvo"
      },
      "source": [
        "# Testing the model using X_test and storing the output in y_pred\n",
        "y_pred = model.predict(X_train)"
      ],
      "execution_count": null,
      "outputs": []
    },
    {
      "cell_type": "markdown",
      "metadata": {
        "id": "81Xo0rKoVY7b"
      },
      "source": [
        "### 7.1.2 All labels"
      ]
    },
    {
      "cell_type": "code",
      "metadata": {
        "id": "Ua_4WbwoVPn0"
      },
      "source": [
        "from sklearn.metrics import confusion_matrix\n",
        "\n",
        "# Creating  a confusion matrix,which compares the y_test and y_pred\n",
        "# https://stackoverflow.com/questions/46953967/multilabel-indicator-is-not-supported-for-confusion-matrix\n",
        "cm = confusion_matrix(y_train, (y_pred > 0.6).argmax(axis=1))\n",
        "\n",
        "\n",
        "# Creating a dataframe for a array-formatted Confusion matrix,so it will be easy for plotting.\n",
        "# cm_df = pd.DataFrame(cm, columns = ['Image', *columns])\n",
        "cm_df = pd.DataFrame(cm, index=encoder.classes_, columns = encoder.classes_)"
      ],
      "execution_count": null,
      "outputs": []
    },
    {
      "cell_type": "code",
      "metadata": {
        "id": "uIyaTqXcVPaB",
        "colab": {
          "base_uri": "https://localhost:8080/",
          "height": 699
        },
        "outputId": "13a23d2b-d31d-49a0-c355-074909da0cb2"
      },
      "source": [
        "import seaborn as sns\n",
        "import matplotlib.pyplot as plt\n",
        "\n",
        "# Plotting the confusion matrix\n",
        "plt.figure(figsize=(12.5, 10))\n",
        "\n",
        "# https://stackoverflow.com/questions/29647749/seaborn-showing-scientific-notation-in-heatmap-for-3-digit-numbers\n",
        "sns.heatmap(cm_df, annot=True, fmt='g')\n",
        "\n",
        "plt.title('Confusion Matrix')\n",
        "plt.ylabel('Actal Values')\n",
        "plt.xlabel('Predicted Values')\n",
        "\n",
        "plt.show()\n"
      ],
      "execution_count": null,
      "outputs": [
        {
          "output_type": "display_data",
          "data": {
            "image/png": "[encoded data removed]",
            "text/plain": [
              "<Figure size 900x720 with 2 Axes>"
            ]
          },
          "metadata": {}
        }
      ]
    },
    {
      "cell_type": "code",
      "metadata": {
        "id": "q09BgG9UVfwI"
      },
      "source": [
        ""
      ],
      "execution_count": null,
      "outputs": []
    }
  ]
}