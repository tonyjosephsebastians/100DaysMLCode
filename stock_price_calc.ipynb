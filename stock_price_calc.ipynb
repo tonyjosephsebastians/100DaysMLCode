{
  "nbformat": 4,
  "nbformat_minor": 0,
  "metadata": {
    "colab": {
      "name": "stock_price_calc.ipynb",
      "provenance": [],
      "authorship_tag": "ABX9TyNPXXsjOFfSy+1MVLVpPscg",
      "include_colab_link": true
    },
    "kernelspec": {
      "name": "python3",
      "display_name": "Python 3"
    },
    "language_info": {
      "name": "python"
    }
  },
  "cells": [
    {
      "cell_type": "markdown",
      "metadata": {
        "id": "view-in-github",
        "colab_type": "text"
      },
      "source": [
        "<a href=\"https://colab.research.google.com/github/tonyjosephsebastians/100DaysMLCode/blob/main/stock_price_calc.ipynb\" target=\"_parent\"><img src=\"https://colab.research.google.com/assets/colab-badge.svg\" alt=\"Open In Colab\"/></a>"
      ]
    },
    {
      "cell_type": "code",
      "source": [
        "#!pip install streamlit"
      ],
      "metadata": {
        "colab": {
          "base_uri": "https://localhost:8080/",
          "height": 1000
        },
        "id": "KZG4Xuslp0g0",
        "outputId": "48da91a7-57f9-4f7c-98d9-e7b8f0264de6"
      },
      "execution_count": 8,
      "outputs": [
        {
          "output_type": "stream",
          "name": "stdout",
          "text": [
            "Collecting streamlit\n",
            "  Downloading streamlit-1.3.1-py2.py3-none-any.whl (9.2 MB)\n",
            "\u001b[K     |████████████████████████████████| 9.2 MB 16.4 MB/s \n",
            "\u001b[?25hRequirement already satisfied: toml in /usr/local/lib/python3.7/dist-packages (from streamlit) (0.10.2)\n",
            "Requirement already satisfied: click<8.0,>=7.0 in /usr/local/lib/python3.7/dist-packages (from streamlit) (7.1.2)\n",
            "Collecting gitpython!=3.1.19\n",
            "  Downloading GitPython-3.1.24-py3-none-any.whl (180 kB)\n",
            "\u001b[K     |████████████████████████████████| 180 kB 71.2 MB/s \n",
            "\u001b[?25hRequirement already satisfied: tornado>=5.0 in /usr/local/lib/python3.7/dist-packages (from streamlit) (5.1.1)\n",
            "Requirement already satisfied: pillow>=6.2.0 in /usr/local/lib/python3.7/dist-packages (from streamlit) (7.1.2)\n",
            "Requirement already satisfied: tzlocal in /usr/local/lib/python3.7/dist-packages (from streamlit) (1.5.1)\n",
            "Requirement already satisfied: protobuf!=3.11,>=3.6.0 in /usr/local/lib/python3.7/dist-packages (from streamlit) (3.17.3)\n",
            "Requirement already satisfied: packaging in /usr/local/lib/python3.7/dist-packages (from streamlit) (21.3)\n",
            "Collecting base58\n",
            "  Downloading base58-2.1.1-py3-none-any.whl (5.6 kB)\n",
            "Requirement already satisfied: pandas>=0.21.0 in /usr/local/lib/python3.7/dist-packages (from streamlit) (1.1.5)\n",
            "Requirement already satisfied: requests in /usr/local/lib/python3.7/dist-packages (from streamlit) (2.23.0)\n",
            "Requirement already satisfied: astor in /usr/local/lib/python3.7/dist-packages (from streamlit) (0.8.1)\n",
            "Collecting watchdog\n",
            "  Downloading watchdog-2.1.6-py3-none-manylinux2014_x86_64.whl (76 kB)\n",
            "\u001b[K     |████████████████████████████████| 76 kB 5.5 MB/s \n",
            "\u001b[?25hRequirement already satisfied: cachetools>=4.0 in /usr/local/lib/python3.7/dist-packages (from streamlit) (4.2.4)\n",
            "Requirement already satisfied: attrs in /usr/local/lib/python3.7/dist-packages (from streamlit) (21.2.0)\n",
            "Requirement already satisfied: pyarrow in /usr/local/lib/python3.7/dist-packages (from streamlit) (3.0.0)\n",
            "Requirement already satisfied: altair>=3.2.0 in /usr/local/lib/python3.7/dist-packages (from streamlit) (4.1.0)\n",
            "Collecting blinker\n",
            "  Downloading blinker-1.4.tar.gz (111 kB)\n",
            "\u001b[K     |████████████████████████████████| 111 kB 71.9 MB/s \n",
            "\u001b[?25hCollecting pydeck>=0.1.dev5\n",
            "  Downloading pydeck-0.7.1-py2.py3-none-any.whl (4.3 MB)\n",
            "\u001b[K     |████████████████████████████████| 4.3 MB 55.2 MB/s \n",
            "\u001b[?25hRequirement already satisfied: python-dateutil in /usr/local/lib/python3.7/dist-packages (from streamlit) (2.8.2)\n",
            "Collecting pympler>=0.9\n",
            "  Downloading Pympler-1.0.1-py3-none-any.whl (164 kB)\n",
            "\u001b[K     |████████████████████████████████| 164 kB 82.1 MB/s \n",
            "\u001b[?25hCollecting validators\n",
            "  Downloading validators-0.18.2-py3-none-any.whl (19 kB)\n",
            "Requirement already satisfied: numpy in /usr/local/lib/python3.7/dist-packages (from streamlit) (1.19.5)\n",
            "Requirement already satisfied: jsonschema in /usr/local/lib/python3.7/dist-packages (from altair>=3.2.0->streamlit) (2.6.0)\n",
            "Requirement already satisfied: jinja2 in /usr/local/lib/python3.7/dist-packages (from altair>=3.2.0->streamlit) (2.11.3)\n",
            "Requirement already satisfied: toolz in /usr/local/lib/python3.7/dist-packages (from altair>=3.2.0->streamlit) (0.11.2)\n",
            "Requirement already satisfied: entrypoints in /usr/local/lib/python3.7/dist-packages (from altair>=3.2.0->streamlit) (0.3)\n",
            "Collecting gitdb<5,>=4.0.1\n",
            "  Downloading gitdb-4.0.9-py3-none-any.whl (63 kB)\n",
            "\u001b[K     |████████████████████████████████| 63 kB 1.9 MB/s \n",
            "\u001b[?25hRequirement already satisfied: typing-extensions>=3.7.4.3 in /usr/local/lib/python3.7/dist-packages (from gitpython!=3.1.19->streamlit) (3.10.0.2)\n",
            "Collecting smmap<6,>=3.0.1\n",
            "  Downloading smmap-5.0.0-py3-none-any.whl (24 kB)\n",
            "Requirement already satisfied: pytz>=2017.2 in /usr/local/lib/python3.7/dist-packages (from pandas>=0.21.0->streamlit) (2018.9)\n",
            "Requirement already satisfied: six>=1.9 in /usr/local/lib/python3.7/dist-packages (from protobuf!=3.11,>=3.6.0->streamlit) (1.15.0)\n",
            "Requirement already satisfied: traitlets>=4.3.2 in /usr/local/lib/python3.7/dist-packages (from pydeck>=0.1.dev5->streamlit) (5.1.1)\n",
            "Requirement already satisfied: ipywidgets>=7.0.0 in /usr/local/lib/python3.7/dist-packages (from pydeck>=0.1.dev5->streamlit) (7.6.5)\n",
            "Collecting ipykernel>=5.1.2\n",
            "  Downloading ipykernel-6.6.1-py3-none-any.whl (126 kB)\n",
            "\u001b[K     |████████████████████████████████| 126 kB 54.8 MB/s \n",
            "\u001b[?25hRequirement already satisfied: nest-asyncio in /usr/local/lib/python3.7/dist-packages (from ipykernel>=5.1.2->pydeck>=0.1.dev5->streamlit) (1.5.4)\n",
            "Requirement already satisfied: matplotlib-inline<0.2.0,>=0.1.0 in /usr/local/lib/python3.7/dist-packages (from ipykernel>=5.1.2->pydeck>=0.1.dev5->streamlit) (0.1.3)\n",
            "Requirement already satisfied: argcomplete>=1.12.3 in /usr/local/lib/python3.7/dist-packages (from ipykernel>=5.1.2->pydeck>=0.1.dev5->streamlit) (1.12.3)\n",
            "Collecting ipython>=7.23.1\n",
            "  Downloading ipython-7.31.0-py3-none-any.whl (792 kB)\n",
            "\u001b[K     |████████████████████████████████| 792 kB 27.6 MB/s \n",
            "\u001b[?25hRequirement already satisfied: debugpy<2.0,>=1.0.0 in /usr/local/lib/python3.7/dist-packages (from ipykernel>=5.1.2->pydeck>=0.1.dev5->streamlit) (1.0.0)\n",
            "Requirement already satisfied: importlib-metadata<5 in /usr/local/lib/python3.7/dist-packages (from ipykernel>=5.1.2->pydeck>=0.1.dev5->streamlit) (4.8.2)\n",
            "Requirement already satisfied: jupyter-client<8.0 in /usr/local/lib/python3.7/dist-packages (from ipykernel>=5.1.2->pydeck>=0.1.dev5->streamlit) (5.3.5)\n",
            "Requirement already satisfied: zipp>=0.5 in /usr/local/lib/python3.7/dist-packages (from importlib-metadata<5->ipykernel>=5.1.2->pydeck>=0.1.dev5->streamlit) (3.6.0)\n",
            "Requirement already satisfied: jedi>=0.16 in /usr/local/lib/python3.7/dist-packages (from ipython>=7.23.1->ipykernel>=5.1.2->pydeck>=0.1.dev5->streamlit) (0.18.1)\n",
            "Requirement already satisfied: setuptools>=18.5 in /usr/local/lib/python3.7/dist-packages (from ipython>=7.23.1->ipykernel>=5.1.2->pydeck>=0.1.dev5->streamlit) (57.4.0)\n",
            "Requirement already satisfied: pygments in /usr/local/lib/python3.7/dist-packages (from ipython>=7.23.1->ipykernel>=5.1.2->pydeck>=0.1.dev5->streamlit) (2.6.1)\n",
            "Requirement already satisfied: decorator in /usr/local/lib/python3.7/dist-packages (from ipython>=7.23.1->ipykernel>=5.1.2->pydeck>=0.1.dev5->streamlit) (4.4.2)\n",
            "Requirement already satisfied: backcall in /usr/local/lib/python3.7/dist-packages (from ipython>=7.23.1->ipykernel>=5.1.2->pydeck>=0.1.dev5->streamlit) (0.2.0)\n",
            "Collecting prompt-toolkit!=3.0.0,!=3.0.1,<3.1.0,>=2.0.0\n",
            "  Downloading prompt_toolkit-3.0.24-py3-none-any.whl (374 kB)\n",
            "\u001b[K     |████████████████████████████████| 374 kB 59.8 MB/s \n",
            "\u001b[?25hRequirement already satisfied: pickleshare in /usr/local/lib/python3.7/dist-packages (from ipython>=7.23.1->ipykernel>=5.1.2->pydeck>=0.1.dev5->streamlit) (0.7.5)\n",
            "Requirement already satisfied: pexpect>4.3 in /usr/local/lib/python3.7/dist-packages (from ipython>=7.23.1->ipykernel>=5.1.2->pydeck>=0.1.dev5->streamlit) (4.8.0)\n",
            "Requirement already satisfied: widgetsnbextension~=3.5.0 in /usr/local/lib/python3.7/dist-packages (from ipywidgets>=7.0.0->pydeck>=0.1.dev5->streamlit) (3.5.2)\n",
            "Requirement already satisfied: ipython-genutils~=0.2.0 in /usr/local/lib/python3.7/dist-packages (from ipywidgets>=7.0.0->pydeck>=0.1.dev5->streamlit) (0.2.0)\n",
            "Requirement already satisfied: nbformat>=4.2.0 in /usr/local/lib/python3.7/dist-packages (from ipywidgets>=7.0.0->pydeck>=0.1.dev5->streamlit) (5.1.3)\n",
            "Requirement already satisfied: jupyterlab-widgets>=1.0.0 in /usr/local/lib/python3.7/dist-packages (from ipywidgets>=7.0.0->pydeck>=0.1.dev5->streamlit) (1.0.2)\n",
            "Requirement already satisfied: parso<0.9.0,>=0.8.0 in /usr/local/lib/python3.7/dist-packages (from jedi>=0.16->ipython>=7.23.1->ipykernel>=5.1.2->pydeck>=0.1.dev5->streamlit) (0.8.3)\n",
            "Requirement already satisfied: MarkupSafe>=0.23 in /usr/local/lib/python3.7/dist-packages (from jinja2->altair>=3.2.0->streamlit) (2.0.1)\n",
            "Requirement already satisfied: pyzmq>=13 in /usr/local/lib/python3.7/dist-packages (from jupyter-client<8.0->ipykernel>=5.1.2->pydeck>=0.1.dev5->streamlit) (22.3.0)\n",
            "Requirement already satisfied: jupyter-core>=4.6.0 in /usr/local/lib/python3.7/dist-packages (from jupyter-client<8.0->ipykernel>=5.1.2->pydeck>=0.1.dev5->streamlit) (4.9.1)\n",
            "Requirement already satisfied: ptyprocess>=0.5 in /usr/local/lib/python3.7/dist-packages (from pexpect>4.3->ipython>=7.23.1->ipykernel>=5.1.2->pydeck>=0.1.dev5->streamlit) (0.7.0)\n",
            "Requirement already satisfied: wcwidth in /usr/local/lib/python3.7/dist-packages (from prompt-toolkit!=3.0.0,!=3.0.1,<3.1.0,>=2.0.0->ipython>=7.23.1->ipykernel>=5.1.2->pydeck>=0.1.dev5->streamlit) (0.2.5)\n",
            "Requirement already satisfied: notebook>=4.4.1 in /usr/local/lib/python3.7/dist-packages (from widgetsnbextension~=3.5.0->ipywidgets>=7.0.0->pydeck>=0.1.dev5->streamlit) (5.3.1)\n",
            "Requirement already satisfied: Send2Trash in /usr/local/lib/python3.7/dist-packages (from notebook>=4.4.1->widgetsnbextension~=3.5.0->ipywidgets>=7.0.0->pydeck>=0.1.dev5->streamlit) (1.8.0)\n",
            "Requirement already satisfied: terminado>=0.8.1 in /usr/local/lib/python3.7/dist-packages (from notebook>=4.4.1->widgetsnbextension~=3.5.0->ipywidgets>=7.0.0->pydeck>=0.1.dev5->streamlit) (0.12.1)\n",
            "Requirement already satisfied: nbconvert in /usr/local/lib/python3.7/dist-packages (from notebook>=4.4.1->widgetsnbextension~=3.5.0->ipywidgets>=7.0.0->pydeck>=0.1.dev5->streamlit) (5.6.1)\n",
            "Requirement already satisfied: testpath in /usr/local/lib/python3.7/dist-packages (from nbconvert->notebook>=4.4.1->widgetsnbextension~=3.5.0->ipywidgets>=7.0.0->pydeck>=0.1.dev5->streamlit) (0.5.0)\n",
            "Requirement already satisfied: pandocfilters>=1.4.1 in /usr/local/lib/python3.7/dist-packages (from nbconvert->notebook>=4.4.1->widgetsnbextension~=3.5.0->ipywidgets>=7.0.0->pydeck>=0.1.dev5->streamlit) (1.5.0)\n",
            "Requirement already satisfied: mistune<2,>=0.8.1 in /usr/local/lib/python3.7/dist-packages (from nbconvert->notebook>=4.4.1->widgetsnbextension~=3.5.0->ipywidgets>=7.0.0->pydeck>=0.1.dev5->streamlit) (0.8.4)\n",
            "Requirement already satisfied: bleach in /usr/local/lib/python3.7/dist-packages (from nbconvert->notebook>=4.4.1->widgetsnbextension~=3.5.0->ipywidgets>=7.0.0->pydeck>=0.1.dev5->streamlit) (4.1.0)\n",
            "Requirement already satisfied: defusedxml in /usr/local/lib/python3.7/dist-packages (from nbconvert->notebook>=4.4.1->widgetsnbextension~=3.5.0->ipywidgets>=7.0.0->pydeck>=0.1.dev5->streamlit) (0.7.1)\n",
            "Requirement already satisfied: webencodings in /usr/local/lib/python3.7/dist-packages (from bleach->nbconvert->notebook>=4.4.1->widgetsnbextension~=3.5.0->ipywidgets>=7.0.0->pydeck>=0.1.dev5->streamlit) (0.5.1)\n",
            "Requirement already satisfied: pyparsing!=3.0.5,>=2.0.2 in /usr/local/lib/python3.7/dist-packages (from packaging->streamlit) (3.0.6)\n",
            "Requirement already satisfied: idna<3,>=2.5 in /usr/local/lib/python3.7/dist-packages (from requests->streamlit) (2.10)\n",
            "Requirement already satisfied: certifi>=2017.4.17 in /usr/local/lib/python3.7/dist-packages (from requests->streamlit) (2021.10.8)\n",
            "Requirement already satisfied: chardet<4,>=3.0.2 in /usr/local/lib/python3.7/dist-packages (from requests->streamlit) (3.0.4)\n",
            "Requirement already satisfied: urllib3!=1.25.0,!=1.25.1,<1.26,>=1.21.1 in /usr/local/lib/python3.7/dist-packages (from requests->streamlit) (1.24.3)\n",
            "Building wheels for collected packages: blinker\n",
            "  Building wheel for blinker (setup.py) ... \u001b[?25l\u001b[?25hdone\n",
            "  Created wheel for blinker: filename=blinker-1.4-py3-none-any.whl size=13478 sha256=936a0884ad742e30a7efca307ae5c0e29fb45bf94697373732bc8f40624f64cf\n",
            "  Stored in directory: /root/.cache/pip/wheels/22/f5/18/df711b66eb25b21325c132757d4314db9ac5e8dabeaf196eab\n",
            "Successfully built blinker\n",
            "Installing collected packages: prompt-toolkit, ipython, ipykernel, smmap, gitdb, watchdog, validators, pympler, pydeck, gitpython, blinker, base58, streamlit\n",
            "  Attempting uninstall: prompt-toolkit\n",
            "    Found existing installation: prompt-toolkit 1.0.18\n",
            "    Uninstalling prompt-toolkit-1.0.18:\n",
            "      Successfully uninstalled prompt-toolkit-1.0.18\n",
            "  Attempting uninstall: ipython\n",
            "    Found existing installation: ipython 5.5.0\n",
            "    Uninstalling ipython-5.5.0:\n",
            "      Successfully uninstalled ipython-5.5.0\n",
            "  Attempting uninstall: ipykernel\n",
            "    Found existing installation: ipykernel 4.10.1\n",
            "    Uninstalling ipykernel-4.10.1:\n",
            "      Successfully uninstalled ipykernel-4.10.1\n",
            "\u001b[31mERROR: pip's dependency resolver does not currently take into account all the packages that are installed. This behaviour is the source of the following dependency conflicts.\n",
            "jupyter-console 5.2.0 requires prompt-toolkit<2.0.0,>=1.0.0, but you have prompt-toolkit 3.0.24 which is incompatible.\n",
            "google-colab 1.0.0 requires ipykernel~=4.10, but you have ipykernel 6.6.1 which is incompatible.\n",
            "google-colab 1.0.0 requires ipython~=5.5.0, but you have ipython 7.31.0 which is incompatible.\u001b[0m\n",
            "Successfully installed base58-2.1.1 blinker-1.4 gitdb-4.0.9 gitpython-3.1.24 ipykernel-6.6.1 ipython-7.31.0 prompt-toolkit-3.0.24 pydeck-0.7.1 pympler-1.0.1 smmap-5.0.0 streamlit-1.3.1 validators-0.18.2 watchdog-2.1.6\n"
          ]
        },
        {
          "output_type": "display_data",
          "data": {
            "application/vnd.colab-display-data+json": {
              "pip_warning": {
                "packages": [
                  "IPython",
                  "ipykernel",
                  "prompt_toolkit"
                ]
              }
            }
          },
          "metadata": {}
        }
      ]
    },
    {
      "cell_type": "code",
      "execution_count": 2,
      "metadata": {
        "id": "Fu1KDMzRlAGR"
      },
      "outputs": [],
      "source": [
        "import pandas as pd\n",
        "import requests\n",
        "import spacy\n",
        "import streamlit as st\n",
        "import os\n",
        "\n",
        "from spacy import displacy\n",
        "from bs4 import BeautifulSoup\n",
        "# import yfinance as yf\n",
        "# from spacy_streamlit import visualize_ner\n",
        "import matplotlib\n"
      ]
    },
    {
      "cell_type": "code",
      "source": [
        "resp = requests.get(\"https://economictimes.indiatimes.com/markets/stocks/rssfeeds/2146842.cms\")\n",
        "resp"
      ],
      "metadata": {
        "colab": {
          "base_uri": "https://localhost:8080/"
        },
        "id": "Rd2IRLmcSypG",
        "outputId": "3a9fa70b-9012-4497-da00-67b877763059"
      },
      "execution_count": 3,
      "outputs": [
        {
          "output_type": "execute_result",
          "data": {
            "text/plain": [
              "<Response [200]>"
            ]
          },
          "metadata": {},
          "execution_count": 3
        }
      ]
    },
    {
      "cell_type": "code",
      "source": [
        "soup = BeautifulSoup(resp.content,features='xml' )\n",
        "soup"
      ],
      "metadata": {
        "colab": {
          "base_uri": "https://localhost:8080/"
        },
        "id": "pDv59ngeSsrH",
        "outputId": "73888c4c-5489-4221-f232-201f895b10fa"
      },
      "execution_count": 4,
      "outputs": [
        {
          "output_type": "execute_result",
          "data": {
            "text/plain": [
              "<?xml version=\"1.0\" encoding=\"utf-8\"?>\n",
              "<rss version=\"2.0\" xmlns:atom=\"http://www.w3.org/2005/Atom\"><channel><title>Stocks-Markets-Economic Times</title><link>https://economictimes.indiatimes.com/markets/stocks</link><description>Stock Market News: Latest Stock news and updates on The Economic Times. Find Stock Market Live Updates, BSE, NSE Top Gainers, Losers and more.</description><language>en-gb</language><lastBuildDate>2022-01-06T09:28:26+05:30</lastBuildDate><atom:link href=\"https://economictimes.indiatimes.com/rssfeeds/2146842.cms\" rel=\"self\" type=\"application/rss+xml\"/><copyright>Copyright:(C)2022 Bennett Coleman &amp; Co. Ltd, http://info.indiatimes.com/terms/tou.html</copyright><docs>http://syndication.indiatimes.com/</docs><image><title>Economic Times</title><url>https://img.etimg.com/thumb/msid-76939477,width-600,height-60,quality-100/economictimes.jpg</url><link>https://economictimes.indiatimes.com/markets/stocks</link></image><item><title>Add Wipro, target price Rs 750:  HDFC Securities </title><description>&lt;a href=\"https://economictimes.indiatimes.com/markets/stocks/recos/add-wipro-target-price-rs-750-hdfc-securities/articleshow/88725166.cms\"&gt;&lt;img width=\"100\" height=\"75\" border=\"0\" hspace=\"10\" align=\"left\" src=\"https://img.etimg.com/photo/88725166.cms\" /&gt;&lt;/a&gt;Wipro Ltd., incorporated in the year 1945, is a Large Cap company (having a market cap of Rs 391056.45 Crore) operating in IT Software sector.</description><link>https://economictimes.indiatimes.com/markets/stocks/recos/add-wipro-target-price-rs-750-hdfc-securities/articleshow/88725166.cms</link><image>https://img.etimg.com/thumb/width-1200,imgsize-20314,resizemode-4,msid-88725166/add-wipro-target-price-rs-750-hdfc-securities.jpg</image><guid>Article at EconomicTimes.com with article id : 88725166</guid><pubDate>2022-01-06T09:25:02+05:30</pubDate></item><item><title>Listen In: Get the timing right while buying and selling silver ETFs</title><description>&lt;a href=\"https://economictimes.indiatimes.com/markets/stocks/etmarkets-podcast/listen-in-get-the-timing-right-while-buying-and-selling-silver-etfs/podcast/88725033.cms\"&gt;&lt;img width=\"100\" height=\"75\" border=\"0\" hspace=\"10\" align=\"left\" src=\"https://img.etimg.com/photo/88725033.cms\" /&gt;&lt;/a&gt;</description><link>https://economictimes.indiatimes.com/markets/stocks/etmarkets-podcast/listen-in-get-the-timing-right-while-buying-and-selling-silver-etfs/podcast/88725033.cms</link><image>https://img.etimg.com/thumb/width-1200,imgsize-493612,resizemode-4,msid-88725033/listen-in-get-the-timing-right-while-buying-and-selling-silver-etfs.jpg</image><guid>Article at EconomicTimes.com with article id : 88725033</guid><pubDate>2022-01-06T09:15:07+05:30</pubDate></item><item><title>Buy Eicher Motors, target price Rs 2850:  IIFL </title><description>&lt;a href=\"https://economictimes.indiatimes.com/markets/stocks/recos/buy-eicher-motors-target-price-rs-2850-iifl/articleshow/88724940.cms\"&gt;&lt;img width=\"100\" height=\"75\" border=\"0\" hspace=\"10\" align=\"left\" src=\"https://img.etimg.com/photo/88724940.cms\" /&gt;&lt;/a&gt;Eicher Motors Ltd., incorporated in the year 1982, is a Large Cap company (having a market cap of Rs 75966.83 Crore) operating in Auto sector.</description><link>https://economictimes.indiatimes.com/markets/stocks/recos/buy-eicher-motors-target-price-rs-2850-iifl/articleshow/88724940.cms</link><image>https://img.etimg.com/thumb/width-1200,imgsize-1145932,resizemode-4,msid-88724940/buy-eicher-motors-target-price-rs-2850-iifl.jpg</image><guid>Article at EconomicTimes.com with article id : 88724940</guid><pubDate>2022-01-06T09:08:27+05:30</pubDate></item><item><title>Buy Bajaj Finserv, target price Rs 19000:  IIFL </title><description>&lt;a href=\"https://economictimes.indiatimes.com/markets/stocks/recos/buy-bajaj-finserv-target-price-rs-19000-iifl/articleshow/88724869.cms\"&gt;&lt;img width=\"100\" height=\"75\" border=\"0\" hspace=\"10\" align=\"left\" src=\"https://img.etimg.com/photo/88724869.cms\" /&gt;&lt;/a&gt;Bajaj Finserv Ltd., incorporated in the year 2007, is a Large Cap company (having a market cap of Rs 286262.80 Crore) operating in NBFC sector.</description><link>https://economictimes.indiatimes.com/markets/stocks/recos/buy-bajaj-finserv-target-price-rs-19000-iifl/articleshow/88724869.cms</link><image>https://img.etimg.com/thumb/width-1200,imgsize-103118,resizemode-4,msid-88724869/buy-bajaj-finserv-target-price-rs-19000-iifl.jpg</image><guid>Article at EconomicTimes.com with article id : 88724869</guid><pubDate>2022-01-06T09:04:01+05:30</pubDate></item><item><title>Buy Bajaj Finance, target price Rs 8000:  IIFL </title><description>&lt;a href=\"https://economictimes.indiatimes.com/markets/stocks/recos/buy-bajaj-finance-target-price-rs-8000-iifl/articleshow/88724747.cms\"&gt;&lt;img width=\"100\" height=\"75\" border=\"0\" hspace=\"10\" align=\"left\" src=\"https://img.etimg.com/photo/88724747.cms\" /&gt;&lt;/a&gt;Bajaj Finance Ltd., incorporated in the year 1987, is a Large Cap company (having a market cap of Rs 463005.15 Crore) operating in NBFC sector.</description><link>https://economictimes.indiatimes.com/markets/stocks/recos/buy-bajaj-finance-target-price-rs-8000-iifl/articleshow/88724747.cms</link><image>https://img.etimg.com/thumb/width-1200,imgsize-11416,resizemode-4,msid-88724747/buy-bajaj-finance-target-price-rs-8000-iifl.jpg</image><guid>Article at EconomicTimes.com with article id : 88724747</guid><pubDate>2022-01-06T08:56:39+05:30</pubDate></item><item><title>Buy Voltas, target price Rs 1300:  Yes Securities </title><description>&lt;a href=\"https://economictimes.indiatimes.com/markets/stocks/recos/buy-voltas-target-price-rs-1300-yes-securities/articleshow/88724508.cms\"&gt;&lt;img width=\"100\" height=\"75\" border=\"0\" hspace=\"10\" align=\"left\" src=\"https://img.etimg.com/photo/88724508.cms\" /&gt;&lt;/a&gt;Voltas Ltd., incorporated in the year 1954, is a Large Cap company (having a market cap of Rs 41344.05 Crore) operating in Consumer Durables sector.</description><link>https://economictimes.indiatimes.com/markets/stocks/recos/buy-voltas-target-price-rs-1300-yes-securities/articleshow/88724508.cms</link><image>https://img.etimg.com/thumb/width-1200,imgsize-415180,resizemode-4,msid-88724508/buy-voltas-target-price-rs-1300-yes-securities.jpg</image><guid>Article at EconomicTimes.com with article id : 88724508</guid><pubDate>2022-01-06T08:42:24+05:30</pubDate></item><item><title>Buy or Sell: Stock ideas by experts for January 06, 2022</title><description>&lt;a href=\"https://economictimes.indiatimes.com/markets/stocks/news/buy-or-sell-stock-ideas-by-experts-for-january-06-2022/videoshow/88724451.cms\"&gt;&lt;img width=\"100\" height=\"75\" border=\"0\" hspace=\"10\" align=\"left\" src=\"https://img.etimg.com/photo/88724451.cms\" /&gt;&lt;/a&gt;</description><link>https://economictimes.indiatimes.com/markets/stocks/news/buy-or-sell-stock-ideas-by-experts-for-january-06-2022/videoshow/88724451.cms</link><image>https://img.etimg.com/thumb/width-1200,imgsize-28724,resizemode-4,msid-88724451/buy-or-sell-stock-ideas-by-experts-for-january-06-2022.jpg</image><guid>Article at EconomicTimes.com with article id : 88724451</guid><pubDate>2022-01-06T08:39:17+05:30</pubDate></item><item><title>Asian shares fall after hawkish Fed minutes</title><description>&lt;a href=\"https://economictimes.indiatimes.com/markets/stocks/news/asian-shares-fall-after-hawkish-fed-minutes/articleshow/88724299.cms\"&gt;&lt;img width=\"100\" height=\"75\" border=\"0\" hspace=\"10\" align=\"left\" src=\"https://img.etimg.com/photo/88724299.cms\" /&gt;&lt;/a&gt;Asian shares fell on Thursday, extending a global slump after Federal Reserve meeting minutes pointed to a faster-than-expected rise in U.S. interest rates due to concerns about persistent inflation.</description><link>https://economictimes.indiatimes.com/markets/stocks/news/asian-shares-fall-after-hawkish-fed-minutes/articleshow/88724299.cms</link><image>https://img.etimg.com/thumb/width-1200,imgsize-930065,resizemode-4,msid-88724299/asian-shares-fall-after-hawkish-fed-minutes.jpg</image><guid>Article at EconomicTimes.com with article id : 88724299</guid><pubDate>2022-01-06T08:28:47+05:30</pubDate></item><item><title>Stocks in focus: RBL Bank, NHPC, Motherson Sumi and more</title><description>&lt;a href=\"https://economictimes.indiatimes.com/markets/stocks/news/stocks-in-focus-rbl-bank-nhpc-motherson-sumi-and-more/videoshow/88724129.cms\"&gt;&lt;img width=\"100\" height=\"75\" border=\"0\" hspace=\"10\" align=\"left\" src=\"https://img.etimg.com/photo/88724129.cms\" /&gt;&lt;/a&gt;</description><link>https://economictimes.indiatimes.com/markets/stocks/news/stocks-in-focus-rbl-bank-nhpc-motherson-sumi-and-more/videoshow/88724129.cms</link><image>https://img.etimg.com/thumb/width-1200,imgsize-9890,resizemode-4,msid-88724129/stocks-in-focus-rbl-bank-nhpc-motherson-sumi-and-more.jpg</image><guid>Article at EconomicTimes.com with article id : 88724129</guid><pubDate>2022-01-06T08:17:30+05:30</pubDate></item><item><title>SGX Nifty down 120 points; here's what changed for market while you were sleeping</title><description>&lt;a href=\"https://economictimes.indiatimes.com/markets/stocks/news/sgx-nifty-down-120-points-heres-what-changed-for-market-while-you-were-sleeping/articleshow/88723746.cms\"&gt;&lt;img width=\"100\" height=\"75\" border=\"0\" hspace=\"10\" align=\"left\" src=\"https://img.etimg.com/photo/88723746.cms\" /&gt;&lt;/a&gt;Asian markets stocks opened lower on Thursday after two days of rallies, with investors disheartened by falls on Wall Street. MSCI's index of Asia-Pacific shares outside Japan was down by 0.67 per cent.</description><link>https://economictimes.indiatimes.com/markets/stocks/news/sgx-nifty-down-120-points-heres-what-changed-for-market-while-you-were-sleeping/articleshow/88723746.cms</link><image>https://img.etimg.com/thumb/width-1200,imgsize-111659,resizemode-4,msid-88723746/sgx-nifty-down-120-points-heres-what-changed-for-market-while-you-were-sleeping.jpg</image><guid>Article at EconomicTimes.com with article id : 88723746</guid><pubDate>2022-01-06T08:13:03+05:30</pubDate></item><item><title>Stocks in the news: GAIL, Vedanta, NHPC, RBL Bank and Spandana Sphoorty</title><description>&lt;a href=\"https://economictimes.indiatimes.com/markets/stocks/news/stocks-in-the-news-gail-vedanta-nhpc-rbl-bank-and-spandana-sphoorty/articleshow/88723708.cms\"&gt;&lt;img width=\"100\" height=\"75\" border=\"0\" hspace=\"10\" align=\"left\" src=\"https://img.etimg.com/photo/88723708.cms\" /&gt;&lt;/a&gt;Anand Rathi Wealth will announce its results for the period ended on December 31, 2021 and declare interim dividend for the financial year 2021-22.</description><link>https://economictimes.indiatimes.com/markets/stocks/news/stocks-in-the-news-gail-vedanta-nhpc-rbl-bank-and-spandana-sphoorty/articleshow/88723708.cms</link><image>https://img.etimg.com/thumb/width-1200,imgsize-32364,resizemode-4,msid-88723708/stocks-in-the-news-gail-vedanta-nhpc-rbl-bank-and-spandana-sphoorty.jpg</image><guid>Article at EconomicTimes.com with article id : 88723708</guid><pubDate>2022-01-06T07:50:09+05:30</pubDate></item><item><title>Nasdaq posts biggest daily drop since Feb after 'hawkish' Fed minutes</title><description>&lt;a href=\"https://economictimes.indiatimes.com/markets/stocks/news/wall-street-opens-lower-on-tech-drag-fed-minutes-eyed/articleshow/88716369.cms\"&gt;&lt;img width=\"100\" height=\"75\" border=\"0\" hspace=\"10\" align=\"left\" src=\"https://img.etimg.com/photo/88716369.cms\" /&gt;&lt;/a&gt;The S&amp;P 500 and Nasdaq quickly extended their declines after the release of the minutes, which investors viewed as more hawkish than they had feared. The Dow, which hit a record high earlier in the day, reversed course and ended down more than 1%.</description><link>https://economictimes.indiatimes.com/markets/stocks/news/wall-street-opens-lower-on-tech-drag-fed-minutes-eyed/articleshow/88716369.cms</link><image>https://img.etimg.com/thumb/width-1200,imgsize-61672,resizemode-4,msid-88716369/nasdaq-posts-biggest-daily-drop-since-feb-after-hawkish-fed-minutes.jpg</image><guid>Article at EconomicTimes.com with article id : 88716369</guid><pubDate>2022-01-06T07:42:00+05:30</pubDate></item><item><title>Hawkish Fed signals it may have to raise rates sooner to fight inflation</title><description>&lt;a href=\"https://economictimes.indiatimes.com/markets/stocks/news/hawkish-fed-signals-it-may-have-to-raise-rates-sooner-to-fight-inflation/articleshow/88723038.cms\"&gt;&lt;img width=\"100\" height=\"75\" border=\"0\" hspace=\"10\" align=\"left\" src=\"https://img.etimg.com/photo/88723038.cms\" /&gt;&lt;/a&gt;The probability that the Fed would lift interest rates in March for the first time since the pandemic's onset rose to greater than 70%, as tracked by CME Group's FedWatch tool.</description><link>https://economictimes.indiatimes.com/markets/stocks/news/hawkish-fed-signals-it-may-have-to-raise-rates-sooner-to-fight-inflation/articleshow/88723038.cms</link><image>https://img.etimg.com/thumb/width-1200,imgsize-57070,resizemode-4,msid-88723038/hawkish-fed-signals-it-may-have-to-raise-rates-sooner-to-fight-inflation.jpg</image><guid>Article at EconomicTimes.com with article id : 88723038</guid><pubDate>2022-01-06T06:32:20+05:30</pubDate></item><item><title>Lanco Infra lenders value co's Anpara Power Plant at ₹819 cr</title><description>&lt;a href=\"https://economictimes.indiatimes.com/markets/stocks/news/lanco-infra-lenders-value-cos-anpara-power-plant-at-819-cr/articleshow/88722952.cms\"&gt;&lt;img width=\"100\" height=\"75\" border=\"0\" hspace=\"10\" align=\"left\" src=\"https://img.etimg.com/photo/88722952.cms\" /&gt;&lt;/a&gt;The 1200 MW thermal power plant is a rare operational plant with fuel linkages and a power purchase agreement with the UP government. It is still a standard account on banks' books as cash flows have not been impacted despite the parent company facing liquidation.</description><link>https://economictimes.indiatimes.com/markets/stocks/news/lanco-infra-lenders-value-cos-anpara-power-plant-at-819-cr/articleshow/88722952.cms</link><image>https://img.etimg.com/thumb/width-1200,imgsize-30604,resizemode-4,msid-88722952/lanco-infra-lenders-value-cos-anpara-power-plant-at-819-cr.jpg</image><guid>Article at EconomicTimes.com with article id : 88722952</guid><pubDate>2022-01-06T06:14:40+05:30</pubDate></item><item><title>Banks likely to report biz growth amid virus worries</title><description>&lt;a href=\"https://economictimes.indiatimes.com/markets/stocks/news/banks-likely-to-report-biz-growth-amid-virus-worries/articleshow/88722862.cms\"&gt;&lt;img width=\"100\" height=\"75\" border=\"0\" hspace=\"10\" align=\"left\" src=\"https://img.etimg.com/photo/88722862.cms\" /&gt;&lt;/a&gt;Analysts expect non-state banks to report 9% growth in pre-provision operating profit and a 21% expansion in net profit. A recovery in business growth, higher fee income and a gradual reduction in credit costs are seen as the factors that drove profit growth.</description><link>https://economictimes.indiatimes.com/markets/stocks/news/banks-likely-to-report-biz-growth-amid-virus-worries/articleshow/88722862.cms</link><image>https://img.etimg.com/thumb/width-1200,imgsize-105288,resizemode-4,msid-88722862/banks-likely-to-report-biz-growth-amid-virus-worries.jpg</image><guid>Article at EconomicTimes.com with article id : 88722862</guid><pubDate>2022-01-06T06:06:07+05:30</pubDate></item><item><title>Edelweiss Alternate assets head Hemant Daga resigns</title><description>&lt;a href=\"https://economictimes.indiatimes.com/markets/stocks/news/edelweiss-alternate-assets-head-hemant-daga-resigns/articleshow/88723111.cms\"&gt;&lt;img width=\"100\" height=\"75\" border=\"0\" hspace=\"10\" align=\"left\" src=\"https://img.etimg.com/photo/88723111.cms\" /&gt;&lt;/a&gt;Daga, one of the senior most officials at Edelweiss, is understood to have setting up his-won asset management firm. Daga earlier headed Proprietary Trading business for Edelweiss as well as managed a multi asset multi strategy desk. He moved to Edelweiss from ICICI Bank.</description><link>https://economictimes.indiatimes.com/markets/stocks/news/edelweiss-alternate-assets-head-hemant-daga-resigns/articleshow/88723111.cms</link><image>https://img.etimg.com/thumb/width-1200,imgsize-23930,resizemode-4,msid-88723111/edelweiss-alternate-assets-head-hemant-daga-resigns.jpg</image><guid>Article at EconomicTimes.com with article id : 88723111</guid><pubDate>2022-01-05T21:00:39+05:30</pubDate></item><item><title>NSE-BSE bulk deal: Axis Bank sells 38L Orient Green Powershares; IDBI Trustee dumps GTL Infra</title><description>&lt;a href=\"https://economictimes.indiatimes.com/markets/stocks/news/nse-bse-bulk-deal-axis-bank-sells-38l-orient-green-powershares-idbi-trustee-dumps-gtl-infra/articleshow/88717210.cms\"&gt;&lt;img width=\"100\" height=\"75\" border=\"0\" hspace=\"10\" align=\"left\" src=\"https://img.etimg.com/photo/88717210.cms\" /&gt;&lt;/a&gt;IDBI Trusteeship Services sold 17,16,000 shares of GTL Limited at Rs 23.84 per share</description><link>https://economictimes.indiatimes.com/markets/stocks/news/nse-bse-bulk-deal-axis-bank-sells-38l-orient-green-powershares-idbi-trustee-dumps-gtl-infra/articleshow/88717210.cms</link><image>https://img.etimg.com/thumb/width-1200,imgsize-74457,resizemode-4,msid-88717210/nse-bse-bulk-deal-axis-bank-sells-38l-orient-green-powershares-idbi-trustee-dumps-gtl-infra.jpg</image><guid>Article at EconomicTimes.com with article id : 88717210</guid><pubDate>2022-01-05T20:55:44+05:30</pubDate></item><item><title>Ahead of Market: 12 things that will decide stock action on Thursday</title><description>&lt;a href=\"https://economictimes.indiatimes.com/markets/stocks/news/ahead-of-market-12-things-that-will-decide-stock-action-on-thursday/articleshow/88716782.cms\"&gt;&lt;img width=\"100\" height=\"75\" border=\"0\" hspace=\"10\" align=\"left\" src=\"https://img.etimg.com/photo/88716782.cms\" /&gt;&lt;/a&gt;According to analysts, some indicators on the short-term charts have reached overbought levels</description><link>https://economictimes.indiatimes.com/markets/stocks/news/ahead-of-market-12-things-that-will-decide-stock-action-on-thursday/articleshow/88716782.cms</link><image>https://img.etimg.com/thumb/width-1200,imgsize-624482,resizemode-4,msid-88716782/ahead-of-market-12-things-that-will-decide-stock-action-on-thursday.jpg</image><guid>Article at EconomicTimes.com with article id : 88716782</guid><pubDate>2022-01-05T20:36:14+05:30</pubDate></item><item><title>Sebi begins hiring drive ahead of LIC IPO, to recruit 120 execs in 4 months</title><description>&lt;a href=\"https://economictimes.indiatimes.com/markets/stocks/news/sebi-begins-hiring-drive-ahead-of-lic-ipo-to-recruit-120-execs-in-4-months/articleshow/88716328.cms\"&gt;&lt;img width=\"100\" height=\"75\" border=\"0\" hspace=\"10\" align=\"left\" src=\"https://img.etimg.com/photo/88716328.cms\" /&gt;&lt;/a&gt;The regulator will be recruiting experienced officials across legal, information technology, research, general and official language departments</description><link>https://economictimes.indiatimes.com/markets/stocks/news/sebi-begins-hiring-drive-ahead-of-lic-ipo-to-recruit-120-execs-in-4-months/articleshow/88716328.cms</link><image>https://img.etimg.com/thumb/width-1200,imgsize-21630,resizemode-4,msid-88716328/sebi-begins-hiring-drive-ahead-of-lic-ipo-to-recruit-120-execs-in-4-months.jpg</image><guid>Article at EconomicTimes.com with article id : 88716328</guid><pubDate>2022-01-05T20:13:19+05:30</pubDate></item><item><title>Market Watch: Does the VIX signal volatile times ahead?</title><description>&lt;a href=\"https://economictimes.indiatimes.com/markets/stocks/etmarkets-podcast/market-watch-does-the-vix-signal-volatile-times-ahead/podcast/88715783.cms\"&gt;&lt;img width=\"100\" height=\"75\" border=\"0\" hspace=\"10\" align=\"left\" src=\"https://img.etimg.com/photo/88715783.cms\" /&gt;&lt;/a&gt;</description><link>https://economictimes.indiatimes.com/markets/stocks/etmarkets-podcast/market-watch-does-the-vix-signal-volatile-times-ahead/podcast/88715783.cms</link><image>https://img.etimg.com/thumb/width-1200,imgsize-18948,resizemode-4,msid-88715783/market-watch-does-the-vix-signal-volatile-times-ahead.jpg</image><guid>Article at EconomicTimes.com with article id : 88715783</guid><pubDate>2022-01-05T19:27:57+05:30</pubDate></item><item><title>Rajratan going strong on market share, capacity addition</title><description>&lt;a href=\"https://economictimes.indiatimes.com/markets/stocks/news/rajratan-global-wire-on-a-strong-footing-with-capacity-addition-and-improving-market-share/articleshow/88715569.cms\"&gt;&lt;img width=\"100\" height=\"75\" border=\"0\" hspace=\"10\" align=\"left\" src=\"https://img.etimg.com/photo/88715569.cms\" /&gt;&lt;/a&gt;The Indore headquartered company supplies bead wire used to attach inflated tyres to the ream to leading tyres makers including Apollo Tyres, Ceat, MRF, JK Tyre Industries, Balkrishna Industries, and Michelin. Industry consolidation that has resulted in only three bead wire makers in the country and curb on tyre imports have helped RGW to grow sales volume faster than the industry growth rate.</description><link>https://economictimes.indiatimes.com/markets/stocks/news/rajratan-global-wire-on-a-strong-footing-with-capacity-addition-and-improving-market-share/articleshow/88715569.cms</link><image>https://img.etimg.com/thumb/width-1200,imgsize-61180,resizemode-4,msid-88715569/rajratan-going-strong-on-market-share-capacity-addition.jpg</image><guid>Article at EconomicTimes.com with article id : 88715569</guid><pubDate>2022-01-05T19:17:49+05:30</pubDate></item><item><title>Trade setup: Indices may take a breather; Nifty to trade in 17,800-18,000 range</title><description>&lt;a href=\"https://economictimes.indiatimes.com/markets/stocks/news/trade-setup-indices-may-take-a-breather-nifty-to-trade-in-17800-18000-range/articleshow/88715101.cms\"&gt;&lt;img width=\"100\" height=\"75\" border=\"0\" hspace=\"10\" align=\"left\" src=\"https://img.etimg.com/photo/88715101.cms\" /&gt;&lt;/a&gt;Nifty is likely to see resistance at 18,000 on the upside, thus leaving its up move capped for Thursday</description><link>https://economictimes.indiatimes.com/markets/stocks/news/trade-setup-indices-may-take-a-breather-nifty-to-trade-in-17800-18000-range/articleshow/88715101.cms</link><image>https://img.etimg.com/thumb/width-1200,imgsize-189826,resizemode-4,msid-88715101/trade-setup-indices-may-take-a-breather-nifty-to-trade-in-17800-18000-range.jpg</image><guid>Article at EconomicTimes.com with article id : 88715101</guid><pubDate>2022-01-05T18:58:04+05:30</pubDate></item><item><title>Day Trading Guide: Stock recommendation for Thursday</title><description>&lt;a href=\"https://economictimes.indiatimes.com/markets/stocks/news/day-trading-guide-stock-recommendation-for-thursday/articleshow/88714076.cms\"&gt;&lt;img width=\"100\" height=\"75\" border=\"0\" hspace=\"10\" align=\"left\" src=\"https://img.etimg.com/photo/88714076.cms\" /&gt;&lt;/a&gt;Nifty50 has jumped 9.3 per cent from the prior month’s low. In Wednesday's session, Nifty50 ended above 17900 – up 0.6 per cent, forming another bullish candle on the daily chart. </description><link>https://economictimes.indiatimes.com/markets/stocks/news/day-trading-guide-stock-recommendation-for-thursday/articleshow/88714076.cms</link><image>https://img.etimg.com/thumb/width-1200,imgsize-59557,resizemode-4,msid-88714076/day-trading-guide-stock-recommendation-for-thursday.jpg</image><guid>Article at EconomicTimes.com with article id : 88714076</guid><pubDate>2022-01-05T18:03:59+05:30</pubDate></item><item><title>Market movers: What is clipping wings of airline stocks?</title><description>&lt;a href=\"https://economictimes.indiatimes.com/markets/stocks/news/market-movers-what-is-clipping-wings-of-airline-stocks/articleshow/88713915.cms\"&gt;&lt;img width=\"100\" height=\"75\" border=\"0\" hspace=\"10\" align=\"left\" src=\"https://img.etimg.com/photo/88713915.cms\" /&gt;&lt;/a&gt;The sector is feeling the double impact of declining traffic and rising fuel costs</description><link>https://economictimes.indiatimes.com/markets/stocks/news/market-movers-what-is-clipping-wings-of-airline-stocks/articleshow/88713915.cms</link><image>https://img.etimg.com/thumb/width-1200,imgsize-605584,resizemode-4,msid-88713915/market-movers-what-is-clipping-wings-of-airline-stocks.jpg</image><guid>Article at EconomicTimes.com with article id : 88713915</guid><pubDate>2022-01-05T18:00:26+05:30</pubDate></item><item><title>Stock market update: Nifty Auto index  advances  1.05%</title><description>The Nifty Auto index closed 1.05 per cent  up  at 11256.85.</description><link>https://economictimes.indiatimes.com/markets/stocks/stock-watch/stock-market-update-nifty-auto-index-advances-1-05/articleshow/88713174.cms</link><image/><guid>Article at EconomicTimes.com with article id : 88713174</guid><pubDate>2022-01-05T17:27:21+05:30</pubDate></item><item><title>Sensex  rises! These  stocks gained over 10% on BSE</title><description>In the Nifty 50 index, 34 stocks ended in the green, while 16 stocks closed in the red in today's trade. </description><link>https://economictimes.indiatimes.com/markets/stocks/stock-watch/sensex-rises-these-stocks-gained-over-10-on-bse/articleshow/88713055.cms</link><image/><guid>Article at EconomicTimes.com with article id : 88713055</guid><pubDate>2022-01-05T17:22:14+05:30</pubDate></item><item><title>Stock market update: Nifty Pharma index  falls  0.29%</title><description>The Nifty Pharma index closed 0.29 per cent  down  at 13999.85.</description><link>https://economictimes.indiatimes.com/markets/stocks/stock-watch/stock-market-update-nifty-pharma-index-falls-0-29/articleshow/88712918.cms</link><image/><guid>Article at EconomicTimes.com with article id : 88712918</guid><pubDate>2022-01-05T17:17:07+05:30</pubDate></item><item><title>Tech View: Nifty faces 18,000 test; buy on dips, say analysts</title><description>&lt;a href=\"https://economictimes.indiatimes.com/markets/stocks/news/tech-view-nifty-faces-18000-test-buy-on-dips-say-analysts/articleshow/88712844.cms\"&gt;&lt;img width=\"100\" height=\"75\" border=\"0\" hspace=\"10\" align=\"left\" src=\"https://img.etimg.com/photo/88712844.cms\" /&gt;&lt;/a&gt;Some indicators on the short term charts have reached overbought levels, hinting at caution. The index must sustain above 17,748 level as a breach of this can attract some selling pressure on an intraday basis, said Mazhar Mohammad of Chartviewindia.in.</description><link>https://economictimes.indiatimes.com/markets/stocks/news/tech-view-nifty-faces-18000-test-buy-on-dips-say-analysts/articleshow/88712844.cms</link><image>https://img.etimg.com/thumb/width-1200,imgsize-154921,resizemode-4,msid-88712844/tech-view-nifty-faces-18000-test-buy-on-dips-say-analysts.jpg</image><guid>Article at EconomicTimes.com with article id : 88712844</guid><pubDate>2022-01-05T17:15:37+05:30</pubDate></item><item><title>Sensex rallies for 4th day, reclaims 60K mark; Nifty tops 17,900; banking stocks surge</title><description>&lt;a href=\"https://economictimes.indiatimes.com/markets/stocks/news/sensex-rallies-for-4th-day-reclaims-60k-mark-nifty-tops-17900-banking-stocks-surge/videoshow/88712818.cms\"&gt;&lt;img width=\"100\" height=\"75\" border=\"0\" hspace=\"10\" align=\"left\" src=\"https://img.etimg.com/photo/88712818.cms\" /&gt;&lt;/a&gt;</description><link>https://economictimes.indiatimes.com/markets/stocks/news/sensex-rallies-for-4th-day-reclaims-60k-mark-nifty-tops-17900-banking-stocks-surge/videoshow/88712818.cms</link><image>https://img.etimg.com/thumb/width-1200,imgsize-15668,resizemode-4,msid-88712818/sensex-rallies-for-4th-day-reclaims-60k-mark-nifty-tops-17900-banking-stocks-surge.jpg</image><guid>Article at EconomicTimes.com with article id : 88712818</guid><pubDate>2022-01-05T17:13:58+05:30</pubDate></item><item><title>Sensex  rises! These  stocks rallied over 15% on BSE in today's trade</title><description>In the Nifty50 index, 34 stocks closed in the green, while 16 stocks ended in the red. </description><link>https://economictimes.indiatimes.com/markets/stocks/stock-watch/sensex-rises-these-stocks-rallied-over-15-on-bse-in-todays-trade/articleshow/88712781.cms</link><image/><guid>Article at EconomicTimes.com with article id : 88712781</guid><pubDate>2022-01-05T17:11:59+05:30</pubDate></item><item><title>Stock market update: Mining stocks  up  as market  rises </title><description>The 30-share BSE Sensex closed  up  367.22 points at 60223.15</description><link>https://economictimes.indiatimes.com/markets/stocks/stock-watch/stock-market-update-mining-stocks-up-as-market-rises/articleshow/88712636.cms</link><image/><guid>Article at EconomicTimes.com with article id : 88712636</guid><pubDate>2022-01-05T17:06:52+05:30</pubDate></item><item><title>Sensex  rises! But these  stocks fell 5% or more in Wednesday's session</title><description>In the Nifty pack, 34 stocks closed in the green, while 16 stocks ended in the red. </description><link>https://economictimes.indiatimes.com/markets/stocks/stock-watch/sensex-rises-but-these-stocks-fell-5-or-more-in-wednesdays-session/articleshow/88712523.cms</link><image/><guid>Article at EconomicTimes.com with article id : 88712523</guid><pubDate>2022-01-05T17:01:45+05:30</pubDate></item><item><title>Biggest gainers &amp; losers of the day: United Drilling, Panama Petro, HFCL steal the show</title><description>&lt;a href=\"https://economictimes.indiatimes.com/markets/stocks/news/biggest-gainers-losers-of-the-day-united-drilling-panama-petro-hfcl-steal-the-show/articleshow/88712314.cms\"&gt;&lt;img width=\"100\" height=\"75\" border=\"0\" hspace=\"10\" align=\"left\" src=\"https://img.etimg.com/photo/88712314.cms\" /&gt;&lt;/a&gt;\"In a highly volatile session, the domestic market witnessed a recovery following a mild dip though the global sentiments were not in favour of bulls. Increasing Covid cases, leading to stricter restrictions, has pressurised market volatility,\" said Vinod Nair, Head of Research at Geojit Financial Services.</description><link>https://economictimes.indiatimes.com/markets/stocks/news/biggest-gainers-losers-of-the-day-united-drilling-panama-petro-hfcl-steal-the-show/articleshow/88712314.cms</link><image>https://img.etimg.com/thumb/width-1200,imgsize-32364,resizemode-4,msid-88712314/biggest-gainers-losers-of-the-day-united-drilling-panama-petro-hfcl-steal-the-show.jpg</image><guid>Article at EconomicTimes.com with article id : 88712314</guid><pubDate>2022-01-05T16:55:59+05:30</pubDate></item><item><title>Stock market update: Stocks that hit 52-week highs on NSE in today's trade</title><description> GRP Ltd,  Lagnam Spintex,  Talbros Auto,  United Drilling and  Intnl Conveyors, hit their fresh 52-week highs during the day.</description><link>https://economictimes.indiatimes.com/markets/stocks/stock-watch/stock-market-update-stocks-that-hit-52-week-highs-on-nse-in-todays-trade/articleshow/88712290.cms</link><image/><guid>Article at EconomicTimes.com with article id : 88712290</guid><pubDate>2022-01-05T16:51:28+05:30</pubDate></item><item><title>Share market update: Most active stocks in today's market in terms of volume</title><description>The NSE Nifty index closed 120.0 points  up  at 17925.25</description><link>https://economictimes.indiatimes.com/markets/stocks/stock-watch/share-market-update-most-active-stocks-in-todays-market-in-terms-of-volume/articleshow/88712159.cms</link><image/><guid>Article at EconomicTimes.com with article id : 88712159</guid><pubDate>2022-01-05T16:46:20+05:30</pubDate></item><item><title>Stock market update: Nifty Realty index  advances  1.2%</title><description>The Nifty Realty index closed 1.2 per cent  up  at 492.9.</description><link>https://economictimes.indiatimes.com/markets/stocks/stock-watch/stock-market-update-nifty-realty-index-advances-1-2/articleshow/88712035.cms</link><image/><guid>Article at EconomicTimes.com with article id : 88712035</guid><pubDate>2022-01-05T16:41:12+05:30</pubDate></item><item><title>Stock market update: FMCG stocks  up  as market  rises </title><description>The 30-share BSE Sensex closed  up  367.22 points at 60223.15</description><link>https://economictimes.indiatimes.com/markets/stocks/stock-watch/stock-market-update-fmcg-stocks-up-as-market-rises/articleshow/88711797.cms</link><image/><guid>Article at EconomicTimes.com with article id : 88711797</guid><pubDate>2022-01-05T16:30:58+05:30</pubDate></item><item><title>Stock market update: Stocks that hit 52-week lows on NSE in today's trade</title><description> Tech Mahindra,  Infosys,  HCL Tech,  Divis Labs and  Wipro were among the top losers on NSE in today's trade.</description><link>https://economictimes.indiatimes.com/markets/stocks/stock-watch/stock-market-update-stocks-that-hit-52-week-lows-on-nse-in-todays-trade/articleshow/88711683.cms</link><image/><guid>Article at EconomicTimes.com with article id : 88711683</guid><pubDate>2022-01-05T16:25:46+05:30</pubDate></item><item><title>Stock market update: Sugar stocks  down  as market  rises </title><description>The 30-share BSE Sensex closed  up  367.22 points at 60223.15</description><link>https://economictimes.indiatimes.com/markets/stocks/stock-watch/stock-market-update-sugar-stocks-down-as-market-rises/articleshow/88711552.cms</link><image/><guid>Article at EconomicTimes.com with article id : 88711552</guid><pubDate>2022-01-05T16:20:39+05:30</pubDate></item><item><title>Bulls defy weak global cues to extend winning run for 4th day; Sensex leaps 367 pts</title><description>&lt;a href=\"https://economictimes.indiatimes.com/markets/stocks/news/bulls-defy-weak-global-cues-to-extend-winning-run-for-4th-day-sensex-leaps-367-pts/articleshow/88711437.cms\"&gt;&lt;img width=\"100\" height=\"75\" border=\"0\" hspace=\"10\" align=\"left\" src=\"https://img.etimg.com/photo/88711437.cms\" /&gt;&lt;/a&gt;The 30-share pack Sensex advanced 367.22 points or 0.61 per cent to close at 60,223.15. The index has climbed 2,428.83 points in the last four sessions. Its broader peer NSE Nifty rose 120 points or 0.67 per cent to 17,925.25.</description><link>https://economictimes.indiatimes.com/markets/stocks/news/bulls-defy-weak-global-cues-to-extend-winning-run-for-4th-day-sensex-leaps-367-pts/articleshow/88711437.cms</link><image>https://img.etimg.com/thumb/width-1200,imgsize-395399,resizemode-4,msid-88711437/bulls-defy-weak-global-cues-to-extend-winning-run-for-4th-day-sensex-leaps-367-pts.jpg</image><guid>Article at EconomicTimes.com with article id : 88711437</guid><pubDate>2022-01-05T16:16:25+05:30</pubDate></item><item><title>Stock market update: Power stocks  down  as market  rises </title><description>The 30-share BSE Sensex closed  up  367.22 points at 60223.15</description><link>https://economictimes.indiatimes.com/markets/stocks/stock-watch/stock-market-update-power-stocks-down-as-market-rises/articleshow/88711410.cms</link><image/><guid>Article at EconomicTimes.com with article id : 88711410</guid><pubDate>2022-01-05T16:15:33+05:30</pubDate></item><item><title>Stock market update: Nifty Bank index  advances  2.32%</title><description>The Nifty Bank index closed 2.32 per cent  up  at 37695.9.</description><link>https://economictimes.indiatimes.com/markets/stocks/stock-watch/stock-market-update-nifty-bank-index-advances-2-32/articleshow/88711291.cms</link><image/><guid>Article at EconomicTimes.com with article id : 88711291</guid><pubDate>2022-01-05T16:10:26+05:30</pubDate></item><item><title>Share market update: Most active stocks of the day in terms of traded value</title><description>The NSE Nifty index closed 120.0 points  up  at 17925.25</description><link>https://economictimes.indiatimes.com/markets/stocks/stock-watch/share-market-update-most-active-stocks-of-the-day-in-terms-of-traded-value/articleshow/88711164.cms</link><image/><guid>Article at EconomicTimes.com with article id : 88711164</guid><pubDate>2022-01-05T16:05:17+05:30</pubDate></item><item><title>Stock market update: Fertilisers stocks  up  as market  rises </title><description>The 30-share BSE Sensex closed  up  367.22 points at 60223.15</description><link>https://economictimes.indiatimes.com/markets/stocks/stock-watch/stock-market-update-fertilisers-stocks-up-as-market-rises/articleshow/88711013.cms</link><image/><guid>Article at EconomicTimes.com with article id : 88711013</guid><pubDate>2022-01-05T16:00:08+05:30</pubDate></item><item><title>Nippon India MF launches Silver ETF &amp; FOF: All you need to know</title><description>&lt;a href=\"https://economictimes.indiatimes.com/markets/stocks/news/nippon-india-mf-launches-silver-etf-fof-all-you-need-to-know/articleshow/88709791.cms\"&gt;&lt;img width=\"100\" height=\"75\" border=\"0\" hspace=\"10\" align=\"left\" src=\"https://img.etimg.com/photo/88709791.cms\" /&gt;&lt;/a&gt;New fund offers (NFOs) for both schemes will open on January 13 and close on January 27.</description><link>https://economictimes.indiatimes.com/markets/stocks/news/nippon-india-mf-launches-silver-etf-fof-all-you-need-to-know/articleshow/88709791.cms</link><image>https://img.etimg.com/thumb/width-1200,imgsize-79392,resizemode-4,msid-88709791/nippon-india-mf-launches-silver-etf-fof-all-you-need-to-know.jpg</image><guid>Article at EconomicTimes.com with article id : 88709791</guid><pubDate>2022-01-05T15:09:32+05:30</pubDate></item><item><title>Dollar holds below 2-week highs before Fed minutes; yen slides</title><description>&lt;a href=\"https://economictimes.indiatimes.com/markets/stocks/news/dollar-holds-below-2-week-highs-before-fed-minutes-yen-slides/articleshow/88709132.cms\"&gt;&lt;img width=\"100\" height=\"75\" border=\"0\" hspace=\"10\" align=\"left\" src=\"https://img.etimg.com/photo/88709132.cms\" /&gt;&lt;/a&gt;\"If tapering had ended a few months ago, we think the FOMC would be raising policy rates now with the unemployment rate not far above the Fed's long-term target and core and headline inflation ...well above,\" Standard Chartered analysts said.</description><link>https://economictimes.indiatimes.com/markets/stocks/news/dollar-holds-below-2-week-highs-before-fed-minutes-yen-slides/articleshow/88709132.cms</link><image>https://img.etimg.com/thumb/width-1200,imgsize-115320,resizemode-4,msid-88709132/dollar-holds-below-2-week-highs-before-fed-minutes-yen-slides.jpg</image><guid>Article at EconomicTimes.com with article id : 88709132</guid><pubDate>2022-01-05T14:36:11+05:30</pubDate></item><item><title>SRF shares  fall  0.78% as Nifty  gains </title><description>A total of 22,895 shares changed hands on the counter till time (IST).</description><link>https://economictimes.indiatimes.com/markets/stocks/stock-watch/srf-shares-fall-0-78-as-nifty-gains/articleshow/88708717.cms</link><image/><guid>Article at EconomicTimes.com with article id : 88708717</guid><pubDate>2022-01-05T14:10:49+05:30</pubDate></item><item><title>Add Tata Consultancy Services, target price Rs 4350:  HDFC Securities </title><description>&lt;a href=\"https://economictimes.indiatimes.com/markets/stocks/recos/add-tata-consultancy-services-target-price-rs-4350-hdfc-securities/articleshow/88708660.cms\"&gt;&lt;img width=\"100\" height=\"75\" border=\"0\" hspace=\"10\" align=\"left\" src=\"https://img.etimg.com/photo/88708660.cms\" /&gt;&lt;/a&gt;Tata Consultancy Services Ltd., incorporated in the year 1995, is a Large Cap company (having a market cap of Rs 1422525.69 Crore) operating in IT Software sector.</description><link>https://economictimes.indiatimes.com/markets/stocks/recos/add-tata-consultancy-services-target-price-rs-4350-hdfc-securities/articleshow/88708660.cms</link><image>https://img.etimg.com/thumb/width-1200,imgsize-109192,resizemode-4,msid-88708660/add-tata-consultancy-services-target-price-rs-4350-hdfc-securities.jpg</image><guid>Article at EconomicTimes.com with article id : 88708660</guid><pubDate>2022-01-05T14:08:12+05:30</pubDate></item><item><title>InterGlobe shares  fall  2.63% as Nifty  gains </title><description>A total of 32,516 shares changed hands on the counter till time (IST).</description><link>https://economictimes.indiatimes.com/markets/stocks/stock-watch/interglobe-shares-fall-2-63-as-nifty-gains/articleshow/88708608.cms</link><image/><guid>Article at EconomicTimes.com with article id : 88708608</guid><pubDate>2022-01-05T14:05:42+05:30</pubDate></item><item><title>Piramal Ent. shares  fall  1.0% as Nifty  gains </title><description>The stock quoted a 52-week high price of Rs 3013.0 and a 52-week low of Rs 1303.6.</description><link>https://economictimes.indiatimes.com/markets/stocks/stock-watch/piramal-ent-shares-fall-1-0-as-nifty-gains/articleshow/88708523.cms</link><image/><guid>Article at EconomicTimes.com with article id : 88708523</guid><pubDate>2022-01-05T14:00:34+05:30</pubDate></item></channel></rss>"
            ]
          },
          "metadata": {},
          "execution_count": 4
        }
      ]
    },
    {
      "cell_type": "code",
      "source": [
        "soup.find_all('title')"
      ],
      "metadata": {
        "colab": {
          "base_uri": "https://localhost:8080/"
        },
        "id": "tauJMWxbZH5S",
        "outputId": "e0e66462-10cb-4019-81ad-a98e531bc313"
      },
      "execution_count": 5,
      "outputs": [
        {
          "output_type": "execute_result",
          "data": {
            "text/plain": [
              "[<title>Stocks-Markets-Economic Times</title>,\n",
              " <title>Economic Times</title>,\n",
              " <title>Add Wipro, target price Rs 750:  HDFC Securities </title>,\n",
              " <title>Listen In: Get the timing right while buying and selling silver ETFs</title>,\n",
              " <title>Buy Eicher Motors, target price Rs 2850:  IIFL </title>,\n",
              " <title>Buy Bajaj Finserv, target price Rs 19000:  IIFL </title>,\n",
              " <title>Buy Bajaj Finance, target price Rs 8000:  IIFL </title>,\n",
              " <title>Buy Voltas, target price Rs 1300:  Yes Securities </title>,\n",
              " <title>Buy or Sell: Stock ideas by experts for January 06, 2022</title>,\n",
              " <title>Asian shares fall after hawkish Fed minutes</title>,\n",
              " <title>Stocks in focus: RBL Bank, NHPC, Motherson Sumi and more</title>,\n",
              " <title>SGX Nifty down 120 points; here's what changed for market while you were sleeping</title>,\n",
              " <title>Stocks in the news: GAIL, Vedanta, NHPC, RBL Bank and Spandana Sphoorty</title>,\n",
              " <title>Nasdaq posts biggest daily drop since Feb after 'hawkish' Fed minutes</title>,\n",
              " <title>Hawkish Fed signals it may have to raise rates sooner to fight inflation</title>,\n",
              " <title>Lanco Infra lenders value co's Anpara Power Plant at ₹819 cr</title>,\n",
              " <title>Banks likely to report biz growth amid virus worries</title>,\n",
              " <title>Edelweiss Alternate assets head Hemant Daga resigns</title>,\n",
              " <title>NSE-BSE bulk deal: Axis Bank sells 38L Orient Green Powershares; IDBI Trustee dumps GTL Infra</title>,\n",
              " <title>Ahead of Market: 12 things that will decide stock action on Thursday</title>,\n",
              " <title>Sebi begins hiring drive ahead of LIC IPO, to recruit 120 execs in 4 months</title>,\n",
              " <title>Market Watch: Does the VIX signal volatile times ahead?</title>,\n",
              " <title>Rajratan going strong on market share, capacity addition</title>,\n",
              " <title>Trade setup: Indices may take a breather; Nifty to trade in 17,800-18,000 range</title>,\n",
              " <title>Day Trading Guide: Stock recommendation for Thursday</title>,\n",
              " <title>Market movers: What is clipping wings of airline stocks?</title>,\n",
              " <title>Stock market update: Nifty Auto index  advances  1.05%</title>,\n",
              " <title>Sensex  rises! These  stocks gained over 10% on BSE</title>,\n",
              " <title>Stock market update: Nifty Pharma index  falls  0.29%</title>,\n",
              " <title>Tech View: Nifty faces 18,000 test; buy on dips, say analysts</title>,\n",
              " <title>Sensex rallies for 4th day, reclaims 60K mark; Nifty tops 17,900; banking stocks surge</title>,\n",
              " <title>Sensex  rises! These  stocks rallied over 15% on BSE in today's trade</title>,\n",
              " <title>Stock market update: Mining stocks  up  as market  rises </title>,\n",
              " <title>Sensex  rises! But these  stocks fell 5% or more in Wednesday's session</title>,\n",
              " <title>Biggest gainers &amp; losers of the day: United Drilling, Panama Petro, HFCL steal the show</title>,\n",
              " <title>Stock market update: Stocks that hit 52-week highs on NSE in today's trade</title>,\n",
              " <title>Share market update: Most active stocks in today's market in terms of volume</title>,\n",
              " <title>Stock market update: Nifty Realty index  advances  1.2%</title>,\n",
              " <title>Stock market update: FMCG stocks  up  as market  rises </title>,\n",
              " <title>Stock market update: Stocks that hit 52-week lows on NSE in today's trade</title>,\n",
              " <title>Stock market update: Sugar stocks  down  as market  rises </title>,\n",
              " <title>Bulls defy weak global cues to extend winning run for 4th day; Sensex leaps 367 pts</title>,\n",
              " <title>Stock market update: Power stocks  down  as market  rises </title>,\n",
              " <title>Stock market update: Nifty Bank index  advances  2.32%</title>,\n",
              " <title>Share market update: Most active stocks of the day in terms of traded value</title>,\n",
              " <title>Stock market update: Fertilisers stocks  up  as market  rises </title>,\n",
              " <title>Nippon India MF launches Silver ETF &amp; FOF: All you need to know</title>,\n",
              " <title>Dollar holds below 2-week highs before Fed minutes; yen slides</title>,\n",
              " <title>SRF shares  fall  0.78% as Nifty  gains </title>,\n",
              " <title>Add Tata Consultancy Services, target price Rs 4350:  HDFC Securities </title>,\n",
              " <title>InterGlobe shares  fall  2.63% as Nifty  gains </title>,\n",
              " <title>Piramal Ent. shares  fall  1.0% as Nifty  gains </title>]"
            ]
          },
          "metadata": {},
          "execution_count": 5
        }
      ]
    },
    {
      "cell_type": "code",
      "source": [
        "nlp = spacy.load(\"en_core_web_sm\")"
      ],
      "metadata": {
        "id": "0Nr-DGJrZSYY"
      },
      "execution_count": 6,
      "outputs": []
    },
    {
      "cell_type": "code",
      "source": [
        "def extract_text_from_rss(rss_link):\n",
        "    \"\"\"\n",
        "    Parses the XML and extracts the headings from the \n",
        "    links in a python list.\n",
        "    \"\"\"\n",
        "    headings = []\n",
        "    r1 = requests.get('https://economictimes.indiatimes.com/markets/stocks/rssfeeds/2146842.cms')\n",
        "    r2 = requests.get(rss_link)\n",
        "    soup1 = BeautifulSoup(r1.content, features='lxml')\n",
        "    soup2 = BeautifulSoup(r2.content, features='lxml')\n",
        "    headings1 = soup1.findAll('title')\n",
        "    headings2 = (soup2.findAll('title'))\n",
        "    print(headings2)\n",
        "    headings = headings1 + headings2\n",
        "    return headings"
      ],
      "metadata": {
        "id": "6OAEbBntqPz6"
      },
      "execution_count": 7,
      "outputs": []
    },
    {
      "cell_type": "code",
      "source": [
        "token_dict = {\n",
        "    'Org': [],\n",
        "    'Symbol': [],\n",
        "    'currentPrice': [],\n",
        "    'dayHigh': [],\n",
        "    'dayLow': [],\n",
        "    'forwardPE': [],\n",
        "    'dividendYield': []\n",
        "}"
      ],
      "metadata": {
        "id": "f23qBoj8qWoo"
      },
      "execution_count": 8,
      "outputs": []
    },
    {
      "cell_type": "code",
      "source": [
        "def stock_info(headings):\n",
        "    \"\"\"\n",
        "    Goes over each heading to find out the entities\n",
        "    and link it with the nifty 500 companies data.\n",
        "    Extracts the data \n",
        "    \"\"\"\n",
        "    stocks_df = pd.read_csv(\"ind_nifty500list.csv\")\n",
        "    for title in headings:\n",
        "        doc = nlp(title.text)\n",
        "        for token in doc.ents:\n",
        "            try:\n",
        "                if stocks_df['Company Name'].str.contains(token.text).sum():\n",
        "                    symbol = stocks_df[stocks_df['Company Name'].\\\n",
        "                                        str.contains(token.text)]['Symbol'].values[0]\n",
        "                    org_name = stocks_df[stocks_df['Company Name'].\\\n",
        "                                        str.contains(token.text)]['Company Name'].values[0]\n",
        "                    token_dict['Org'].append(org_name)\n",
        "                    print(symbol+\".NS\")\n",
        "                    token_dict['Symbol'].append(symbol)\n",
        "                    stock_info = yf.Ticker(symbol+\".NS\").info\n",
        "                    token_dict['currentPrice'].append(stock_info['currentPrice'])\n",
        "                    token_dict['dayHigh'].append(stock_info['dayHigh'])\n",
        "                    token_dict['dayLow'].append(stock_info['dayLow'])\n",
        "                    token_dict['forwardPE'].append(stock_info['forwardPE'])\n",
        "                    token_dict['dividendYield'].append(stock_info['dividendYield'])\n",
        "                else:\n",
        "                    pass\n",
        "            except:\n",
        "                pass\n",
        "    output_df = pd.DataFrame.from_dict(token_dict,orient='index')\n",
        "    output_df = output_df.transpose()\n",
        "    return output_df"
      ],
      "metadata": {
        "id": "GRiCnGM0qZ_5"
      },
      "execution_count": 16,
      "outputs": []
    },
    {
      "cell_type": "code",
      "source": [
        "user_input = st.text_input(\"Add your RSS link here!\", \"https://www.moneycontrol.com/rss/buzzingstocks.xml\")"
      ],
      "metadata": {
        "colab": {
          "base_uri": "https://localhost:8080/"
        },
        "id": "DZoVSuXPq-BI",
        "outputId": "67864d9c-c4c6-4e98-c96a-8fab190b02b8"
      },
      "execution_count": 10,
      "outputs": [
        {
          "output_type": "stream",
          "name": "stderr",
          "text": [
            "2022-01-06 04:36:14.736 \n",
            "  \u001b[33m\u001b[1mWarning:\u001b[0m to view this Streamlit app on a browser, run it with the following\n",
            "  command:\n",
            "\n",
            "    streamlit run /usr/local/lib/python3.7/dist-packages/ipykernel_launcher.py [ARGUMENTS]\n"
          ]
        }
      ]
    },
    {
      "cell_type": "code",
      "source": [
        "fin_headings = extract_text_from_rss(user_input)"
      ],
      "metadata": {
        "colab": {
          "base_uri": "https://localhost:8080/"
        },
        "id": "qMgSJwbarGg4",
        "outputId": "bd000e2a-65b4-48be-9914-67300ee5a15a"
      },
      "execution_count": 11,
      "outputs": [
        {
          "output_type": "stream",
          "name": "stdout",
          "text": [
            "[<title>Moneycontrol Buzzing Stocks</title>, <title>Moneycontrol Logo</title>, <title>Buzzing Stocks: NHPC, GAIL India, Mahanagar Gas and other stocks in news today</title>, <title>Over 400 stocks hit 52-week high as continued bull run takes Sensex above 60,000</title>, <title>Gainers  Losers: 10 stocks that moved the most on January 5</title>, <title>Gainers  Losers: 10 stocks that moved the most on January 5</title>, <title>More than 100 stocks post double-digit gains in current rally, outperform Nifty 50âs 7% surge from recent low</title>, <title>HFCL share price rises 13% on partnership with Aprecomm</title>, <title>Brokerages expect HDFC Bank to return up to 32%; resumption of credit card issuance to aid margin recovery</title>, <title>Brokerages expect HDFC Bank to return up to 32%; resumption of credit card issuance to aid margin recovery</title>, <title>AU Small Finance Bank shares jump 6%, brokerages expect 28% upside. Here#39;s why</title>, <title>AU Small Finance Bank shares jump 6%, brokerages expect 28% upside. Here#39;s why</title>, <title>Macrotech Developers shares rise 3% on better quarterly sales by UK projects</title>, <title>Buzzing Stocks: Affle India, Hatsun Agro Product, IndiaMART InterMESH and others in news today</title>, <title>Buzzing Stocks: Affle India, Hatsun Agro Product, IndiaMART InterMESH and others in news today</title>, <title>Buzzing Stocks: Affle India, Hatsun Agro Product, IndiaMART InterMESH and others in news today</title>, <title>Block Deals | Value Partners High-Dividend Stocks Fund buys stake in Affle India, Hatsun Agro, IndiaMART, Newgen Software</title>]\n"
          ]
        }
      ]
    },
    {
      "cell_type": "code",
      "source": [
        "output_df = stock_info(fin_headings)"
      ],
      "metadata": {
        "colab": {
          "base_uri": "https://localhost:8080/"
        },
        "id": "sHVlBNhXrNFw",
        "outputId": "a69c9d10-5839-4573-b31e-6c1c7c3461a1"
      },
      "execution_count": 18,
      "outputs": [
        {
          "output_type": "stream",
          "name": "stdout",
          "text": [
            "EICHERMOT.NS\n",
            "BAJAJFINSV.NS\n",
            "VOLTAS.NS\n",
            "ASIANPAINT.NS\n",
            "FEDERALBNK.NS\n",
            "RBLBANK.NS\n",
            "NHPC.NS\n",
            "GAIL.NS\n",
            "VEDL.NS\n",
            "NHPC.NS\n",
            "RBLBANK.NS\n",
            "SPANDANA.NS\n",
            "FEDERALBNK.NS\n",
            "AXISBANK.NS\n",
            "BSE.NS\n",
            "HFCL.NS\n",
            "FEDERALBNK.NS\n",
            "SRF.NS\n",
            "INDIGO.NS\n",
            "PEL.NS\n",
            "NHPC.NS\n",
            "MGL.NS\n",
            "HDFCBANK.NS\n",
            "HDFCBANK.NS\n",
            "AUBANK.NS\n",
            "AUBANK.NS\n",
            "HATSUN.NS\n",
            "HATSUN.NS\n",
            "HATSUN.NS\n",
            "HATSUN.NS\n"
          ]
        }
      ]
    },
    {
      "cell_type": "code",
      "source": [
        "st.dataframe(output_df)"
      ],
      "metadata": {
        "colab": {
          "base_uri": "https://localhost:8080/"
        },
        "id": "rEAz4Pq5sKd6",
        "outputId": "8ac56db6-9595-489a-b680-c0ff7c708baf"
      },
      "execution_count": 19,
      "outputs": [
        {
          "output_type": "execute_result",
          "data": {
            "text/plain": [
              "DeltaGenerator(_root_container=0, _provided_cursor=None, _parent=None, _block_type=None, _form_data=None)"
            ]
          },
          "metadata": {},
          "execution_count": 19
        }
      ]
    },
    {
      "cell_type": "code",
      "source": [
        "with st.expander(\"Expand for Financial News!\"):\n",
        "    for h in fin_headings:\n",
        "        st.markdown(\"* \" + h.text)"
      ],
      "metadata": {
        "id": "LMn9KsbwsOVG"
      },
      "execution_count": 20,
      "outputs": []
    }
  ]
}