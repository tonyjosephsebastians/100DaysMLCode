{
  "nbformat": 4,
  "nbformat_minor": 0,
  "metadata": {
    "colab": {
      "name": "Natural_Language_Processing.ipynb",
      "provenance": [],
      "authorship_tag": "ABX9TyN5X9oI74xC2MIA9ptJfJeQ",
      "include_colab_link": true
    },
    "kernelspec": {
      "display_name": "Python 3",
      "name": "python3"
    },
    "language_info": {
      "name": "python"
    }
  },
  "cells": [
    {
      "cell_type": "markdown",
      "metadata": {
        "id": "view-in-github",
        "colab_type": "text"
      },
      "source": [
        "<a href=\"https://colab.research.google.com/github/tonyjosephsebastians/100DaysMLCode/blob/main/Natural_Language_Processing.ipynb\" target=\"_parent\"><img src=\"https://colab.research.google.com/assets/colab-badge.svg\" alt=\"Open In Colab\"/></a>"
      ]
    },
    {
      "cell_type": "code",
      "metadata": {
        "id": "9p33Mf3Z91BR",
        "colab": {
          "base_uri": "https://localhost:8080/"
        },
        "outputId": "6c9bacaa-8f67-4991-e4c9-e7fc114c7b63"
      },
      "source": [
        "import nltk\n",
        "nltk.download('punkt')"
      ],
      "execution_count": 1,
      "outputs": [
        {
          "output_type": "stream",
          "text": [
            "[nltk_data] Downloading package punkt to /root/nltk_data...\n",
            "[nltk_data]   Unzipping tokenizers/punkt.zip.\n"
          ],
          "name": "stdout"
        },
        {
          "output_type": "execute_result",
          "data": {
            "text/plain": [
              "True"
            ]
          },
          "metadata": {},
          "execution_count": 1
        }
      ]
    },
    {
      "cell_type": "markdown",
      "metadata": {
        "id": "pQojtzgE_SvW"
      },
      "source": [
        "Tokenize the Word and sentence"
      ]
    },
    {
      "cell_type": "code",
      "metadata": {
        "id": "i-iUIJqzAQoE"
      },
      "source": [
        "para = '''Canada is a country in North America. Its ten provinces and three territories extend from the Atlantic to the Pacific and northward into the Arctic Ocean, covering 9.98 million square kilometres (3.85 million square miles), making it the world's second-largest country by total area. Its southern and western border with the United States, stretching 8,891 kilometres (5,525 mi), is the world's longest bi-national land border. Canada's capital is Ottawa, and its three largest metropolitan areas are Toronto, Montreal, and Vancouver.'''"
      ],
      "execution_count": 2,
      "outputs": []
    },
    {
      "cell_type": "code",
      "metadata": {
        "id": "nXB69UuuGNXk"
      },
      "source": [
        "sentece = nltk.sent_tokenize(para)"
      ],
      "execution_count": 3,
      "outputs": []
    },
    {
      "cell_type": "code",
      "metadata": {
        "colab": {
          "base_uri": "https://localhost:8080/"
        },
        "id": "vFUQZZCTGgRZ",
        "outputId": "0080111a-a0fc-4dcd-db3c-92ae6f2418fc"
      },
      "source": [
        "sentece"
      ],
      "execution_count": 4,
      "outputs": [
        {
          "output_type": "execute_result",
          "data": {
            "text/plain": [
              "['Canada is a country in North America.',\n",
              " \"Its ten provinces and three territories extend from the Atlantic to the Pacific and northward into the Arctic Ocean, covering 9.98 million square kilometres (3.85 million square miles), making it the world's second-largest country by total area.\",\n",
              " \"Its southern and western border with the United States, stretching 8,891 kilometres (5,525 mi), is the world's longest bi-national land border.\",\n",
              " \"Canada's capital is Ottawa, and its three largest metropolitan areas are Toronto, Montreal, and Vancouver.\"]"
            ]
          },
          "metadata": {},
          "execution_count": 4
        }
      ]
    },
    {
      "cell_type": "code",
      "metadata": {
        "colab": {
          "base_uri": "https://localhost:8080/"
        },
        "id": "dkby8gMpGjb6",
        "outputId": "89fd35eb-1454-4655-bdd7-d3e694ea48fc"
      },
      "source": [
        "words = nltk.word_tokenize(para)\n",
        "words"
      ],
      "execution_count": 5,
      "outputs": [
        {
          "output_type": "execute_result",
          "data": {
            "text/plain": [
              "['Canada',\n",
              " 'is',\n",
              " 'a',\n",
              " 'country',\n",
              " 'in',\n",
              " 'North',\n",
              " 'America',\n",
              " '.',\n",
              " 'Its',\n",
              " 'ten',\n",
              " 'provinces',\n",
              " 'and',\n",
              " 'three',\n",
              " 'territories',\n",
              " 'extend',\n",
              " 'from',\n",
              " 'the',\n",
              " 'Atlantic',\n",
              " 'to',\n",
              " 'the',\n",
              " 'Pacific',\n",
              " 'and',\n",
              " 'northward',\n",
              " 'into',\n",
              " 'the',\n",
              " 'Arctic',\n",
              " 'Ocean',\n",
              " ',',\n",
              " 'covering',\n",
              " '9.98',\n",
              " 'million',\n",
              " 'square',\n",
              " 'kilometres',\n",
              " '(',\n",
              " '3.85',\n",
              " 'million',\n",
              " 'square',\n",
              " 'miles',\n",
              " ')',\n",
              " ',',\n",
              " 'making',\n",
              " 'it',\n",
              " 'the',\n",
              " 'world',\n",
              " \"'s\",\n",
              " 'second-largest',\n",
              " 'country',\n",
              " 'by',\n",
              " 'total',\n",
              " 'area',\n",
              " '.',\n",
              " 'Its',\n",
              " 'southern',\n",
              " 'and',\n",
              " 'western',\n",
              " 'border',\n",
              " 'with',\n",
              " 'the',\n",
              " 'United',\n",
              " 'States',\n",
              " ',',\n",
              " 'stretching',\n",
              " '8,891',\n",
              " 'kilometres',\n",
              " '(',\n",
              " '5,525',\n",
              " 'mi',\n",
              " ')',\n",
              " ',',\n",
              " 'is',\n",
              " 'the',\n",
              " 'world',\n",
              " \"'s\",\n",
              " 'longest',\n",
              " 'bi-national',\n",
              " 'land',\n",
              " 'border',\n",
              " '.',\n",
              " 'Canada',\n",
              " \"'s\",\n",
              " 'capital',\n",
              " 'is',\n",
              " 'Ottawa',\n",
              " ',',\n",
              " 'and',\n",
              " 'its',\n",
              " 'three',\n",
              " 'largest',\n",
              " 'metropolitan',\n",
              " 'areas',\n",
              " 'are',\n",
              " 'Toronto',\n",
              " ',',\n",
              " 'Montreal',\n",
              " ',',\n",
              " 'and',\n",
              " 'Vancouver',\n",
              " '.']"
            ]
          },
          "metadata": {},
          "execution_count": 5
        }
      ]
    },
    {
      "cell_type": "code",
      "metadata": {
        "id": "NuIhL-kIGsYb"
      },
      "source": [
        "#stemming\n",
        "\n",
        "from nltk.stem import PorterStemmer\n",
        "\n",
        "stem = PorterStemmer()\n"
      ],
      "execution_count": 6,
      "outputs": []
    },
    {
      "cell_type": "code",
      "metadata": {
        "id": "MXzQpxA9PlvV"
      },
      "source": [
        "\n",
        "for i in range(len(sentece)):\n",
        "  words = nltk.word_tokenize(sentece[i])\n",
        "  newword = [stem.stem(word) for word in words]\n",
        "  sentece[i]= ' '.join(newword)"
      ],
      "execution_count": 7,
      "outputs": []
    },
    {
      "cell_type": "code",
      "metadata": {
        "colab": {
          "base_uri": "https://localhost:8080/"
        },
        "id": "NMR4fhmcQhbd",
        "outputId": "50425cf3-147d-4023-80c4-b18b481d3dc6"
      },
      "source": [
        "sentece"
      ],
      "execution_count": 8,
      "outputs": [
        {
          "output_type": "execute_result",
          "data": {
            "text/plain": [
              "['canada is a countri in north america .',\n",
              " \"it ten provinc and three territori extend from the atlant to the pacif and northward into the arctic ocean , cover 9.98 million squar kilometr ( 3.85 million squar mile ) , make it the world 's second-largest countri by total area .\",\n",
              " \"it southern and western border with the unit state , stretch 8,891 kilometr ( 5,525 mi ) , is the world 's longest bi-nat land border .\",\n",
              " \"canada 's capit is ottawa , and it three largest metropolitan area are toronto , montreal , and vancouv .\"]"
            ]
          },
          "metadata": {},
          "execution_count": 8
        }
      ]
    },
    {
      "cell_type": "markdown",
      "metadata": {
        "id": "2LTRxiNNROKQ"
      },
      "source": [
        "**Lemmatization**"
      ]
    },
    {
      "cell_type": "code",
      "metadata": {
        "colab": {
          "base_uri": "https://localhost:8080/"
        },
        "id": "BilQMBCcPq9a",
        "outputId": "a208ac27-1f51-4e76-85c4-0c76d1b82185"
      },
      "source": [
        "nltk.download('wordnet')"
      ],
      "execution_count": 15,
      "outputs": [
        {
          "output_type": "stream",
          "text": [
            "[nltk_data] Downloading package wordnet to /root/nltk_data...\n",
            "[nltk_data]   Unzipping corpora/wordnet.zip.\n"
          ],
          "name": "stdout"
        },
        {
          "output_type": "execute_result",
          "data": {
            "text/plain": [
              "True"
            ]
          },
          "metadata": {},
          "execution_count": 15
        }
      ]
    },
    {
      "cell_type": "code",
      "metadata": {
        "colab": {
          "base_uri": "https://localhost:8080/"
        },
        "id": "GGgXFdJCQoK6",
        "outputId": "07885108-5925-4789-8f5e-e5ed92928908"
      },
      "source": [
        "from nltk.stem import WordNetLemmatizer\n",
        "\n",
        "paragraph = \"The United States forces helping to evacuate Afghans desperate to flee Taliban rule were on alert on Saturday for more attacks after an ISIL-affiliated suicide bombing killed at least 175 people. Thirteen US service members and 162 Afghans died in the attack outside Kabul airport.\"\n",
        "sentences = nltk.sent_tokenize(paragraph)\n",
        "wl = WordNetLemmatizer()\n",
        "sentences"
      ],
      "execution_count": 16,
      "outputs": [
        {
          "output_type": "execute_result",
          "data": {
            "text/plain": [
              "['The United States forces helping to evacuate Afghans desperate to flee Taliban rule were on alert on Saturday for more attacks after an ISIL-affiliated suicide bombing killed at least 175 people.',\n",
              " 'Thirteen US service members and 162 Afghans died in the attack outside Kabul airport.']"
            ]
          },
          "metadata": {},
          "execution_count": 16
        }
      ]
    },
    {
      "cell_type": "code",
      "metadata": {
        "colab": {
          "base_uri": "https://localhost:8080/"
        },
        "id": "TRJ_jTCVSOMh",
        "outputId": "6a8c7086-5743-4517-c668-67827ebb5ae0"
      },
      "source": [
        "for i in range(len(sentences)):\n",
        "  words = nltk.word_tokenize(sentences[i])\n",
        "  newwords = [wl.lemmatize(word) for word in words]\n",
        "  sentences[i] = ''.join(newwords)\n",
        "sentences\n"
      ],
      "execution_count": 17,
      "outputs": [
        {
          "output_type": "execute_result",
          "data": {
            "text/plain": [
              "['TheUnitedStatesforcehelpingtoevacuateAfghansdesperatetofleeTalibanrulewereonalertonSaturdayformoreattackafteranISIL-affiliatedsuicidebombingkilledatleast175people.',\n",
              " 'ThirteenUSservicememberand162AfghansdiedintheattackoutsideKabulairport.']"
            ]
          },
          "metadata": {},
          "execution_count": 17
        }
      ]
    },
    {
      "cell_type": "code",
      "metadata": {
        "id": "msGKEwXYP2Kh"
      },
      "source": [
        "#Stopword removal\n",
        "\n",
        "from nltk.corpus import stopwords"
      ],
      "execution_count": 18,
      "outputs": []
    },
    {
      "cell_type": "code",
      "metadata": {
        "id": "KZNoVupiP86Z"
      },
      "source": [
        "sentences = nltk.sent_tokenize(paragraph) "
      ],
      "execution_count": 19,
      "outputs": []
    },
    {
      "cell_type": "code",
      "metadata": {
        "colab": {
          "base_uri": "https://localhost:8080/"
        },
        "id": "UrcliUvgQpCJ",
        "outputId": "b45955d1-0996-4e7e-f33e-bc206cb34cc9"
      },
      "source": [
        "nltk.download('stopwords')"
      ],
      "execution_count": 22,
      "outputs": [
        {
          "output_type": "stream",
          "text": [
            "[nltk_data] Downloading package stopwords to /root/nltk_data...\n",
            "[nltk_data]   Unzipping corpora/stopwords.zip.\n"
          ],
          "name": "stdout"
        },
        {
          "output_type": "execute_result",
          "data": {
            "text/plain": [
              "True"
            ]
          },
          "metadata": {},
          "execution_count": 22
        }
      ]
    },
    {
      "cell_type": "code",
      "metadata": {
        "colab": {
          "base_uri": "https://localhost:8080/"
        },
        "id": "rY-q0yFuQ64w",
        "outputId": "59710b62-b468-4326-bd15-42b43dd90300"
      },
      "source": [
        "stopwords.words('english')"
      ],
      "execution_count": 24,
      "outputs": [
        {
          "output_type": "execute_result",
          "data": {
            "text/plain": [
              "['i',\n",
              " 'me',\n",
              " 'my',\n",
              " 'myself',\n",
              " 'we',\n",
              " 'our',\n",
              " 'ours',\n",
              " 'ourselves',\n",
              " 'you',\n",
              " \"you're\",\n",
              " \"you've\",\n",
              " \"you'll\",\n",
              " \"you'd\",\n",
              " 'your',\n",
              " 'yours',\n",
              " 'yourself',\n",
              " 'yourselves',\n",
              " 'he',\n",
              " 'him',\n",
              " 'his',\n",
              " 'himself',\n",
              " 'she',\n",
              " \"she's\",\n",
              " 'her',\n",
              " 'hers',\n",
              " 'herself',\n",
              " 'it',\n",
              " \"it's\",\n",
              " 'its',\n",
              " 'itself',\n",
              " 'they',\n",
              " 'them',\n",
              " 'their',\n",
              " 'theirs',\n",
              " 'themselves',\n",
              " 'what',\n",
              " 'which',\n",
              " 'who',\n",
              " 'whom',\n",
              " 'this',\n",
              " 'that',\n",
              " \"that'll\",\n",
              " 'these',\n",
              " 'those',\n",
              " 'am',\n",
              " 'is',\n",
              " 'are',\n",
              " 'was',\n",
              " 'were',\n",
              " 'be',\n",
              " 'been',\n",
              " 'being',\n",
              " 'have',\n",
              " 'has',\n",
              " 'had',\n",
              " 'having',\n",
              " 'do',\n",
              " 'does',\n",
              " 'did',\n",
              " 'doing',\n",
              " 'a',\n",
              " 'an',\n",
              " 'the',\n",
              " 'and',\n",
              " 'but',\n",
              " 'if',\n",
              " 'or',\n",
              " 'because',\n",
              " 'as',\n",
              " 'until',\n",
              " 'while',\n",
              " 'of',\n",
              " 'at',\n",
              " 'by',\n",
              " 'for',\n",
              " 'with',\n",
              " 'about',\n",
              " 'against',\n",
              " 'between',\n",
              " 'into',\n",
              " 'through',\n",
              " 'during',\n",
              " 'before',\n",
              " 'after',\n",
              " 'above',\n",
              " 'below',\n",
              " 'to',\n",
              " 'from',\n",
              " 'up',\n",
              " 'down',\n",
              " 'in',\n",
              " 'out',\n",
              " 'on',\n",
              " 'off',\n",
              " 'over',\n",
              " 'under',\n",
              " 'again',\n",
              " 'further',\n",
              " 'then',\n",
              " 'once',\n",
              " 'here',\n",
              " 'there',\n",
              " 'when',\n",
              " 'where',\n",
              " 'why',\n",
              " 'how',\n",
              " 'all',\n",
              " 'any',\n",
              " 'both',\n",
              " 'each',\n",
              " 'few',\n",
              " 'more',\n",
              " 'most',\n",
              " 'other',\n",
              " 'some',\n",
              " 'such',\n",
              " 'no',\n",
              " 'nor',\n",
              " 'not',\n",
              " 'only',\n",
              " 'own',\n",
              " 'same',\n",
              " 'so',\n",
              " 'than',\n",
              " 'too',\n",
              " 'very',\n",
              " 's',\n",
              " 't',\n",
              " 'can',\n",
              " 'will',\n",
              " 'just',\n",
              " 'don',\n",
              " \"don't\",\n",
              " 'should',\n",
              " \"should've\",\n",
              " 'now',\n",
              " 'd',\n",
              " 'll',\n",
              " 'm',\n",
              " 'o',\n",
              " 're',\n",
              " 've',\n",
              " 'y',\n",
              " 'ain',\n",
              " 'aren',\n",
              " \"aren't\",\n",
              " 'couldn',\n",
              " \"couldn't\",\n",
              " 'didn',\n",
              " \"didn't\",\n",
              " 'doesn',\n",
              " \"doesn't\",\n",
              " 'hadn',\n",
              " \"hadn't\",\n",
              " 'hasn',\n",
              " \"hasn't\",\n",
              " 'haven',\n",
              " \"haven't\",\n",
              " 'isn',\n",
              " \"isn't\",\n",
              " 'ma',\n",
              " 'mightn',\n",
              " \"mightn't\",\n",
              " 'mustn',\n",
              " \"mustn't\",\n",
              " 'needn',\n",
              " \"needn't\",\n",
              " 'shan',\n",
              " \"shan't\",\n",
              " 'shouldn',\n",
              " \"shouldn't\",\n",
              " 'wasn',\n",
              " \"wasn't\",\n",
              " 'weren',\n",
              " \"weren't\",\n",
              " 'won',\n",
              " \"won't\",\n",
              " 'wouldn',\n",
              " \"wouldn't\"]"
            ]
          },
          "metadata": {},
          "execution_count": 24
        }
      ]
    },
    {
      "cell_type": "code",
      "metadata": {
        "colab": {
          "base_uri": "https://localhost:8080/"
        },
        "id": "RjV-IDJeQB4Z",
        "outputId": "401439a3-381b-45b6-d860-4417f2bbe29f"
      },
      "source": [
        "sent = []\n",
        "for i in range(len(sentences)):\n",
        "  words = nltk.word_tokenize(sentences[i])\n",
        "  print(words)\n",
        "  newword = [word for word in words if word not in stopwords.words('english')]\n",
        "  sent.append(newword)\n",
        "newword"
      ],
      "execution_count": 26,
      "outputs": [
        {
          "output_type": "stream",
          "text": [
            "['Thirteen', 'US', 'service', 'member', 'and', '162', 'Afghans', 'died', 'in', 'the', 'attack', 'outside', 'Kabul', 'airport', '.']\n",
            "['Thirteen', 'US', 'service', 'member', 'and', '162', 'Afghans', 'died', 'in', 'the', 'attack', 'outside', 'Kabul', 'airport', '.']\n"
          ],
          "name": "stdout"
        },
        {
          "output_type": "execute_result",
          "data": {
            "text/plain": [
              "['Thirteen',\n",
              " 'US',\n",
              " 'service',\n",
              " 'member',\n",
              " '162',\n",
              " 'Afghans',\n",
              " 'died',\n",
              " 'attack',\n",
              " 'outside',\n",
              " 'Kabul',\n",
              " 'airport',\n",
              " '.']"
            ]
          },
          "metadata": {},
          "execution_count": 26
        }
      ]
    },
    {
      "cell_type": "code",
      "metadata": {
        "id": "qIavmPZ9QsCE"
      },
      "source": [
        "#Building a Bags of Word Model"
      ],
      "execution_count": null,
      "outputs": []
    },
    {
      "cell_type": "code",
      "metadata": {
        "id": "FFSuScFHR9Kw"
      },
      "source": [
        "\n",
        "# import libraries\n",
        "import nltk\n",
        "import re\n",
        "import heapq\n",
        "import numpy as np"
      ],
      "execution_count": 27,
      "outputs": []
    },
    {
      "cell_type": "code",
      "metadata": {
        "id": "GpY6tuDuR_FG"
      },
      "source": [
        "para = ''' he virus can spread from an infected person’s mouth or nose in small liquid particles when they cough, sneeze, speak, sing or breathe. These particles range from larger respiratory droplets to smaller aerosols.'''"
      ],
      "execution_count": 28,
      "outputs": []
    },
    {
      "cell_type": "code",
      "metadata": {
        "colab": {
          "base_uri": "https://localhost:8080/"
        },
        "id": "HbLkAGU6SPtY",
        "outputId": "6f8fee28-9edb-4266-9088-9ee95e874d15"
      },
      "source": [
        "data = nltk.sent_tokenize(para)\n",
        "data"
      ],
      "execution_count": 29,
      "outputs": [
        {
          "output_type": "execute_result",
          "data": {
            "text/plain": [
              "[' he virus can spread from an infected person’s mouth or nose in small liquid particles when they cough, sneeze, speak, sing or breathe.',\n",
              " 'These particles range from larger respiratory droplets to smaller aerosols.']"
            ]
          },
          "metadata": {},
          "execution_count": 29
        }
      ]
    },
    {
      "cell_type": "code",
      "metadata": {
        "id": "Mj2sPCtySVBg"
      },
      "source": [
        "#  Clean the text\n",
        "for i in range(len(data)):\n",
        "    data[i] = data[i].lower()\n",
        "    data[i] = re.sub(r'\\W',' ', data[i])\n",
        "    data[i] = re.sub(r'\\s+',' ', data[i])"
      ],
      "execution_count": 31,
      "outputs": []
    },
    {
      "cell_type": "code",
      "metadata": {
        "colab": {
          "base_uri": "https://localhost:8080/"
        },
        "id": "sg13XUJUSj4w",
        "outputId": "95d27c53-798a-4f6b-d0ca-d24b0e2c2ede"
      },
      "source": [
        "#creating the histogram\n",
        "\n",
        "word2count = {}\n",
        "for d in data:\n",
        "  words = nltk.word_tokenize(d)\n",
        "\n",
        "  for word in words:\n",
        "    if word not in word2count.keys():\n",
        "      word2count[word] =1\n",
        "    else:\n",
        "       word2count[word] +=1\n",
        "\n",
        "word2count\n"
      ],
      "execution_count": 33,
      "outputs": [
        {
          "output_type": "execute_result",
          "data": {
            "text/plain": [
              "{'aerosols': 1,\n",
              " 'an': 1,\n",
              " 'breathe': 1,\n",
              " 'can': 1,\n",
              " 'cough': 1,\n",
              " 'droplets': 1,\n",
              " 'from': 2,\n",
              " 'he': 1,\n",
              " 'in': 1,\n",
              " 'infected': 1,\n",
              " 'larger': 1,\n",
              " 'liquid': 1,\n",
              " 'mouth': 1,\n",
              " 'nose': 1,\n",
              " 'or': 2,\n",
              " 'particles': 2,\n",
              " 'person': 1,\n",
              " 'range': 1,\n",
              " 'respiratory': 1,\n",
              " 's': 1,\n",
              " 'sing': 1,\n",
              " 'small': 1,\n",
              " 'smaller': 1,\n",
              " 'sneeze': 1,\n",
              " 'speak': 1,\n",
              " 'spread': 1,\n",
              " 'these': 1,\n",
              " 'they': 1,\n",
              " 'to': 1,\n",
              " 'virus': 1,\n",
              " 'when': 1}"
            ]
          },
          "metadata": {},
          "execution_count": 33
        }
      ]
    },
    {
      "cell_type": "code",
      "metadata": {
        "colab": {
          "base_uri": "https://localhost:8080/"
        },
        "id": "Dv_65rebTg55",
        "outputId": "7959992c-75fa-4c4c-8eaa-de5f9f06a709"
      },
      "source": [
        "# take a 100 most frequent words from above dictionaries\n",
        "freq_words = heapq.nlargest(100, word2count, key= word2count.get)\n",
        "freq_words"
      ],
      "execution_count": 35,
      "outputs": [
        {
          "output_type": "execute_result",
          "data": {
            "text/plain": [
              "['from',\n",
              " 'or',\n",
              " 'particles',\n",
              " 'he',\n",
              " 'virus',\n",
              " 'can',\n",
              " 'spread',\n",
              " 'an',\n",
              " 'infected',\n",
              " 'person',\n",
              " 's',\n",
              " 'mouth',\n",
              " 'nose',\n",
              " 'in',\n",
              " 'small',\n",
              " 'liquid',\n",
              " 'when',\n",
              " 'they',\n",
              " 'cough',\n",
              " 'sneeze',\n",
              " 'speak',\n",
              " 'sing',\n",
              " 'breathe',\n",
              " 'these',\n",
              " 'range',\n",
              " 'larger',\n",
              " 'respiratory',\n",
              " 'droplets',\n",
              " 'to',\n",
              " 'smaller',\n",
              " 'aerosols']"
            ]
          },
          "metadata": {},
          "execution_count": 35
        }
      ]
    },
    {
      "cell_type": "code",
      "metadata": {
        "id": "-JHUTDpUTsfm"
      },
      "source": [
        "#  building our BOW model\n",
        "\n",
        "X = []\n",
        "for d in data:\n",
        "    vector = []\n",
        "    for word in freq_words:\n",
        "        if word in nltk.word_tokenize(d):\n",
        "            vector.append(1)\n",
        "        else:\n",
        "            vector.append(0)\n",
        "    X.append(vector)\n",
        "\n",
        "X = np.array(X)\n"
      ],
      "execution_count": 38,
      "outputs": []
    },
    {
      "cell_type": "code",
      "metadata": {
        "colab": {
          "base_uri": "https://localhost:8080/"
        },
        "id": "nDv48CadY27O",
        "outputId": "3ac6be9a-119a-42e1-e355-0d1e59427b80"
      },
      "source": [
        "X"
      ],
      "execution_count": 39,
      "outputs": [
        {
          "output_type": "execute_result",
          "data": {
            "text/plain": [
              "array([[1, 1, 1, 1, 1, 1, 1, 1, 1, 1, 1, 1, 1, 1, 1, 1, 1, 1, 1, 1, 1, 1,\n",
              "        1, 0, 0, 0, 0, 0, 0, 0, 0],\n",
              "       [1, 0, 1, 0, 0, 0, 0, 0, 0, 0, 0, 0, 0, 0, 0, 0, 0, 0, 0, 0, 0, 0,\n",
              "        0, 1, 1, 1, 1, 1, 1, 1, 1]])"
            ]
          },
          "metadata": {},
          "execution_count": 39
        }
      ]
    },
    {
      "cell_type": "code",
      "metadata": {
        "id": "5pvyjuYEY4Yz"
      },
      "source": [
        "#Building the TF-IDF Model"
      ],
      "execution_count": 40,
      "outputs": []
    },
    {
      "cell_type": "code",
      "metadata": {
        "id": "tyZ16Z14m4Vh"
      },
      "source": [
        "# IDF Matrix\n",
        "\n",
        "word_idfs = {}\n",
        "for word in  freq_words:\n",
        "    doc_count = 0\n",
        "    for d in data:\n",
        "        if word in nltk.word_tokenize(d):\n",
        "            doc_count += 1\n",
        "    word_idfs[word] = np.log((len(data)/doc_count)+1)"
      ],
      "execution_count": 46,
      "outputs": []
    },
    {
      "cell_type": "code",
      "metadata": {
        "colab": {
          "base_uri": "https://localhost:8080/"
        },
        "id": "vMxYc-gxZZMD",
        "outputId": "24c14308-e775-42da-b311-a0a31ed9b61c"
      },
      "source": [
        "# TF Matrix\n",
        "\n",
        "tf_Matrix={}\n",
        "\n",
        "for word in freq_words:\n",
        "  doc_tf=[]\n",
        "  for d in data:\n",
        "    freq=0\n",
        "    for w in nltk.word_tokenize(d):\n",
        "      if w == word :\n",
        "        freq +=1\n",
        "        tf_word = freq/len(nltk.word_tokenize(d))\n",
        "        doc_tf.append(tf_word)\n",
        "    tf_Matrix[word] = doc_tf\n",
        "\n",
        "tf_Matrix"
      ],
      "execution_count": 44,
      "outputs": [
        {
          "output_type": "execute_result",
          "data": {
            "text/plain": [
              "{'aerosols': [0.1],\n",
              " 'an': [0.041666666666666664],\n",
              " 'breathe': [0.041666666666666664],\n",
              " 'can': [0.041666666666666664],\n",
              " 'cough': [0.041666666666666664],\n",
              " 'droplets': [0.1],\n",
              " 'from': [0.041666666666666664, 0.1],\n",
              " 'he': [0.041666666666666664],\n",
              " 'in': [0.041666666666666664],\n",
              " 'infected': [0.041666666666666664],\n",
              " 'larger': [0.1],\n",
              " 'liquid': [0.041666666666666664],\n",
              " 'mouth': [0.041666666666666664],\n",
              " 'nose': [0.041666666666666664],\n",
              " 'or': [0.041666666666666664, 0.08333333333333333],\n",
              " 'particles': [0.041666666666666664, 0.1],\n",
              " 'person': [0.041666666666666664],\n",
              " 'range': [0.1],\n",
              " 'respiratory': [0.1],\n",
              " 's': [0.041666666666666664],\n",
              " 'sing': [0.041666666666666664],\n",
              " 'small': [0.041666666666666664],\n",
              " 'smaller': [0.1],\n",
              " 'sneeze': [0.041666666666666664],\n",
              " 'speak': [0.041666666666666664],\n",
              " 'spread': [0.041666666666666664],\n",
              " 'these': [0.1],\n",
              " 'they': [0.041666666666666664],\n",
              " 'to': [0.1],\n",
              " 'virus': [0.041666666666666664],\n",
              " 'when': [0.041666666666666664]}"
            ]
          },
          "metadata": {},
          "execution_count": 44
        }
      ]
    },
    {
      "cell_type": "code",
      "metadata": {
        "id": "bbGR_ssTmxMO"
      },
      "source": [
        ""
      ],
      "execution_count": null,
      "outputs": []
    },
    {
      "cell_type": "code",
      "metadata": {
        "id": "p5TdMecRkky4"
      },
      "source": [
        "#TF-IDF Calculation\n",
        "\n",
        "tfidf_matrix =[]\n",
        "for word in tf_Matrix.keys():\n",
        "    tfidf = []\n",
        "    for value in tf_Matrix[word]:\n",
        "        score = value * word_idfs[word]\n",
        "        tfidf.append(score)\n",
        "    tfidf_matrix.append(tfidf)\n"
      ],
      "execution_count": 48,
      "outputs": []
    },
    {
      "cell_type": "code",
      "metadata": {
        "colab": {
          "base_uri": "https://localhost:8080/"
        },
        "id": "j16WRa1OnTq6",
        "outputId": "5cf93fa9-8f93-4957-f4a0-ee26081acf03"
      },
      "source": [
        "X = np.array(tfidf_matrix)"
      ],
      "execution_count": 49,
      "outputs": [
        {
          "output_type": "stream",
          "text": [
            "/usr/local/lib/python3.7/dist-packages/ipykernel_launcher.py:1: VisibleDeprecationWarning: Creating an ndarray from ragged nested sequences (which is a list-or-tuple of lists-or-tuples-or ndarrays with different lengths or shapes) is deprecated. If you meant to do this, you must specify 'dtype=object' when creating the ndarray\n",
            "  \"\"\"Entry point for launching an IPython kernel.\n"
          ],
          "name": "stderr"
        }
      ]
    },
    {
      "cell_type": "code",
      "metadata": {
        "colab": {
          "base_uri": "https://localhost:8080/"
        },
        "id": "P60gfUeFnZAB",
        "outputId": "e36495f1-05f5-4290-e386-f03e08d41041"
      },
      "source": [
        "TF_IDF_Model = np.transpose(X)\n",
        "TF_IDF_Model"
      ],
      "execution_count": 50,
      "outputs": [
        {
          "output_type": "execute_result",
          "data": {
            "text/plain": [
              "array([list([0.028881132523331052, 0.06931471805599453]),\n",
              "       list([0.0457755120278379, 0.0915510240556758]),\n",
              "       list([0.028881132523331052, 0.06931471805599453]),\n",
              "       list([0.0457755120278379]), list([0.0457755120278379]),\n",
              "       list([0.0457755120278379]), list([0.0457755120278379]),\n",
              "       list([0.0457755120278379]), list([0.0457755120278379]),\n",
              "       list([0.0457755120278379]), list([0.0457755120278379]),\n",
              "       list([0.0457755120278379]), list([0.0457755120278379]),\n",
              "       list([0.0457755120278379]), list([0.0457755120278379]),\n",
              "       list([0.0457755120278379]), list([0.0457755120278379]),\n",
              "       list([0.0457755120278379]), list([0.0457755120278379]),\n",
              "       list([0.0457755120278379]), list([0.0457755120278379]),\n",
              "       list([0.0457755120278379]), list([0.0457755120278379]),\n",
              "       list([0.10986122886681099]), list([0.10986122886681099]),\n",
              "       list([0.10986122886681099]), list([0.10986122886681099]),\n",
              "       list([0.10986122886681099]), list([0.10986122886681099]),\n",
              "       list([0.10986122886681099]), list([0.10986122886681099])],\n",
              "      dtype=object)"
            ]
          },
          "metadata": {},
          "execution_count": 50
        }
      ]
    },
    {
      "cell_type": "markdown",
      "metadata": {
        "id": "u7CyxHz_nful"
      },
      "source": [
        "**Latent Semantic Analysis using Scikit Learn and nltk**"
      ]
    },
    {
      "cell_type": "code",
      "metadata": {
        "colab": {
          "base_uri": "https://localhost:8080/"
        },
        "id": "k_ZM6yogoAEn",
        "outputId": "d295d80b-ee4b-46ec-db0e-72e10200139f"
      },
      "source": [
        "!pip install sklearn"
      ],
      "execution_count": 53,
      "outputs": [
        {
          "output_type": "stream",
          "text": [
            "Requirement already satisfied: sklearn in /usr/local/lib/python3.7/dist-packages (0.0)\n",
            "Requirement already satisfied: scikit-learn in /usr/local/lib/python3.7/dist-packages (from sklearn) (0.22.2.post1)\n",
            "Requirement already satisfied: scipy>=0.17.0 in /usr/local/lib/python3.7/dist-packages (from scikit-learn->sklearn) (1.4.1)\n",
            "Requirement already satisfied: numpy>=1.11.0 in /usr/local/lib/python3.7/dist-packages (from scikit-learn->sklearn) (1.19.5)\n",
            "Requirement already satisfied: joblib>=0.11 in /usr/local/lib/python3.7/dist-packages (from scikit-learn->sklearn) (1.0.1)\n"
          ],
          "name": "stdout"
        }
      ]
    },
    {
      "cell_type": "code",
      "metadata": {
        "id": "RW-d2Sn6nbM9"
      },
      "source": [
        "#imort the libraries\n",
        "\n",
        "from sklearn.feature_extraction.text import TfidfVectorizer\n",
        "from sklearn.decomposition import TruncatedSVD\n",
        "import nltk"
      ],
      "execution_count": 55,
      "outputs": []
    },
    {
      "cell_type": "code",
      "metadata": {
        "id": "TI_co7RsoV5J"
      },
      "source": [
        "dataset = [\"The amount of population is increase day by day\",\n",
        "          \"The concert was just a great\",\n",
        "          \"I love to see Gordon Ramsay cook\",\n",
        "           \"Google introducing a new technology\",\n",
        "          \"AI Robot are example of AI technology present today\",\n",
        "          \"All of us singing in the concert\",\n",
        "          \"We have launch compaigns to stop popullation and Global warming\"]\n",
        "\n",
        "\n",
        "          "
      ],
      "execution_count": 56,
      "outputs": []
    },
    {
      "cell_type": "code",
      "metadata": {
        "colab": {
          "base_uri": "https://localhost:8080/"
        },
        "id": "yFyNxnPsoiGl",
        "outputId": "4399bca3-6dd6-4da6-c9ca-38e5bce4b41c"
      },
      "source": [
        "dataset = [line.lower() for line in dataset]\n",
        "\n",
        "dataset"
      ],
      "execution_count": 58,
      "outputs": [
        {
          "output_type": "execute_result",
          "data": {
            "text/plain": [
              "['the amount of population is increase day by day',\n",
              " 'the concert was just a great',\n",
              " 'i love to see gordon ramsay cook',\n",
              " 'google introducing a new technology',\n",
              " 'ai robot are example of ai technology present today',\n",
              " 'all of us singing in the concert',\n",
              " 'we have launch compaigns to stop popullation and global warming']"
            ]
          },
          "metadata": {},
          "execution_count": 58
        }
      ]
    },
    {
      "cell_type": "code",
      "metadata": {
        "id": "702iRCF7orNl"
      },
      "source": [
        "#Convert to TF-IDF Model\n",
        "\n",
        "vect = TfidfVectorizer()\n",
        "\n",
        "X = vect.fit_transform(dataset)"
      ],
      "execution_count": 60,
      "outputs": []
    },
    {
      "cell_type": "code",
      "metadata": {
        "colab": {
          "base_uri": "https://localhost:8080/"
        },
        "id": "XVdKIdtZo_BM",
        "outputId": "e6e87488-5532-42fe-a133-cf45fea90975"
      },
      "source": [
        "X"
      ],
      "execution_count": 61,
      "outputs": [
        {
          "output_type": "execute_result",
          "data": {
            "text/plain": [
              "<7x41 sparse matrix of type '<class 'numpy.float64'>'\n",
              "\twith 48 stored elements in Compressed Sparse Row format>"
            ]
          },
          "metadata": {},
          "execution_count": 61
        }
      ]
    },
    {
      "cell_type": "code",
      "metadata": {
        "colab": {
          "base_uri": "https://localhost:8080/"
        },
        "id": "MwdBLCpLpAxx",
        "outputId": "fc0b92e8-7785-4445-97ae-75ba058cd0ad"
      },
      "source": [
        "# lSA\n",
        "lsa = TruncatedSVD(n_components = 4, n_iter = 100)\n",
        "lsa.fit(X)"
      ],
      "execution_count": 62,
      "outputs": [
        {
          "output_type": "execute_result",
          "data": {
            "text/plain": [
              "TruncatedSVD(algorithm='randomized', n_components=4, n_iter=100,\n",
              "             random_state=None, tol=0.0)"
            ]
          },
          "metadata": {},
          "execution_count": 62
        }
      ]
    },
    {
      "cell_type": "code",
      "metadata": {
        "id": "nX_LcwD-pQlk"
      },
      "source": [
        "row1 = lsa.components_[0]"
      ],
      "execution_count": 63,
      "outputs": []
    },
    {
      "cell_type": "code",
      "metadata": {
        "colab": {
          "base_uri": "https://localhost:8080/"
        },
        "id": "0-MNcevRpTqI",
        "outputId": "59f23b1a-6f0f-4209-f63e-9dbe002cc7c2"
      },
      "source": [
        "\n",
        "terms = vect.get_feature_names()\n",
        "for i, comp in enumerate(lsa.components_):\n",
        "    componentTerms = zip(terms, comp)\n",
        "    sortedTerms = sorted(componentTerms, key=lambda x:x[1], reverse=True)\n",
        "    sortedTerms = sortedTerms[:10]\n",
        "    print(\"\\nConcept\",i, \":\")\n",
        "    for term in sortedTerms:\n",
        "        print(term)"
      ],
      "execution_count": 64,
      "outputs": [
        {
          "output_type": "stream",
          "text": [
            "\n",
            "Concept 0 :\n",
            "('the', 0.4259712396390569)\n",
            "('concert', 0.39998286562925633)\n",
            "('of', 0.2938250158823824)\n",
            "('great', 0.24619048735802215)\n",
            "('just', 0.24619048735802215)\n",
            "('was', 0.24619048735802215)\n",
            "('day', 0.23699958677792798)\n",
            "('all', 0.23566672236585856)\n",
            "('in', 0.23566672236585856)\n",
            "('singing', 0.23566672236585856)\n",
            "\n",
            "Concept 1 :\n",
            "('technology', 0.4518449046133097)\n",
            "('ai', 0.397941336968276)\n",
            "('google', 0.345364461027963)\n",
            "('introducing', 0.345364461027963)\n",
            "('new', 0.345364461027963)\n",
            "('are', 0.19897066848413789)\n",
            "('example', 0.19897066848413789)\n",
            "('present', 0.19897066848413789)\n",
            "('robot', 0.19897066848413789)\n",
            "('today', 0.19897066848413786)\n",
            "\n",
            "Concept 2 :\n",
            "('to', 0.4157884439670069)\n",
            "('cook', 0.28359165793510743)\n",
            "('gordon', 0.28359165793510743)\n",
            "('love', 0.28359165793510743)\n",
            "('ramsay', 0.28359165793510743)\n",
            "('see', 0.28359165793510743)\n",
            "('and', 0.21730644711292466)\n",
            "('compaigns', 0.21730644711292466)\n",
            "('global', 0.21730644711292466)\n",
            "('have', 0.21730644711292466)\n",
            "\n",
            "Concept 3 :\n",
            "('day', 0.5130530624437475)\n",
            "('amount', 0.25652653122187374)\n",
            "('by', 0.25652653122187374)\n",
            "('increase', 0.25652653122187374)\n",
            "('is', 0.25652653122187374)\n",
            "('population', 0.25652653122187374)\n",
            "('of', 0.17865460887270956)\n",
            "('ai', 0.11695203723130698)\n",
            "('today', 0.058476018615653554)\n",
            "('are', 0.05847601861565355)\n"
          ],
          "name": "stdout"
        }
      ]
    },
    {
      "cell_type": "code",
      "metadata": {
        "id": "uYlWrJE0piqJ"
      },
      "source": [
        "# concept word\n",
        "concept_words = {}\n",
        "terms = vect.get_feature_names()\n",
        "for i, comp in enumerate(lsa.components_):\n",
        "    componentTerms = zip(terms, comp)\n",
        "    sortedTerms = sorted(componentTerms, key=lambda x:x[1], reverse=True)\n",
        "    sortedTerms = sortedTerms[:10]\n",
        "    concept_words[\"Concept \"+str(i)] = sortedTerms"
      ],
      "execution_count": 65,
      "outputs": []
    },
    {
      "cell_type": "code",
      "metadata": {
        "colab": {
          "base_uri": "https://localhost:8080/"
        },
        "id": "T5bB1_FcpqiL",
        "outputId": "36f08bc4-1aa4-4975-9bb6-77ec637f8967"
      },
      "source": [
        "#now concept are belong from which categories take the probablities\n",
        "for key in concept_words.keys():\n",
        "    sentence_score = []\n",
        "    for sentence in dataset:\n",
        "        words= nltk.word_tokenize(sentence)\n",
        "        score = 0\n",
        "        for word in words:\n",
        "            for word_with_score in concept_words[key]:\n",
        "                if word == word_with_score[0]:\n",
        "                    score += word_with_score[1]\n",
        "        sentence_score.append(score)\n",
        "    print(\"\\n\"+key+\":\")\n",
        "    for sentence_scores in sentence_score:\n",
        "        print(sentence_scores)"
      ],
      "execution_count": 66,
      "outputs": [
        {
          "output_type": "stream",
          "text": [
            "\n",
            "Concept 0:\n",
            "1.1937954290772952\n",
            "1.5645255673423795\n",
            "0\n",
            "0\n",
            "0.2938250158823824\n",
            "1.8267792882482714\n",
            "0\n",
            "\n",
            "Concept 1:\n",
            "0\n",
            "0\n",
            "0\n",
            "1.4879382876971987\n",
            "2.242580920970551\n",
            "0\n",
            "0\n",
            "\n",
            "Concept 2:\n",
            "0\n",
            "0\n",
            "1.8337467336425441\n",
            "0\n",
            "0\n",
            "0\n",
            "1.2850142324187055\n",
            "\n",
            "Concept 3:\n",
            "2.487393389869573\n",
            "0\n",
            "0\n",
            "0\n",
            "0.5295107205666306\n",
            "0.17865460887270956\n",
            "0\n"
          ],
          "name": "stdout"
        }
      ]
    },
    {
      "cell_type": "code",
      "metadata": {
        "colab": {
          "base_uri": "https://localhost:8080/"
        },
        "id": "Bu4FYymmp0LO",
        "outputId": "2c0adc6a-a7d7-4f54-ec39-00ac40a5e524"
      },
      "source": [
        "#Synonyms and Antonyms using nltk\n",
        "\n",
        "from nltk.corpus import wordnet\n",
        "\n",
        "synonyms = []\n",
        "antonyms = []\n",
        "\n",
        "for syn in wordnet.synsets(\"good\"):\n",
        "    for s in syn.lemmas():\n",
        "        synonyms.append(s.name())\n",
        "        for a in s.antonyms():\n",
        "            antonyms.append(a.name())\n",
        "            \n",
        "print(set(synonyms))\n",
        "print(set(antonyms))"
      ],
      "execution_count": 68,
      "outputs": [
        {
          "output_type": "stream",
          "text": [
            "{'well', 'practiced', 'adept', 'respectable', 'upright', 'goodness', 'right', 'unspoilt', 'serious', 'secure', 'just', 'sound', 'honest', 'trade_good', 'near', 'beneficial', 'soundly', 'expert', 'skilful', 'salutary', 'safe', 'full', 'dependable', 'ripe', 'in_force', 'effective', 'in_effect', 'dear', 'honorable', 'skillful', 'thoroughly', 'commodity', 'undecomposed', 'estimable', 'proficient', 'unspoiled', 'good'}\n",
            "{'badness', 'bad', 'ill', 'evil', 'evilness'}\n"
          ],
          "name": "stdout"
        }
      ]
    },
    {
      "cell_type": "code",
      "metadata": {
        "id": "8zPH0DNqvMwV"
      },
      "source": [
        "import nltk\n",
        "from nltk.corpus import wordnet"
      ],
      "execution_count": 69,
      "outputs": []
    },
    {
      "cell_type": "code",
      "metadata": {
        "id": "Bpte8QcmvUBl"
      },
      "source": [
        "sentence = \"I was not happy with the team's performance\""
      ],
      "execution_count": 74,
      "outputs": []
    },
    {
      "cell_type": "code",
      "metadata": {
        "id": "ude9dOK0v4bU"
      },
      "source": [
        "words = nltk.word_tokenize(sentence)"
      ],
      "execution_count": 75,
      "outputs": []
    },
    {
      "cell_type": "code",
      "metadata": {
        "colab": {
          "base_uri": "https://localhost:8080/",
          "height": 36
        },
        "id": "ktRalS_gvV7c",
        "outputId": "5723973c-db69-4ed7-c9a8-1b9dc327e6fb"
      },
      "source": [
        "new_words = []\n",
        "temp_word = \"\"\n",
        "for word in  words:\n",
        "    if word == \"not\":\n",
        "        temp_word = \"not_\"\n",
        "    elif temp_word == \"not_\":\n",
        "        word = temp_word + word  # not_happy\n",
        "        temp_word = \"\"\n",
        "    if word != \"not\":\n",
        "        new_words.append(word)\n",
        "sentence = ' '.join(new_words) \n",
        "sentence"
      ],
      "execution_count": 76,
      "outputs": [
        {
          "output_type": "execute_result",
          "data": {
            "application/vnd.google.colaboratory.intrinsic+json": {
              "type": "string"
            },
            "text/plain": [
              "\"I was not_happy with the team 's performance\""
            ]
          },
          "metadata": {},
          "execution_count": 76
        }
      ]
    },
    {
      "cell_type": "code",
      "metadata": {
        "colab": {
          "base_uri": "https://localhost:8080/",
          "height": 53
        },
        "id": "hxr7JzocwLVW",
        "outputId": "c2b0fcbc-e23a-42a1-d548-1fea1aad44bd"
      },
      "source": [
        "new_words = []\n",
        "temp_word = \"\"\n",
        "for word in  words:\n",
        "    antonyms = []\n",
        "    if word == \"not\":\n",
        "        temp_word = \"not_\"\n",
        "    elif temp_word == \"not_\":\n",
        "        for syn in wordnet.synsets(word):\n",
        "            for s in syn.lemmas():\n",
        "                for a in s.antonyms():\n",
        "                    antonyms.append(a.name())\n",
        "        if len(antonyms) >= 1:\n",
        "            print(antonyms)\n",
        "            word = antonyms[0]\n",
        "        else:\n",
        "            word = temp_word + word\n",
        "        temp_word = \"\"\n",
        "    if word != \"not\":\n",
        "        new_words.append(word)\n",
        "sentence = ' '.join(new_words) \n",
        "sentence"
      ],
      "execution_count": 80,
      "outputs": [
        {
          "output_type": "stream",
          "text": [
            "['unhappy']\n"
          ],
          "name": "stdout"
        },
        {
          "output_type": "execute_result",
          "data": {
            "application/vnd.google.colaboratory.intrinsic+json": {
              "type": "string"
            },
            "text/plain": [
              "\"I was unhappy with the team 's performance\""
            ]
          },
          "metadata": {},
          "execution_count": 80
        }
      ]
    }
  ]
}