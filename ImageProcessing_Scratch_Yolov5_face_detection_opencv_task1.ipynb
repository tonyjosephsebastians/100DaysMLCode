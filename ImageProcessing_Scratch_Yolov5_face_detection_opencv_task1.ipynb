{
  "nbformat": 4,
  "nbformat_minor": 0,
  "metadata": {
    "colab": {
      "name": "ImageProcessing_Scratch_Yolov5_face_detection_opencv_task1.ipynb",
      "provenance": [],
      "collapsed_sections": [],
      "authorship_tag": "ABX9TyO6tFLMlwzVCZGBuP9Dm2v0",
      "include_colab_link": true
    },
    "kernelspec": {
      "name": "python3",
      "display_name": "Python 3"
    },
    "language_info": {
      "name": "python"
    },
    "accelerator": "GPU"
  },
  "cells": [
    {
      "cell_type": "markdown",
      "metadata": {
        "id": "view-in-github",
        "colab_type": "text"
      },
      "source": [
        "<a href=\"https://colab.research.google.com/github/tonyjosephsebastians/100DaysMLCode/blob/main/ImageProcessing_Scratch_Yolov5_face_detection_opencv_task1.ipynb\" target=\"_parent\"><img src=\"https://colab.research.google.com/assets/colab-badge.svg\" alt=\"Open In Colab\"/></a>"
      ]
    },
    {
      "cell_type": "markdown",
      "metadata": {
        "id": "6o_m6IDRO4QS"
      },
      "source": [
        "Build a model from scratch\n",
        "we have to creat model to detect images \n",
        "a handwritten number then it gives the information about the image object\n",
        "we have to create a neural network for that implimenattion\n",
        "\n",
        "To detetct handwritten number use, tensoflow technology\n"
      ]
    },
    {
      "cell_type": "code",
      "metadata": {
        "colab": {
          "base_uri": "https://localhost:8080/"
        },
        "id": "83tHs152N_mX",
        "outputId": "fdb044f4-e245-474a-c92e-f0ed8dd0f21c"
      },
      "source": [
        "import tensorflow as tf\n",
        "\n",
        "(x_train,y_train),(x_test,_y_test) = tf.keras.datasets.mnist.load_data()\n"
      ],
      "execution_count": 4,
      "outputs": [
        {
          "output_type": "stream",
          "text": [
            "Downloading data from https://storage.googleapis.com/tensorflow/tf-keras-datasets/mnist.npz\n",
            "11493376/11490434 [==============================] - 0s 0us/step\n"
          ],
          "name": "stdout"
        }
      ]
    },
    {
      "cell_type": "code",
      "metadata": {
        "colab": {
          "base_uri": "https://localhost:8080/"
        },
        "id": "bdofjOBLY9eG",
        "outputId": "5551eeb1-0cc5-4584-a859-788fb17d2239"
      },
      "source": [
        "x_train.shape"
      ],
      "execution_count": 111,
      "outputs": [
        {
          "output_type": "execute_result",
          "data": {
            "text/plain": [
              "(60000, 28, 28)"
            ]
          },
          "metadata": {
            "tags": []
          },
          "execution_count": 111
        }
      ]
    },
    {
      "cell_type": "code",
      "metadata": {
        "colab": {
          "base_uri": "https://localhost:8080/"
        },
        "id": "f0tAiwAuZA4j",
        "outputId": "60051dde-73e8-44ce-91ec-a3fc9daee3f2"
      },
      "source": [
        "x_test.shape"
      ],
      "execution_count": 112,
      "outputs": [
        {
          "output_type": "execute_result",
          "data": {
            "text/plain": [
              "(10000, 28, 28)"
            ]
          },
          "metadata": {
            "tags": []
          },
          "execution_count": 112
        }
      ]
    },
    {
      "cell_type": "code",
      "metadata": {
        "colab": {
          "base_uri": "https://localhost:8080/"
        },
        "id": "xbtl86jdZLBW",
        "outputId": "218b5f11-338e-4be0-eabe-cd1ce1d74e09"
      },
      "source": [
        "y_train.shape"
      ],
      "execution_count": 113,
      "outputs": [
        {
          "output_type": "execute_result",
          "data": {
            "text/plain": [
              "(60000,)"
            ]
          },
          "metadata": {
            "tags": []
          },
          "execution_count": 113
        }
      ]
    },
    {
      "cell_type": "code",
      "metadata": {
        "id": "F19ytQK9ZTYF"
      },
      "source": [
        "#Training data contatins 60k images and test data conatins 10k and this is in 28x28 pixel format"
      ],
      "execution_count": 114,
      "outputs": []
    },
    {
      "cell_type": "code",
      "metadata": {
        "colab": {
          "base_uri": "https://localhost:8080/",
          "height": 282
        },
        "id": "S9xIg7M0ZgtM",
        "outputId": "761aff0a-4bb0-405d-c078-e3e9dfabeca9"
      },
      "source": [
        "index =150\n",
        "import matplotlib.pyplot as plt\n",
        "plt.imshow(x_train[index])\n",
        "print(y_train[index])"
      ],
      "execution_count": 115,
      "outputs": [
        {
          "output_type": "stream",
          "text": [
            "4\n"
          ],
          "name": "stdout"
        },
        {
          "output_type": "display_data",
          "data": {
            "image/png": "[encoded data removed]",
            "text/plain": [
              "<Figure size 432x288 with 1 Axes>"
            ]
          },
          "metadata": {
            "tags": [],
            "needs_background": "light"
          }
        }
      ]
    },
    {
      "cell_type": "code",
      "metadata": {
        "id": "dOvEjDIPaCFc"
      },
      "source": [
        "#we have to create small model\n",
        "# we feed the image data in format of 28x328xx1 into tensor\n",
        "# normalise the image data"
      ],
      "execution_count": 116,
      "outputs": []
    },
    {
      "cell_type": "code",
      "metadata": {
        "id": "9vZ34GqQatrl"
      },
      "source": [
        "x_train = x_train.reshape(x_train.shape[0],28,28,1)\n",
        "x_test = x_test.reshape(x_test.shape[0],28,28,1)"
      ],
      "execution_count": 117,
      "outputs": []
    },
    {
      "cell_type": "code",
      "metadata": {
        "id": "8EjyfAfla8Bz"
      },
      "source": [
        "#Normalise the image data\n",
        "\n",
        "x_train = x_train/255\n",
        "x_test = x_test/255\n"
      ],
      "execution_count": 118,
      "outputs": []
    },
    {
      "cell_type": "code",
      "metadata": {
        "id": "ZGn4VtVMbEkq"
      },
      "source": [
        "from tensorflow.keras.models import Sequential\n",
        "from tensorflow.keras.layers import Dense, Conv2D, Dropout, Flatten, MaxPooling2D\n",
        "#intitate the model\n",
        "def scratch_model():\n",
        "  cnn = Sequential()\n",
        "  #first layer to the input\n",
        "  cnn.add(Conv2D(28,kernel_size=(3,3),input_shape=(28,28,1)))\n",
        "  cnn.add(MaxPooling2D(pool_size=(2,2)))\n",
        "  cnn.add(Flatten())\n",
        "\n",
        "  #Adding hidden layer\n",
        "  cnn.add(Dense(128,activation=tf.nn.relu))\n",
        "  cnn.add(Flatten())\n",
        "  cnn.add(Dropout(0.15))\n",
        "  cnn.add(Dense(512,activation=tf.nn.sigmoid))\n",
        "  cnn.add(Flatten())\n",
        "  cnn.add(Dropout(0.15))\n",
        "  cnn.add(Dense(32,activation=tf.nn.sigmoid))\n",
        "  cnn.add(Flatten())\n",
        "  cnn.add(Dropout(0.15))\n",
        "\n",
        "\n",
        "  #Output layer\n",
        "  cnn.add(Dense(10,activation=tf.nn.softmax))\n",
        "  return cnn\n"
      ],
      "execution_count": 122,
      "outputs": []
    },
    {
      "cell_type": "code",
      "metadata": {
        "colab": {
          "base_uri": "https://localhost:8080/"
        },
        "id": "XyWSL-m0elGT",
        "outputId": "a0163d25-ba8b-4c45-cbdc-87fcfe2b5406"
      },
      "source": [
        "model = scratch_model()\n",
        "model.compile(optimizer='adam',loss=\"sparse_categorical_crossentropy\", metrics=[\"accuracy\"])\n",
        "model.fit(x_train,y_train,epochs=10)"
      ],
      "execution_count": 123,
      "outputs": [
        {
          "output_type": "stream",
          "text": [
            "Epoch 1/10\n",
            "1875/1875 [==============================] - 6s 3ms/step - loss: 0.3834 - accuracy: 0.9041\n",
            "Epoch 2/10\n",
            "1875/1875 [==============================] - 5s 3ms/step - loss: 0.1334 - accuracy: 0.9655\n",
            "Epoch 3/10\n",
            "1875/1875 [==============================] - 6s 3ms/step - loss: 0.0892 - accuracy: 0.9759\n",
            "Epoch 4/10\n",
            "1875/1875 [==============================] - 6s 3ms/step - loss: 0.0689 - accuracy: 0.9811\n",
            "Epoch 5/10\n",
            "1875/1875 [==============================] - 6s 3ms/step - loss: 0.0552 - accuracy: 0.9849\n",
            "Epoch 6/10\n",
            "1875/1875 [==============================] - 6s 3ms/step - loss: 0.0466 - accuracy: 0.9868\n",
            "Epoch 7/10\n",
            "1875/1875 [==============================] - 5s 3ms/step - loss: 0.0401 - accuracy: 0.9887\n",
            "Epoch 8/10\n",
            "1875/1875 [==============================] - 5s 3ms/step - loss: 0.0368 - accuracy: 0.9897\n",
            "Epoch 9/10\n",
            "1875/1875 [==============================] - 5s 3ms/step - loss: 0.0309 - accuracy: 0.9913\n",
            "Epoch 10/10\n",
            "1875/1875 [==============================] - 5s 3ms/step - loss: 0.0297 - accuracy: 0.9912\n"
          ],
          "name": "stdout"
        },
        {
          "output_type": "execute_result",
          "data": {
            "text/plain": [
              "<tensorflow.python.keras.callbacks.History at 0x7fc864ed7690>"
            ]
          },
          "metadata": {
            "tags": []
          },
          "execution_count": 123
        }
      ]
    },
    {
      "cell_type": "code",
      "metadata": {
        "colab": {
          "base_uri": "https://localhost:8080/"
        },
        "id": "P6Mp9dNKgPH3",
        "outputId": "b8772313-59bf-46cc-de0b-011ea01e5f2e"
      },
      "source": [
        "model.evaluate(x_test,_y_test)"
      ],
      "execution_count": 18,
      "outputs": [
        {
          "output_type": "stream",
          "text": [
            "313/313 [==============================] - 1s 2ms/step - loss: 0.0568 - accuracy: 0.9841\n"
          ],
          "name": "stdout"
        },
        {
          "output_type": "execute_result",
          "data": {
            "text/plain": [
              "[0.056826990097761154, 0.9840999841690063]"
            ]
          },
          "metadata": {
            "tags": []
          },
          "execution_count": 18
        }
      ]
    },
    {
      "cell_type": "code",
      "metadata": {
        "colab": {
          "base_uri": "https://localhost:8080/",
          "height": 282
        },
        "id": "I3nomdCggdbP",
        "outputId": "2d488980-0240-4614-a0e9-451f9bc28c1f"
      },
      "source": [
        "index = 300\n",
        "plt.imshow(x_test[index].reshape(28,28))"
      ],
      "execution_count": 127,
      "outputs": [
        {
          "output_type": "execute_result",
          "data": {
            "text/plain": [
              "<matplotlib.image.AxesImage at 0x7fc86450fb10>"
            ]
          },
          "metadata": {
            "tags": []
          },
          "execution_count": 127
        },
        {
          "output_type": "display_data",
          "data": {
            "image/png": "[encoded data removed]",
            "text/plain": [
              "<Figure size 432x288 with 1 Axes>"
            ]
          },
          "metadata": {
            "tags": [],
            "needs_background": "light"
          }
        }
      ]
    },
    {
      "cell_type": "code",
      "metadata": {
        "id": "hl46pj2DiCVl"
      },
      "source": [
        "predict = model.predict(x_test[index].reshape(1,28,28,1))"
      ],
      "execution_count": 128,
      "outputs": []
    },
    {
      "cell_type": "code",
      "metadata": {
        "colab": {
          "base_uri": "https://localhost:8080/"
        },
        "id": "EB5NIY7diSYE",
        "outputId": "6b367601-8efe-4ef3-8d3d-d1dc740f257d"
      },
      "source": [
        "predict.argmax()"
      ],
      "execution_count": 129,
      "outputs": [
        {
          "output_type": "execute_result",
          "data": {
            "text/plain": [
              "4"
            ]
          },
          "metadata": {
            "tags": []
          },
          "execution_count": 129
        }
      ]
    },
    {
      "cell_type": "code",
      "metadata": {
        "id": "9VsWpUSxiX7L"
      },
      "source": [
        "#predciting cifardataset10 with our model\n"
      ],
      "execution_count": null,
      "outputs": []
    },
    {
      "cell_type": "code",
      "metadata": {
        "id": "UCUT8YhzivUH"
      },
      "source": [
        "#Loading cifar10 dataset\n",
        "\n",
        "(x_train_cfr, y_train__cfr),(x_test__cfr, y_test__cfr)= tf.keras.datasets.cifar10.load_data()"
      ],
      "execution_count": 61,
      "outputs": []
    },
    {
      "cell_type": "code",
      "metadata": {
        "colab": {
          "base_uri": "https://localhost:8080/"
        },
        "id": "tEUT6r1uqa6N",
        "outputId": "bfd94ed5-6d7b-48df-e803-7241a95ebf76"
      },
      "source": [
        "x_train_cfr.shape"
      ],
      "execution_count": 41,
      "outputs": [
        {
          "output_type": "execute_result",
          "data": {
            "text/plain": [
              "(50000, 32, 32, 3)"
            ]
          },
          "metadata": {
            "tags": []
          },
          "execution_count": 41
        }
      ]
    },
    {
      "cell_type": "code",
      "metadata": {
        "colab": {
          "base_uri": "https://localhost:8080/",
          "height": 283
        },
        "id": "MnO0g32eqfkF",
        "outputId": "678d04e0-2458-4249-e5af-66d2252d1c39"
      },
      "source": [
        "index = 100\n",
        "plt.imshow(x_test__cfr[index].reshape(32,32,3))"
      ],
      "execution_count": 42,
      "outputs": [
        {
          "output_type": "execute_result",
          "data": {
            "text/plain": [
              "<matplotlib.image.AxesImage at 0x7fc8e402b5d0>"
            ]
          },
          "metadata": {
            "tags": []
          },
          "execution_count": 42
        },
        {
          "output_type": "display_data",
          "data": {
            "image/png": "[encoded data removed]",
            "text/plain": [
              "<Figure size 432x288 with 1 Axes>"
            ]
          },
          "metadata": {
            "tags": [],
            "needs_background": "light"
          }
        }
      ]
    },
    {
      "cell_type": "code",
      "metadata": {
        "colab": {
          "base_uri": "https://localhost:8080/"
        },
        "id": "AQ1MvWjiq4DF",
        "outputId": "629eb62f-f253-42a2-ea32-6210dcb52e06"
      },
      "source": [
        "print(y_test__cfr[index])"
      ],
      "execution_count": 43,
      "outputs": [
        {
          "output_type": "stream",
          "text": [
            "[4]\n"
          ],
          "name": "stdout"
        }
      ]
    },
    {
      "cell_type": "markdown",
      "metadata": {
        "id": "oktHAzInsCFe"
      },
      "source": [
        "airplane\t\t\t\t\t\t\t\t\t\t\n",
        "automobile\t\t\t\t\t\t\t\t\t\t\n",
        "bird\t\t\t\t\t\t\t\t\t\t\n",
        "cat\t\t\t\t\t\t\t\t\t\t\n",
        "deer\t\t\t\t\t\t\t\t\t\t\n",
        "dog\t\t\t\t\t\t\t\t\t\t\n",
        "frog\t\t\t\t\t\t\t\t\t\t\n",
        "horse\t\t\t\t\t\t\t\t\t\t\n",
        "ship\t\t\t\t\t\t\t\t\t\t\n",
        "truck"
      ]
    },
    {
      "cell_type": "code",
      "metadata": {
        "id": "UWnUiHMjPleW"
      },
      "source": [
        "import numpy as np"
      ],
      "execution_count": 6,
      "outputs": []
    },
    {
      "cell_type": "code",
      "metadata": {
        "id": "OiMAH8VPRPU9"
      },
      "source": [
        "(x_train_cfr, y_train__cfr),(x_test__cfr, y_test__cfr)= tf.keras.datasets.cifar10.load_data()"
      ],
      "execution_count": 15,
      "outputs": []
    },
    {
      "cell_type": "code",
      "metadata": {
        "id": "zdihI0EUtKtL"
      },
      "source": [
        "x_train_cfr = x_train_cfr.reshape(x_train_cfr.shape[0],32,32,3)\n",
        "x_test__cfr = x_test__cfr.reshape(x_test__cfr.shape[0],32,32,3)\n",
        "x_train_cfr = x_train_cfr.astype('float32')\n",
        "x_test__cfr = x_test__cfr.astype('float32')\n",
        "x_train_cfr = x_train_cfr/255.0\n",
        "x_test__cfr = x_test__cfr/255.0"
      ],
      "execution_count": 7,
      "outputs": []
    },
    {
      "cell_type": "code",
      "metadata": {
        "colab": {
          "base_uri": "https://localhost:8080/"
        },
        "id": "1QkBtLZ5teVM",
        "outputId": "a91abbbb-2e75-4c84-8c25-f07611bceae4"
      },
      "source": [
        "x_train_cfr.shape"
      ],
      "execution_count": 8,
      "outputs": [
        {
          "output_type": "execute_result",
          "data": {
            "text/plain": [
              "(50000, 32, 32, 3)"
            ]
          },
          "metadata": {
            "tags": []
          },
          "execution_count": 8
        }
      ]
    },
    {
      "cell_type": "code",
      "metadata": {
        "colab": {
          "base_uri": "https://localhost:8080/"
        },
        "id": "1S0TfLAy-DZ1",
        "outputId": "aed0a8ca-8354-4b9c-c821-11c666063e5d"
      },
      "source": [
        "y_train__cfr.shape"
      ],
      "execution_count": 9,
      "outputs": [
        {
          "output_type": "execute_result",
          "data": {
            "text/plain": [
              "(50000, 1)"
            ]
          },
          "metadata": {
            "tags": []
          },
          "execution_count": 9
        }
      ]
    },
    {
      "cell_type": "code",
      "metadata": {
        "id": "2Hvm2e5rvjYC"
      },
      "source": [
        "y_predcfr = model_cfar.predict(x_test__cfr)"
      ],
      "execution_count": 124,
      "outputs": []
    },
    {
      "cell_type": "code",
      "metadata": {
        "colab": {
          "base_uri": "https://localhost:8080/"
        },
        "id": "b3ZKISCHvxVS",
        "outputId": "0511d679-f27f-41b9-ba45-46cdb15c8f16"
      },
      "source": [
        "y_predcfr.shape"
      ],
      "execution_count": 66,
      "outputs": [
        {
          "output_type": "execute_result",
          "data": {
            "text/plain": [
              "(10000, 10)"
            ]
          },
          "metadata": {
            "tags": []
          },
          "execution_count": 66
        }
      ]
    },
    {
      "cell_type": "code",
      "metadata": {
        "id": "zcAKVtHdwsKR"
      },
      "source": [
        "test_ = x_train_cfr[250,:,:,0]"
      ],
      "execution_count": 80,
      "outputs": []
    },
    {
      "cell_type": "code",
      "metadata": {
        "colab": {
          "base_uri": "https://localhost:8080/"
        },
        "id": "8sM5_cYWxJdn",
        "outputId": "5e68426d-086a-4aba-9870-691bb1609a03"
      },
      "source": [
        "test_.shape"
      ],
      "execution_count": 81,
      "outputs": [
        {
          "output_type": "execute_result",
          "data": {
            "text/plain": [
              "(32, 32)"
            ]
          },
          "metadata": {
            "tags": []
          },
          "execution_count": 81
        }
      ]
    },
    {
      "cell_type": "code",
      "metadata": {
        "id": "GX_bx_UN6MJ4"
      },
      "source": [
        "#convert image to 28x28 to predict"
      ],
      "execution_count": null,
      "outputs": []
    },
    {
      "cell_type": "code",
      "metadata": {
        "id": "NwG9GLRewbyY"
      },
      "source": [
        "import cv2\n",
        "import numpy as np\n",
        "test_object_28X28 = cv2.resize(test_, dsize=(28, 28), interpolation=cv2.INTER_CUBIC)"
      ],
      "execution_count": 82,
      "outputs": []
    },
    {
      "cell_type": "code",
      "metadata": {
        "colab": {
          "base_uri": "https://localhost:8080/",
          "height": 282
        },
        "id": "y_aDrr3_wU66",
        "outputId": "c223630e-b48b-4afa-dac4-bc9ec8b34d65"
      },
      "source": [
        "plt.imshow(test_object_28X28)"
      ],
      "execution_count": 83,
      "outputs": [
        {
          "output_type": "execute_result",
          "data": {
            "text/plain": [
              "<matplotlib.image.AxesImage at 0x7fc8716b86d0>"
            ]
          },
          "metadata": {
            "tags": []
          },
          "execution_count": 83
        },
        {
          "output_type": "display_data",
          "data": {
            "image/png": "[encoded data removed]",
            "text/plain": [
              "<Figure size 432x288 with 1 Axes>"
            ]
          },
          "metadata": {
            "tags": [],
            "needs_background": "light"
          }
        }
      ]
    },
    {
      "cell_type": "code",
      "metadata": {
        "colab": {
          "base_uri": "https://localhost:8080/"
        },
        "id": "FmKHM9ejxwih",
        "outputId": "9bd25c84-2f07-438d-ab90-c614019b7127"
      },
      "source": [
        "print(y_train__cfr[250])"
      ],
      "execution_count": 86,
      "outputs": [
        {
          "output_type": "stream",
          "text": [
            "[1]\n"
          ],
          "name": "stdout"
        }
      ]
    },
    {
      "cell_type": "code",
      "metadata": {
        "id": "pld_CUX7S4Hk"
      },
      "source": [
        "import numpy as np"
      ],
      "execution_count": 17,
      "outputs": []
    },
    {
      "cell_type": "code",
      "metadata": {
        "id": "pAYzV1AaS4Hk"
      },
      "source": [
        "(x_train_cfr, y_train__cfr),(x_test__cfr, y_test__cfr)= tf.keras.datasets.cifar10.load_data()"
      ],
      "execution_count": 19,
      "outputs": []
    },
    {
      "cell_type": "code",
      "metadata": {
        "id": "LpbYWWgNS4Hk"
      },
      "source": [
        "x_train_cfr = x_train_cfr.reshape(x_train_cfr.shape[0],32,32,3)\n",
        "x_test__cfr = x_test__cfr.reshape(x_test__cfr.shape[0],32,32,3)\n",
        "x_train_cfr = x_train_cfr.astype('float32')\n",
        "x_test__cfr = x_test__cfr.astype('float32')\n",
        "x_train_cfr = x_train_cfr/255.0\n",
        "x_test__cfr = x_test__cfr/255.0"
      ],
      "execution_count": 20,
      "outputs": []
    },
    {
      "cell_type": "code",
      "metadata": {
        "id": "oI3yYThQW5pA"
      },
      "source": [
        "y_train__cfr, y_test__cfr = y_train__cfr.flatten(), y_test__cfr.flatten()"
      ],
      "execution_count": 21,
      "outputs": []
    },
    {
      "cell_type": "code",
      "metadata": {
        "colab": {
          "base_uri": "https://localhost:8080/"
        },
        "id": "A4F6lW14YIbn",
        "outputId": "a9e45fe4-1c33-44d7-e5cc-c46041c351ea"
      },
      "source": [
        "y_train__cfr.shape"
      ],
      "execution_count": 29,
      "outputs": [
        {
          "output_type": "execute_result",
          "data": {
            "text/plain": [
              "(50000,)"
            ]
          },
          "metadata": {
            "tags": []
          },
          "execution_count": 29
        }
      ]
    },
    {
      "cell_type": "code",
      "metadata": {
        "id": "RqDJyOyt8oZF"
      },
      "source": [
        "from tensorflow.keras.layers import MaxPool2D"
      ],
      "execution_count": 22,
      "outputs": []
    },
    {
      "cell_type": "code",
      "metadata": {
        "id": "77FxhJ6N6KTY"
      },
      "source": [
        "from tensorflow.keras.models import Sequential\n",
        "from tensorflow.keras.layers import Conv2D, MaxPool2D, Dropout, Flatten, Dense,MaxPooling2D\n",
        "def cnn_model():\n",
        "  model = Sequential()\n",
        "  model.add(Conv2D(32, 3, padding='same', input_shape = x_train_cfr.shape[1:], activation='relu'))\n",
        "  model.add(Conv2D(32, 3, activation='relu'))\n",
        "  model.add(MaxPooling2D())\n",
        "  model.add(Dropout(0.25))\n",
        "  model.add(Conv2D(64, 3, padding='same', activation='relu'))\n",
        "  model.add(Conv2D(64, 3, activation='relu'))\n",
        "  model.add(MaxPooling2D())\n",
        "  model.add(Dropout(0.25))\n",
        "  model.add(Flatten())\n",
        "  model.add(Dense(512, activation='relu'))\n",
        "  model.add(Dropout(0.5))\n",
        "  model.add(Dense(10, activation='softmax'))\n",
        "  model.compile(optimizer='adam',loss='sparse_categorical_crossentropy',metrics=['accuracy'])\n",
        "\n",
        "  return model"
      ],
      "execution_count": 26,
      "outputs": []
    },
    {
      "cell_type": "code",
      "metadata": {
        "id": "1dbEEpQO8Zi-"
      },
      "source": [
        "model_cfr = cnn_model()\n"
      ],
      "execution_count": 27,
      "outputs": []
    },
    {
      "cell_type": "code",
      "metadata": {
        "colab": {
          "base_uri": "https://localhost:8080/"
        },
        "id": "WMT04KjuOJIf",
        "outputId": "87359e6a-e740-468d-e925-948ade747eb5"
      },
      "source": [
        "model_hist = model_cfr.fit(x_train_cfr, y_train__cfr, validation_data=(x_test__cfr, y_test__cfr), epochs=50)"
      ],
      "execution_count": 30,
      "outputs": [
        {
          "output_type": "stream",
          "text": [
            "Epoch 1/50\n",
            "1563/1563 [==============================] - 46s 11ms/step - loss: 1.5321 - accuracy: 0.4359 - val_loss: 1.1779 - val_accuracy: 0.5750\n",
            "Epoch 2/50\n",
            "1563/1563 [==============================] - 17s 11ms/step - loss: 1.1240 - accuracy: 0.5993 - val_loss: 0.9850 - val_accuracy: 0.6540\n",
            "Epoch 3/50\n",
            "1563/1563 [==============================] - 17s 11ms/step - loss: 0.9665 - accuracy: 0.6590 - val_loss: 0.8751 - val_accuracy: 0.6938\n",
            "Epoch 4/50\n",
            "1563/1563 [==============================] - 17s 11ms/step - loss: 0.8808 - accuracy: 0.6899 - val_loss: 0.7819 - val_accuracy: 0.7234\n",
            "Epoch 5/50\n",
            "1563/1563 [==============================] - 17s 11ms/step - loss: 0.8170 - accuracy: 0.7153 - val_loss: 0.7591 - val_accuracy: 0.7347\n",
            "Epoch 6/50\n",
            "1563/1563 [==============================] - 17s 11ms/step - loss: 0.7698 - accuracy: 0.7319 - val_loss: 0.7150 - val_accuracy: 0.7534\n",
            "Epoch 7/50\n",
            "1563/1563 [==============================] - 17s 11ms/step - loss: 0.7379 - accuracy: 0.7416 - val_loss: 0.7457 - val_accuracy: 0.7447\n",
            "Epoch 8/50\n",
            "1563/1563 [==============================] - 16s 11ms/step - loss: 0.7032 - accuracy: 0.7524 - val_loss: 0.7084 - val_accuracy: 0.7558\n",
            "Epoch 9/50\n",
            "1563/1563 [==============================] - 16s 11ms/step - loss: 0.6754 - accuracy: 0.7629 - val_loss: 0.6903 - val_accuracy: 0.7619\n",
            "Epoch 10/50\n",
            "1563/1563 [==============================] - 17s 11ms/step - loss: 0.6537 - accuracy: 0.7698 - val_loss: 0.6775 - val_accuracy: 0.7699\n",
            "Epoch 11/50\n",
            "1563/1563 [==============================] - 16s 11ms/step - loss: 0.6325 - accuracy: 0.7773 - val_loss: 0.6588 - val_accuracy: 0.7752\n",
            "Epoch 12/50\n",
            "1563/1563 [==============================] - 16s 11ms/step - loss: 0.6158 - accuracy: 0.7838 - val_loss: 0.6920 - val_accuracy: 0.7693\n",
            "Epoch 13/50\n",
            "1563/1563 [==============================] - 16s 11ms/step - loss: 0.5911 - accuracy: 0.7937 - val_loss: 0.6602 - val_accuracy: 0.7791\n",
            "Epoch 14/50\n",
            "1563/1563 [==============================] - 16s 11ms/step - loss: 0.5881 - accuracy: 0.7938 - val_loss: 0.6330 - val_accuracy: 0.7877\n",
            "Epoch 15/50\n",
            "1563/1563 [==============================] - 17s 11ms/step - loss: 0.5666 - accuracy: 0.8016 - val_loss: 0.6691 - val_accuracy: 0.7713\n",
            "Epoch 16/50\n",
            "1563/1563 [==============================] - 16s 11ms/step - loss: 0.5522 - accuracy: 0.8068 - val_loss: 0.6757 - val_accuracy: 0.7723\n",
            "Epoch 17/50\n",
            "1563/1563 [==============================] - 17s 11ms/step - loss: 0.5488 - accuracy: 0.8093 - val_loss: 0.6447 - val_accuracy: 0.7842\n",
            "Epoch 18/50\n",
            "1563/1563 [==============================] - 17s 11ms/step - loss: 0.5343 - accuracy: 0.8124 - val_loss: 0.6739 - val_accuracy: 0.7774\n",
            "Epoch 19/50\n",
            "1563/1563 [==============================] - 17s 11ms/step - loss: 0.5263 - accuracy: 0.8164 - val_loss: 0.6346 - val_accuracy: 0.7861\n",
            "Epoch 20/50\n",
            "1563/1563 [==============================] - 17s 11ms/step - loss: 0.5132 - accuracy: 0.8219 - val_loss: 0.6523 - val_accuracy: 0.7817\n",
            "Epoch 21/50\n",
            "1563/1563 [==============================] - 17s 11ms/step - loss: 0.5062 - accuracy: 0.8231 - val_loss: 0.6482 - val_accuracy: 0.7829\n",
            "Epoch 22/50\n",
            "1563/1563 [==============================] - 17s 11ms/step - loss: 0.5024 - accuracy: 0.8245 - val_loss: 0.6862 - val_accuracy: 0.7792\n",
            "Epoch 23/50\n",
            "1563/1563 [==============================] - 17s 11ms/step - loss: 0.4941 - accuracy: 0.8282 - val_loss: 0.6575 - val_accuracy: 0.7886\n",
            "Epoch 24/50\n",
            "1563/1563 [==============================] - 17s 11ms/step - loss: 0.4817 - accuracy: 0.8294 - val_loss: 0.6284 - val_accuracy: 0.7927\n",
            "Epoch 25/50\n",
            "1563/1563 [==============================] - 16s 11ms/step - loss: 0.4771 - accuracy: 0.8336 - val_loss: 0.6515 - val_accuracy: 0.7965\n",
            "Epoch 26/50\n",
            "1563/1563 [==============================] - 16s 11ms/step - loss: 0.4728 - accuracy: 0.8343 - val_loss: 0.6413 - val_accuracy: 0.7934\n",
            "Epoch 27/50\n",
            "1563/1563 [==============================] - 17s 11ms/step - loss: 0.4654 - accuracy: 0.8362 - val_loss: 0.6747 - val_accuracy: 0.7843\n",
            "Epoch 28/50\n",
            "1563/1563 [==============================] - 17s 11ms/step - loss: 0.4595 - accuracy: 0.8386 - val_loss: 0.6404 - val_accuracy: 0.7910\n",
            "Epoch 29/50\n",
            "1563/1563 [==============================] - 17s 11ms/step - loss: 0.4561 - accuracy: 0.8400 - val_loss: 0.6334 - val_accuracy: 0.7924\n",
            "Epoch 30/50\n",
            "1563/1563 [==============================] - 17s 11ms/step - loss: 0.4555 - accuracy: 0.8395 - val_loss: 0.6662 - val_accuracy: 0.7868\n",
            "Epoch 31/50\n",
            "1563/1563 [==============================] - 17s 11ms/step - loss: 0.4443 - accuracy: 0.8431 - val_loss: 0.6611 - val_accuracy: 0.7935\n",
            "Epoch 32/50\n",
            "1563/1563 [==============================] - 17s 11ms/step - loss: 0.4449 - accuracy: 0.8447 - val_loss: 0.6672 - val_accuracy: 0.7901\n",
            "Epoch 33/50\n",
            "1563/1563 [==============================] - 17s 11ms/step - loss: 0.4346 - accuracy: 0.8494 - val_loss: 0.6570 - val_accuracy: 0.7898\n",
            "Epoch 34/50\n",
            "1563/1563 [==============================] - 17s 11ms/step - loss: 0.4387 - accuracy: 0.8447 - val_loss: 0.6735 - val_accuracy: 0.7885\n",
            "Epoch 35/50\n",
            "1563/1563 [==============================] - 16s 11ms/step - loss: 0.4330 - accuracy: 0.8507 - val_loss: 0.6585 - val_accuracy: 0.7934\n",
            "Epoch 36/50\n",
            "1563/1563 [==============================] - 17s 11ms/step - loss: 0.4227 - accuracy: 0.8510 - val_loss: 0.6472 - val_accuracy: 0.7957\n",
            "Epoch 37/50\n",
            "1563/1563 [==============================] - 17s 11ms/step - loss: 0.4208 - accuracy: 0.8531 - val_loss: 0.6573 - val_accuracy: 0.7964\n",
            "Epoch 38/50\n",
            "1563/1563 [==============================] - 17s 11ms/step - loss: 0.4149 - accuracy: 0.8563 - val_loss: 0.6880 - val_accuracy: 0.7873\n",
            "Epoch 39/50\n",
            "1563/1563 [==============================] - 17s 11ms/step - loss: 0.4164 - accuracy: 0.8558 - val_loss: 0.6393 - val_accuracy: 0.7982\n",
            "Epoch 40/50\n",
            "1563/1563 [==============================] - 17s 11ms/step - loss: 0.4152 - accuracy: 0.8560 - val_loss: 0.7184 - val_accuracy: 0.7828\n",
            "Epoch 41/50\n",
            "1563/1563 [==============================] - 17s 11ms/step - loss: 0.4061 - accuracy: 0.8577 - val_loss: 0.6613 - val_accuracy: 0.7909\n",
            "Epoch 42/50\n",
            "1563/1563 [==============================] - 17s 11ms/step - loss: 0.4114 - accuracy: 0.8557 - val_loss: 0.6739 - val_accuracy: 0.7956\n",
            "Epoch 43/50\n",
            "1563/1563 [==============================] - 17s 11ms/step - loss: 0.3991 - accuracy: 0.8614 - val_loss: 0.6736 - val_accuracy: 0.7912\n",
            "Epoch 44/50\n",
            "1563/1563 [==============================] - 17s 11ms/step - loss: 0.3964 - accuracy: 0.8618 - val_loss: 0.6572 - val_accuracy: 0.7945\n",
            "Epoch 45/50\n",
            "1563/1563 [==============================] - 16s 11ms/step - loss: 0.3975 - accuracy: 0.8621 - val_loss: 0.6803 - val_accuracy: 0.7965\n",
            "Epoch 46/50\n",
            "1563/1563 [==============================] - 17s 11ms/step - loss: 0.3934 - accuracy: 0.8634 - val_loss: 0.6664 - val_accuracy: 0.7918\n",
            "Epoch 47/50\n",
            "1563/1563 [==============================] - 17s 11ms/step - loss: 0.4031 - accuracy: 0.8599 - val_loss: 0.6614 - val_accuracy: 0.7977\n",
            "Epoch 48/50\n",
            "1563/1563 [==============================] - 17s 11ms/step - loss: 0.3826 - accuracy: 0.8689 - val_loss: 0.7112 - val_accuracy: 0.7822\n",
            "Epoch 49/50\n",
            "1563/1563 [==============================] - 17s 11ms/step - loss: 0.3895 - accuracy: 0.8638 - val_loss: 0.6605 - val_accuracy: 0.7963\n",
            "Epoch 50/50\n",
            "1563/1563 [==============================] - 17s 11ms/step - loss: 0.3779 - accuracy: 0.8696 - val_loss: 0.7005 - val_accuracy: 0.7988\n"
          ],
          "name": "stdout"
        }
      ]
    },
    {
      "cell_type": "code",
      "metadata": {
        "id": "BRzsTPNEciXr"
      },
      "source": [
        "import matplotlib.pyplot as plt"
      ],
      "execution_count": 32,
      "outputs": []
    },
    {
      "cell_type": "code",
      "metadata": {
        "colab": {
          "base_uri": "https://localhost:8080/",
          "height": 283
        },
        "id": "2IQyooarb3id",
        "outputId": "3a4eaefd-5224-4bbd-e58b-8e8dcabbef69"
      },
      "source": [
        "index = 0\n",
        "plt.imshow(x_test__cfr[index])"
      ],
      "execution_count": 33,
      "outputs": [
        {
          "output_type": "execute_result",
          "data": {
            "text/plain": [
              "<matplotlib.image.AxesImage at 0x7f8a392121d0>"
            ]
          },
          "metadata": {
            "tags": []
          },
          "execution_count": 33
        },
        {
          "output_type": "display_data",
          "data": {
            "image/png": "[encoded data removed]",
            "text/plain": [
              "<Figure size 432x288 with 1 Axes>"
            ]
          },
          "metadata": {
            "tags": [],
            "needs_background": "light"
          }
        }
      ]
    },
    {
      "cell_type": "code",
      "metadata": {
        "colab": {
          "base_uri": "https://localhost:8080/"
        },
        "id": "Teob7zrzdYJr",
        "outputId": "87370f81-abe4-49c4-917b-1df04526d5b3"
      },
      "source": [
        "print(y_test__cfr[index])"
      ],
      "execution_count": 37,
      "outputs": [
        {
          "output_type": "stream",
          "text": [
            "3\n"
          ],
          "name": "stdout"
        }
      ]
    },
    {
      "cell_type": "code",
      "metadata": {
        "id": "ZmZPKAZicrP7"
      },
      "source": [
        "y_pred = model_cfr.predict(x_test__cfr[index].reshape(1,32,32,3))"
      ],
      "execution_count": 35,
      "outputs": []
    },
    {
      "cell_type": "code",
      "metadata": {
        "colab": {
          "base_uri": "https://localhost:8080/"
        },
        "id": "cKzyTqjGdPCU",
        "outputId": "2e3ccca2-60c5-45fa-d4e0-b71eb67cfce4"
      },
      "source": [
        "y_pred.argmax()"
      ],
      "execution_count": 36,
      "outputs": [
        {
          "output_type": "execute_result",
          "data": {
            "text/plain": [
              "3"
            ]
          },
          "metadata": {
            "tags": []
          },
          "execution_count": 36
        }
      ]
    },
    {
      "cell_type": "code",
      "metadata": {
        "colab": {
          "base_uri": "https://localhost:8080/",
          "height": 282
        },
        "id": "8mC9epMnd0Cb",
        "outputId": "f9862617-e6b1-4e1e-b0fa-b5ce6ca76fb2"
      },
      "source": [
        "plt.plot(model_hist.history['accuracy'], label='acc', color='red')\n",
        "plt.plot(model_hist.history['val_accuracy'], label='val_acc', color='green')\n",
        "plt.legend()"
      ],
      "execution_count": 39,
      "outputs": [
        {
          "output_type": "execute_result",
          "data": {
            "text/plain": [
              "<matplotlib.legend.Legend at 0x7f8a392126d0>"
            ]
          },
          "metadata": {
            "tags": []
          },
          "execution_count": 39
        },
        {
          "output_type": "display_data",
          "data": {
            "image/png": "[encoded data removed]",
            "text/plain": [
              "<Figure size 432x288 with 1 Axes>"
            ]
          },
          "metadata": {
            "tags": [],
            "needs_background": "light"
          }
        }
      ]
    }
  ]
}