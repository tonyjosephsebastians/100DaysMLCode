{
  "nbformat": 4,
  "nbformat_minor": 0,
  "metadata": {
    "colab": {
      "name": "Gaussian process_regression _Clustering_classification.ipynb",
      "provenance": [],
      "collapsed_sections": [],
      "authorship_tag": "ABX9TyMsqIswX9MUL+l35U6KT8/5",
      "include_colab_link": true
    },
    "kernelspec": {
      "name": "python3",
      "display_name": "Python 3"
    },
    "language_info": {
      "name": "python"
    }
  },
  "cells": [
    {
      "cell_type": "markdown",
      "metadata": {
        "id": "view-in-github",
        "colab_type": "text"
      },
      "source": [
        "<a href=\"https://colab.research.google.com/github/tonyjosephsebastians/100DaysMLCode/blob/main/Gaussian_process_regression__Clustering_classification.ipynb\" target=\"_parent\"><img src=\"https://colab.research.google.com/assets/colab-badge.svg\" alt=\"Open In Colab\"/></a>"
      ]
    },
    {
      "cell_type": "markdown",
      "metadata": {
        "id": "_rtn4lJHBxy6"
      },
      "source": [
        "Gaussian\n",
        "we can estimate the missing data points!\n",
        "\n",
        "predict the future! If we guess what happened before,\n",
        "we can guess what will happen in the future\n",
        "\n",
        "GPR is something that reads the data points and learns them; it uses the Gaussian Process Regression to learn, and estimate the missing data points\n",
        "\n",
        "\n",
        "\n"
      ]
    },
    {
      "cell_type": "code",
      "metadata": {
        "id": "bV2mCLU7UgOq"
      },
      "source": [
        "from sklearn.datasets import make_friedman2\n",
        "from sklearn.gaussian_process.kernels import DotProduct, WhiteKernel\n",
        "from sklearn.gaussian_process import GaussianProcessRegressor\n",
        "from sklearn.gaussian_process.kernels import ConstantKernel, RBF\n",
        "from sklearn.gaussian_process.kernels import DotProduct, WhiteKernel\n",
        "from sklearn.gaussian_process.kernels import WhiteKernel, ExpSineSquared\n",
        "from sklearn.model_selection import GridSearchCV\n",
        "from sklearn.kernel_ridge import KernelRidge\n",
        "\n",
        "import numpy as np\n",
        "import matplotlib.pyplot as plt"
      ],
      "execution_count": 6,
      "outputs": []
    },
    {
      "cell_type": "code",
      "metadata": {
        "id": "wMIkxUEnoh81"
      },
      "source": [
        "t= 10 * np.random.normal(0,1,70)\n",
        "y = 10*(-t**2) + np.random.normal(-100,100,70)\n",
        "t = t.reshape(-1,1)\n",
        "y = y.reshape(-1,1)"
      ],
      "execution_count": 19,
      "outputs": []
    },
    {
      "cell_type": "code",
      "metadata": {
        "colab": {
          "base_uri": "https://localhost:8080/",
          "height": 282
        },
        "id": "H_LLfaVLpitH",
        "outputId": "3c26ccd4-da53-419e-c6c3-62763c58f117"
      },
      "source": [
        "plt.scatter(t,y,color='black')"
      ],
      "execution_count": 20,
      "outputs": [
        {
          "output_type": "execute_result",
          "data": {
            "text/plain": [
              "<matplotlib.collections.PathCollection at 0x7f565e655710>"
            ]
          },
          "metadata": {
            "tags": []
          },
          "execution_count": 20
        },
        {
          "output_type": "display_data",
          "data": {
            "image/png": "[encoded data removed]",
            "text/plain": [
              "<Figure size 432x288 with 1 Axes>"
            ]
          },
          "metadata": {
            "tags": [],
            "needs_background": "light"
          }
        }
      ]
    },
    {
      "cell_type": "code",
      "metadata": {
        "colab": {
          "base_uri": "https://localhost:8080/",
          "height": 282
        },
        "id": "-9Qv96w2p0Hq",
        "outputId": "f4c5c63c-b82a-44e8-a56d-87dccef67d05"
      },
      "source": [
        "# GaussianProcessRegressor\n",
        "# define kernel 1 for GPR\n",
        "\n",
        "v =0.5\n",
        "kernal = v*RBF() + WhiteKernel()\n",
        "sigma = 0.4\n",
        "GPR = GaussianProcessRegressor(kernel=kernal,alpha=2*sigma,n_restarts_optimizer=10)\n",
        "GPR.fit(t,y)\n",
        "x_plot = np.linspace(-30,30,100000)[:,None]\n",
        "y_pred = GPR.predict(x_plot)\n",
        "plt.scatter(t,y,color='black')\n",
        "plt.plot(x_plot, y_pred, color='turquoise',\n",
        "         label='GPR')"
      ],
      "execution_count": 26,
      "outputs": [
        {
          "output_type": "execute_result",
          "data": {
            "text/plain": [
              "[<matplotlib.lines.Line2D at 0x7f564f399210>]"
            ]
          },
          "metadata": {
            "tags": []
          },
          "execution_count": 26
        },
        {
          "output_type": "display_data",
          "data": {
            "image/png": "[encoded data removed]",
            "text/plain": [
              "<Figure size 432x288 with 1 Axes>"
            ]
          },
          "metadata": {
            "tags": [],
            "needs_background": "light"
          }
        }
      ]
    },
    {
      "cell_type": "markdown",
      "metadata": {
        "id": "KPfZOk9T16-q"
      },
      "source": [
        "Let us imagine x = np.linspace(-5, 12, 100)\n",
        "\n",
        "and y = np.sin(x) + np.random.normal(-0.1,0.1,70)\n",
        "\n",
        "Give me a GPR based model that estimates the curve behind the 100 data points I just mentioned?\n",
        "\n",
        "We will come back at 9 am."
      ]
    },
    {
      "cell_type": "code",
      "metadata": {
        "colab": {
          "base_uri": "https://localhost:8080/",
          "height": 282
        },
        "id": "Pv9_uyhAHsdi",
        "outputId": "0e507445-8c7e-44af-92f6-a6d808310dff"
      },
      "source": [
        "x = np.linspace(-5, 12, 100)\n",
        "y = np.sin(x) + np.random.normal(-0.1,0.1,100)\n",
        "\n",
        "x = x.reshape(-1,1)\n",
        "y = y.reshape(-1,1)\n",
        "\n",
        "\n",
        "v = 0.5\n",
        "kernel1 = v*RBF() + WhiteKernel() \n",
        "sigma_n = 0.4\n",
        "GPR = GaussianProcessRegressor(kernel=kernel1, alpha=sigma_n**2, n_restarts_optimizer=10)\n",
        "GPR.fit(x,y)\n",
        "\n",
        "X_plot = np.linspace(-10, 15, 10000)[:, None]\n",
        "\n",
        "y_pred1 = GPR.predict(X_plot)\n",
        "plt.scatter(x,y, color=\"black\")\n",
        "plt.plot(X_plot, y_pred1, color='turquoise',\n",
        "         label='GPR')"
      ],
      "execution_count": 91,
      "outputs": [
        {
          "output_type": "execute_result",
          "data": {
            "text/plain": [
              "[<matplotlib.lines.Line2D at 0x7f564e727450>]"
            ]
          },
          "metadata": {
            "tags": []
          },
          "execution_count": 91
        },
        {
          "output_type": "display_data",
          "data": {
            "image/png": "[encoded data removed]",
            "text/plain": [
              "<Figure size 432x288 with 1 Axes>"
            ]
          },
          "metadata": {
            "tags": [],
            "needs_background": "light"
          }
        }
      ]
    },
    {
      "cell_type": "code",
      "metadata": {
        "colab": {
          "base_uri": "https://localhost:8080/",
          "height": 282
        },
        "id": "eKBIyoXl6133",
        "outputId": "c8127ac3-aaa4-44a6-96b4-797ff6f95525"
      },
      "source": [
        "# define kernel for KRR\n",
        "\n",
        "\n",
        "t=10*np.random.normal(0,1,70)\n",
        "y=10*(-t**2)+np.random.normal(-100,100,70)\n",
        "\n",
        "t = t.reshape(-1,1)\n",
        "y = y.reshape(-1,1)\n",
        "\n",
        "\n",
        "param_grid = {\"alpha\": [1e0, 1e-1, 1e-2, 1e-3],\n",
        "              \"kernel\": [ExpSineSquared(l, p)\n",
        "                         for l in np.logspace(-2, 2, 10)\n",
        "                         for p in np.logspace(0, 2, 10)]}\n",
        "\n",
        "kr = GridSearchCV(KernelRidge(), param_grid=param_grid)\n",
        "kr.fit(t, y)\n",
        "y_kr = kr.predict(X_plot)\n",
        "\n",
        "plt.scatter(t,y, color=\"black\")\n",
        "plt.plot(X_plot, y_kr, color='red',\n",
        "         label='KRR')"
      ],
      "execution_count": 92,
      "outputs": [
        {
          "output_type": "execute_result",
          "data": {
            "text/plain": [
              "[<matplotlib.lines.Line2D at 0x7f564e6b7ad0>]"
            ]
          },
          "metadata": {
            "tags": []
          },
          "execution_count": 92
        },
        {
          "output_type": "display_data",
          "data": {
            "image/png": "[encoded data removed]",
            "text/plain": [
              "<Figure size 432x288 with 1 Axes>"
            ]
          },
          "metadata": {
            "tags": [],
            "needs_background": "light"
          }
        }
      ]
    },
    {
      "cell_type": "code",
      "metadata": {
        "colab": {
          "base_uri": "https://localhost:8080/",
          "height": 350
        },
        "id": "8Zg6XW4480eD",
        "outputId": "912283fd-d8c9-433e-e8b2-28fed42c05cf"
      },
      "source": [
        "\n",
        "plt.figure(figsize=(10, 5))\n",
        "lw = 3\n",
        "plt.scatter(t, y, c='k', label='data')\n",
        "\n",
        "plt.plot(X_plot, y_pred1, color='turquoise', lw=lw,\n",
        "         label='GPR')\n",
        "\n",
        "plt.plot(X_plot, y_kr, color='red', lw=lw,\n",
        "         label='KRR')\n",
        "\n",
        "plt.xlabel('data')\n",
        "plt.ylabel('target')\n",
        "\n",
        "plt.title(\"Model estimation: GPR vs KRR\")\n",
        "plt.legend(loc=\"best\",  scatterpoints=1, prop={'size': 8})\n",
        "plt.show()"
      ],
      "execution_count": 93,
      "outputs": [
        {
          "output_type": "display_data",
          "data": {
            "image/png": "[encoded data removed]",
            "text/plain": [
              "<Figure size 720x360 with 1 Axes>"
            ]
          },
          "metadata": {
            "tags": [],
            "needs_background": "light"
          }
        }
      ]
    },
    {
      "cell_type": "markdown",
      "metadata": {
        "id": "Mgu-YvXv_03h"
      },
      "source": [
        ""
      ]
    },
    {
      "cell_type": "markdown",
      "metadata": {
        "id": "sALssLzVJVkH"
      },
      "source": [
        "If data is as of the following:\n",
        "\n",
        "x = np.linspace(-5, 12, 100)\n",
        "\n",
        "y = np.sin(x) + np.random.normal(-0.1,0.1,100)\n",
        "\n",
        "x = x.reshape(-1,1)\n",
        "\n",
        "y = y.reshape(-1,1)\n",
        "\n",
        "Then estimate the curve behind the data points with both KRR and GPR methods. And visualize the results (curves and black data points.)\n",
        "\n"
      ]
    },
    {
      "cell_type": "code",
      "metadata": {
        "id": "fJgTz5wT_ykL"
      },
      "source": [
        "x = np.linspace(-5, 12, 100)\n",
        "\n",
        "y = np.sin(x) + np.random.normal(-0.1,0.1,100)\n",
        "\n",
        "x = x.reshape(-1,1)\n",
        "\n",
        "y = y.reshape(-1,1)"
      ],
      "execution_count": 94,
      "outputs": []
    },
    {
      "cell_type": "code",
      "metadata": {
        "colab": {
          "base_uri": "https://localhost:8080/",
          "height": 337
        },
        "id": "EKxqdkY-8p6w",
        "outputId": "5c95b741-7920-453b-988a-102dfa1cd8d0"
      },
      "source": [
        "v = 0.5\n",
        "kernel1 = v*RBF() + WhiteKernel() \n",
        "sigma_n = 0.4\n",
        "GPR = GaussianProcessRegressor(kernel=kernel1, alpha=sigma_n**2, n_restarts_optimizer=10)\n",
        "GPR.fit(x,y)\n",
        "\n",
        "X_plot = np.linspace(-10, 15, 1000000)[:, None]\n",
        "\n",
        "y_pred = GPR.predict(X_plot)\n",
        "plt.figure(figsize=(10,5))\n",
        "plt.scatter(x,y, color=\"black\")\n",
        "plt.plot(X_plot, y_pred, color='turquoise',\n",
        "         label='GPR')"
      ],
      "execution_count": 105,
      "outputs": [
        {
          "output_type": "execute_result",
          "data": {
            "text/plain": [
              "[<matplotlib.lines.Line2D at 0x7f564e4ed210>]"
            ]
          },
          "metadata": {
            "tags": []
          },
          "execution_count": 105
        },
        {
          "output_type": "display_data",
          "data": {
            "image/png": "[encoded data removed]",
            "text/plain": [
              "<Figure size 720x360 with 1 Axes>"
            ]
          },
          "metadata": {
            "tags": [],
            "needs_background": "light"
          }
        }
      ]
    },
    {
      "cell_type": "code",
      "metadata": {
        "colab": {
          "base_uri": "https://localhost:8080/",
          "height": 337
        },
        "id": "6e_wLhoBAOfp",
        "outputId": "ddea1c0d-4534-4e10-ee88-ce2630d8bbcc"
      },
      "source": [
        "#krr\n",
        "param_grid = {\"alpha\": [1e0, 1e-1, 1e-2, 1e-3],\n",
        "              \"kernel\": [ExpSineSquared(l, p)\n",
        "                         for l in np.logspace(-2, 2, 10)\n",
        "                         for p in np.logspace(0, 2, 10)]}\n",
        "\n",
        "krr = GridSearchCV(KernelRidge(), param_grid=param_grid)\n",
        "krr.fit(x, y)\n",
        "y_krr = krr.predict(X_plot)\n",
        "plt.figure(figsize=(10,5))\n",
        "plt.scatter(x,y, color=\"black\")\n",
        "plt.plot(X_plot, y_krr, color='red',\n",
        "         label='KRR')"
      ],
      "execution_count": 106,
      "outputs": [
        {
          "output_type": "execute_result",
          "data": {
            "text/plain": [
              "[<matplotlib.lines.Line2D at 0x7f564e4c7290>]"
            ]
          },
          "metadata": {
            "tags": []
          },
          "execution_count": 106
        },
        {
          "output_type": "display_data",
          "data": {
            "image/png": "[encoded data removed]",
            "text/plain": [
              "<Figure size 720x360 with 1 Axes>"
            ]
          },
          "metadata": {
            "tags": [],
            "needs_background": "light"
          }
        }
      ]
    },
    {
      "cell_type": "code",
      "metadata": {
        "colab": {
          "base_uri": "https://localhost:8080/",
          "height": 350
        },
        "id": "vELXDTyzAyUa",
        "outputId": "fc265754-3494-4383-c1e1-34cdecd6d6d9"
      },
      "source": [
        "plt.figure(figsize=(10, 5))\n",
        "lw = 3\n",
        "plt.scatter(x, y, c='k', label='data')\n",
        "\n",
        "plt.plot(X_plot, y_pred, color='turquoise', lw=lw,\n",
        "         label='GPR')\n",
        "\n",
        "plt.plot(X_plot, y_krr, color='red', lw=lw,\n",
        "         label='KRR')\n",
        "\n",
        "plt.xlabel('data')\n",
        "plt.ylabel('target')\n",
        "\n",
        "plt.title(\"Model estimation: GPR vs KRR\")\n",
        "plt.legend(loc=\"best\",  scatterpoints=1, prop={'size': 8})\n",
        "plt.show()"
      ],
      "execution_count": 107,
      "outputs": [
        {
          "output_type": "display_data",
          "data": {
            "image/png": "[encoded data removed]",
            "text/plain": [
              "<Figure size 720x360 with 1 Axes>"
            ]
          },
          "metadata": {
            "tags": [],
            "needs_background": "light"
          }
        }
      ]
    },
    {
      "cell_type": "markdown",
      "metadata": {
        "id": "dwEJZ6pGBtKq"
      },
      "source": [
        "Kmeans\n",
        "\n",
        "What is the main difference between classification and clustering?\n",
        "\n",
        "In clustering,we group the data points  with similiar distance and in classification , predict the label of data points"
      ]
    },
    {
      "cell_type": "code",
      "metadata": {
        "id": "_S7jABq_B0sJ"
      },
      "source": [
        "from sklearn import datasets\n",
        "import pandas as pd\n",
        "from sklearn.cluster import KMeans\n",
        "\n"
      ],
      "execution_count": 112,
      "outputs": []
    },
    {
      "cell_type": "code",
      "metadata": {
        "colab": {
          "base_uri": "https://localhost:8080/"
        },
        "id": "fwz8vboYHN45",
        "outputId": "e92deb2b-895c-4cf5-ecf5-630e1be4cc24"
      },
      "source": [
        "iris = datasets.load_iris()\n",
        "iris"
      ],
      "execution_count": 113,
      "outputs": [
        {
          "output_type": "execute_result",
          "data": {
            "text/plain": [
              "{'DESCR': '.. _iris_dataset:\\n\\nIris plants dataset\\n--------------------\\n\\n**Data Set Characteristics:**\\n\\n    :Number of Instances: 150 (50 in each of three classes)\\n    :Number of Attributes: 4 numeric, predictive attributes and the class\\n    :Attribute Information:\\n        - sepal length in cm\\n        - sepal width in cm\\n        - petal length in cm\\n        - petal width in cm\\n        - class:\\n                - Iris-Setosa\\n                - Iris-Versicolour\\n                - Iris-Virginica\\n                \\n    :Summary Statistics:\\n\\n    ============== ==== ==== ======= ===== ====================\\n                    Min  Max   Mean    SD   Class Correlation\\n    ============== ==== ==== ======= ===== ====================\\n    sepal length:   4.3  7.9   5.84   0.83    0.7826\\n    sepal width:    2.0  4.4   3.05   0.43   -0.4194\\n    petal length:   1.0  6.9   3.76   1.76    0.9490  (high!)\\n    petal width:    0.1  2.5   1.20   0.76    0.9565  (high!)\\n    ============== ==== ==== ======= ===== ====================\\n\\n    :Missing Attribute Values: None\\n    :Class Distribution: 33.3% for each of 3 classes.\\n    :Creator: R.A. Fisher\\n    :Donor: Michael Marshall (MARSHALL%PLU@io.arc.nasa.gov)\\n    :Date: July, 1988\\n\\nThe famous Iris database, first used by Sir R.A. Fisher. The dataset is taken\\nfrom Fisher\\'s paper. Note that it\\'s the same as in R, but not as in the UCI\\nMachine Learning Repository, which has two wrong data points.\\n\\nThis is perhaps the best known database to be found in the\\npattern recognition literature.  Fisher\\'s paper is a classic in the field and\\nis referenced frequently to this day.  (See Duda & Hart, for example.)  The\\ndata set contains 3 classes of 50 instances each, where each class refers to a\\ntype of iris plant.  One class is linearly separable from the other 2; the\\nlatter are NOT linearly separable from each other.\\n\\n.. topic:: References\\n\\n   - Fisher, R.A. \"The use of multiple measurements in taxonomic problems\"\\n     Annual Eugenics, 7, Part II, 179-188 (1936); also in \"Contributions to\\n     Mathematical Statistics\" (John Wiley, NY, 1950).\\n   - Duda, R.O., & Hart, P.E. (1973) Pattern Classification and Scene Analysis.\\n     (Q327.D83) John Wiley & Sons.  ISBN 0-471-22361-1.  See page 218.\\n   - Dasarathy, B.V. (1980) \"Nosing Around the Neighborhood: A New System\\n     Structure and Classification Rule for Recognition in Partially Exposed\\n     Environments\".  IEEE Transactions on Pattern Analysis and Machine\\n     Intelligence, Vol. PAMI-2, No. 1, 67-71.\\n   - Gates, G.W. (1972) \"The Reduced Nearest Neighbor Rule\".  IEEE Transactions\\n     on Information Theory, May 1972, 431-433.\\n   - See also: 1988 MLC Proceedings, 54-64.  Cheeseman et al\"s AUTOCLASS II\\n     conceptual clustering system finds 3 classes in the data.\\n   - Many, many more ...',\n",
              " 'data': array([[5.1, 3.5, 1.4, 0.2],\n",
              "        [4.9, 3. , 1.4, 0.2],\n",
              "        [4.7, 3.2, 1.3, 0.2],\n",
              "        [4.6, 3.1, 1.5, 0.2],\n",
              "        [5. , 3.6, 1.4, 0.2],\n",
              "        [5.4, 3.9, 1.7, 0.4],\n",
              "        [4.6, 3.4, 1.4, 0.3],\n",
              "        [5. , 3.4, 1.5, 0.2],\n",
              "        [4.4, 2.9, 1.4, 0.2],\n",
              "        [4.9, 3.1, 1.5, 0.1],\n",
              "        [5.4, 3.7, 1.5, 0.2],\n",
              "        [4.8, 3.4, 1.6, 0.2],\n",
              "        [4.8, 3. , 1.4, 0.1],\n",
              "        [4.3, 3. , 1.1, 0.1],\n",
              "        [5.8, 4. , 1.2, 0.2],\n",
              "        [5.7, 4.4, 1.5, 0.4],\n",
              "        [5.4, 3.9, 1.3, 0.4],\n",
              "        [5.1, 3.5, 1.4, 0.3],\n",
              "        [5.7, 3.8, 1.7, 0.3],\n",
              "        [5.1, 3.8, 1.5, 0.3],\n",
              "        [5.4, 3.4, 1.7, 0.2],\n",
              "        [5.1, 3.7, 1.5, 0.4],\n",
              "        [4.6, 3.6, 1. , 0.2],\n",
              "        [5.1, 3.3, 1.7, 0.5],\n",
              "        [4.8, 3.4, 1.9, 0.2],\n",
              "        [5. , 3. , 1.6, 0.2],\n",
              "        [5. , 3.4, 1.6, 0.4],\n",
              "        [5.2, 3.5, 1.5, 0.2],\n",
              "        [5.2, 3.4, 1.4, 0.2],\n",
              "        [4.7, 3.2, 1.6, 0.2],\n",
              "        [4.8, 3.1, 1.6, 0.2],\n",
              "        [5.4, 3.4, 1.5, 0.4],\n",
              "        [5.2, 4.1, 1.5, 0.1],\n",
              "        [5.5, 4.2, 1.4, 0.2],\n",
              "        [4.9, 3.1, 1.5, 0.2],\n",
              "        [5. , 3.2, 1.2, 0.2],\n",
              "        [5.5, 3.5, 1.3, 0.2],\n",
              "        [4.9, 3.6, 1.4, 0.1],\n",
              "        [4.4, 3. , 1.3, 0.2],\n",
              "        [5.1, 3.4, 1.5, 0.2],\n",
              "        [5. , 3.5, 1.3, 0.3],\n",
              "        [4.5, 2.3, 1.3, 0.3],\n",
              "        [4.4, 3.2, 1.3, 0.2],\n",
              "        [5. , 3.5, 1.6, 0.6],\n",
              "        [5.1, 3.8, 1.9, 0.4],\n",
              "        [4.8, 3. , 1.4, 0.3],\n",
              "        [5.1, 3.8, 1.6, 0.2],\n",
              "        [4.6, 3.2, 1.4, 0.2],\n",
              "        [5.3, 3.7, 1.5, 0.2],\n",
              "        [5. , 3.3, 1.4, 0.2],\n",
              "        [7. , 3.2, 4.7, 1.4],\n",
              "        [6.4, 3.2, 4.5, 1.5],\n",
              "        [6.9, 3.1, 4.9, 1.5],\n",
              "        [5.5, 2.3, 4. , 1.3],\n",
              "        [6.5, 2.8, 4.6, 1.5],\n",
              "        [5.7, 2.8, 4.5, 1.3],\n",
              "        [6.3, 3.3, 4.7, 1.6],\n",
              "        [4.9, 2.4, 3.3, 1. ],\n",
              "        [6.6, 2.9, 4.6, 1.3],\n",
              "        [5.2, 2.7, 3.9, 1.4],\n",
              "        [5. , 2. , 3.5, 1. ],\n",
              "        [5.9, 3. , 4.2, 1.5],\n",
              "        [6. , 2.2, 4. , 1. ],\n",
              "        [6.1, 2.9, 4.7, 1.4],\n",
              "        [5.6, 2.9, 3.6, 1.3],\n",
              "        [6.7, 3.1, 4.4, 1.4],\n",
              "        [5.6, 3. , 4.5, 1.5],\n",
              "        [5.8, 2.7, 4.1, 1. ],\n",
              "        [6.2, 2.2, 4.5, 1.5],\n",
              "        [5.6, 2.5, 3.9, 1.1],\n",
              "        [5.9, 3.2, 4.8, 1.8],\n",
              "        [6.1, 2.8, 4. , 1.3],\n",
              "        [6.3, 2.5, 4.9, 1.5],\n",
              "        [6.1, 2.8, 4.7, 1.2],\n",
              "        [6.4, 2.9, 4.3, 1.3],\n",
              "        [6.6, 3. , 4.4, 1.4],\n",
              "        [6.8, 2.8, 4.8, 1.4],\n",
              "        [6.7, 3. , 5. , 1.7],\n",
              "        [6. , 2.9, 4.5, 1.5],\n",
              "        [5.7, 2.6, 3.5, 1. ],\n",
              "        [5.5, 2.4, 3.8, 1.1],\n",
              "        [5.5, 2.4, 3.7, 1. ],\n",
              "        [5.8, 2.7, 3.9, 1.2],\n",
              "        [6. , 2.7, 5.1, 1.6],\n",
              "        [5.4, 3. , 4.5, 1.5],\n",
              "        [6. , 3.4, 4.5, 1.6],\n",
              "        [6.7, 3.1, 4.7, 1.5],\n",
              "        [6.3, 2.3, 4.4, 1.3],\n",
              "        [5.6, 3. , 4.1, 1.3],\n",
              "        [5.5, 2.5, 4. , 1.3],\n",
              "        [5.5, 2.6, 4.4, 1.2],\n",
              "        [6.1, 3. , 4.6, 1.4],\n",
              "        [5.8, 2.6, 4. , 1.2],\n",
              "        [5. , 2.3, 3.3, 1. ],\n",
              "        [5.6, 2.7, 4.2, 1.3],\n",
              "        [5.7, 3. , 4.2, 1.2],\n",
              "        [5.7, 2.9, 4.2, 1.3],\n",
              "        [6.2, 2.9, 4.3, 1.3],\n",
              "        [5.1, 2.5, 3. , 1.1],\n",
              "        [5.7, 2.8, 4.1, 1.3],\n",
              "        [6.3, 3.3, 6. , 2.5],\n",
              "        [5.8, 2.7, 5.1, 1.9],\n",
              "        [7.1, 3. , 5.9, 2.1],\n",
              "        [6.3, 2.9, 5.6, 1.8],\n",
              "        [6.5, 3. , 5.8, 2.2],\n",
              "        [7.6, 3. , 6.6, 2.1],\n",
              "        [4.9, 2.5, 4.5, 1.7],\n",
              "        [7.3, 2.9, 6.3, 1.8],\n",
              "        [6.7, 2.5, 5.8, 1.8],\n",
              "        [7.2, 3.6, 6.1, 2.5],\n",
              "        [6.5, 3.2, 5.1, 2. ],\n",
              "        [6.4, 2.7, 5.3, 1.9],\n",
              "        [6.8, 3. , 5.5, 2.1],\n",
              "        [5.7, 2.5, 5. , 2. ],\n",
              "        [5.8, 2.8, 5.1, 2.4],\n",
              "        [6.4, 3.2, 5.3, 2.3],\n",
              "        [6.5, 3. , 5.5, 1.8],\n",
              "        [7.7, 3.8, 6.7, 2.2],\n",
              "        [7.7, 2.6, 6.9, 2.3],\n",
              "        [6. , 2.2, 5. , 1.5],\n",
              "        [6.9, 3.2, 5.7, 2.3],\n",
              "        [5.6, 2.8, 4.9, 2. ],\n",
              "        [7.7, 2.8, 6.7, 2. ],\n",
              "        [6.3, 2.7, 4.9, 1.8],\n",
              "        [6.7, 3.3, 5.7, 2.1],\n",
              "        [7.2, 3.2, 6. , 1.8],\n",
              "        [6.2, 2.8, 4.8, 1.8],\n",
              "        [6.1, 3. , 4.9, 1.8],\n",
              "        [6.4, 2.8, 5.6, 2.1],\n",
              "        [7.2, 3. , 5.8, 1.6],\n",
              "        [7.4, 2.8, 6.1, 1.9],\n",
              "        [7.9, 3.8, 6.4, 2. ],\n",
              "        [6.4, 2.8, 5.6, 2.2],\n",
              "        [6.3, 2.8, 5.1, 1.5],\n",
              "        [6.1, 2.6, 5.6, 1.4],\n",
              "        [7.7, 3. , 6.1, 2.3],\n",
              "        [6.3, 3.4, 5.6, 2.4],\n",
              "        [6.4, 3.1, 5.5, 1.8],\n",
              "        [6. , 3. , 4.8, 1.8],\n",
              "        [6.9, 3.1, 5.4, 2.1],\n",
              "        [6.7, 3.1, 5.6, 2.4],\n",
              "        [6.9, 3.1, 5.1, 2.3],\n",
              "        [5.8, 2.7, 5.1, 1.9],\n",
              "        [6.8, 3.2, 5.9, 2.3],\n",
              "        [6.7, 3.3, 5.7, 2.5],\n",
              "        [6.7, 3. , 5.2, 2.3],\n",
              "        [6.3, 2.5, 5. , 1.9],\n",
              "        [6.5, 3. , 5.2, 2. ],\n",
              "        [6.2, 3.4, 5.4, 2.3],\n",
              "        [5.9, 3. , 5.1, 1.8]]),\n",
              " 'feature_names': ['sepal length (cm)',\n",
              "  'sepal width (cm)',\n",
              "  'petal length (cm)',\n",
              "  'petal width (cm)'],\n",
              " 'filename': '/usr/local/lib/python3.7/dist-packages/sklearn/datasets/data/iris.csv',\n",
              " 'target': array([0, 0, 0, 0, 0, 0, 0, 0, 0, 0, 0, 0, 0, 0, 0, 0, 0, 0, 0, 0, 0, 0,\n",
              "        0, 0, 0, 0, 0, 0, 0, 0, 0, 0, 0, 0, 0, 0, 0, 0, 0, 0, 0, 0, 0, 0,\n",
              "        0, 0, 0, 0, 0, 0, 1, 1, 1, 1, 1, 1, 1, 1, 1, 1, 1, 1, 1, 1, 1, 1,\n",
              "        1, 1, 1, 1, 1, 1, 1, 1, 1, 1, 1, 1, 1, 1, 1, 1, 1, 1, 1, 1, 1, 1,\n",
              "        1, 1, 1, 1, 1, 1, 1, 1, 1, 1, 1, 1, 2, 2, 2, 2, 2, 2, 2, 2, 2, 2,\n",
              "        2, 2, 2, 2, 2, 2, 2, 2, 2, 2, 2, 2, 2, 2, 2, 2, 2, 2, 2, 2, 2, 2,\n",
              "        2, 2, 2, 2, 2, 2, 2, 2, 2, 2, 2, 2, 2, 2, 2, 2, 2, 2]),\n",
              " 'target_names': array(['setosa', 'versicolor', 'virginica'], dtype='<U10')}"
            ]
          },
          "metadata": {
            "tags": []
          },
          "execution_count": 113
        }
      ]
    },
    {
      "cell_type": "code",
      "metadata": {
        "id": "XIAmdMVKHlxf"
      },
      "source": [
        "x_ = iris.data\n",
        "y_ =iris.target"
      ],
      "execution_count": 115,
      "outputs": []
    },
    {
      "cell_type": "code",
      "metadata": {
        "colab": {
          "base_uri": "https://localhost:8080/"
        },
        "id": "Qo4lI8CPHz3z",
        "outputId": "66cfbf6e-cb22-4ee2-d71b-c80e619e69ac"
      },
      "source": [
        "#kmeas importing\n",
        "km = KMeans(n_clusters=3,n_jobs=4,random_state=21)\n",
        "#kmeans to fit the data\n",
        "km.fit(x_)\n",
        "#centers\n",
        "km.cluster_centers_"
      ],
      "execution_count": 116,
      "outputs": [
        {
          "output_type": "execute_result",
          "data": {
            "text/plain": [
              "array([[5.9016129 , 2.7483871 , 4.39354839, 1.43387097],\n",
              "       [5.006     , 3.428     , 1.462     , 0.246     ],\n",
              "       [6.85      , 3.07368421, 5.74210526, 2.07105263]])"
            ]
          },
          "metadata": {
            "tags": []
          },
          "execution_count": 116
        }
      ]
    },
    {
      "cell_type": "code",
      "metadata": {
        "colab": {
          "base_uri": "https://localhost:8080/"
        },
        "id": "tW5aCd4rIOpv",
        "outputId": "34e23f81-cea3-409d-eeb9-233ad46e9d67"
      },
      "source": [
        "#Lbales\n",
        "km.labels_"
      ],
      "execution_count": 117,
      "outputs": [
        {
          "output_type": "execute_result",
          "data": {
            "text/plain": [
              "array([1, 1, 1, 1, 1, 1, 1, 1, 1, 1, 1, 1, 1, 1, 1, 1, 1, 1, 1, 1, 1, 1,\n",
              "       1, 1, 1, 1, 1, 1, 1, 1, 1, 1, 1, 1, 1, 1, 1, 1, 1, 1, 1, 1, 1, 1,\n",
              "       1, 1, 1, 1, 1, 1, 0, 0, 2, 0, 0, 0, 0, 0, 0, 0, 0, 0, 0, 0, 0, 0,\n",
              "       0, 0, 0, 0, 0, 0, 0, 0, 0, 0, 0, 2, 0, 0, 0, 0, 0, 0, 0, 0, 0, 0,\n",
              "       0, 0, 0, 0, 0, 0, 0, 0, 0, 0, 0, 0, 2, 0, 2, 2, 2, 2, 0, 2, 2, 2,\n",
              "       2, 2, 2, 0, 0, 2, 2, 2, 2, 0, 2, 0, 2, 0, 2, 2, 0, 0, 2, 2, 2, 2,\n",
              "       2, 0, 2, 2, 2, 2, 0, 2, 2, 2, 0, 2, 2, 2, 0, 2, 2, 0], dtype=int32)"
            ]
          },
          "metadata": {
            "tags": []
          },
          "execution_count": 117
        }
      ]
    },
    {
      "cell_type": "code",
      "metadata": {
        "colab": {
          "base_uri": "https://localhost:8080/"
        },
        "id": "ZzXPyRlsIUmD",
        "outputId": "5e98783b-32d4-4241-969d-360f92fe6348"
      },
      "source": [
        "#Makeing the clusters\n",
        "output_list =[]\n",
        "for i in range(x_.shape[0]):\n",
        "  output_list.append(km.predict([x_[i,:]]))\n",
        "\n",
        "output_list\n"
      ],
      "execution_count": 119,
      "outputs": [
        {
          "output_type": "execute_result",
          "data": {
            "text/plain": [
              "[array([1], dtype=int32),\n",
              " array([1], dtype=int32),\n",
              " array([1], dtype=int32),\n",
              " array([1], dtype=int32),\n",
              " array([1], dtype=int32),\n",
              " array([1], dtype=int32),\n",
              " array([1], dtype=int32),\n",
              " array([1], dtype=int32),\n",
              " array([1], dtype=int32),\n",
              " array([1], dtype=int32),\n",
              " array([1], dtype=int32),\n",
              " array([1], dtype=int32),\n",
              " array([1], dtype=int32),\n",
              " array([1], dtype=int32),\n",
              " array([1], dtype=int32),\n",
              " array([1], dtype=int32),\n",
              " array([1], dtype=int32),\n",
              " array([1], dtype=int32),\n",
              " array([1], dtype=int32),\n",
              " array([1], dtype=int32),\n",
              " array([1], dtype=int32),\n",
              " array([1], dtype=int32),\n",
              " array([1], dtype=int32),\n",
              " array([1], dtype=int32),\n",
              " array([1], dtype=int32),\n",
              " array([1], dtype=int32),\n",
              " array([1], dtype=int32),\n",
              " array([1], dtype=int32),\n",
              " array([1], dtype=int32),\n",
              " array([1], dtype=int32),\n",
              " array([1], dtype=int32),\n",
              " array([1], dtype=int32),\n",
              " array([1], dtype=int32),\n",
              " array([1], dtype=int32),\n",
              " array([1], dtype=int32),\n",
              " array([1], dtype=int32),\n",
              " array([1], dtype=int32),\n",
              " array([1], dtype=int32),\n",
              " array([1], dtype=int32),\n",
              " array([1], dtype=int32),\n",
              " array([1], dtype=int32),\n",
              " array([1], dtype=int32),\n",
              " array([1], dtype=int32),\n",
              " array([1], dtype=int32),\n",
              " array([1], dtype=int32),\n",
              " array([1], dtype=int32),\n",
              " array([1], dtype=int32),\n",
              " array([1], dtype=int32),\n",
              " array([1], dtype=int32),\n",
              " array([1], dtype=int32),\n",
              " array([0], dtype=int32),\n",
              " array([0], dtype=int32),\n",
              " array([2], dtype=int32),\n",
              " array([0], dtype=int32),\n",
              " array([0], dtype=int32),\n",
              " array([0], dtype=int32),\n",
              " array([0], dtype=int32),\n",
              " array([0], dtype=int32),\n",
              " array([0], dtype=int32),\n",
              " array([0], dtype=int32),\n",
              " array([0], dtype=int32),\n",
              " array([0], dtype=int32),\n",
              " array([0], dtype=int32),\n",
              " array([0], dtype=int32),\n",
              " array([0], dtype=int32),\n",
              " array([0], dtype=int32),\n",
              " array([0], dtype=int32),\n",
              " array([0], dtype=int32),\n",
              " array([0], dtype=int32),\n",
              " array([0], dtype=int32),\n",
              " array([0], dtype=int32),\n",
              " array([0], dtype=int32),\n",
              " array([0], dtype=int32),\n",
              " array([0], dtype=int32),\n",
              " array([0], dtype=int32),\n",
              " array([0], dtype=int32),\n",
              " array([0], dtype=int32),\n",
              " array([2], dtype=int32),\n",
              " array([0], dtype=int32),\n",
              " array([0], dtype=int32),\n",
              " array([0], dtype=int32),\n",
              " array([0], dtype=int32),\n",
              " array([0], dtype=int32),\n",
              " array([0], dtype=int32),\n",
              " array([0], dtype=int32),\n",
              " array([0], dtype=int32),\n",
              " array([0], dtype=int32),\n",
              " array([0], dtype=int32),\n",
              " array([0], dtype=int32),\n",
              " array([0], dtype=int32),\n",
              " array([0], dtype=int32),\n",
              " array([0], dtype=int32),\n",
              " array([0], dtype=int32),\n",
              " array([0], dtype=int32),\n",
              " array([0], dtype=int32),\n",
              " array([0], dtype=int32),\n",
              " array([0], dtype=int32),\n",
              " array([0], dtype=int32),\n",
              " array([0], dtype=int32),\n",
              " array([0], dtype=int32),\n",
              " array([2], dtype=int32),\n",
              " array([0], dtype=int32),\n",
              " array([2], dtype=int32),\n",
              " array([2], dtype=int32),\n",
              " array([2], dtype=int32),\n",
              " array([2], dtype=int32),\n",
              " array([0], dtype=int32),\n",
              " array([2], dtype=int32),\n",
              " array([2], dtype=int32),\n",
              " array([2], dtype=int32),\n",
              " array([2], dtype=int32),\n",
              " array([2], dtype=int32),\n",
              " array([2], dtype=int32),\n",
              " array([0], dtype=int32),\n",
              " array([0], dtype=int32),\n",
              " array([2], dtype=int32),\n",
              " array([2], dtype=int32),\n",
              " array([2], dtype=int32),\n",
              " array([2], dtype=int32),\n",
              " array([0], dtype=int32),\n",
              " array([2], dtype=int32),\n",
              " array([0], dtype=int32),\n",
              " array([2], dtype=int32),\n",
              " array([0], dtype=int32),\n",
              " array([2], dtype=int32),\n",
              " array([2], dtype=int32),\n",
              " array([0], dtype=int32),\n",
              " array([0], dtype=int32),\n",
              " array([2], dtype=int32),\n",
              " array([2], dtype=int32),\n",
              " array([2], dtype=int32),\n",
              " array([2], dtype=int32),\n",
              " array([2], dtype=int32),\n",
              " array([0], dtype=int32),\n",
              " array([2], dtype=int32),\n",
              " array([2], dtype=int32),\n",
              " array([2], dtype=int32),\n",
              " array([2], dtype=int32),\n",
              " array([0], dtype=int32),\n",
              " array([2], dtype=int32),\n",
              " array([2], dtype=int32),\n",
              " array([2], dtype=int32),\n",
              " array([0], dtype=int32),\n",
              " array([2], dtype=int32),\n",
              " array([2], dtype=int32),\n",
              " array([2], dtype=int32),\n",
              " array([0], dtype=int32),\n",
              " array([2], dtype=int32),\n",
              " array([2], dtype=int32),\n",
              " array([0], dtype=int32)]"
            ]
          },
          "metadata": {
            "tags": []
          },
          "execution_count": 119
        }
      ]
    },
    {
      "cell_type": "code",
      "metadata": {
        "colab": {
          "base_uri": "https://localhost:8080/"
        },
        "id": "Kp9o2q7HJpOm",
        "outputId": "83b2cad6-913a-4b40-e6c6-b15dca8b8c05"
      },
      "source": [
        "from tensorflow.keras.datasets import mnist\n",
        "(X_train, Y_train), (X_test, Y_test) = mnist.load_data()\n",
        "\n",
        "X_train.shape"
      ],
      "execution_count": 131,
      "outputs": [
        {
          "output_type": "execute_result",
          "data": {
            "text/plain": [
              "(60000, 28, 28)"
            ]
          },
          "metadata": {
            "tags": []
          },
          "execution_count": 131
        }
      ]
    },
    {
      "cell_type": "code",
      "metadata": {
        "colab": {
          "base_uri": "https://localhost:8080/"
        },
        "id": "NX2xUVtbJ3GG",
        "outputId": "37ff06fd-fa10-4142-c334-25c069c0c470"
      },
      "source": [
        "from sklearn import svm\n",
        "classfifier = svm.SVC()\n",
        "X_train = X_train.reshape(X_train.shape[0],-1)\n",
        "X_train"
      ],
      "execution_count": 137,
      "outputs": [
        {
          "output_type": "execute_result",
          "data": {
            "text/plain": [
              "array([[0, 0, 0, ..., 0, 0, 0],\n",
              "       [0, 0, 0, ..., 0, 0, 0],\n",
              "       [0, 0, 0, ..., 0, 0, 0],\n",
              "       ...,\n",
              "       [0, 0, 0, ..., 0, 0, 0],\n",
              "       [0, 0, 0, ..., 0, 0, 0],\n",
              "       [0, 0, 0, ..., 0, 0, 0]], dtype=uint8)"
            ]
          },
          "metadata": {
            "tags": []
          },
          "execution_count": 137
        }
      ]
    },
    {
      "cell_type": "code",
      "metadata": {
        "colab": {
          "base_uri": "https://localhost:8080/"
        },
        "id": "FC4zwVJpKcN9",
        "outputId": "cd614599-88a8-4fca-c801-3b025a0c0240"
      },
      "source": [
        "X_train = X_train[0:1000,:]\n",
        "\n",
        "classfifier.fit(X_train, Y_train[0:1000])"
      ],
      "execution_count": 139,
      "outputs": [
        {
          "output_type": "execute_result",
          "data": {
            "text/plain": [
              "SVC(C=1.0, break_ties=False, cache_size=200, class_weight=None, coef0=0.0,\n",
              "    decision_function_shape='ovr', degree=3, gamma='scale', kernel='rbf',\n",
              "    max_iter=-1, probability=False, random_state=None, shrinking=True,\n",
              "    tol=0.001, verbose=False)"
            ]
          },
          "metadata": {
            "tags": []
          },
          "execution_count": 139
        }
      ]
    },
    {
      "cell_type": "markdown",
      "metadata": {
        "id": "YOp3zciJM4GN"
      },
      "source": [
        "Reshape teh training and test "
      ]
    },
    {
      "cell_type": "code",
      "metadata": {
        "id": "03BGbhFNLwtM"
      },
      "source": [
        "X_test = X_test.reshape(X_test.shape[0],-1)\n",
        "X_test = X_test[0:1000,:]"
      ],
      "execution_count": 148,
      "outputs": []
    },
    {
      "cell_type": "code",
      "metadata": {
        "colab": {
          "base_uri": "https://localhost:8080/"
        },
        "id": "Hjy_yaFpKqDe",
        "outputId": "bd0c9ac6-d6c5-41e5-fe47-e7c2558cbfb8"
      },
      "source": [
        "p = 100\n",
        "y_pred = classfifier.predict(X_test)\n",
        "y_pred.shape"
      ],
      "execution_count": 158,
      "outputs": [
        {
          "output_type": "execute_result",
          "data": {
            "text/plain": [
              "(1000,)"
            ]
          },
          "metadata": {
            "tags": []
          },
          "execution_count": 158
        }
      ]
    },
    {
      "cell_type": "markdown",
      "metadata": {
        "id": "ucaYQaWnM1Rk"
      },
      "source": [
        "Find thwe accuracy of model"
      ]
    },
    {
      "cell_type": "code",
      "metadata": {
        "colab": {
          "base_uri": "https://localhost:8080/"
        },
        "id": "JfMfWC79K1Et",
        "outputId": "f4e86393-d063-45c8-cc67-ecef1318dc6a"
      },
      "source": [
        "from sklearn.metrics import accuracy_score\n",
        "accuracy_score(Y_test[0:1000],y_pred)"
      ],
      "execution_count": 159,
      "outputs": [
        {
          "output_type": "execute_result",
          "data": {
            "text/plain": [
              "0.875"
            ]
          },
          "metadata": {
            "tags": []
          },
          "execution_count": 159
        }
      ]
    }
  ]
}