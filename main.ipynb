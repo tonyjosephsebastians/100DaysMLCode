{
 "cells": [
  {
   "cell_type": "markdown",
   "source": [
    "Text Classification using cornell sentiment analysis dataset"
   ],
   "metadata": {}
  },
  {
   "cell_type": "code",
   "execution_count": 2,
   "source": [
    "#Data peprocessing"
   ],
   "outputs": [],
   "metadata": {}
  },
  {
   "cell_type": "code",
   "execution_count": 3,
   "source": [
    "import numpy as np\r\n",
    "import re\r\n",
    "import pickle\r\n",
    "import nltk\r\n",
    "from nltk.corpus import stopwords\r\n",
    "from sklearn.datasets import load_files"
   ],
   "outputs": [],
   "metadata": {}
  },
  {
   "cell_type": "code",
   "execution_count": 5,
   "source": [
    "reviews = load_files(\"txt_sentoken/\")"
   ],
   "outputs": [],
   "metadata": {}
  },
  {
   "cell_type": "code",
   "execution_count": 8,
   "source": [
    "X,y = reviews.data , reviews.target"
   ],
   "outputs": [],
   "metadata": {}
  },
  {
   "cell_type": "code",
   "execution_count": 10,
   "source": [
    "# storing as pickle files\r\n",
    "with open('X.pickle','wb') as f:\r\n",
    "    pickle.dump(X,f)\r\n",
    "    \r\n",
    "with open('y.pickle','wb') as f:\r\n",
    "    pickle.dump(y,f)"
   ],
   "outputs": [],
   "metadata": {}
  },
  {
   "cell_type": "code",
   "execution_count": 11,
   "source": [
    "with open('X.pickle', 'rb') as f:\r\n",
    "    X = pickle.load(f)\r\n",
    "    \r\n",
    "with open('y.pickle', 'rb') as f:\r\n",
    "    y = pickle.load(f)"
   ],
   "outputs": [],
   "metadata": {}
  },
  {
   "cell_type": "code",
   "execution_count": 21,
   "source": [
    "\r\n",
    "# creating the corpus\r\n",
    "corpus = []\r\n",
    "for i in range(0, len(X)):\r\n",
    "    review = re.sub(r'\\W', ' ',str(X[i]))\r\n",
    "    review = review.lower()\r\n",
    "    review = re.sub(r'\\s+[a-z]\\s+',' ', review)\r\n",
    "    review = re.sub(r'^[a-z]\\s+',' ', review)\r\n",
    "    review = re.sub(r'\\s+',' ', review)\r\n",
    "    corpus.append(review)"
   ],
   "outputs": [],
   "metadata": {}
  },
  {
   "cell_type": "code",
   "execution_count": 22,
   "source": [
    "#Building the model\r\n",
    "from sklearn.feature_extraction.text import CountVectorizer"
   ],
   "outputs": [],
   "metadata": {}
  },
  {
   "cell_type": "code",
   "execution_count": 23,
   "source": [
    "vectorizer = CountVectorizer(max_features= 2000, min_df = 3, max_df = 0.6, stop_words = stopwords.words('english'))"
   ],
   "outputs": [],
   "metadata": {}
  },
  {
   "cell_type": "code",
   "execution_count": 24,
   "source": [
    "X = vectorizer.fit_transform(corpus).toarray()"
   ],
   "outputs": [],
   "metadata": {}
  },
  {
   "cell_type": "code",
   "execution_count": 25,
   "source": [
    "# Transform BOW Model into TF-IDF Model\r\n",
    "from sklearn.feature_extraction.text import TfidfTransformer\r\n",
    "transformer = TfidfTransformer()"
   ],
   "outputs": [],
   "metadata": {}
  },
  {
   "cell_type": "code",
   "execution_count": 26,
   "source": [
    "X = transformer.fit_transform(X)"
   ],
   "outputs": [],
   "metadata": {}
  },
  {
   "cell_type": "code",
   "execution_count": 27,
   "source": [
    "from sklearn.feature_extraction.text import TfidfVectorizer\r\n",
    "\r\n",
    "vectorizer = TfidfVectorizer(max_features= 2000, min_df = 3, max_df = 0.6, stop_words = stopwords.words('english'))\r\n",
    "X = vectorizer.fit_transform(corpus).toarray()"
   ],
   "outputs": [],
   "metadata": {}
  },
  {
   "cell_type": "code",
   "execution_count": 28,
   "source": [
    "# Split the data into train_test_split\r\n",
    "from sklearn.model_selection import train_test_split\r\n",
    "text_train, text_test, sent_train, sent_test = train_test_split(X, y ,test_size = 0.2, random_state=0)"
   ],
   "outputs": [],
   "metadata": {}
  },
  {
   "cell_type": "code",
   "execution_count": 40,
   "source": [
    "#Train our model\r\n",
    "\r\n",
    "from sklearn.linear_model import LogisticRegression\r\n",
    "\r\n",
    "classification = LogisticRegression()\r\n",
    "classification.fit(text_train,sent_train)"
   ],
   "outputs": [
    {
     "output_type": "execute_result",
     "data": {
      "text/plain": [
       "LogisticRegression()"
      ]
     },
     "metadata": {},
     "execution_count": 40
    }
   ],
   "metadata": {}
  },
  {
   "cell_type": "code",
   "execution_count": 41,
   "source": [
    "#: Making a prediction and Accuracy"
   ],
   "outputs": [],
   "metadata": {}
  },
  {
   "cell_type": "code",
   "execution_count": 42,
   "source": [
    "pred = classification.predict(text_test)"
   ],
   "outputs": [],
   "metadata": {}
  },
  {
   "cell_type": "code",
   "execution_count": 43,
   "source": [
    "from sklearn.metrics import accuracy_score,confusion_matrix\r\n",
    "\r\n"
   ],
   "outputs": [],
   "metadata": {}
  },
  {
   "cell_type": "code",
   "execution_count": 45,
   "source": [
    "confusion_matrix(sent_test,pred)"
   ],
   "outputs": [
    {
     "output_type": "execute_result",
     "data": {
      "text/plain": [
       "array([[168,  40],\n",
       "       [ 21, 171]], dtype=int64)"
      ]
     },
     "metadata": {},
     "execution_count": 45
    }
   ],
   "metadata": {}
  },
  {
   "cell_type": "code",
   "execution_count": 46,
   "source": [
    "acc = accuracy_score(sent_test,pred)"
   ],
   "outputs": [],
   "metadata": {}
  },
  {
   "cell_type": "code",
   "execution_count": 47,
   "source": [
    "acc"
   ],
   "outputs": [
    {
     "output_type": "execute_result",
     "data": {
      "text/plain": [
       "0.8475"
      ]
     },
     "metadata": {},
     "execution_count": 47
    }
   ],
   "metadata": {}
  },
  {
   "cell_type": "code",
   "execution_count": 49,
   "source": [
    "#Saving our model\r\n",
    "\r\n",
    "with open('model.pickle','wb') as f:\r\n",
    "    pickle.dump(classification,f)"
   ],
   "outputs": [],
   "metadata": {}
  },
  {
   "cell_type": "code",
   "execution_count": 50,
   "source": [
    "#Saving vector\r\n",
    "\r\n",
    "with open('transformer.pickle','wb') as f:\r\n",
    "    pickle.dump(vectorizer,f)"
   ],
   "outputs": [],
   "metadata": {}
  },
  {
   "cell_type": "code",
   "execution_count": 60,
   "source": [
    "#Using the saved model\r\n",
    "\r\n",
    "with open('model.pickle','rb') as f:\r\n",
    "    clf = pickle.load(f)\r\n"
   ],
   "outputs": [],
   "metadata": {}
  },
  {
   "cell_type": "code",
   "execution_count": 61,
   "source": [
    "with open('transformer.pickle','rb') as f:\r\n",
    "    tfidf = pickle.load(f)"
   ],
   "outputs": [],
   "metadata": {}
  },
  {
   "cell_type": "code",
   "execution_count": 56,
   "source": [
    "sample = [ \"you are a nice person man, have a good life\"]\r\n",
    "sample = tfidf.transform(sample).toarray()\r\n",
    "print(clf.predict(sample))"
   ],
   "outputs": [
    {
     "output_type": "stream",
     "name": "stdout",
     "text": [
      "[1]\n"
     ]
    }
   ],
   "metadata": {}
  }
 ],
 "metadata": {
  "orig_nbformat": 4,
  "language_info": {
   "name": "python",
   "version": "3.9.5",
   "mimetype": "text/x-python",
   "codemirror_mode": {
    "name": "ipython",
    "version": 3
   },
   "pygments_lexer": "ipython3",
   "nbconvert_exporter": "python",
   "file_extension": ".py"
  },
  "kernelspec": {
   "name": "python3",
   "display_name": "Python 3.9.5 64-bit"
  },
  "interpreter": {
   "hash": "f6dcea0544b17e37029fc67094bed7999502be6d3df8815a93535881b6023250"
  }
 },
 "nbformat": 4,
 "nbformat_minor": 2
}