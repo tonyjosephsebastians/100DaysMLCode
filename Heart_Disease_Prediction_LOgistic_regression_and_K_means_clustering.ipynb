{
  "nbformat": 4,
  "nbformat_minor": 0,
  "metadata": {
    "colab": {
      "name": "Heart_Disease_Prediction - LOgistic regression and K means clustering.ipynb",
      "provenance": [],
      "collapsed_sections": [],
      "toc_visible": true,
      "include_colab_link": true
    },
    "kernelspec": {
      "display_name": "Python 3",
      "language": "python",
      "name": "python3"
    },
    "language_info": {
      "codemirror_mode": {
        "name": "ipython",
        "version": 3
      },
      "file_extension": ".py",
      "mimetype": "text/x-python",
      "name": "python",
      "nbconvert_exporter": "python",
      "pygments_lexer": "ipython3",
      "version": "3.8.5"
    }
  },
  "cells": [
    {
      "cell_type": "markdown",
      "metadata": {
        "id": "view-in-github",
        "colab_type": "text"
      },
      "source": [
        "<a href=\"https://colab.research.google.com/github/tonyjosephsebastians/100DaysMLCode/blob/main/Heart_Disease_Prediction_LOgistic_regression_and_K_means_clustering.ipynb\" target=\"_parent\"><img src=\"https://colab.research.google.com/assets/colab-badge.svg\" alt=\"Open In Colab\"/></a>"
      ]
    },
    {
      "cell_type": "markdown",
      "metadata": {
        "id": "fZKG_3_-NtE0"
      },
      "source": [
        "# **HEART** **DISEASE** **PREDICTION**"
      ]
    },
    {
      "cell_type": "code",
      "metadata": {
        "id": "USYbQ6xrFnPJ"
      },
      "source": [
        "#Importing libraries\n",
        "import sklearn\n",
        "import numpy as np\n",
        "import pandas as pd\n",
        "\n",
        "import plotly as plot\n",
        "import plotly.express as px\n",
        "import plotly.graph_objs as go\n",
        "import plotly.offline as pyo\n",
        "from plotly.offline import init_notebook_mode,plot,iplot\n",
        "\n",
        "import cufflinks as cf\n",
        "import matplotlib.pyplot as plt\n",
        "import seaborn as sns"
      ],
      "execution_count": null,
      "outputs": []
    },
    {
      "cell_type": "markdown",
      "metadata": {
        "id": "mmsBRB2bCmJW"
      },
      "source": [
        "# **Data preprocessing**"
      ]
    },
    {
      "cell_type": "markdown",
      "metadata": {
        "id": "bYvD9J-uCsu1"
      },
      "source": [
        "**a)Load the data set into a data**"
      ]
    },
    {
      "cell_type": "code",
      "metadata": {
        "id": "GxLqspZKouMU"
      },
      "source": [
        "#importing dataset\n",
        "df = pd.read_csv('https://archive.ics.uci.edu/ml/machine-learning-databases/heart-disease/processed.cleveland.data')\n"
      ],
      "execution_count": null,
      "outputs": []
    },
    {
      "cell_type": "code",
      "metadata": {
        "colab": {
          "base_uri": "https://localhost:8080/",
          "height": 202
        },
        "id": "aIWvhWcQFnPP",
        "outputId": "c7719dd2-c51c-40a2-a11d-93a76c7b2b76"
      },
      "source": [
        "#view first 5 rows of the dataset\n",
        "df.head()"
      ],
      "execution_count": null,
      "outputs": [
        {
          "output_type": "execute_result",
          "data": {
            "text/html": [
              "<div>\n",
              "<style scoped>\n",
              "    .dataframe tbody tr th:only-of-type {\n",
              "        vertical-align: middle;\n",
              "    }\n",
              "\n",
              "    .dataframe tbody tr th {\n",
              "        vertical-align: top;\n",
              "    }\n",
              "\n",
              "    .dataframe thead th {\n",
              "        text-align: right;\n",
              "    }\n",
              "</style>\n",
              "<table border=\"1\" class=\"dataframe\">\n",
              "  <thead>\n",
              "    <tr style=\"text-align: right;\">\n",
              "      <th></th>\n",
              "      <th>63.0</th>\n",
              "      <th>1.0</th>\n",
              "      <th>1.0.1</th>\n",
              "      <th>145.0</th>\n",
              "      <th>233.0</th>\n",
              "      <th>1.0.2</th>\n",
              "      <th>2.0</th>\n",
              "      <th>150.0</th>\n",
              "      <th>0.0</th>\n",
              "      <th>2.3</th>\n",
              "      <th>3.0</th>\n",
              "      <th>0.0.1</th>\n",
              "      <th>6.0</th>\n",
              "      <th>0</th>\n",
              "    </tr>\n",
              "  </thead>\n",
              "  <tbody>\n",
              "    <tr>\n",
              "      <th>0</th>\n",
              "      <td>67.0</td>\n",
              "      <td>1.0</td>\n",
              "      <td>4.0</td>\n",
              "      <td>160.0</td>\n",
              "      <td>286.0</td>\n",
              "      <td>0.0</td>\n",
              "      <td>2.0</td>\n",
              "      <td>108.0</td>\n",
              "      <td>1.0</td>\n",
              "      <td>1.5</td>\n",
              "      <td>2.0</td>\n",
              "      <td>3.0</td>\n",
              "      <td>3.0</td>\n",
              "      <td>2</td>\n",
              "    </tr>\n",
              "    <tr>\n",
              "      <th>1</th>\n",
              "      <td>67.0</td>\n",
              "      <td>1.0</td>\n",
              "      <td>4.0</td>\n",
              "      <td>120.0</td>\n",
              "      <td>229.0</td>\n",
              "      <td>0.0</td>\n",
              "      <td>2.0</td>\n",
              "      <td>129.0</td>\n",
              "      <td>1.0</td>\n",
              "      <td>2.6</td>\n",
              "      <td>2.0</td>\n",
              "      <td>2.0</td>\n",
              "      <td>7.0</td>\n",
              "      <td>1</td>\n",
              "    </tr>\n",
              "    <tr>\n",
              "      <th>2</th>\n",
              "      <td>37.0</td>\n",
              "      <td>1.0</td>\n",
              "      <td>3.0</td>\n",
              "      <td>130.0</td>\n",
              "      <td>250.0</td>\n",
              "      <td>0.0</td>\n",
              "      <td>0.0</td>\n",
              "      <td>187.0</td>\n",
              "      <td>0.0</td>\n",
              "      <td>3.5</td>\n",
              "      <td>3.0</td>\n",
              "      <td>0.0</td>\n",
              "      <td>3.0</td>\n",
              "      <td>0</td>\n",
              "    </tr>\n",
              "    <tr>\n",
              "      <th>3</th>\n",
              "      <td>41.0</td>\n",
              "      <td>0.0</td>\n",
              "      <td>2.0</td>\n",
              "      <td>130.0</td>\n",
              "      <td>204.0</td>\n",
              "      <td>0.0</td>\n",
              "      <td>2.0</td>\n",
              "      <td>172.0</td>\n",
              "      <td>0.0</td>\n",
              "      <td>1.4</td>\n",
              "      <td>1.0</td>\n",
              "      <td>0.0</td>\n",
              "      <td>3.0</td>\n",
              "      <td>0</td>\n",
              "    </tr>\n",
              "    <tr>\n",
              "      <th>4</th>\n",
              "      <td>56.0</td>\n",
              "      <td>1.0</td>\n",
              "      <td>2.0</td>\n",
              "      <td>120.0</td>\n",
              "      <td>236.0</td>\n",
              "      <td>0.0</td>\n",
              "      <td>0.0</td>\n",
              "      <td>178.0</td>\n",
              "      <td>0.0</td>\n",
              "      <td>0.8</td>\n",
              "      <td>1.0</td>\n",
              "      <td>0.0</td>\n",
              "      <td>3.0</td>\n",
              "      <td>0</td>\n",
              "    </tr>\n",
              "  </tbody>\n",
              "</table>\n",
              "</div>"
            ],
            "text/plain": [
              "   63.0  1.0  1.0.1  145.0  233.0  1.0.2  ...  0.0  2.3  3.0  0.0.1  6.0  0\n",
              "0  67.0  1.0    4.0  160.0  286.0    0.0  ...  1.0  1.5  2.0    3.0  3.0  2\n",
              "1  67.0  1.0    4.0  120.0  229.0    0.0  ...  1.0  2.6  2.0    2.0  7.0  1\n",
              "2  37.0  1.0    3.0  130.0  250.0    0.0  ...  0.0  3.5  3.0    0.0  3.0  0\n",
              "3  41.0  0.0    2.0  130.0  204.0    0.0  ...  0.0  1.4  1.0    0.0  3.0  0\n",
              "4  56.0  1.0    2.0  120.0  236.0    0.0  ...  0.0  0.8  1.0    0.0  3.0  0\n",
              "\n",
              "[5 rows x 14 columns]"
            ]
          },
          "metadata": {
            "tags": []
          },
          "execution_count": 3
        }
      ]
    },
    {
      "cell_type": "code",
      "metadata": {
        "id": "AUoAlgdJJKcl",
        "colab": {
          "base_uri": "https://localhost:8080/",
          "height": 414
        },
        "outputId": "34885528-5294-4ff9-8746-d66d034cc1eb"
      },
      "source": [
        "#providing column names\n",
        "cols = ['age','sex','cp','trestbps','chol','fbs','restecg','thalach','exang','oldpeak','slope','ca','thal','target']\n",
        "df.columns =cols\n",
        "df"
      ],
      "execution_count": null,
      "outputs": [
        {
          "output_type": "execute_result",
          "data": {
            "text/html": [
              "<div>\n",
              "<style scoped>\n",
              "    .dataframe tbody tr th:only-of-type {\n",
              "        vertical-align: middle;\n",
              "    }\n",
              "\n",
              "    .dataframe tbody tr th {\n",
              "        vertical-align: top;\n",
              "    }\n",
              "\n",
              "    .dataframe thead th {\n",
              "        text-align: right;\n",
              "    }\n",
              "</style>\n",
              "<table border=\"1\" class=\"dataframe\">\n",
              "  <thead>\n",
              "    <tr style=\"text-align: right;\">\n",
              "      <th></th>\n",
              "      <th>age</th>\n",
              "      <th>sex</th>\n",
              "      <th>cp</th>\n",
              "      <th>trestbps</th>\n",
              "      <th>chol</th>\n",
              "      <th>fbs</th>\n",
              "      <th>restecg</th>\n",
              "      <th>thalach</th>\n",
              "      <th>exang</th>\n",
              "      <th>oldpeak</th>\n",
              "      <th>slope</th>\n",
              "      <th>ca</th>\n",
              "      <th>thal</th>\n",
              "      <th>target</th>\n",
              "    </tr>\n",
              "  </thead>\n",
              "  <tbody>\n",
              "    <tr>\n",
              "      <th>0</th>\n",
              "      <td>67.0</td>\n",
              "      <td>1.0</td>\n",
              "      <td>4.0</td>\n",
              "      <td>160.0</td>\n",
              "      <td>286.0</td>\n",
              "      <td>0.0</td>\n",
              "      <td>2.0</td>\n",
              "      <td>108.0</td>\n",
              "      <td>1.0</td>\n",
              "      <td>1.5</td>\n",
              "      <td>2.0</td>\n",
              "      <td>3.0</td>\n",
              "      <td>3.0</td>\n",
              "      <td>2</td>\n",
              "    </tr>\n",
              "    <tr>\n",
              "      <th>1</th>\n",
              "      <td>67.0</td>\n",
              "      <td>1.0</td>\n",
              "      <td>4.0</td>\n",
              "      <td>120.0</td>\n",
              "      <td>229.0</td>\n",
              "      <td>0.0</td>\n",
              "      <td>2.0</td>\n",
              "      <td>129.0</td>\n",
              "      <td>1.0</td>\n",
              "      <td>2.6</td>\n",
              "      <td>2.0</td>\n",
              "      <td>2.0</td>\n",
              "      <td>7.0</td>\n",
              "      <td>1</td>\n",
              "    </tr>\n",
              "    <tr>\n",
              "      <th>2</th>\n",
              "      <td>37.0</td>\n",
              "      <td>1.0</td>\n",
              "      <td>3.0</td>\n",
              "      <td>130.0</td>\n",
              "      <td>250.0</td>\n",
              "      <td>0.0</td>\n",
              "      <td>0.0</td>\n",
              "      <td>187.0</td>\n",
              "      <td>0.0</td>\n",
              "      <td>3.5</td>\n",
              "      <td>3.0</td>\n",
              "      <td>0.0</td>\n",
              "      <td>3.0</td>\n",
              "      <td>0</td>\n",
              "    </tr>\n",
              "    <tr>\n",
              "      <th>3</th>\n",
              "      <td>41.0</td>\n",
              "      <td>0.0</td>\n",
              "      <td>2.0</td>\n",
              "      <td>130.0</td>\n",
              "      <td>204.0</td>\n",
              "      <td>0.0</td>\n",
              "      <td>2.0</td>\n",
              "      <td>172.0</td>\n",
              "      <td>0.0</td>\n",
              "      <td>1.4</td>\n",
              "      <td>1.0</td>\n",
              "      <td>0.0</td>\n",
              "      <td>3.0</td>\n",
              "      <td>0</td>\n",
              "    </tr>\n",
              "    <tr>\n",
              "      <th>4</th>\n",
              "      <td>56.0</td>\n",
              "      <td>1.0</td>\n",
              "      <td>2.0</td>\n",
              "      <td>120.0</td>\n",
              "      <td>236.0</td>\n",
              "      <td>0.0</td>\n",
              "      <td>0.0</td>\n",
              "      <td>178.0</td>\n",
              "      <td>0.0</td>\n",
              "      <td>0.8</td>\n",
              "      <td>1.0</td>\n",
              "      <td>0.0</td>\n",
              "      <td>3.0</td>\n",
              "      <td>0</td>\n",
              "    </tr>\n",
              "    <tr>\n",
              "      <th>...</th>\n",
              "      <td>...</td>\n",
              "      <td>...</td>\n",
              "      <td>...</td>\n",
              "      <td>...</td>\n",
              "      <td>...</td>\n",
              "      <td>...</td>\n",
              "      <td>...</td>\n",
              "      <td>...</td>\n",
              "      <td>...</td>\n",
              "      <td>...</td>\n",
              "      <td>...</td>\n",
              "      <td>...</td>\n",
              "      <td>...</td>\n",
              "      <td>...</td>\n",
              "    </tr>\n",
              "    <tr>\n",
              "      <th>297</th>\n",
              "      <td>45.0</td>\n",
              "      <td>1.0</td>\n",
              "      <td>1.0</td>\n",
              "      <td>110.0</td>\n",
              "      <td>264.0</td>\n",
              "      <td>0.0</td>\n",
              "      <td>0.0</td>\n",
              "      <td>132.0</td>\n",
              "      <td>0.0</td>\n",
              "      <td>1.2</td>\n",
              "      <td>2.0</td>\n",
              "      <td>0.0</td>\n",
              "      <td>7.0</td>\n",
              "      <td>1</td>\n",
              "    </tr>\n",
              "    <tr>\n",
              "      <th>298</th>\n",
              "      <td>68.0</td>\n",
              "      <td>1.0</td>\n",
              "      <td>4.0</td>\n",
              "      <td>144.0</td>\n",
              "      <td>193.0</td>\n",
              "      <td>1.0</td>\n",
              "      <td>0.0</td>\n",
              "      <td>141.0</td>\n",
              "      <td>0.0</td>\n",
              "      <td>3.4</td>\n",
              "      <td>2.0</td>\n",
              "      <td>2.0</td>\n",
              "      <td>7.0</td>\n",
              "      <td>2</td>\n",
              "    </tr>\n",
              "    <tr>\n",
              "      <th>299</th>\n",
              "      <td>57.0</td>\n",
              "      <td>1.0</td>\n",
              "      <td>4.0</td>\n",
              "      <td>130.0</td>\n",
              "      <td>131.0</td>\n",
              "      <td>0.0</td>\n",
              "      <td>0.0</td>\n",
              "      <td>115.0</td>\n",
              "      <td>1.0</td>\n",
              "      <td>1.2</td>\n",
              "      <td>2.0</td>\n",
              "      <td>1.0</td>\n",
              "      <td>7.0</td>\n",
              "      <td>3</td>\n",
              "    </tr>\n",
              "    <tr>\n",
              "      <th>300</th>\n",
              "      <td>57.0</td>\n",
              "      <td>0.0</td>\n",
              "      <td>2.0</td>\n",
              "      <td>130.0</td>\n",
              "      <td>236.0</td>\n",
              "      <td>0.0</td>\n",
              "      <td>2.0</td>\n",
              "      <td>174.0</td>\n",
              "      <td>0.0</td>\n",
              "      <td>0.0</td>\n",
              "      <td>2.0</td>\n",
              "      <td>1.0</td>\n",
              "      <td>3.0</td>\n",
              "      <td>1</td>\n",
              "    </tr>\n",
              "    <tr>\n",
              "      <th>301</th>\n",
              "      <td>38.0</td>\n",
              "      <td>1.0</td>\n",
              "      <td>3.0</td>\n",
              "      <td>138.0</td>\n",
              "      <td>175.0</td>\n",
              "      <td>0.0</td>\n",
              "      <td>0.0</td>\n",
              "      <td>173.0</td>\n",
              "      <td>0.0</td>\n",
              "      <td>0.0</td>\n",
              "      <td>1.0</td>\n",
              "      <td>?</td>\n",
              "      <td>3.0</td>\n",
              "      <td>0</td>\n",
              "    </tr>\n",
              "  </tbody>\n",
              "</table>\n",
              "<p>302 rows × 14 columns</p>\n",
              "</div>"
            ],
            "text/plain": [
              "      age  sex   cp  trestbps   chol  ...  oldpeak  slope   ca  thal  target\n",
              "0    67.0  1.0  4.0     160.0  286.0  ...      1.5    2.0  3.0   3.0       2\n",
              "1    67.0  1.0  4.0     120.0  229.0  ...      2.6    2.0  2.0   7.0       1\n",
              "2    37.0  1.0  3.0     130.0  250.0  ...      3.5    3.0  0.0   3.0       0\n",
              "3    41.0  0.0  2.0     130.0  204.0  ...      1.4    1.0  0.0   3.0       0\n",
              "4    56.0  1.0  2.0     120.0  236.0  ...      0.8    1.0  0.0   3.0       0\n",
              "..    ...  ...  ...       ...    ...  ...      ...    ...  ...   ...     ...\n",
              "297  45.0  1.0  1.0     110.0  264.0  ...      1.2    2.0  0.0   7.0       1\n",
              "298  68.0  1.0  4.0     144.0  193.0  ...      3.4    2.0  2.0   7.0       2\n",
              "299  57.0  1.0  4.0     130.0  131.0  ...      1.2    2.0  1.0   7.0       3\n",
              "300  57.0  0.0  2.0     130.0  236.0  ...      0.0    2.0  1.0   3.0       1\n",
              "301  38.0  1.0  3.0     138.0  175.0  ...      0.0    1.0    ?   3.0       0\n",
              "\n",
              "[302 rows x 14 columns]"
            ]
          },
          "metadata": {
            "tags": []
          },
          "execution_count": 4
        }
      ]
    },
    {
      "cell_type": "code",
      "metadata": {
        "colab": {
          "base_uri": "https://localhost:8080/"
        },
        "id": "CmBz2b18FnPR",
        "outputId": "ce3f0a21-5c4d-43d0-8d81-98c441f4957c"
      },
      "source": [
        "#check shape of the datset i.e number of rows and columns\n",
        "df.shape"
      ],
      "execution_count": null,
      "outputs": [
        {
          "output_type": "execute_result",
          "data": {
            "text/plain": [
              "(302, 14)"
            ]
          },
          "metadata": {
            "tags": []
          },
          "execution_count": 5
        }
      ]
    },
    {
      "cell_type": "markdown",
      "metadata": {
        "id": "7a_S2liOC8qW"
      },
      "source": [
        "**b) Checking missing values in the dataset**"
      ]
    },
    {
      "cell_type": "code",
      "metadata": {
        "colab": {
          "base_uri": "https://localhost:8080/"
        },
        "id": "8SjI2inZDRvY",
        "outputId": "67a3a309-3a5f-4680-84b1-eb1198d5e78a"
      },
      "source": [
        "#check for null column values\n",
        "df.info()"
      ],
      "execution_count": null,
      "outputs": [
        {
          "output_type": "stream",
          "text": [
            "<class 'pandas.core.frame.DataFrame'>\n",
            "RangeIndex: 302 entries, 0 to 301\n",
            "Data columns (total 14 columns):\n",
            " #   Column    Non-Null Count  Dtype  \n",
            "---  ------    --------------  -----  \n",
            " 0   age       302 non-null    float64\n",
            " 1   sex       302 non-null    float64\n",
            " 2   cp        302 non-null    float64\n",
            " 3   trestbps  302 non-null    float64\n",
            " 4   chol      302 non-null    float64\n",
            " 5   fbs       302 non-null    float64\n",
            " 6   restecg   302 non-null    float64\n",
            " 7   thalach   302 non-null    float64\n",
            " 8   exang     302 non-null    float64\n",
            " 9   oldpeak   302 non-null    float64\n",
            " 10  slope     302 non-null    float64\n",
            " 11  ca        302 non-null    object \n",
            " 12  thal      302 non-null    object \n",
            " 13  target    302 non-null    int64  \n",
            "dtypes: float64(11), int64(1), object(2)\n",
            "memory usage: 33.2+ KB\n"
          ],
          "name": "stdout"
        }
      ]
    },
    {
      "cell_type": "code",
      "metadata": {
        "colab": {
          "base_uri": "https://localhost:8080/"
        },
        "id": "Q2DT1rNlM3B-",
        "outputId": "acdd4282-05c0-4549-872b-32090202936f"
      },
      "source": [
        "# Checking for Null Values\n",
        "df.isnull().sum()"
      ],
      "execution_count": null,
      "outputs": [
        {
          "output_type": "execute_result",
          "data": {
            "text/plain": [
              "age         0\n",
              "sex         0\n",
              "cp          0\n",
              "trestbps    0\n",
              "chol        0\n",
              "fbs         0\n",
              "restecg     0\n",
              "thalach     0\n",
              "exang       0\n",
              "oldpeak     0\n",
              "slope       0\n",
              "ca          0\n",
              "thal        0\n",
              "target      0\n",
              "dtype: int64"
            ]
          },
          "metadata": {
            "tags": []
          },
          "execution_count": 7
        }
      ]
    },
    {
      "cell_type": "markdown",
      "metadata": {
        "id": "fjsd7FaHE15P"
      },
      "source": [
        "**Handling missing values**"
      ]
    },
    {
      "cell_type": "code",
      "metadata": {
        "colab": {
          "base_uri": "https://localhost:8080/"
        },
        "id": "KqFh9Wp4S8fG",
        "outputId": "eef44242-492e-4fde-f148-e458ad31fc6c"
      },
      "source": [
        "#checking missing values in ca field\n",
        "df.ca"
      ],
      "execution_count": null,
      "outputs": [
        {
          "output_type": "execute_result",
          "data": {
            "text/plain": [
              "0      3.0\n",
              "1      2.0\n",
              "2      0.0\n",
              "3      0.0\n",
              "4      0.0\n",
              "      ... \n",
              "297    0.0\n",
              "298    2.0\n",
              "299    1.0\n",
              "300    1.0\n",
              "301      ?\n",
              "Name: ca, Length: 302, dtype: object"
            ]
          },
          "metadata": {
            "tags": []
          },
          "execution_count": 8
        }
      ]
    },
    {
      "cell_type": "code",
      "metadata": {
        "id": "Sv01gsn8ToOl",
        "colab": {
          "base_uri": "https://localhost:8080/"
        },
        "outputId": "8b631024-7430-44ae-f363-86cf649dd2a0"
      },
      "source": [
        "# finding out the values with \"?\"\n",
        "list1 =[] \n",
        "for i in range(0,14):\n",
        "  if len(df[((df.iloc[:,i] == '?'))].index) > 0:\n",
        "    list1.append(df[((df.iloc[:,i] == '?'))].index)\n",
        "list1"
      ],
      "execution_count": null,
      "outputs": [
        {
          "output_type": "execute_result",
          "data": {
            "text/plain": [
              "[Int64Index([165, 191, 286, 301], dtype='int64'),\n",
              " Int64Index([86, 265], dtype='int64')]"
            ]
          },
          "metadata": {
            "tags": []
          },
          "execution_count": 9
        }
      ]
    },
    {
      "cell_type": "code",
      "metadata": {
        "id": "dJHmJVYHNEqM"
      },
      "source": [
        "#Set all the target values into 1 if its greater than equal to 1 otherwise set as 0.\n",
        "df['target'].values[df['target'].values >=1] = 1"
      ],
      "execution_count": null,
      "outputs": []
    },
    {
      "cell_type": "code",
      "metadata": {
        "id": "7LGKeb8pUIfS"
      },
      "source": [
        "#Droping the values\n",
        "for i in range(len(list1)):\n",
        "  df = df.drop(list1[i])"
      ],
      "execution_count": null,
      "outputs": []
    },
    {
      "cell_type": "code",
      "metadata": {
        "id": "uqiZ6VLEybuz"
      },
      "source": [
        "# converting the object to float\n",
        "df[\"ca\"] = pd.to_numeric(df[\"ca\"], downcast=\"float\")\n",
        "df[\"thal\"] = pd.to_numeric(df[\"thal\"], downcast=\"float\")"
      ],
      "execution_count": null,
      "outputs": []
    },
    {
      "cell_type": "markdown",
      "metadata": {
        "id": "EeNNychc_xFu"
      },
      "source": [
        "**Perform normalization of the selected features**"
      ]
    },
    {
      "cell_type": "code",
      "metadata": {
        "id": "_bocqTUUNUFR"
      },
      "source": [
        "#Binning age','trestbps','chol','thalach' into different small age groups\n",
        "from sklearn.preprocessing import KBinsDiscretizer\n",
        "\n",
        "colName = ['age','trestbps','chol','thalach']\n",
        "feature = df[colName]\n",
        "bin = KBinsDiscretizer(n_bins=20, encode='ordinal', strategy='uniform')\n",
        "bin.fit(feature.values)\n",
        "feature = bin.transform(feature.values)\n",
        "df[colName] = feature"
      ],
      "execution_count": null,
      "outputs": []
    },
    {
      "cell_type": "markdown",
      "metadata": {
        "id": "89f7HVf-FnPU"
      },
      "source": [
        "The following are the column names of the datset\n",
        "1.)Age: displays the age of the individual.\n",
        "\n",
        "2.)Sex: displays the gender of the individual using the following format :\n",
        "1 = male\n",
        "0 = female\n",
        "\n",
        "3.)Chest-pain type: displays the type of chest-pain experienced by the individual using the following format :\n",
        "1 = typical angina\n",
        "2 = atypical angina\n",
        "3 = non — anginal pain\n",
        "4 = asymptotic\n",
        "\n",
        "\n",
        "4.)Resting Blood Pressure: displays the resting blood pressure value of an individual in mmHg (unit)\n",
        "\n",
        "5.)Serum Cholestrol: displays the serum cholesterol in mg/dl (unit)\n",
        "\n",
        "6.)Fasting Blood Sugar: compares the fasting blood sugar value of an individual with 120mg/dl.\n",
        "If fasting blood sugar > 120mg/dl then : 1 (true)\n",
        "else : 0 (false)\n",
        "\n",
        "7.)Resting ECG : displays resting electrocardiographic results\n",
        "0 = normal\n",
        "1 = having ST-T wave abnormality\n",
        "2 = left ventricular hyperthrophy\n",
        "\n",
        "8.)Max heart rate achieved : displays the max heart rate achieved by an individual.\n",
        "Exercise induced angina :\n",
        "1 = yes\n",
        "0 = no\n",
        "\n",
        "9.)ST depression induced by exercise relative to rest: displays the value which is an integer or float.\n",
        "\n",
        "10.)Peak exercise ST segment :\n",
        "1 = upsloping\n",
        "2 = flat\n",
        "3 = downsloping\n",
        "\n",
        "11.)Number of major vessels (0–3) colored by flourosopy : displays the value as integer or float.\n",
        "\n",
        "12.)Thal : displays the thalassemia :\n",
        "3 = normal\n",
        "6 = fixed defect\n",
        "7 = reversible defect\n",
        "\n",
        "13.)Diagnosis of heart disease : Displays whether the individual is suffering from heart disease or not :\n",
        "0 = absence\n",
        "1, 2, 3, 4 = present.  \n",
        "\n",
        "\n",
        "The \"target\" field refers to the presence of heart disease in the patient. It is integer valued 0 = no disease and 1 = disease."
      ]
    },
    {
      "cell_type": "code",
      "metadata": {
        "colab": {
          "base_uri": "https://localhost:8080/"
        },
        "id": "Sx_AS90AFnPX",
        "outputId": "3179f9a9-09ff-4ff0-ec92-7a7bdc38be56"
      },
      "source": [
        "#get number of people with heart disease and with no heart disease,\n",
        "#grouping all true values and ones values\n",
        "df.groupby('target').size()"
      ],
      "execution_count": null,
      "outputs": [
        {
          "output_type": "execute_result",
          "data": {
            "text/plain": [
              "target\n",
              "0    159\n",
              "1    137\n",
              "dtype: int64"
            ]
          },
          "metadata": {
            "tags": []
          },
          "execution_count": 14
        }
      ]
    },
    {
      "cell_type": "markdown",
      "metadata": {
        "id": "F_HpI8-vAB8P"
      },
      "source": [
        "# **Data visualization**"
      ]
    },
    {
      "cell_type": "code",
      "metadata": {
        "colab": {
          "base_uri": "https://localhost:8080/",
          "height": 825
        },
        "id": "tMi-Z-eXFnPZ",
        "outputId": "f9f58e0a-c44f-4a01-dff6-50610d488f04"
      },
      "source": [
        "\n",
        "#Visualization using matplotlib\n",
        "df.hist(figsize=(14,14),)\n",
        "plt.show()"
      ],
      "execution_count": null,
      "outputs": [
        {
          "output_type": "display_data",
          "data": {
            "image/png": "[encoded data removed]",
            "text/plain": [
              "<Figure size 1008x1008 with 16 Axes>"
            ]
          },
          "metadata": {
            "tags": [],
            "needs_background": "light"
          }
        }
      ]
    },
    {
      "cell_type": "code",
      "metadata": {
        "id": "pAy0SBUlFnPd",
        "colab": {
          "base_uri": "https://localhost:8080/",
          "height": 400
        },
        "outputId": "656a7a6a-84a4-4677-89e7-16b1e32a0c5c"
      },
      "source": [
        "#Plotting heatmap for finding correlation\n",
        "plt.figure(figsize=(16, 6))\n",
        "heatmap = sns.heatmap(df.corr(), vmin=-1, vmax=1, annot=True, cmap='BrBG')\n",
        "heatmap.set_title('Correlation Heatmap', fontdict={'fontsize':18}, pad=12);\n"
      ],
      "execution_count": null,
      "outputs": [
        {
          "output_type": "display_data",
          "data": {
            "image/png": "[encoded data removed]",
            "text/plain": [
              "<Figure size 1152x432 with 2 Axes>"
            ]
          },
          "metadata": {
            "tags": [],
            "needs_background": "light"
          }
        }
      ]
    },
    {
      "cell_type": "code",
      "metadata": {
        "id": "8JMhBoQJFnPf"
      },
      "source": [
        "#About 70% of male are affected by heart dsease as compared to women which is 45%"
      ],
      "execution_count": null,
      "outputs": []
    },
    {
      "cell_type": "code",
      "metadata": {
        "id": "RxTn5wfPFnPg",
        "colab": {
          "base_uri": "https://localhost:8080/",
          "height": 387
        },
        "outputId": "664dcf65-dcce-4ba1-8764-27c8cf9d302e"
      },
      "source": [
        "sns.barplot(df['sex'],df['age'],hue=df['target'])"
      ],
      "execution_count": null,
      "outputs": [
        {
          "output_type": "stream",
          "text": [
            "/usr/local/lib/python3.7/dist-packages/seaborn/_decorators.py:43: FutureWarning:\n",
            "\n",
            "Pass the following variables as keyword args: x, y. From version 0.12, the only valid positional argument will be `data`, and passing other arguments without an explicit keyword will result in an error or misinterpretation.\n",
            "\n"
          ],
          "name": "stderr"
        },
        {
          "output_type": "execute_result",
          "data": {
            "text/plain": [
              "<matplotlib.axes._subplots.AxesSubplot at 0x7fd14679fa90>"
            ]
          },
          "metadata": {
            "tags": []
          },
          "execution_count": 18
        },
        {
          "output_type": "display_data",
          "data": {
            "image/png": "[encoded data removed]",
            "text/plain": [
              "<Figure size 432x288 with 1 Axes>"
            ]
          },
          "metadata": {
            "tags": [],
            "needs_background": "light"
          }
        }
      ]
    },
    {
      "cell_type": "code",
      "metadata": {
        "id": "lKjEI34yPaJw",
        "colab": {
          "base_uri": "https://localhost:8080/",
          "height": 297
        },
        "outputId": "ba5fcafd-5179-43c5-9931-f5b7f7f60bf0"
      },
      "source": [
        "#Box Plot\n",
        "sns.boxplot(x='sex',y='age',hue='target',data=df)"
      ],
      "execution_count": null,
      "outputs": [
        {
          "output_type": "execute_result",
          "data": {
            "text/plain": [
              "<matplotlib.axes._subplots.AxesSubplot at 0x7fd148260310>"
            ]
          },
          "metadata": {
            "tags": []
          },
          "execution_count": 19
        },
        {
          "output_type": "display_data",
          "data": {
            "image/png": "[encoded data removed]",
            "text/plain": [
              "<Figure size 432x288 with 1 Axes>"
            ]
          },
          "metadata": {
            "tags": [],
            "needs_background": "light"
          }
        }
      ]
    },
    {
      "cell_type": "markdown",
      "metadata": {
        "id": "wekDK1U_FnPg"
      },
      "source": [
        "As we can see women around age of 56-57 have heart disease\n",
        "and men around age of 52-53 have heart disease"
      ]
    },
    {
      "cell_type": "markdown",
      "metadata": {
        "id": "a3kLX3QpFnPj"
      },
      "source": [
        "store values in x and y loc is used to call df values by names we will store all features in x and target in y\n",
        "We want all the rows and columns ending thal"
      ]
    },
    {
      "cell_type": "markdown",
      "metadata": {
        "id": "5xD7DgqGBoCd"
      },
      "source": [
        "**Use a measure of central tendency for each feature**"
      ]
    },
    {
      "cell_type": "code",
      "metadata": {
        "colab": {
          "base_uri": "https://localhost:8080/",
          "height": 314
        },
        "id": "nqROshnJHIow",
        "outputId": "02adc899-dd8a-4630-ccd4-98346f4d798f"
      },
      "source": [
        "df.describe()"
      ],
      "execution_count": null,
      "outputs": [
        {
          "output_type": "execute_result",
          "data": {
            "text/html": [
              "<div>\n",
              "<style scoped>\n",
              "    .dataframe tbody tr th:only-of-type {\n",
              "        vertical-align: middle;\n",
              "    }\n",
              "\n",
              "    .dataframe tbody tr th {\n",
              "        vertical-align: top;\n",
              "    }\n",
              "\n",
              "    .dataframe thead th {\n",
              "        text-align: right;\n",
              "    }\n",
              "</style>\n",
              "<table border=\"1\" class=\"dataframe\">\n",
              "  <thead>\n",
              "    <tr style=\"text-align: right;\">\n",
              "      <th></th>\n",
              "      <th>age</th>\n",
              "      <th>sex</th>\n",
              "      <th>cp</th>\n",
              "      <th>trestbps</th>\n",
              "      <th>chol</th>\n",
              "      <th>fbs</th>\n",
              "      <th>restecg</th>\n",
              "      <th>thalach</th>\n",
              "      <th>exang</th>\n",
              "      <th>oldpeak</th>\n",
              "      <th>slope</th>\n",
              "      <th>ca</th>\n",
              "      <th>thal</th>\n",
              "      <th>target</th>\n",
              "    </tr>\n",
              "  </thead>\n",
              "  <tbody>\n",
              "    <tr>\n",
              "      <th>count</th>\n",
              "      <td>296.000000</td>\n",
              "      <td>296.000000</td>\n",
              "      <td>296.000000</td>\n",
              "      <td>296.000000</td>\n",
              "      <td>296.000000</td>\n",
              "      <td>296.000000</td>\n",
              "      <td>296.000000</td>\n",
              "      <td>296.000000</td>\n",
              "      <td>296.000000</td>\n",
              "      <td>296.000000</td>\n",
              "      <td>296.000000</td>\n",
              "      <td>296.000000</td>\n",
              "      <td>296.000000</td>\n",
              "      <td>296.000000</td>\n",
              "    </tr>\n",
              "    <tr>\n",
              "      <th>mean</th>\n",
              "      <td>10.189189</td>\n",
              "      <td>0.675676</td>\n",
              "      <td>3.165541</td>\n",
              "      <td>6.533784</td>\n",
              "      <td>5.043919</td>\n",
              "      <td>0.141892</td>\n",
              "      <td>0.993243</td>\n",
              "      <td>11.486486</td>\n",
              "      <td>0.327703</td>\n",
              "      <td>1.051351</td>\n",
              "      <td>1.597973</td>\n",
              "      <td>0.679054</td>\n",
              "      <td>4.726351</td>\n",
              "      <td>0.462838</td>\n",
              "    </tr>\n",
              "    <tr>\n",
              "      <th>std</th>\n",
              "      <td>3.740482</td>\n",
              "      <td>0.468915</td>\n",
              "      <td>0.958262</td>\n",
              "      <td>3.339371</td>\n",
              "      <td>2.381019</td>\n",
              "      <td>0.349530</td>\n",
              "      <td>0.994879</td>\n",
              "      <td>3.487482</td>\n",
              "      <td>0.470171</td>\n",
              "      <td>1.165841</td>\n",
              "      <td>0.613848</td>\n",
              "      <td>0.939727</td>\n",
              "      <td>1.940500</td>\n",
              "      <td>0.499461</td>\n",
              "    </tr>\n",
              "    <tr>\n",
              "      <th>min</th>\n",
              "      <td>0.000000</td>\n",
              "      <td>0.000000</td>\n",
              "      <td>1.000000</td>\n",
              "      <td>0.000000</td>\n",
              "      <td>0.000000</td>\n",
              "      <td>0.000000</td>\n",
              "      <td>0.000000</td>\n",
              "      <td>0.000000</td>\n",
              "      <td>0.000000</td>\n",
              "      <td>0.000000</td>\n",
              "      <td>1.000000</td>\n",
              "      <td>0.000000</td>\n",
              "      <td>3.000000</td>\n",
              "      <td>0.000000</td>\n",
              "    </tr>\n",
              "    <tr>\n",
              "      <th>25%</th>\n",
              "      <td>7.000000</td>\n",
              "      <td>0.000000</td>\n",
              "      <td>3.000000</td>\n",
              "      <td>4.000000</td>\n",
              "      <td>3.000000</td>\n",
              "      <td>0.000000</td>\n",
              "      <td>0.000000</td>\n",
              "      <td>9.000000</td>\n",
              "      <td>0.000000</td>\n",
              "      <td>0.000000</td>\n",
              "      <td>1.000000</td>\n",
              "      <td>0.000000</td>\n",
              "      <td>3.000000</td>\n",
              "      <td>0.000000</td>\n",
              "    </tr>\n",
              "    <tr>\n",
              "      <th>50%</th>\n",
              "      <td>11.000000</td>\n",
              "      <td>1.000000</td>\n",
              "      <td>3.000000</td>\n",
              "      <td>6.000000</td>\n",
              "      <td>5.000000</td>\n",
              "      <td>0.000000</td>\n",
              "      <td>1.000000</td>\n",
              "      <td>12.000000</td>\n",
              "      <td>0.000000</td>\n",
              "      <td>0.800000</td>\n",
              "      <td>2.000000</td>\n",
              "      <td>0.000000</td>\n",
              "      <td>3.000000</td>\n",
              "      <td>0.000000</td>\n",
              "    </tr>\n",
              "    <tr>\n",
              "      <th>75%</th>\n",
              "      <td>13.000000</td>\n",
              "      <td>1.000000</td>\n",
              "      <td>4.000000</td>\n",
              "      <td>8.000000</td>\n",
              "      <td>6.000000</td>\n",
              "      <td>0.000000</td>\n",
              "      <td>2.000000</td>\n",
              "      <td>14.000000</td>\n",
              "      <td>1.000000</td>\n",
              "      <td>1.600000</td>\n",
              "      <td>2.000000</td>\n",
              "      <td>1.000000</td>\n",
              "      <td>7.000000</td>\n",
              "      <td>1.000000</td>\n",
              "    </tr>\n",
              "    <tr>\n",
              "      <th>max</th>\n",
              "      <td>19.000000</td>\n",
              "      <td>1.000000</td>\n",
              "      <td>4.000000</td>\n",
              "      <td>19.000000</td>\n",
              "      <td>19.000000</td>\n",
              "      <td>1.000000</td>\n",
              "      <td>2.000000</td>\n",
              "      <td>19.000000</td>\n",
              "      <td>1.000000</td>\n",
              "      <td>6.200000</td>\n",
              "      <td>3.000000</td>\n",
              "      <td>3.000000</td>\n",
              "      <td>7.000000</td>\n",
              "      <td>1.000000</td>\n",
              "    </tr>\n",
              "  </tbody>\n",
              "</table>\n",
              "</div>"
            ],
            "text/plain": [
              "              age         sex          cp  ...          ca        thal      target\n",
              "count  296.000000  296.000000  296.000000  ...  296.000000  296.000000  296.000000\n",
              "mean    10.189189    0.675676    3.165541  ...    0.679054    4.726351    0.462838\n",
              "std      3.740482    0.468915    0.958262  ...    0.939727    1.940500    0.499461\n",
              "min      0.000000    0.000000    1.000000  ...    0.000000    3.000000    0.000000\n",
              "25%      7.000000    0.000000    3.000000  ...    0.000000    3.000000    0.000000\n",
              "50%     11.000000    1.000000    3.000000  ...    0.000000    3.000000    0.000000\n",
              "75%     13.000000    1.000000    4.000000  ...    1.000000    7.000000    1.000000\n",
              "max     19.000000    1.000000    4.000000  ...    3.000000    7.000000    1.000000\n",
              "\n",
              "[8 rows x 14 columns]"
            ]
          },
          "metadata": {
            "tags": []
          },
          "execution_count": 20
        }
      ]
    },
    {
      "cell_type": "code",
      "metadata": {
        "colab": {
          "base_uri": "https://localhost:8080/"
        },
        "id": "YCo43JCKia_M",
        "outputId": "bb41eca2-e2ca-4e17-a312-a081289232d3"
      },
      "source": [
        "#Median\n",
        "df.median()"
      ],
      "execution_count": null,
      "outputs": [
        {
          "output_type": "execute_result",
          "data": {
            "text/plain": [
              "age         11.0\n",
              "sex          1.0\n",
              "cp           3.0\n",
              "trestbps     6.0\n",
              "chol         5.0\n",
              "fbs          0.0\n",
              "restecg      1.0\n",
              "thalach     12.0\n",
              "exang        0.0\n",
              "oldpeak      0.8\n",
              "slope        2.0\n",
              "ca           0.0\n",
              "thal         3.0\n",
              "target       0.0\n",
              "dtype: float64"
            ]
          },
          "metadata": {
            "tags": []
          },
          "execution_count": 21
        }
      ]
    },
    {
      "cell_type": "code",
      "metadata": {
        "colab": {
          "base_uri": "https://localhost:8080/",
          "height": 79
        },
        "id": "aUl_h6o3iiKx",
        "outputId": "6cda8616-9e08-42cf-bab0-6fd1a223762a"
      },
      "source": [
        "#Mode\n",
        "df.mode()"
      ],
      "execution_count": null,
      "outputs": [
        {
          "output_type": "execute_result",
          "data": {
            "text/html": [
              "<div>\n",
              "<style scoped>\n",
              "    .dataframe tbody tr th:only-of-type {\n",
              "        vertical-align: middle;\n",
              "    }\n",
              "\n",
              "    .dataframe tbody tr th {\n",
              "        vertical-align: top;\n",
              "    }\n",
              "\n",
              "    .dataframe thead th {\n",
              "        text-align: right;\n",
              "    }\n",
              "</style>\n",
              "<table border=\"1\" class=\"dataframe\">\n",
              "  <thead>\n",
              "    <tr style=\"text-align: right;\">\n",
              "      <th></th>\n",
              "      <th>age</th>\n",
              "      <th>sex</th>\n",
              "      <th>cp</th>\n",
              "      <th>trestbps</th>\n",
              "      <th>chol</th>\n",
              "      <th>fbs</th>\n",
              "      <th>restecg</th>\n",
              "      <th>thalach</th>\n",
              "      <th>exang</th>\n",
              "      <th>oldpeak</th>\n",
              "      <th>slope</th>\n",
              "      <th>ca</th>\n",
              "      <th>thal</th>\n",
              "      <th>target</th>\n",
              "    </tr>\n",
              "  </thead>\n",
              "  <tbody>\n",
              "    <tr>\n",
              "      <th>0</th>\n",
              "      <td>12.0</td>\n",
              "      <td>1.0</td>\n",
              "      <td>4.0</td>\n",
              "      <td>6.0</td>\n",
              "      <td>3.0</td>\n",
              "      <td>0.0</td>\n",
              "      <td>0.0</td>\n",
              "      <td>13.0</td>\n",
              "      <td>0.0</td>\n",
              "      <td>0.0</td>\n",
              "      <td>1.0</td>\n",
              "      <td>0.0</td>\n",
              "      <td>3.0</td>\n",
              "      <td>0</td>\n",
              "    </tr>\n",
              "  </tbody>\n",
              "</table>\n",
              "</div>"
            ],
            "text/plain": [
              "    age  sex   cp  trestbps  chol  ...  oldpeak  slope   ca  thal  target\n",
              "0  12.0  1.0  4.0       6.0   3.0  ...      0.0    1.0  0.0   3.0       0\n",
              "\n",
              "[1 rows x 14 columns]"
            ]
          },
          "metadata": {
            "tags": []
          },
          "execution_count": 22
        }
      ]
    },
    {
      "cell_type": "markdown",
      "metadata": {
        "id": "JExwWL6jBtXi"
      },
      "source": [
        "**Show the dispersion and IQR of features**"
      ]
    },
    {
      "cell_type": "code",
      "metadata": {
        "id": "rfR6-hpVzjrp"
      },
      "source": [
        "#IQR\n",
        "def find_outlier(data_column):\n",
        "\n",
        "    sorted(data_column)\n",
        "    q1,q3 = np.percentile(data_column,[25,75])\n",
        "    IQR = q3-q1\n",
        "    lb = q1 - 1.5 * IQR\n",
        "    ub = q3 + 1.5 * IQR\n",
        "\n",
        "    return lb,ub"
      ],
      "execution_count": null,
      "outputs": []
    },
    {
      "cell_type": "code",
      "metadata": {
        "colab": {
          "base_uri": "https://localhost:8080/"
        },
        "id": "3pxSqyodzeU2",
        "outputId": "eea03357-b23d-4de3-bff3-237737555e07"
      },
      "source": [
        "#Removing outliers\n",
        "for i in df.keys():\n",
        "  Lower_b,Upper_b = find_outlier(df[i])\n",
        "  print(f\"The outliers of {i} feature is{Lower_b} , {Upper_b}\")\n",
        "  df.drop(df[(df[i] < Lower_b )| (df[i] > Upper_b)].index,inplace=True)"
      ],
      "execution_count": null,
      "outputs": [
        {
          "output_type": "stream",
          "text": [
            "The outliers of age feature is-2.0 , 22.0\n",
            "The outliers of sex feature is-1.5 , 2.5\n",
            "The outliers of cp feature is1.5 , 5.5\n",
            "The outliers of trestbps feature is-2.0 , 14.0\n",
            "The outliers of chol feature is-1.5 , 10.5\n",
            "The outliers of fbs feature is0.0 , 0.0\n",
            "The outliers of restecg feature is-3.0 , 5.0\n",
            "The outliers of thalach feature is1.5 , 21.5\n",
            "The outliers of exang feature is-1.5 , 2.5\n",
            "The outliers of oldpeak feature is-2.4000000000000004 , 4.0\n",
            "The outliers of slope feature is-0.5 , 3.5\n",
            "The outliers of ca feature is-1.5 , 2.5\n",
            "The outliers of thal feature is-3.0 , 13.0\n",
            "The outliers of target feature is-1.5 , 2.5\n"
          ],
          "name": "stdout"
        }
      ]
    },
    {
      "cell_type": "code",
      "metadata": {
        "id": "hob9ChT1FnPk"
      },
      "source": [
        "x,y = df.loc[:,:'thal'],df['target']"
      ],
      "execution_count": null,
      "outputs": []
    },
    {
      "cell_type": "markdown",
      "metadata": {
        "id": "ZeE7RoXxHa20"
      },
      "source": [
        "**store values in x and y loc is used to call df values by names we will store all features in x and target in y We want all the rows and columns ending thal**"
      ]
    },
    {
      "cell_type": "markdown",
      "metadata": {
        "id": "bq9B_U1nFnPl"
      },
      "source": [
        "Now, let us check and y"
      ]
    },
    {
      "cell_type": "code",
      "metadata": {
        "id": "gpEbxQVIFnPl",
        "colab": {
          "base_uri": "https://localhost:8080/",
          "height": 414
        },
        "outputId": "ad6cfe1f-f171-4acb-f8ad-43a8bbb603f5"
      },
      "source": [
        "x"
      ],
      "execution_count": null,
      "outputs": [
        {
          "output_type": "execute_result",
          "data": {
            "text/html": [
              "<div>\n",
              "<style scoped>\n",
              "    .dataframe tbody tr th:only-of-type {\n",
              "        vertical-align: middle;\n",
              "    }\n",
              "\n",
              "    .dataframe tbody tr th {\n",
              "        vertical-align: top;\n",
              "    }\n",
              "\n",
              "    .dataframe thead th {\n",
              "        text-align: right;\n",
              "    }\n",
              "</style>\n",
              "<table border=\"1\" class=\"dataframe\">\n",
              "  <thead>\n",
              "    <tr style=\"text-align: right;\">\n",
              "      <th></th>\n",
              "      <th>age</th>\n",
              "      <th>sex</th>\n",
              "      <th>cp</th>\n",
              "      <th>trestbps</th>\n",
              "      <th>chol</th>\n",
              "      <th>fbs</th>\n",
              "      <th>restecg</th>\n",
              "      <th>thalach</th>\n",
              "      <th>exang</th>\n",
              "      <th>oldpeak</th>\n",
              "      <th>slope</th>\n",
              "      <th>ca</th>\n",
              "      <th>thal</th>\n",
              "    </tr>\n",
              "  </thead>\n",
              "  <tbody>\n",
              "    <tr>\n",
              "      <th>1</th>\n",
              "      <td>15.0</td>\n",
              "      <td>1.0</td>\n",
              "      <td>4.0</td>\n",
              "      <td>4.0</td>\n",
              "      <td>4.0</td>\n",
              "      <td>0.0</td>\n",
              "      <td>2.0</td>\n",
              "      <td>8.0</td>\n",
              "      <td>1.0</td>\n",
              "      <td>2.6</td>\n",
              "      <td>2.0</td>\n",
              "      <td>2.0</td>\n",
              "      <td>7.0</td>\n",
              "    </tr>\n",
              "    <tr>\n",
              "      <th>2</th>\n",
              "      <td>3.0</td>\n",
              "      <td>1.0</td>\n",
              "      <td>3.0</td>\n",
              "      <td>6.0</td>\n",
              "      <td>5.0</td>\n",
              "      <td>0.0</td>\n",
              "      <td>0.0</td>\n",
              "      <td>17.0</td>\n",
              "      <td>0.0</td>\n",
              "      <td>3.5</td>\n",
              "      <td>3.0</td>\n",
              "      <td>0.0</td>\n",
              "      <td>3.0</td>\n",
              "    </tr>\n",
              "    <tr>\n",
              "      <th>3</th>\n",
              "      <td>5.0</td>\n",
              "      <td>0.0</td>\n",
              "      <td>2.0</td>\n",
              "      <td>6.0</td>\n",
              "      <td>3.0</td>\n",
              "      <td>0.0</td>\n",
              "      <td>2.0</td>\n",
              "      <td>15.0</td>\n",
              "      <td>0.0</td>\n",
              "      <td>1.4</td>\n",
              "      <td>1.0</td>\n",
              "      <td>0.0</td>\n",
              "      <td>3.0</td>\n",
              "    </tr>\n",
              "    <tr>\n",
              "      <th>4</th>\n",
              "      <td>11.0</td>\n",
              "      <td>1.0</td>\n",
              "      <td>2.0</td>\n",
              "      <td>4.0</td>\n",
              "      <td>5.0</td>\n",
              "      <td>0.0</td>\n",
              "      <td>0.0</td>\n",
              "      <td>16.0</td>\n",
              "      <td>0.0</td>\n",
              "      <td>0.8</td>\n",
              "      <td>1.0</td>\n",
              "      <td>0.0</td>\n",
              "      <td>3.0</td>\n",
              "    </tr>\n",
              "    <tr>\n",
              "      <th>5</th>\n",
              "      <td>13.0</td>\n",
              "      <td>0.0</td>\n",
              "      <td>4.0</td>\n",
              "      <td>8.0</td>\n",
              "      <td>6.0</td>\n",
              "      <td>0.0</td>\n",
              "      <td>2.0</td>\n",
              "      <td>13.0</td>\n",
              "      <td>0.0</td>\n",
              "      <td>3.6</td>\n",
              "      <td>3.0</td>\n",
              "      <td>2.0</td>\n",
              "      <td>3.0</td>\n",
              "    </tr>\n",
              "    <tr>\n",
              "      <th>...</th>\n",
              "      <td>...</td>\n",
              "      <td>...</td>\n",
              "      <td>...</td>\n",
              "      <td>...</td>\n",
              "      <td>...</td>\n",
              "      <td>...</td>\n",
              "      <td>...</td>\n",
              "      <td>...</td>\n",
              "      <td>...</td>\n",
              "      <td>...</td>\n",
              "      <td>...</td>\n",
              "      <td>...</td>\n",
              "      <td>...</td>\n",
              "    </tr>\n",
              "    <tr>\n",
              "      <th>293</th>\n",
              "      <td>14.0</td>\n",
              "      <td>0.0</td>\n",
              "      <td>4.0</td>\n",
              "      <td>5.0</td>\n",
              "      <td>3.0</td>\n",
              "      <td>0.0</td>\n",
              "      <td>0.0</td>\n",
              "      <td>9.0</td>\n",
              "      <td>1.0</td>\n",
              "      <td>0.0</td>\n",
              "      <td>2.0</td>\n",
              "      <td>0.0</td>\n",
              "      <td>3.0</td>\n",
              "    </tr>\n",
              "    <tr>\n",
              "      <th>294</th>\n",
              "      <td>5.0</td>\n",
              "      <td>1.0</td>\n",
              "      <td>2.0</td>\n",
              "      <td>4.0</td>\n",
              "      <td>1.0</td>\n",
              "      <td>0.0</td>\n",
              "      <td>0.0</td>\n",
              "      <td>16.0</td>\n",
              "      <td>0.0</td>\n",
              "      <td>0.0</td>\n",
              "      <td>1.0</td>\n",
              "      <td>0.0</td>\n",
              "      <td>3.0</td>\n",
              "    </tr>\n",
              "    <tr>\n",
              "      <th>296</th>\n",
              "      <td>11.0</td>\n",
              "      <td>0.0</td>\n",
              "      <td>4.0</td>\n",
              "      <td>8.0</td>\n",
              "      <td>5.0</td>\n",
              "      <td>0.0</td>\n",
              "      <td>0.0</td>\n",
              "      <td>7.0</td>\n",
              "      <td>1.0</td>\n",
              "      <td>0.2</td>\n",
              "      <td>2.0</td>\n",
              "      <td>0.0</td>\n",
              "      <td>7.0</td>\n",
              "    </tr>\n",
              "    <tr>\n",
              "      <th>299</th>\n",
              "      <td>11.0</td>\n",
              "      <td>1.0</td>\n",
              "      <td>4.0</td>\n",
              "      <td>6.0</td>\n",
              "      <td>0.0</td>\n",
              "      <td>0.0</td>\n",
              "      <td>0.0</td>\n",
              "      <td>6.0</td>\n",
              "      <td>1.0</td>\n",
              "      <td>1.2</td>\n",
              "      <td>2.0</td>\n",
              "      <td>1.0</td>\n",
              "      <td>7.0</td>\n",
              "    </tr>\n",
              "    <tr>\n",
              "      <th>300</th>\n",
              "      <td>11.0</td>\n",
              "      <td>0.0</td>\n",
              "      <td>2.0</td>\n",
              "      <td>6.0</td>\n",
              "      <td>5.0</td>\n",
              "      <td>0.0</td>\n",
              "      <td>2.0</td>\n",
              "      <td>15.0</td>\n",
              "      <td>0.0</td>\n",
              "      <td>0.0</td>\n",
              "      <td>2.0</td>\n",
              "      <td>1.0</td>\n",
              "      <td>3.0</td>\n",
              "    </tr>\n",
              "  </tbody>\n",
              "</table>\n",
              "<p>212 rows × 13 columns</p>\n",
              "</div>"
            ],
            "text/plain": [
              "      age  sex   cp  trestbps  chol  ...  exang  oldpeak  slope   ca  thal\n",
              "1    15.0  1.0  4.0       4.0   4.0  ...    1.0      2.6    2.0  2.0   7.0\n",
              "2     3.0  1.0  3.0       6.0   5.0  ...    0.0      3.5    3.0  0.0   3.0\n",
              "3     5.0  0.0  2.0       6.0   3.0  ...    0.0      1.4    1.0  0.0   3.0\n",
              "4    11.0  1.0  2.0       4.0   5.0  ...    0.0      0.8    1.0  0.0   3.0\n",
              "5    13.0  0.0  4.0       8.0   6.0  ...    0.0      3.6    3.0  2.0   3.0\n",
              "..    ...  ...  ...       ...   ...  ...    ...      ...    ...  ...   ...\n",
              "293  14.0  0.0  4.0       5.0   3.0  ...    1.0      0.0    2.0  0.0   3.0\n",
              "294   5.0  1.0  2.0       4.0   1.0  ...    0.0      0.0    1.0  0.0   3.0\n",
              "296  11.0  0.0  4.0       8.0   5.0  ...    1.0      0.2    2.0  0.0   7.0\n",
              "299  11.0  1.0  4.0       6.0   0.0  ...    1.0      1.2    2.0  1.0   7.0\n",
              "300  11.0  0.0  2.0       6.0   5.0  ...    0.0      0.0    2.0  1.0   3.0\n",
              "\n",
              "[212 rows x 13 columns]"
            ]
          },
          "metadata": {
            "tags": []
          },
          "execution_count": 26
        }
      ]
    },
    {
      "cell_type": "code",
      "metadata": {
        "id": "rjj6R-bDFnPm",
        "colab": {
          "base_uri": "https://localhost:8080/"
        },
        "outputId": "40e5043f-dfc6-4358-ec51-79cdeefa56f7"
      },
      "source": [
        "y"
      ],
      "execution_count": null,
      "outputs": [
        {
          "output_type": "execute_result",
          "data": {
            "text/plain": [
              "1      1\n",
              "2      0\n",
              "3      0\n",
              "4      0\n",
              "5      1\n",
              "      ..\n",
              "293    1\n",
              "294    0\n",
              "296    1\n",
              "299    1\n",
              "300    1\n",
              "Name: target, Length: 212, dtype: int64"
            ]
          },
          "metadata": {
            "tags": []
          },
          "execution_count": 27
        }
      ]
    },
    {
      "cell_type": "markdown",
      "metadata": {
        "id": "pboNx85pFnPn"
      },
      "source": [
        "**Now,split data for training**"
      ]
    },
    {
      "cell_type": "code",
      "metadata": {
        "id": "TYCn5S5zFnPn",
        "colab": {
          "base_uri": "https://localhost:8080/"
        },
        "outputId": "6c4335f1-04f9-4a5e-f9f5-66dd840156c2"
      },
      "source": [
        "x.shape"
      ],
      "execution_count": null,
      "outputs": [
        {
          "output_type": "execute_result",
          "data": {
            "text/plain": [
              "(212, 13)"
            ]
          },
          "metadata": {
            "tags": []
          },
          "execution_count": 28
        }
      ]
    },
    {
      "cell_type": "code",
      "metadata": {
        "id": "kcBSx0URFnPo",
        "colab": {
          "base_uri": "https://localhost:8080/"
        },
        "outputId": "3fb50e4a-bbb1-414e-abff-4f41b5069e34"
      },
      "source": [
        "y.size"
      ],
      "execution_count": null,
      "outputs": [
        {
          "output_type": "execute_result",
          "data": {
            "text/plain": [
              "212"
            ]
          },
          "metadata": {
            "tags": []
          },
          "execution_count": 29
        }
      ]
    },
    {
      "cell_type": "code",
      "metadata": {
        "colab": {
          "base_uri": "https://localhost:8080/"
        },
        "id": "Zob6Acfyywmm",
        "outputId": "3cc44ca0-b998-4b3d-b3b7-60fe7f07f1b1"
      },
      "source": [
        "x.shape"
      ],
      "execution_count": null,
      "outputs": [
        {
          "output_type": "execute_result",
          "data": {
            "text/plain": [
              "(212, 13)"
            ]
          },
          "metadata": {
            "tags": []
          },
          "execution_count": 30
        }
      ]
    },
    {
      "cell_type": "code",
      "metadata": {
        "id": "5yFIyen5FnPo"
      },
      "source": [
        "from sklearn.model_selection import train_test_split"
      ],
      "execution_count": null,
      "outputs": []
    },
    {
      "cell_type": "code",
      "metadata": {
        "id": "QPX0YjZDFnPp"
      },
      "source": [
        "x_train,x_test,y_train,y_test = (train_test_split(x,y,random_state=20,test_size=0.3,shuffle=True))"
      ],
      "execution_count": null,
      "outputs": []
    },
    {
      "cell_type": "markdown",
      "metadata": {
        "id": "mW2UVN7kFnPq"
      },
      "source": [
        "**Let us check difference between x and z train data as we have split the data**"
      ]
    },
    {
      "cell_type": "code",
      "metadata": {
        "id": "dSx1VIuiFnPr",
        "colab": {
          "base_uri": "https://localhost:8080/"
        },
        "outputId": "2fd2701b-8324-4dd0-9d76-9827bb66bace"
      },
      "source": [
        "x.shape"
      ],
      "execution_count": null,
      "outputs": [
        {
          "output_type": "execute_result",
          "data": {
            "text/plain": [
              "(212, 13)"
            ]
          },
          "metadata": {
            "tags": []
          },
          "execution_count": 33
        }
      ]
    },
    {
      "cell_type": "code",
      "metadata": {
        "id": "lEtAlDz_FnPs",
        "colab": {
          "base_uri": "https://localhost:8080/"
        },
        "outputId": "e3cf0ec8-dbed-4b35-b697-7ec20623937f"
      },
      "source": [
        "x_train.shape"
      ],
      "execution_count": null,
      "outputs": [
        {
          "output_type": "execute_result",
          "data": {
            "text/plain": [
              "(148, 13)"
            ]
          },
          "metadata": {
            "tags": []
          },
          "execution_count": 34
        }
      ]
    },
    {
      "cell_type": "code",
      "metadata": {
        "id": "W0c33EH_FnPs",
        "colab": {
          "base_uri": "https://localhost:8080/"
        },
        "outputId": "4667613b-8956-42aa-8c87-f52cf25b412e"
      },
      "source": [
        "y.size"
      ],
      "execution_count": null,
      "outputs": [
        {
          "output_type": "execute_result",
          "data": {
            "text/plain": [
              "212"
            ]
          },
          "metadata": {
            "tags": []
          },
          "execution_count": 35
        }
      ]
    },
    {
      "cell_type": "markdown",
      "metadata": {
        "id": "W3v8dgVXFnPz"
      },
      "source": [
        "y_train.size"
      ]
    },
    {
      "cell_type": "code",
      "metadata": {
        "id": "bdtKe1QaFnP0",
        "colab": {
          "base_uri": "https://localhost:8080/"
        },
        "outputId": "4fde86ba-f774-4729-c07e-a6a32c25d088"
      },
      "source": [
        "y_test.size"
      ],
      "execution_count": null,
      "outputs": [
        {
          "output_type": "execute_result",
          "data": {
            "text/plain": [
              "64"
            ]
          },
          "metadata": {
            "tags": []
          },
          "execution_count": 36
        }
      ]
    },
    {
      "cell_type": "markdown",
      "metadata": {
        "id": "ohJZAvdcUKRj"
      },
      "source": [
        "# **Supervised learning**"
      ]
    },
    {
      "cell_type": "markdown",
      "metadata": {
        "id": "KZ_K7q0raWrB"
      },
      "source": [
        "**LOGISTIC REGRESSION**\n",
        "\n",
        "This is model works based on probabilty.\n",
        "\n",
        " The logistic regression model can be derive from \n",
        " linear regression model by applying sigmiod function.\n",
        "\n",
        "y  = b0 + b1*x - Linear model\n",
        "\n",
        "p = 1/(1+e^-y) - Sigmoid function\n",
        "\n",
        "\n",
        "applying  p to y\n",
        "\n",
        "ln(p/1-p) = b0 + b1*x - (Logistical regression model)"
      ]
    },
    {
      "cell_type": "markdown",
      "metadata": {
        "id": "VDON037MJOkG"
      },
      "source": [
        ""
      ]
    },
    {
      "cell_type": "code",
      "metadata": {
        "id": "O4mMzUgJJO7h"
      },
      "source": [
        "#feature scailing \n",
        "\n",
        "from sklearn.preprocessing import StandardScaler\n",
        "sc = StandardScaler()\n",
        "x_train = sc.fit_transform(x_train)\n",
        "x_test = sc.transform(x_test)"
      ],
      "execution_count": null,
      "outputs": []
    },
    {
      "cell_type": "code",
      "metadata": {
        "colab": {
          "base_uri": "https://localhost:8080/"
        },
        "id": "xLevJx84qh6G",
        "outputId": "5e4e040d-de7e-4855-d35c-949845e237e3"
      },
      "source": [
        "# Using train set to train the model\n",
        "\n",
        "from sklearn.linear_model import LogisticRegression\n",
        "log_model = LogisticRegression(random_state = 0)\n",
        "log_model.fit(x_train, y_train)"
      ],
      "execution_count": null,
      "outputs": [
        {
          "output_type": "execute_result",
          "data": {
            "text/plain": [
              "LogisticRegression(C=1.0, class_weight=None, dual=False, fit_intercept=True,\n",
              "                   intercept_scaling=1, l1_ratio=None, max_iter=100,\n",
              "                   multi_class='auto', n_jobs=None, penalty='l2',\n",
              "                   random_state=0, solver='lbfgs', tol=0.0001, verbose=0,\n",
              "                   warm_start=False)"
            ]
          },
          "metadata": {
            "tags": []
          },
          "execution_count": 38
        }
      ]
    },
    {
      "cell_type": "markdown",
      "metadata": {
        "id": "KTbaOfITIUal"
      },
      "source": [
        "**confusion matrix**"
      ]
    },
    {
      "cell_type": "code",
      "metadata": {
        "colab": {
          "base_uri": "https://localhost:8080/"
        },
        "id": "lkKjpxf5rHiy",
        "outputId": "41121d05-8013-491d-bf89-e5f99cd0deb1"
      },
      "source": [
        "\n",
        "#predicting\n",
        "log_pred = log_model.predict(x_test)\n",
        "#Confusion metrix\n",
        "from sklearn.metrics import confusion_matrix, accuracy_score,classification_report\n",
        "cm = confusion_matrix(y_test, log_pred)\n",
        "print(cm)\n",
        "log_accurracy = accuracy_score(y_test, log_pred)"
      ],
      "execution_count": null,
      "outputs": [
        {
          "output_type": "stream",
          "text": [
            "[[37  2]\n",
            " [ 5 20]]\n"
          ],
          "name": "stdout"
        }
      ]
    },
    {
      "cell_type": "code",
      "metadata": {
        "colab": {
          "base_uri": "https://localhost:8080/"
        },
        "id": "LPAScbN3syxz",
        "outputId": "8eb929cc-85eb-46d2-9f9e-bbd2af876617"
      },
      "source": [
        "#Classification Report\n",
        "print(classification_report(y_test, log_pred))\n",
        "log_accurracy"
      ],
      "execution_count": null,
      "outputs": [
        {
          "output_type": "stream",
          "text": [
            "              precision    recall  f1-score   support\n",
            "\n",
            "           0       0.88      0.95      0.91        39\n",
            "           1       0.91      0.80      0.85        25\n",
            "\n",
            "    accuracy                           0.89        64\n",
            "   macro avg       0.90      0.87      0.88        64\n",
            "weighted avg       0.89      0.89      0.89        64\n",
            "\n"
          ],
          "name": "stdout"
        },
        {
          "output_type": "execute_result",
          "data": {
            "text/plain": [
              "0.890625"
            ]
          },
          "metadata": {
            "tags": []
          },
          "execution_count": 152
        }
      ]
    },
    {
      "cell_type": "code",
      "metadata": {
        "colab": {
          "base_uri": "https://localhost:8080/",
          "height": 282
        },
        "id": "sFVxVIOXFtBK",
        "outputId": "f51642b1-58fa-485a-9d81-dab407a6365e"
      },
      "source": [
        "cm = confusion_matrix(y_test, log_pred)\n",
        "sns.heatmap(cm/np.sum(cm),annot=True,fmt=\".2%\",cmap='Blues')\n",
        "plt.show()\n",
        "ac = accuracy_score(y_test,log_pred)\n",
        "print('Accuracy is: ',ac*100)"
      ],
      "execution_count": null,
      "outputs": [
        {
          "output_type": "display_data",
          "data": {
            "image/png": "[encoded data removed]",
            "text/plain": [
              "<Figure size 432x288 with 2 Axes>"
            ]
          },
          "metadata": {
            "tags": [],
            "needs_background": "light"
          }
        },
        {
          "output_type": "stream",
          "text": [
            "Accuracy is:  89.0625\n"
          ],
          "name": "stdout"
        }
      ]
    },
    {
      "cell_type": "markdown",
      "metadata": {
        "id": "if5LhxXutuY6"
      },
      "source": [
        "# **Unsupervised Learning**"
      ]
    },
    {
      "cell_type": "markdown",
      "metadata": {
        "id": "pTVvm3DCCGq3"
      },
      "source": [
        "**K Means Clustering**"
      ]
    },
    {
      "cell_type": "code",
      "metadata": {
        "id": "G9znuFZ__fAT"
      },
      "source": [
        "#Inputting only two features. age chol"
      ],
      "execution_count": null,
      "outputs": []
    },
    {
      "cell_type": "code",
      "metadata": {
        "id": "7LxQGdMf1RFH"
      },
      "source": [
        "data = df[['age','chol']]"
      ],
      "execution_count": null,
      "outputs": []
    },
    {
      "cell_type": "code",
      "metadata": {
        "colab": {
          "base_uri": "https://localhost:8080/"
        },
        "id": "clA6WSYG7CUg",
        "outputId": "5dfcd6b1-c68b-4ea9-cc18-4632e303569f"
      },
      "source": [
        "data.describe"
      ],
      "execution_count": null,
      "outputs": [
        {
          "output_type": "execute_result",
          "data": {
            "text/plain": [
              "<bound method NDFrame.describe of       age  chol\n",
              "1    15.0   4.0\n",
              "2     3.0   5.0\n",
              "3     5.0   3.0\n",
              "4    11.0   5.0\n",
              "5    13.0   6.0\n",
              "..    ...   ...\n",
              "293  14.0   3.0\n",
              "294   5.0   1.0\n",
              "296  11.0   5.0\n",
              "299  11.0   0.0\n",
              "300  11.0   5.0\n",
              "\n",
              "[212 rows x 2 columns]>"
            ]
          },
          "metadata": {
            "tags": []
          },
          "execution_count": 156
        }
      ]
    },
    {
      "cell_type": "code",
      "metadata": {
        "id": "cP5wtuD369E5"
      },
      "source": [
        "from sklearn.preprocessing import StandardScaler\n",
        "sc = StandardScaler()\n",
        "data_x = sc.fit_transform(data)"
      ],
      "execution_count": null,
      "outputs": []
    },
    {
      "cell_type": "markdown",
      "metadata": {
        "id": "pJvsBm0j9UkF"
      },
      "source": [
        "**K-means algorithm to find out cluster from the data**"
      ]
    },
    {
      "cell_type": "code",
      "metadata": {
        "colab": {
          "base_uri": "https://localhost:8080/",
          "height": 857
        },
        "id": "vcEGep8R8bBX",
        "outputId": "0d33d47b-a002-47e0-8a5c-d274f8426229"
      },
      "source": [
        "#K=2\n",
        "from sklearn.cluster import KMeans\n",
        "km = KMeans(n_clusters=2, max_iter=100, random_state = 42)\n",
        "km.fit(data_x)\n",
        "centroids = km.cluster_centers_\n",
        "# labels_ are equivalent to calling fit(x) then predict\n",
        "labels_ = km.predict(data_x)\n",
        "labels_\n",
        "# Plot the clustered data\n",
        "fig, ax = plt.subplots(figsize=(14, 14))\n",
        "plt.scatter(data_x[labels_ == 0, 0], data_x[labels_ == 0, 1],\n",
        "            c='green', label='cluster 1')\n",
        "plt.scatter(data_x[labels_ == 1, 0], data_x[labels_ == 1, 1],\n",
        "            c='blue', label='cluster 2')\n",
        "\n",
        "plt.scatter(centroids[:, 0], centroids[:, 1], marker='*', s=300,\n",
        "            c='r', label='centroid')\n",
        "plt.legend()\n",
        "plt.xlim([-3, 4])\n",
        "plt.ylim([-3, 4])\n",
        "plt.xlabel('age')\n",
        "plt.ylabel('chol')\n",
        "plt.title('Visualization of clustered data', fontweight='bold')"
      ],
      "execution_count": null,
      "outputs": [
        {
          "output_type": "execute_result",
          "data": {
            "text/plain": [
              "Text(0.5, 1.0, 'Visualization of clustered data')"
            ]
          },
          "metadata": {
            "tags": []
          },
          "execution_count": 158
        },
        {
          "output_type": "display_data",
          "data": {
            "image/png": "[encoded data removed]",
            "text/plain": [
              "<Figure size 1008x1008 with 1 Axes>"
            ]
          },
          "metadata": {
            "tags": [],
            "needs_background": "light"
          }
        }
      ]
    },
    {
      "cell_type": "code",
      "metadata": {
        "id": "Kgm1wDF41ex9"
      },
      "source": [
        "import matplotlib.pyplot as plt \n",
        "import seaborn as sns"
      ],
      "execution_count": null,
      "outputs": []
    },
    {
      "cell_type": "code",
      "metadata": {
        "colab": {
          "base_uri": "https://localhost:8080/"
        },
        "id": "fnRsO38H1kVd",
        "outputId": "064905f8-c5ce-427f-82ce-4170a7844fce"
      },
      "source": [
        "km.cluster_centers_"
      ],
      "execution_count": null,
      "outputs": [
        {
          "output_type": "execute_result",
          "data": {
            "text/plain": [
              "array([[-0.78617593, -0.44168289],\n",
              "       [ 0.7570583 ,  0.42532426]])"
            ]
          },
          "metadata": {
            "tags": []
          },
          "execution_count": 160
        }
      ]
    },
    {
      "cell_type": "code",
      "metadata": {
        "colab": {
          "base_uri": "https://localhost:8080/"
        },
        "id": "2oELIVgG1p-8",
        "outputId": "43a67b70-a579-4a54-bb42-7323b5d03777"
      },
      "source": [
        "pred = km.predict(data_x)\n",
        "pred"
      ],
      "execution_count": null,
      "outputs": [
        {
          "output_type": "execute_result",
          "data": {
            "text/plain": [
              "array([1, 0, 0, 1, 1, 1, 1, 0, 1, 0, 0, 0, 1, 0, 0, 1, 1, 1, 0, 1, 0, 0,\n",
              "       1, 1, 0, 0, 0, 1, 1, 1, 1, 1, 0, 0, 0, 1, 0, 0, 1, 1, 0, 0, 1, 1,\n",
              "       0, 0, 1, 0, 0, 1, 0, 1, 1, 1, 0, 1, 1, 1, 0, 1, 0, 1, 0, 1, 0, 0,\n",
              "       0, 0, 1, 0, 1, 0, 1, 1, 0, 0, 0, 1, 1, 0, 1, 1, 0, 1, 1, 0, 0, 1,\n",
              "       0, 0, 1, 0, 1, 1, 0, 0, 1, 0, 1, 1, 1, 0, 1, 1, 1, 0, 0, 0, 1, 0,\n",
              "       1, 1, 1, 1, 1, 1, 0, 1, 0, 0, 0, 1, 0, 1, 1, 0, 0, 0, 1, 1, 0, 1,\n",
              "       1, 0, 0, 0, 1, 0, 1, 0, 1, 1, 0, 0, 0, 0, 0, 1, 1, 0, 1, 0, 1, 1,\n",
              "       0, 0, 1, 0, 1, 0, 1, 0, 1, 0, 0, 0, 0, 0, 0, 1, 0, 0, 0, 1, 1, 1,\n",
              "       0, 0, 1, 1, 1, 1, 0, 0, 0, 0, 0, 0, 1, 1, 1, 1, 1, 0, 1, 1, 1, 0,\n",
              "       0, 0, 1, 1, 1, 1, 1, 0, 1, 1, 0, 1, 0, 1], dtype=int32)"
            ]
          },
          "metadata": {
            "tags": []
          },
          "execution_count": 161
        }
      ]
    },
    {
      "cell_type": "markdown",
      "metadata": {
        "id": "5yCJM-e9fkUi"
      },
      "source": [
        "**Different number of clusters to compare the results**\n"
      ]
    },
    {
      "cell_type": "code",
      "metadata": {
        "colab": {
          "base_uri": "https://localhost:8080/",
          "height": 312
        },
        "id": "ygC_Zfvu1xB2",
        "outputId": "90fa5595-45ee-4a47-8afc-f400ea4fc7af"
      },
      "source": [
        "#Elbow Method to find optimum clusters\n",
        "wcss = []\n",
        "for i in range(1,11):\n",
        "    kmeans=KMeans(n_clusters= i, init='k-means++', max_iter=300, n_init=10, random_state=0)\n",
        "    kmeans.fit(data_x)\n",
        "    wcss.append(kmeans.inertia_)\n",
        "plt.plot(range(1,11),wcss)\n",
        "plt.title('The Elbow method')\n",
        "plt.xlabel('Number of Cluster')\n",
        "plt.ylabel('wcss')\n",
        "plt.show"
      ],
      "execution_count": null,
      "outputs": [
        {
          "output_type": "execute_result",
          "data": {
            "text/plain": [
              "<function matplotlib.pyplot.show>"
            ]
          },
          "metadata": {
            "tags": []
          },
          "execution_count": 162
        },
        {
          "output_type": "display_data",
          "data": {
            "image/png": "[encoded data removed]",
            "text/plain": [
              "<Figure size 432x288 with 1 Axes>"
            ]
          },
          "metadata": {
            "tags": [],
            "needs_background": "light"
          }
        }
      ]
    },
    {
      "cell_type": "markdown",
      "metadata": {
        "id": "8q2Kv3jQ1_mN"
      },
      "source": [
        "Increasing the number of cluster K=3"
      ]
    },
    {
      "cell_type": "code",
      "metadata": {
        "id": "r-Bp49ev2AH6"
      },
      "source": [
        "k_means_clus3 = KMeans(n_clusters=3,init = 'k-means++',random_state=0)"
      ],
      "execution_count": null,
      "outputs": []
    },
    {
      "cell_type": "code",
      "metadata": {
        "id": "orlkyhTF2GDR"
      },
      "source": [
        "pred_clust_3 = k_means_clus3.fit_predict(data_x)"
      ],
      "execution_count": null,
      "outputs": []
    },
    {
      "cell_type": "code",
      "metadata": {
        "colab": {
          "base_uri": "https://localhost:8080/"
        },
        "id": "1ws1HLci2Gyc",
        "outputId": "95fcb559-a5c1-47d6-8279-bea7595f74f1"
      },
      "source": [
        "from sklearn.metrics import silhouette_score\n",
        "score = silhouette_score(data_x,pred_clust_3)\n",
        "print(f\"The silhouette score for {k_means_clus3.n_clusters} cluster is {score}\")"
      ],
      "execution_count": null,
      "outputs": [
        {
          "output_type": "stream",
          "text": [
            "The silhouette score for 3 cluster is 0.3736973411779142\n"
          ],
          "name": "stdout"
        }
      ]
    },
    {
      "cell_type": "code",
      "metadata": {
        "colab": {
          "base_uri": "https://localhost:8080/",
          "height": 857
        },
        "id": "VTbTzYlQ-i4y",
        "outputId": "528dbbf8-2397-4a2f-ac40-5b2fb4b3126c"
      },
      "source": [
        "centroids = k_means_clus3.cluster_centers_\n",
        "# labels_ are equivalent to calling fit(x) then predict\n",
        "labels_ = k_means_clus3.predict(data_x)\n",
        "labels_\n",
        "# Plot the clustered data\n",
        "fig, ax = plt.subplots(figsize=(14, 14))\n",
        "plt.scatter(data_x[labels_ == 0, 0], data_x[labels_ == 0, 1],\n",
        "            c='green', label='cluster 1')\n",
        "plt.scatter(data_x[labels_ == 1, 0], data_x[labels_ == 1, 1],\n",
        "            c='blue', label='cluster 2')\n",
        "plt.scatter(data_x[labels_ == 2, 0], data_x[labels_ == 2, 1],\n",
        "            c='yellow', label='cluster 3')\n",
        "\n",
        "plt.scatter(centroids[:, 0], centroids[:, 1], marker='*', s=300,\n",
        "            c='r', label='centroid')\n",
        "plt.legend()\n",
        "plt.xlim([-3, 4])\n",
        "plt.ylim([-3, 4])\n",
        "plt.xlabel('age')\n",
        "plt.ylabel('chol')\n",
        "plt.title('Visualization of clustered data', fontweight='bold')"
      ],
      "execution_count": null,
      "outputs": [
        {
          "output_type": "execute_result",
          "data": {
            "text/plain": [
              "Text(0.5, 1.0, 'Visualization of clustered data')"
            ]
          },
          "metadata": {
            "tags": []
          },
          "execution_count": 166
        },
        {
          "output_type": "display_data",
          "data": {
            "image/png": "[encoded data removed]",
            "text/plain": [
              "<Figure size 1008x1008 with 1 Axes>"
            ]
          },
          "metadata": {
            "tags": [],
            "needs_background": "light"
          }
        }
      ]
    },
    {
      "cell_type": "code",
      "metadata": {
        "colab": {
          "base_uri": "https://localhost:8080/"
        },
        "id": "3NQyImFt2KBJ",
        "outputId": "a569348c-033b-40b5-a015-e8342de29b25"
      },
      "source": [
        "k_means_clust4 = KMeans(n_clusters=4,init = 'k-means++',random_state=0)\n",
        "pred_clust_4 = k_means_clust4.fit_predict(data_x)\n",
        "score = silhouette_score(data_x,pred_clust_4)\n",
        "print(f\"The silhouette score for {k_means_clust4.n_clusters} cluster is {score}\")"
      ],
      "execution_count": null,
      "outputs": [
        {
          "output_type": "stream",
          "text": [
            "The silhouette score for 4 cluster is 0.3608995461408319\n"
          ],
          "name": "stdout"
        }
      ]
    },
    {
      "cell_type": "code",
      "metadata": {
        "id": "lKBOrCfx2kah"
      },
      "source": [
        "#Plotting the datapoints with cluster 4"
      ],
      "execution_count": null,
      "outputs": []
    },
    {
      "cell_type": "code",
      "metadata": {
        "colab": {
          "base_uri": "https://localhost:8080/",
          "height": 857
        },
        "id": "DQaJSKpo--Ie",
        "outputId": "21f427aa-6233-409c-a3b6-6d602099c927"
      },
      "source": [
        "centroids = k_means_clust4.cluster_centers_\n",
        "# labels_ are equivalent to calling fit(x) then predict\n",
        "labels_ = k_means_clust4.predict(data_x)\n",
        "labels_\n",
        "# Plot the clustered data\n",
        "fig, ax = plt.subplots(figsize=(14, 14))\n",
        "plt.scatter(data_x[labels_ == 0, 0], data_x[labels_ == 0, 1],\n",
        "            c='green', label='cluster 1')\n",
        "plt.scatter(data_x[labels_ == 1, 0], data_x[labels_ == 1, 1],\n",
        "            c='blue', label='cluster 2')\n",
        "plt.scatter(data_x[labels_ == 2, 0], data_x[labels_ == 2, 1],\n",
        "            c='yellow', label='cluster 3')\n",
        "plt.scatter(data_x[labels_ == 3, 0], data_x[labels_ == 3, 1],\n",
        "            c='orange', label='cluster 4')\n",
        "\n",
        "\n",
        "plt.scatter(centroids[:, 0], centroids[:, 1], marker='*', s=300,\n",
        "            c='r', label='centroid')\n",
        "plt.legend()\n",
        "plt.xlim([-3, 4])\n",
        "plt.ylim([-3, 4])\n",
        "plt.xlabel('age')\n",
        "plt.ylabel('chol')\n",
        "plt.title('Visualization of clustered data', fontweight='bold')"
      ],
      "execution_count": null,
      "outputs": [
        {
          "output_type": "execute_result",
          "data": {
            "text/plain": [
              "Text(0.5, 1.0, 'Visualization of clustered data')"
            ]
          },
          "metadata": {
            "tags": []
          },
          "execution_count": 169
        },
        {
          "output_type": "display_data",
          "data": {
            "image/png": "[encoded data removed]",
            "text/plain": [
              "<Figure size 1008x1008 with 1 Axes>"
            ]
          },
          "metadata": {
            "tags": [],
            "needs_background": "light"
          }
        }
      ]
    }
  ]
}